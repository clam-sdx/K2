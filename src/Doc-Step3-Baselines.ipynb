{
 "cells": [
  {
   "cell_type": "markdown",
   "metadata": {},
   "source": [
    "# MLP for token classification (seg)"
   ]
  },
  {
   "cell_type": "code",
   "execution_count": 3,
   "metadata": {},
   "outputs": [],
   "source": [
    "%load_ext autoreload\n",
    "%autoreload 2"
   ]
  },
  {
   "cell_type": "code",
   "execution_count": 43,
   "metadata": {},
   "outputs": [],
   "source": [
    "from sklearn.neural_network import MLPClassifier\n",
    "from sklearn.datasets import make_classification\n",
    "from utils import deserialize, serialize\n"
   ]
  },
  {
   "cell_type": "code",
   "execution_count": 44,
   "metadata": {},
   "outputs": [],
   "source": [
    "sos_dict = \"/dfs/scratch1/gmachi/datasets/wikisection_processed/train-sos.obj\"\n",
    "sos_dict = deserialize(sos_dict)\n",
    "\n",
    "embeds_dict = \"/dfs/scratch1/gmachi/datasets/wikisection_processed/embed_dict.obj\"\n",
    "embeds_dict = deserialize(embeds_dict)"
   ]
  },
  {
   "cell_type": "code",
   "execution_count": 45,
   "metadata": {},
   "outputs": [],
   "source": [
    "Xs,ys = [],[]\n",
    "for k,v in sos_dict.items():\n",
    "    Xs.append(embeds_dict[k])\n",
    "    ys.append(int(v))"
   ]
  },
  {
   "cell_type": "code",
   "execution_count": 46,
   "metadata": {},
   "outputs": [
    {
     "name": "stdout",
     "output_type": "stream",
     "text": [
      "(5000, 384) (5000,)\n"
     ]
    }
   ],
   "source": [
    "import numpy as np\n",
    "X = np.vstack(Xs)\n",
    "y = np.array(ys)\n",
    "print(X.shape, y.shape)"
   ]
  },
  {
   "cell_type": "code",
   "execution_count": 47,
   "metadata": {},
   "outputs": [],
   "source": [
    "clf = MLPClassifier(random_state=1, max_iter=1000).fit(X, y)"
   ]
  },
  {
   "cell_type": "code",
   "execution_count": 48,
   "metadata": {},
   "outputs": [
    {
     "data": {
      "text/plain": [
       "array([0, 1])"
      ]
     },
     "execution_count": 48,
     "metadata": {},
     "output_type": "execute_result"
    }
   ],
   "source": [
    "clf.classes_"
   ]
  },
  {
   "cell_type": "code",
   "execution_count": 51,
   "metadata": {},
   "outputs": [],
   "source": [
    "import os\n",
    "import networkx as nx\n",
    "save_path = \"/dfs/scratch1/gmachi/datasets/wikisection_processed/mlp_Gs\"\n",
    "Gs_path = \"/dfs/scratch1/gmachi/datasets/wikisection_processed/test_Gs\"\n",
    "\n",
    "for G_file in os.listdir(Gs_path):\n",
    "    # load Gs\n",
    "    G = os.path.join(Gs_path, G_file)\n",
    "    G = deserialize(G)\n",
    "    # make copy as MLP graph\n",
    "    Gm = G.copy()\n",
    "    for node in Gm.nodes:\n",
    "        X_test = Gm.nodes[node][\"emb\"]\n",
    "        p = clf.predict_proba(X_test)[0][1]\n",
    "        Gm.nodes[node][\"emb\"] = p\n",
    "    save_at = os.path.join(save_path, G_file)\n",
    "    serialize(Gm, save_at)\n",
    "\n"
   ]
  },
  {
   "cell_type": "code",
   "execution_count": 52,
   "metadata": {},
   "outputs": [
    {
     "data": {
      "text/plain": [
       "{0: 4.3579316477969615e-05,\n",
       " 1: 2.1627906587401834e-05,\n",
       " 2: 5.197795428464583e-06,\n",
       " 3: 4.710880458829425e-06,\n",
       " 4: 5.976118094657616e-08,\n",
       " 5: 1.5863832768164285e-08,\n",
       " 6: 0.00038726140563424876,\n",
       " 7: 0.00014439482125605513,\n",
       " 8: 0.0002645863480532541,\n",
       " 9: 1.0608585924395681e-07,\n",
       " 10: 4.6108883827857445e-05,\n",
       " 11: 2.8188574489046775e-07,\n",
       " 12: 1.8667581026446123e-07,\n",
       " 13: 0.00020934097858862723,\n",
       " 14: 1.7182038113557157e-05,\n",
       " 15: 9.980032472385816e-06,\n",
       " 16: 8.02604029508696e-07,\n",
       " 17: 2.400235488103014e-05,\n",
       " 18: 7.348434294374832e-08,\n",
       " 19: 2.6007748014703272e-05,\n",
       " 20: 1.989148615657685e-08,\n",
       " 21: 1.5408390390154372e-06,\n",
       " 22: 1.1454256711972896e-05,\n",
       " 23: 1.5177103392334304e-06,\n",
       " 24: 1.3083109051706364e-07,\n",
       " 25: 2.198075224770422e-06,\n",
       " 26: 0.00026966944509450487,\n",
       " 27: 5.681661671319134e-07,\n",
       " 28: 0.0003737505483266776,\n",
       " 29: 1.4771456330072142e-05,\n",
       " 30: 0.013014728405894311,\n",
       " 31: 1.8081232823902247e-08,\n",
       " 32: 1.853630771765585e-07,\n",
       " 33: 1.0439927112820328e-05,\n",
       " 34: 0.0004980537132595116,\n",
       " 35: 0.00021909760054642468,\n",
       " 36: 0.00011676963787998831,\n",
       " 37: 7.27466921195892e-05,\n",
       " 38: 6.893207998945474e-05,\n",
       " 39: 4.07125153086553e-08,\n",
       " 40: 1.775676490982831e-05,\n",
       " 41: 2.0687865207252523e-06,\n",
       " 42: 6.583108808271126e-06,\n",
       " 43: 1.2431271646175375e-07,\n",
       " 44: 8.82106844282367e-07,\n",
       " 45: 1.0818931949708235e-06,\n",
       " 46: 8.874207886928176e-05,\n",
       " 47: 2.008815351116965e-07,\n",
       " 48: 9.057413223334939e-06,\n",
       " 49: 0.004638302375569781,\n",
       " 50: 5.8331256601532795e-06,\n",
       " 51: 0.0009255992948131684,\n",
       " 52: 6.24427424260829e-07,\n",
       " 53: 0.0003280805043854938,\n",
       " 54: 5.322961759001535e-07,\n",
       " 55: 2.7790772967383853e-06,\n",
       " 56: 7.655516956229624e-07,\n",
       " 57: 3.36004647770837e-07,\n",
       " 58: 1.4948892152009747e-07,\n",
       " 59: 2.565297147225135e-07,\n",
       " 60: 5.906476370931831e-05,\n",
       " 61: 5.752202176304944e-06,\n",
       " 62: 1.252028144444375e-05,\n",
       " 63: 6.97568168782594e-06,\n",
       " 64: 0.00042620828526807633,\n",
       " 65: 6.852301245096622e-06,\n",
       " 66: 3.744203593053958e-07,\n",
       " 67: 0.0002510267349683844,\n",
       " 68: 4.600703712255043e-06,\n",
       " 69: 1.4758097576380478e-05,\n",
       " 70: 9.194650858982807e-05,\n",
       " 71: 9.772467175309305e-07,\n",
       " 72: 1.1111377678694772e-07,\n",
       " 73: 4.355797720357162e-06}"
      ]
     },
     "execution_count": 52,
     "metadata": {},
     "output_type": "execute_result"
    }
   ],
   "source": [
    "nx.get_node_attributes(Gm, \"emb\")"
   ]
  },
  {
   "cell_type": "markdown",
   "metadata": {},
   "source": [
    "# SVD for novelty detection"
   ]
  },
  {
   "cell_type": "code",
   "execution_count": 53,
   "metadata": {},
   "outputs": [],
   "source": [
    "from sklearn.svm import OneClassSVM"
   ]
  },
  {
   "cell_type": "code",
   "execution_count": 54,
   "metadata": {},
   "outputs": [],
   "source": [
    "Xs,ys = [],[]\n",
    "for k,v in sos_dict.items():\n",
    "    if v == 0:\n",
    "        Xs.append(embeds_dict[k])\n",
    "        ys.append(int(v))"
   ]
  },
  {
   "cell_type": "code",
   "execution_count": 55,
   "metadata": {},
   "outputs": [
    {
     "name": "stdout",
     "output_type": "stream",
     "text": [
      "(4809, 384) (4809,)\n"
     ]
    }
   ],
   "source": [
    "import numpy as np\n",
    "X = np.vstack(Xs)\n",
    "y = np.array(ys)\n",
    "print(X.shape, y.shape)"
   ]
  },
  {
   "cell_type": "code",
   "execution_count": 56,
   "metadata": {},
   "outputs": [],
   "source": [
    "clf = OneClassSVM(gamma='auto').fit(X)"
   ]
  },
  {
   "cell_type": "code",
   "execution_count": 60,
   "metadata": {},
   "outputs": [],
   "source": [
    "import os\n",
    "import networkx as nx\n",
    "save_path = \"/dfs/scratch1/gmachi/datasets/wikisection_processed/svd_Gs\"\n",
    "Gs_path = \"/dfs/scratch1/gmachi/datasets/wikisection_processed/test_Gs\"\n",
    "\n",
    "for G_file in os.listdir(Gs_path):\n",
    "    # load Gs\n",
    "    G = os.path.join(Gs_path, G_file)\n",
    "    G = deserialize(G)\n",
    "    # make copy as MLP graph\n",
    "    Gm = G.copy()\n",
    "    for node in Gm.nodes:\n",
    "        X_test = Gm.nodes[node][\"emb\"]\n",
    "        p = clf.score_samples(X_test)[0]\n",
    "        Gm.nodes[node][\"emb\"] = p\n",
    "    save_at = os.path.join(save_path, G_file)\n",
    "    serialize(Gm, save_at)"
   ]
  },
  {
   "cell_type": "code",
   "execution_count": 61,
   "metadata": {},
   "outputs": [
    {
     "data": {
      "text/plain": [
       "{0: 2392.8088164794785,\n",
       " 1: 2393.0229840336083,\n",
       " 2: 2392.899406303149,\n",
       " 3: 2392.709794464928,\n",
       " 4: 2392.6750296645405,\n",
       " 5: 2393.022430167734,\n",
       " 6: 2393.196943129346,\n",
       " 7: 2392.8721366692816,\n",
       " 8: 2392.5967240465443,\n",
       " 9: 2392.7871969382923,\n",
       " 10: 2392.8458967946276,\n",
       " 11: 2392.6163955325114,\n",
       " 12: 2392.77759702016,\n",
       " 13: 2392.7904007587035,\n",
       " 14: 2392.5610822509475,\n",
       " 15: 2393.0591095492437,\n",
       " 16: 2392.7371238117958,\n",
       " 17: 2392.846548032603,\n",
       " 18: 2392.661744476926,\n",
       " 19: 2392.849515871642,\n",
       " 20: 2392.7865005675976,\n",
       " 21: 2393.2253377116776,\n",
       " 22: 2393.1013787173124,\n",
       " 23: 2392.7987073028894,\n",
       " 24: 2392.80896542733,\n",
       " 25: 2393.0060536800074,\n",
       " 26: 2393.2757434781174,\n",
       " 27: 2393.0479462335893,\n",
       " 28: 2392.8652299915616,\n",
       " 29: 2392.814230089395,\n",
       " 30: 2393.5157187637014,\n",
       " 31: 2393.0058816013734,\n",
       " 32: 2392.8115090239567,\n",
       " 33: 2392.8965308581915,\n",
       " 34: 2392.7919787495775,\n",
       " 35: 2393.0180767931874,\n",
       " 36: 2393.310341036503,\n",
       " 37: 2393.2162601659434,\n",
       " 38: 2392.881532910292,\n",
       " 39: 2393.153187204399,\n",
       " 40: 2393.428787869532,\n",
       " 41: 2393.0785020733215,\n",
       " 42: 2393.4306248684843,\n",
       " 43: 2392.7885443885907,\n",
       " 44: 2393.24678380894,\n",
       " 45: 2392.932506989821,\n",
       " 46: 2393.1962042786554,\n",
       " 47: 2393.114762929892,\n",
       " 48: 2393.0460105440557,\n",
       " 49: 2393.311800346883,\n",
       " 50: 2393.003733702713,\n",
       " 51: 2393.2806902381076,\n",
       " 52: 2392.9869550727317,\n",
       " 53: 2393.3006820141836,\n",
       " 54: 2393.0934462957953,\n",
       " 55: 2392.8227493362824,\n",
       " 56: 2392.540300967392,\n",
       " 57: 2393.2094968156403,\n",
       " 58: 2392.7901246501,\n",
       " 59: 2393.3327812008592,\n",
       " 60: 2393.3339490919952,\n",
       " 61: 2393.3802045506754,\n",
       " 62: 2393.2490637821884,\n",
       " 63: 2393.0620270081004,\n",
       " 64: 2393.0581998996786,\n",
       " 65: 2392.7241450730903,\n",
       " 66: 2392.707746465929,\n",
       " 67: 2392.7797789826777,\n",
       " 68: 2392.8879592194908,\n",
       " 69: 2392.5959199679833,\n",
       " 70: 2392.921564020163,\n",
       " 71: 2392.8593834555486,\n",
       " 72: 2392.7120131974307,\n",
       " 73: 2393.1222152353125}"
      ]
     },
     "execution_count": 61,
     "metadata": {},
     "output_type": "execute_result"
    }
   ],
   "source": [
    "nx.get_node_attributes(Gm, \"emb\")"
   ]
  },
  {
   "cell_type": "markdown",
   "metadata": {},
   "source": [
    "# generate baseline results"
   ]
  },
  {
   "cell_type": "code",
   "execution_count": 63,
   "metadata": {},
   "outputs": [
    {
     "name": "stdout",
     "output_type": "stream",
     "text": [
      "skipping class-1 example with all salient\n",
      "skipping class-1 example with all salient\n",
      "skipping class-1 example with all salient\n",
      "skipping class-1 example with all salient\n",
      "skipping class-1 example with all salient\n",
      "skipping class-1 example with all salient\n"
     ]
    }
   ],
   "source": [
    "from evaluation import eval_baseline_explanations\n",
    "import utils \n",
    "\n",
    "baseline= \"mlp\"\n",
    "\n",
    "G_dir = \"/dfs/scratch1/gmachi/datasets/wikisection_processed/mlp_Gs\"\n",
    "gt_graph_dir = \"/dfs/scratch1/gmachi/datasets/wikisection_processed/test_gts\"\n",
    "refined_test_dict = utils.deserialize(\"/dfs/scratch1/gmachi/datasets/wikisection_processed/test-doc-labs.obj\")\n",
    "cache_dir = \"/dfs/scratch1/gmachi/k2/K2/src/outputs/baselines/mlp-full.obj\"\n",
    "\n",
    "model_results_dict, data_linearized_dict = eval_baseline_explanations(G_dir, gt_graph_dir, modality=\"text\", label_dict=refined_test_dict)\n",
    "utils.serialize(model_results_dict, cache_dir)"
   ]
  },
  {
   "cell_type": "code",
   "execution_count": 64,
   "metadata": {},
   "outputs": [
    {
     "name": "stdout",
     "output_type": "stream",
     "text": [
      "skipping class-1 example with all salient\n",
      "skipping class-1 example with all salient\n",
      "skipping class-1 example with all salient\n",
      "skipping class-1 example with all salient\n",
      "skipping class-1 example with all salient\n",
      "skipping class-1 example with all salient\n"
     ]
    }
   ],
   "source": [
    "from evaluation import eval_baseline_explanations\n",
    "import utils \n",
    "\n",
    "baseline = \"svd\"\n",
    "\n",
    "G_dir = \"/dfs/scratch1/gmachi/datasets/wikisection_processed/svd_Gs\"\n",
    "gt_graph_dir = \"/dfs/scratch1/gmachi/datasets/wikisection_processed/test_gts\"\n",
    "refined_test_dict = utils.deserialize(\"/dfs/scratch1/gmachi/datasets/wikisection_processed/test-doc-labs.obj\")\n",
    "cache_dir = \"/dfs/scratch1/gmachi/k2/K2/src/outputs/baselines/svd-full.obj\"\n",
    "\n",
    "model_results_dict, data_linearized_dict = eval_baseline_explanations(G_dir, gt_graph_dir, modality=\"text\", label_dict=refined_test_dict)\n",
    "utils.serialize(model_results_dict, cache_dir)"
   ]
  },
  {
   "cell_type": "markdown",
   "metadata": {},
   "source": [
    "Do this for added baselines too"
   ]
  },
  {
   "cell_type": "markdown",
   "metadata": {},
   "source": [
    "attention, probs, entail"
   ]
  },
  {
   "cell_type": "code",
   "execution_count": 9,
   "metadata": {},
   "outputs": [
    {
     "name": "stdout",
     "output_type": "stream",
     "text": [
      "skipping class-1 example with all salient\n",
      "skipping class-1 example with all salient\n",
      "skipping class-1 example with all salient\n",
      "skipping class-1 example with all salient\n",
      "skipping class-1 example with all salient\n",
      "skipping class-1 example with all salient\n"
     ]
    }
   ],
   "source": [
    "from evaluation import eval_baseline_explanations\n",
    "import utils \n",
    "\n",
    "G_dir = \"/dfs/scratch1/gmachi/datasets/wikisection_processed/attn_Gs\"\n",
    "gt_graph_dir = \"/dfs/scratch1/gmachi/datasets/wikisection_processed/test_gts\"\n",
    "refined_test_dict = utils.deserialize(\"/dfs/scratch1/gmachi/datasets/wikisection_processed/test-doc-labs.obj\")\n",
    "cache_dir = \"/dfs/scratch1/gmachi/k2/K2/src/outputs/baselines/deberta-attn-full.obj\"\n",
    "\n",
    "model_results_dict, data_linearized_dict = eval_baseline_explanations(G_dir, gt_graph_dir, modality=\"text\", label_dict=refined_test_dict)\n",
    "utils.serialize(model_results_dict, cache_dir)"
   ]
  },
  {
   "cell_type": "code",
   "execution_count": 10,
   "metadata": {},
   "outputs": [
    {
     "name": "stdout",
     "output_type": "stream",
     "text": [
      "skipping class-1 example with all salient\n",
      "skipping class-1 example with all salient\n",
      "skipping class-1 example with all salient\n",
      "skipping class-1 example with all salient\n",
      "skipping class-1 example with all salient\n",
      "skipping class-1 example with all salient\n"
     ]
    }
   ],
   "source": [
    "from evaluation import eval_baseline_explanations\n",
    "import utils \n",
    "\n",
    "G_dir = \"/dfs/scratch1/gmachi/datasets/wikisection_processed/entail_Gs\"\n",
    "gt_graph_dir = \"/dfs/scratch1/gmachi/datasets/wikisection_processed/test_gts\"\n",
    "refined_test_dict = utils.deserialize(\"/dfs/scratch1/gmachi/datasets/wikisection_processed/test-doc-labs.obj\")\n",
    "cache_dir = \"/dfs/scratch1/gmachi/k2/K2/src/outputs/baselines/deberta-entail-full.obj\"\n",
    "\n",
    "model_results_dict, data_linearized_dict = eval_baseline_explanations(G_dir, gt_graph_dir, modality=\"text\", label_dict=refined_test_dict)\n",
    "utils.serialize(model_results_dict, cache_dir)"
   ]
  },
  {
   "cell_type": "code",
   "execution_count": 11,
   "metadata": {},
   "outputs": [
    {
     "name": "stdout",
     "output_type": "stream",
     "text": [
      "skipping class-1 example with all salient\n",
      "skipping class-1 example with all salient\n",
      "skipping class-1 example with all salient\n",
      "skipping class-1 example with all salient\n",
      "skipping class-1 example with all salient\n",
      "skipping class-1 example with all salient\n"
     ]
    }
   ],
   "source": [
    "from evaluation import eval_baseline_explanations\n",
    "import utils \n",
    "\n",
    "G_dir = \"/dfs/scratch1/gmachi/datasets/wikisection_processed/prob_Gs\"\n",
    "gt_graph_dir = \"/dfs/scratch1/gmachi/datasets/wikisection_processed/test_gts\"\n",
    "refined_test_dict = utils.deserialize(\"/dfs/scratch1/gmachi/datasets/wikisection_processed/test-doc-labs.obj\")\n",
    "cache_dir = \"/dfs/scratch1/gmachi/k2/K2/src/outputs/baselines/deberta-prob-full.obj\"\n",
    "\n",
    "model_results_dict, data_linearized_dict = eval_baseline_explanations(G_dir, gt_graph_dir, modality=\"text\", label_dict=refined_test_dict)\n",
    "utils.serialize(model_results_dict, cache_dir)"
   ]
  },
  {
   "cell_type": "code",
   "execution_count": null,
   "metadata": {},
   "outputs": [],
   "source": []
  }
 ],
 "metadata": {
  "kernelspec": {
   "display_name": "kkenv",
   "language": "python",
   "name": "python3"
  },
  "language_info": {
   "codemirror_mode": {
    "name": "ipython",
    "version": 3
   },
   "file_extension": ".py",
   "mimetype": "text/x-python",
   "name": "python",
   "nbconvert_exporter": "python",
   "pygments_lexer": "ipython3",
   "version": "3.10.13"
  },
  "orig_nbformat": 4
 },
 "nbformat": 4,
 "nbformat_minor": 2
}
