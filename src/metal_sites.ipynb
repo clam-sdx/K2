{
 "cells": [
  {
   "cell_type": "code",
   "execution_count": 1,
   "id": "134ce813-e096-40e8-b788-4eb42e10cbbe",
   "metadata": {
    "tags": []
   },
   "outputs": [],
   "source": [
    "%load_ext autoreload\n",
    "%autoreload 2"
   ]
  },
  {
   "cell_type": "code",
   "execution_count": 2,
   "id": "8a1ed841-5cac-4564-b0de-dfb684fababc",
   "metadata": {
    "tags": []
   },
   "outputs": [],
   "source": [
    "import os\n",
    "import numpy as np\n",
    "import pandas as pd\n",
    "from utils import serialize, deserialize\n",
    "from collapse import atom_info"
   ]
  },
  {
   "cell_type": "code",
   "execution_count": 14,
   "id": "1145a4dd-2ba5-4668-b54f-f8bec3ff7fb9",
   "metadata": {
    "tags": []
   },
   "outputs": [],
   "source": [
    "from xml_parse import parse_xml"
   ]
  },
  {
   "cell_type": "code",
   "execution_count": 15,
   "id": "391255fb-d56f-40b5-bf2d-973046218bd1",
   "metadata": {
    "tags": []
   },
   "outputs": [],
   "source": [
    "import random\n",
    "np.random.seed(77)\n",
    "random.seed(77)"
   ]
  },
  {
   "cell_type": "code",
   "execution_count": 9,
   "id": "ebbba37f-c811-44f0-b38e-e45a71175a86",
   "metadata": {
    "tags": []
   },
   "outputs": [
    {
     "name": "stderr",
     "output_type": "stream",
     "text": [
      "100%|██████████| 27128801/27128801 [02:35<00:00, 174009.93it/s]\n"
     ]
    }
   ],
   "source": [
    "sites = parse_xml('../data/flat_db_file.xml')"
   ]
  },
  {
   "cell_type": "code",
   "execution_count": 23,
   "id": "e7adfce4-2e90-4742-bb29-19945c8bc71f",
   "metadata": {},
   "outputs": [],
   "source": [
    "data_list = []\n",
    "for s in sites:\n",
    "    if s.getSiteChain().getMolType() != 'protein':\n",
    "        continue\n",
    "    site_id = s.getSite()\n",
    "    pdb_id = s.getPDBid()\n",
    "    m = s.getMetal()\n",
    "    sc = s.getSiteChain()\n",
    "    \n",
    "    chain = m.getChainid()\n",
    "    metal_pdb_name = m.getAtomName()\n",
    "    # metal_pdb_atom = m.getElement()\n",
    "    metal_resname = m.getResidueName()\n",
    "    metal_resid = m.getResidueid()\n",
    "    metal_coord_num = m.getCoord()\n",
    "    site_loc = s.getSiteLoc()\n",
    "    name = sc.getMolName()\n",
    "    interactions = []\n",
    "    \n",
    "    for lig in m.getLigands():\n",
    "        if lig.getEndoExo() == 'exogenous':\n",
    "            exo = True\n",
    "        else:\n",
    "            exo = False\n",
    "        resname = lig.getResidueName()\n",
    "        resid = lig.getResidueid()\n",
    "        m_chain = lig.getChainid()\n",
    "        if resname not in atom_info.aa:\n",
    "            continue\n",
    "        if m_chain != chain:\n",
    "            continue\n",
    "        interactions.append('_'.join((resname, resid)))\n",
    "    data_list.append([site_id, pdb_id, chain, name, metal_pdb_name, metal_resname, metal_resid, metal_coord_num, site_loc, interactions])"
   ]
  },
  {
   "cell_type": "code",
   "execution_count": 24,
   "id": "0a056462-94ab-4654-b78f-792c04dab21f",
   "metadata": {
    "tags": []
   },
   "outputs": [],
   "source": [
    "metal_df = pd.DataFrame(data_list, columns=['site_id', 'pdb_id', 'chain', 'protein_name', 'metal_pdb_name', 'metal_resname', 'metal_resid', 'metal_coord_num', 'site_loc', 'interactions'])"
   ]
  },
  {
   "cell_type": "code",
   "execution_count": 25,
   "id": "412d99f0",
   "metadata": {},
   "outputs": [
    {
     "data": {
      "text/html": [
       "<div>\n",
       "<style scoped>\n",
       "    .dataframe tbody tr th:only-of-type {\n",
       "        vertical-align: middle;\n",
       "    }\n",
       "\n",
       "    .dataframe tbody tr th {\n",
       "        vertical-align: top;\n",
       "    }\n",
       "\n",
       "    .dataframe thead th {\n",
       "        text-align: right;\n",
       "    }\n",
       "</style>\n",
       "<table border=\"1\" class=\"dataframe\">\n",
       "  <thead>\n",
       "    <tr style=\"text-align: right;\">\n",
       "      <th></th>\n",
       "      <th>site_id</th>\n",
       "      <th>pdb_id</th>\n",
       "      <th>chain</th>\n",
       "      <th>protein_name</th>\n",
       "      <th>metal_pdb_name</th>\n",
       "      <th>metal_resname</th>\n",
       "      <th>metal_resid</th>\n",
       "      <th>metal_coord_num</th>\n",
       "      <th>site_loc</th>\n",
       "      <th>interactions</th>\n",
       "    </tr>\n",
       "  </thead>\n",
       "  <tbody>\n",
       "    <tr>\n",
       "      <th>14334</th>\n",
       "      <td>1jb0_21</td>\n",
       "      <td>1jb0</td>\n",
       "      <td>L</td>\n",
       "      <td>Photosystem I reaction center subunit XI</td>\n",
       "      <td>CA</td>\n",
       "      <td>CA</td>\n",
       "      <td>1001</td>\n",
       "      <td>6</td>\n",
       "      <td>Within a Chain</td>\n",
       "      <td>[ASP_70, PRO_67]</td>\n",
       "    </tr>\n",
       "  </tbody>\n",
       "</table>\n",
       "</div>"
      ],
      "text/plain": [
       "       site_id pdb_id chain                              protein_name  \\\n",
       "14334  1jb0_21   1jb0     L  Photosystem I reaction center subunit XI   \n",
       "\n",
       "      metal_pdb_name metal_resname metal_resid metal_coord_num  \\\n",
       "14334             CA            CA        1001               6   \n",
       "\n",
       "             site_loc      interactions  \n",
       "14334  Within a Chain  [ASP_70, PRO_67]  "
      ]
     },
     "execution_count": 25,
     "metadata": {},
     "output_type": "execute_result"
    }
   ],
   "source": [
    "metal_df[(metal_df['pdb_id'] == '1jb0') & (metal_df['metal_pdb_name'] == 'CA')]"
   ]
  },
  {
   "cell_type": "code",
   "execution_count": 26,
   "id": "f22420ad-64bf-4711-9b34-341db0e9f6dd",
   "metadata": {
    "tags": []
   },
   "outputs": [],
   "source": [
    "metal_df = metal_df[metal_df.site_loc == 'Within a Chain']"
   ]
  },
  {
   "cell_type": "code",
   "execution_count": 30,
   "id": "4eb0c697",
   "metadata": {},
   "outputs": [
    {
     "data": {
      "text/plain": [
       "Counter({1: 36776,\n",
       "         0: 24548,\n",
       "         2: 22540,\n",
       "         3: 25540,\n",
       "         4: 28531,\n",
       "         5: 7331,\n",
       "         6: 1396,\n",
       "         7: 16,\n",
       "         8: 4})"
      ]
     },
     "execution_count": 30,
     "metadata": {},
     "output_type": "execute_result"
    }
   ],
   "source": [
    "import collections as col\n",
    "col.Counter(metal_df.interactions.apply(len))"
   ]
  },
  {
   "cell_type": "code",
   "execution_count": 31,
   "id": "cfdb93fa",
   "metadata": {},
   "outputs": [],
   "source": [
    "metal_df = metal_df[metal_df.interactions.apply(len) > 1]"
   ]
  },
  {
   "cell_type": "code",
   "execution_count": 32,
   "id": "85715a9e-147a-4268-94da-68fee83fa378",
   "metadata": {
    "tags": []
   },
   "outputs": [],
   "source": [
    "metal_df['pdb_chain'] = metal_df['pdb_id'] + metal_df['chain']"
   ]
  },
  {
   "cell_type": "code",
   "execution_count": 33,
   "id": "4e17a377-d308-4ced-b241-98050d223530",
   "metadata": {},
   "outputs": [],
   "source": [
    "pdb_ec = pd.read_csv('../data/pdb_chain_enzyme.csv', skiprows=1)"
   ]
  },
  {
   "cell_type": "code",
   "execution_count": 34,
   "id": "d934a811-7f2f-43f2-ae26-5de8c3c17015",
   "metadata": {
    "tags": []
   },
   "outputs": [],
   "source": [
    "pdb_ec['pdb_chain'] = pdb_ec['PDB'] + pdb_ec['CHAIN']"
   ]
  },
  {
   "cell_type": "code",
   "execution_count": 35,
   "id": "6df009c7-1e65-4f2b-b32f-adc0475b9652",
   "metadata": {
    "tags": []
   },
   "outputs": [],
   "source": [
    "metal_df = pd.merge(metal_df, pdb_ec[['pdb_chain', 'EC_NUMBER']], how='left')"
   ]
  },
  {
   "cell_type": "code",
   "execution_count": 36,
   "id": "bfd7cd08-c39e-4d7b-97a2-4a853e96b8ef",
   "metadata": {
    "tags": []
   },
   "outputs": [],
   "source": [
    "metal_enzymes = metal_df[~metal_df['EC_NUMBER'].isna()]\n",
    "metal_enzymes = metal_enzymes[metal_enzymes['metal_pdb_name'] != '']"
   ]
  },
  {
   "cell_type": "code",
   "execution_count": 37,
   "id": "304f82ea-c896-4881-b959-bc8c826c12c6",
   "metadata": {
    "tags": []
   },
   "outputs": [
    {
     "data": {
      "text/plain": [
       "metal_pdb_name\n",
       "ZN    19678\n",
       "CA    10283\n",
       "MG     9930\n",
       "NA     6179\n",
       "FE     4046\n",
       "MN     3176\n",
       "K      2425\n",
       "CU     1587\n",
       "Name: count, dtype: int64"
      ]
     },
     "execution_count": 37,
     "metadata": {},
     "output_type": "execute_result"
    }
   ],
   "source": [
    "metal_enzymes.metal_pdb_name.value_counts()[:8]"
   ]
  },
  {
   "cell_type": "code",
   "execution_count": 38,
   "id": "8498798a-3802-49f3-b45a-8d0f948882ff",
   "metadata": {
    "tags": []
   },
   "outputs": [],
   "source": [
    "pdb_resol = {}\n",
    "with open('../data/resolu.idx') as f:\n",
    "    for line in f:\n",
    "        l = [x.strip() for x in line.strip().split(';')]\n",
    "        if (len(l) != 2) or (l[1] == ''):\n",
    "            continue\n",
    "        pdb_resol[l[0]] = float(l[1])"
   ]
  },
  {
   "cell_type": "code",
   "execution_count": 39,
   "id": "1992af6d-7835-4e94-ae67-febe1fcb78b3",
   "metadata": {
    "tags": []
   },
   "outputs": [],
   "source": [
    "metal_enzymes['resolution'] = metal_enzymes['pdb_id'].apply(lambda x: pdb_resol.get(x.upper()))"
   ]
  },
  {
   "cell_type": "code",
   "execution_count": 41,
   "id": "5e8b6691-0aa4-4a0f-90f7-62c29a104c21",
   "metadata": {
    "tags": []
   },
   "outputs": [],
   "source": [
    "ions = ['ZN', 'MG', 'CA', 'FE', 'NA', 'MN', 'K']"
   ]
  },
  {
   "cell_type": "code",
   "execution_count": 42,
   "id": "f1cea8fa-5e4e-4d2c-a8b6-46d4091fa6ce",
   "metadata": {
    "tags": []
   },
   "outputs": [
    {
     "name": "stdout",
     "output_type": "stream",
     "text": [
      "ZN 964 1014\n",
      "MG 813 1054\n",
      "CA 799 894\n",
      "FE 258 313\n",
      "NA 741 993\n",
      "MN 305 401\n",
      "K 315 414\n"
     ]
    }
   ],
   "source": [
    "database = {k:{} for k in ions}\n",
    "for el in ions:\n",
    "    subdf = metal_enzymes[metal_enzymes['metal_pdb_name'] == el]\n",
    "    pos_pdb = subdf.sort_values('resolution').groupby('EC_NUMBER')['pdb_chain'].nth(0)\n",
    "    pos_df = subdf[subdf['pdb_chain'].isin(pos_pdb)]\n",
    "    database[el]['pos'] = pos_df\n",
    "    \n",
    "    neg_df = metal_enzymes[(metal_enzymes['metal_pdb_name'] != el) & (~metal_enzymes['pdb_chain'].isin(pos_pdb))]\n",
    "    neg_pdb = neg_df.sort_values('resolution').groupby('EC_NUMBER')['pdb_chain'].nth(0)\n",
    "    neg_pdb = neg_pdb.sample(len(pos_pdb))\n",
    "    assert len(set(neg_pdb) & set(pos_pdb)) == 0\n",
    "    neg_df = neg_df[neg_df['pdb_chain'].isin(neg_pdb)]\n",
    "    # neg_df = neg_df.sample(len(pos_df))\n",
    "    database[el]['neg'] = neg_df\n",
    "    \n",
    "    print(el, len(pos_df), len(neg_df))"
   ]
  },
  {
   "cell_type": "code",
   "execution_count": 43,
   "id": "04538f44-3261-4412-a529-94afd870ba00",
   "metadata": {
    "tags": []
   },
   "outputs": [],
   "source": [
    "serialize(database, '../data/metal_database_balanced.pkl')"
   ]
  },
  {
   "cell_type": "markdown",
   "id": "281abcbc",
   "metadata": {},
   "source": [
    "### Create embeddings database"
   ]
  },
  {
   "cell_type": "code",
   "execution_count": 5,
   "id": "ee49a30f",
   "metadata": {},
   "outputs": [],
   "source": [
    "from sklearn.model_selection import train_test_split\n",
    "from atom3d.datasets import load_dataset\n",
    "from collapse import process_pdb, embed_protein, initialize_model, atom_info\n",
    "from torch_geometric.nn import knn_graph\n",
    "import torch"
   ]
  },
  {
   "cell_type": "code",
   "execution_count": 6,
   "id": "50a7a929",
   "metadata": {},
   "outputs": [],
   "source": [
    "database = deserialize('../data/metal_database_balanced.pkl')"
   ]
  },
  {
   "cell_type": "code",
   "execution_count": 13,
   "id": "208e1669",
   "metadata": {},
   "outputs": [
    {
     "data": {
      "text/html": [
       "<div>\n",
       "<style scoped>\n",
       "    .dataframe tbody tr th:only-of-type {\n",
       "        vertical-align: middle;\n",
       "    }\n",
       "\n",
       "    .dataframe tbody tr th {\n",
       "        vertical-align: top;\n",
       "    }\n",
       "\n",
       "    .dataframe thead th {\n",
       "        text-align: right;\n",
       "    }\n",
       "</style>\n",
       "<table border=\"1\" class=\"dataframe\">\n",
       "  <thead>\n",
       "    <tr style=\"text-align: right;\">\n",
       "      <th></th>\n",
       "      <th>site_id</th>\n",
       "      <th>pdb_id</th>\n",
       "      <th>chain</th>\n",
       "      <th>protein_name</th>\n",
       "      <th>metal_pdb_name</th>\n",
       "      <th>metal_resname</th>\n",
       "      <th>metal_resid</th>\n",
       "      <th>metal_coord_num</th>\n",
       "      <th>site_loc</th>\n",
       "      <th>interactions</th>\n",
       "      <th>pdb_chain</th>\n",
       "      <th>EC_NUMBER</th>\n",
       "      <th>resolution</th>\n",
       "    </tr>\n",
       "  </thead>\n",
       "  <tbody>\n",
       "    <tr>\n",
       "      <th>18628</th>\n",
       "      <td>2c5w_3</td>\n",
       "      <td>2c5w</td>\n",
       "      <td>B</td>\n",
       "      <td>Penicillin-binding protein 1A</td>\n",
       "      <td>ZN</td>\n",
       "      <td>ZN</td>\n",
       "      <td>702</td>\n",
       "      <td>3</td>\n",
       "      <td>Within a Chain</td>\n",
       "      <td>[GLU_435, HIS_395]</td>\n",
       "      <td>2c5wB</td>\n",
       "      <td>2.4.1.129</td>\n",
       "      <td>2.55</td>\n",
       "    </tr>\n",
       "    <tr>\n",
       "      <th>18629</th>\n",
       "      <td>2c5w_3</td>\n",
       "      <td>2c5w</td>\n",
       "      <td>B</td>\n",
       "      <td>Penicillin-binding protein 1A</td>\n",
       "      <td>ZN</td>\n",
       "      <td>ZN</td>\n",
       "      <td>702</td>\n",
       "      <td>3</td>\n",
       "      <td>Within a Chain</td>\n",
       "      <td>[GLU_435, HIS_395]</td>\n",
       "      <td>2c5wB</td>\n",
       "      <td>3.4.16.4</td>\n",
       "      <td>2.55</td>\n",
       "    </tr>\n",
       "  </tbody>\n",
       "</table>\n",
       "</div>"
      ],
      "text/plain": [
       "      site_id pdb_id chain                   protein_name metal_pdb_name  \\\n",
       "18628  2c5w_3   2c5w     B  Penicillin-binding protein 1A             ZN   \n",
       "18629  2c5w_3   2c5w     B  Penicillin-binding protein 1A             ZN   \n",
       "\n",
       "      metal_resname metal_resid metal_coord_num        site_loc  \\\n",
       "18628            ZN         702               3  Within a Chain   \n",
       "18629            ZN         702               3  Within a Chain   \n",
       "\n",
       "             interactions pdb_chain  EC_NUMBER  resolution  \n",
       "18628  [GLU_435, HIS_395]     2c5wB  2.4.1.129        2.55  \n",
       "18629  [GLU_435, HIS_395]     2c5wB   3.4.16.4        2.55  "
      ]
     },
     "execution_count": 13,
     "metadata": {},
     "output_type": "execute_result"
    }
   ],
   "source": [
    "db = database['ZN']\n",
    "db_pos = db['pos']\n",
    "db_pos[db_pos['pdb_id']=='2c5w']"
   ]
  },
  {
   "cell_type": "code",
   "execution_count": 12,
   "id": "c4130656-d75b-4766-93db-a9047ca52414",
   "metadata": {},
   "outputs": [
    {
     "data": {
      "text/html": [
       "<div>\n",
       "<style scoped>\n",
       "    .dataframe tbody tr th:only-of-type {\n",
       "        vertical-align: middle;\n",
       "    }\n",
       "\n",
       "    .dataframe tbody tr th {\n",
       "        vertical-align: top;\n",
       "    }\n",
       "\n",
       "    .dataframe thead th {\n",
       "        text-align: right;\n",
       "    }\n",
       "</style>\n",
       "<table border=\"1\" class=\"dataframe\">\n",
       "  <thead>\n",
       "    <tr style=\"text-align: right;\">\n",
       "      <th></th>\n",
       "      <th>site_id</th>\n",
       "      <th>pdb_id</th>\n",
       "      <th>chain</th>\n",
       "      <th>protein_name</th>\n",
       "      <th>metal_pdb_name</th>\n",
       "      <th>metal_resname</th>\n",
       "      <th>metal_resid</th>\n",
       "      <th>metal_coord_num</th>\n",
       "      <th>site_loc</th>\n",
       "      <th>interactions</th>\n",
       "      <th>pdb_chain</th>\n",
       "      <th>EC_NUMBER</th>\n",
       "      <th>resolution</th>\n",
       "    </tr>\n",
       "  </thead>\n",
       "  <tbody>\n",
       "    <tr>\n",
       "      <th>77</th>\n",
       "      <td>1a2p_3</td>\n",
       "      <td>1a2p</td>\n",
       "      <td>C</td>\n",
       "      <td>Ribonuclease</td>\n",
       "      <td>ZN</td>\n",
       "      <td>ZN</td>\n",
       "      <td>112</td>\n",
       "      <td>4</td>\n",
       "      <td>Within a Chain</td>\n",
       "      <td>[LYS_62, GLU_60]</td>\n",
       "      <td>1a2pC</td>\n",
       "      <td>3.1.27.-</td>\n",
       "      <td>1.50</td>\n",
       "    </tr>\n",
       "    <tr>\n",
       "      <th>364</th>\n",
       "      <td>1ak0_2</td>\n",
       "      <td>1ak0</td>\n",
       "      <td>A</td>\n",
       "      <td>Nuclease P1</td>\n",
       "      <td>ZN</td>\n",
       "      <td>ZN</td>\n",
       "      <td>274</td>\n",
       "      <td>4</td>\n",
       "      <td>Within a Chain</td>\n",
       "      <td>[GLU_181, HIS_15]</td>\n",
       "      <td>1ak0A</td>\n",
       "      <td>3.1.30.1</td>\n",
       "      <td>1.80</td>\n",
       "    </tr>\n",
       "    <tr>\n",
       "      <th>540</th>\n",
       "      <td>1atl_3</td>\n",
       "      <td>1atl</td>\n",
       "      <td>B</td>\n",
       "      <td>Zinc metalloproteinase atrolysin-D</td>\n",
       "      <td>ZN</td>\n",
       "      <td>ZN</td>\n",
       "      <td>402</td>\n",
       "      <td>5</td>\n",
       "      <td>Within a Chain</td>\n",
       "      <td>[HIS_146, HIS_142, HIS_152]</td>\n",
       "      <td>1atlB</td>\n",
       "      <td>3.4.24.42</td>\n",
       "      <td>1.80</td>\n",
       "    </tr>\n",
       "    <tr>\n",
       "      <th>620</th>\n",
       "      <td>1aye_1</td>\n",
       "      <td>1aye</td>\n",
       "      <td>A</td>\n",
       "      <td>Carboxypeptidase A2</td>\n",
       "      <td>ZN</td>\n",
       "      <td>ZN</td>\n",
       "      <td>400</td>\n",
       "      <td>5</td>\n",
       "      <td>Within a Chain</td>\n",
       "      <td>[GLU_72, HIS_196, HIS_69]</td>\n",
       "      <td>1ayeA</td>\n",
       "      <td>3.4.17.15</td>\n",
       "      <td>1.80</td>\n",
       "    </tr>\n",
       "    <tr>\n",
       "      <th>1046</th>\n",
       "      <td>1bqb_2</td>\n",
       "      <td>1bqb</td>\n",
       "      <td>A</td>\n",
       "      <td>Zinc metalloproteinase aureolysin</td>\n",
       "      <td>ZN</td>\n",
       "      <td>ZN</td>\n",
       "      <td>350</td>\n",
       "      <td>6</td>\n",
       "      <td>Within a Chain</td>\n",
       "      <td>[HIS_148, GLU_168, HIS_144]</td>\n",
       "      <td>1bqbA</td>\n",
       "      <td>3.4.24.29</td>\n",
       "      <td>1.72</td>\n",
       "    </tr>\n",
       "    <tr>\n",
       "      <th>...</th>\n",
       "      <td>...</td>\n",
       "      <td>...</td>\n",
       "      <td>...</td>\n",
       "      <td>...</td>\n",
       "      <td>...</td>\n",
       "      <td>...</td>\n",
       "      <td>...</td>\n",
       "      <td>...</td>\n",
       "      <td>...</td>\n",
       "      <td>...</td>\n",
       "      <td>...</td>\n",
       "      <td>...</td>\n",
       "      <td>...</td>\n",
       "    </tr>\n",
       "    <tr>\n",
       "      <th>92751</th>\n",
       "      <td>5o6c_2</td>\n",
       "      <td>5o6c</td>\n",
       "      <td>A</td>\n",
       "      <td>E3 ubiquitin-protein ligase MYCBP2</td>\n",
       "      <td>ZN</td>\n",
       "      <td>ZN</td>\n",
       "      <td>4704</td>\n",
       "      <td>4</td>\n",
       "      <td>Within a Chain</td>\n",
       "      <td>[CYS_4631, HIS_4552, CYS_4634, CYS_4549]</td>\n",
       "      <td>5o6cA</td>\n",
       "      <td>2.3.2.33</td>\n",
       "      <td>1.75</td>\n",
       "    </tr>\n",
       "    <tr>\n",
       "      <th>92752</th>\n",
       "      <td>5o6c_3</td>\n",
       "      <td>5o6c</td>\n",
       "      <td>A</td>\n",
       "      <td>E3 ubiquitin-protein ligase MYCBP2</td>\n",
       "      <td>ZN</td>\n",
       "      <td>ZN</td>\n",
       "      <td>4705</td>\n",
       "      <td>4</td>\n",
       "      <td>Within a Chain</td>\n",
       "      <td>[CYS_4579, CYS_4564, CYS_4561, CYS_4582]</td>\n",
       "      <td>5o6cA</td>\n",
       "      <td>2.3.2.33</td>\n",
       "      <td>1.75</td>\n",
       "    </tr>\n",
       "    <tr>\n",
       "      <th>92753</th>\n",
       "      <td>5o6c_4</td>\n",
       "      <td>5o6c</td>\n",
       "      <td>A</td>\n",
       "      <td>E3 ubiquitin-protein ligase MYCBP2</td>\n",
       "      <td>ZN</td>\n",
       "      <td>ZN</td>\n",
       "      <td>4702</td>\n",
       "      <td>4</td>\n",
       "      <td>Within a Chain</td>\n",
       "      <td>[CYS_4408, CYS_4437, CYS_4440, HIS_4410]</td>\n",
       "      <td>5o6cA</td>\n",
       "      <td>2.3.2.33</td>\n",
       "      <td>1.75</td>\n",
       "    </tr>\n",
       "    <tr>\n",
       "      <th>92754</th>\n",
       "      <td>5o6c_5</td>\n",
       "      <td>5o6c</td>\n",
       "      <td>A</td>\n",
       "      <td>E3 ubiquitin-protein ligase MYCBP2</td>\n",
       "      <td>ZN</td>\n",
       "      <td>ZN</td>\n",
       "      <td>4703</td>\n",
       "      <td>4</td>\n",
       "      <td>Within a Chain</td>\n",
       "      <td>[CYS_4506, CYS_4540, CYS_4537, CYS_4509]</td>\n",
       "      <td>5o6cA</td>\n",
       "      <td>2.3.2.33</td>\n",
       "      <td>1.75</td>\n",
       "    </tr>\n",
       "    <tr>\n",
       "      <th>92755</th>\n",
       "      <td>5o6c_6</td>\n",
       "      <td>5o6c</td>\n",
       "      <td>A</td>\n",
       "      <td>E3 ubiquitin-protein ligase MYCBP2</td>\n",
       "      <td>ZN</td>\n",
       "      <td>ZN</td>\n",
       "      <td>4701</td>\n",
       "      <td>4</td>\n",
       "      <td>Within a Chain</td>\n",
       "      <td>[CYS_4393, CYS_4390, CYS_4416, HIS_4413]</td>\n",
       "      <td>5o6cA</td>\n",
       "      <td>2.3.2.33</td>\n",
       "      <td>1.75</td>\n",
       "    </tr>\n",
       "  </tbody>\n",
       "</table>\n",
       "<p>964 rows × 13 columns</p>\n",
       "</div>"
      ],
      "text/plain": [
       "      site_id pdb_id chain                        protein_name metal_pdb_name  \\\n",
       "77     1a2p_3   1a2p     C                        Ribonuclease             ZN   \n",
       "364    1ak0_2   1ak0     A                         Nuclease P1             ZN   \n",
       "540    1atl_3   1atl     B  Zinc metalloproteinase atrolysin-D             ZN   \n",
       "620    1aye_1   1aye     A                 Carboxypeptidase A2             ZN   \n",
       "1046   1bqb_2   1bqb     A   Zinc metalloproteinase aureolysin             ZN   \n",
       "...       ...    ...   ...                                 ...            ...   \n",
       "92751  5o6c_2   5o6c     A  E3 ubiquitin-protein ligase MYCBP2             ZN   \n",
       "92752  5o6c_3   5o6c     A  E3 ubiquitin-protein ligase MYCBP2             ZN   \n",
       "92753  5o6c_4   5o6c     A  E3 ubiquitin-protein ligase MYCBP2             ZN   \n",
       "92754  5o6c_5   5o6c     A  E3 ubiquitin-protein ligase MYCBP2             ZN   \n",
       "92755  5o6c_6   5o6c     A  E3 ubiquitin-protein ligase MYCBP2             ZN   \n",
       "\n",
       "      metal_resname metal_resid metal_coord_num        site_loc  \\\n",
       "77               ZN         112               4  Within a Chain   \n",
       "364              ZN         274               4  Within a Chain   \n",
       "540              ZN         402               5  Within a Chain   \n",
       "620              ZN         400               5  Within a Chain   \n",
       "1046             ZN         350               6  Within a Chain   \n",
       "...             ...         ...             ...             ...   \n",
       "92751            ZN        4704               4  Within a Chain   \n",
       "92752            ZN        4705               4  Within a Chain   \n",
       "92753            ZN        4702               4  Within a Chain   \n",
       "92754            ZN        4703               4  Within a Chain   \n",
       "92755            ZN        4701               4  Within a Chain   \n",
       "\n",
       "                                   interactions pdb_chain  EC_NUMBER  \\\n",
       "77                             [LYS_62, GLU_60]     1a2pC   3.1.27.-   \n",
       "364                           [GLU_181, HIS_15]     1ak0A   3.1.30.1   \n",
       "540                 [HIS_146, HIS_142, HIS_152]     1atlB  3.4.24.42   \n",
       "620                   [GLU_72, HIS_196, HIS_69]     1ayeA  3.4.17.15   \n",
       "1046                [HIS_148, GLU_168, HIS_144]     1bqbA  3.4.24.29   \n",
       "...                                         ...       ...        ...   \n",
       "92751  [CYS_4631, HIS_4552, CYS_4634, CYS_4549]     5o6cA   2.3.2.33   \n",
       "92752  [CYS_4579, CYS_4564, CYS_4561, CYS_4582]     5o6cA   2.3.2.33   \n",
       "92753  [CYS_4408, CYS_4437, CYS_4440, HIS_4410]     5o6cA   2.3.2.33   \n",
       "92754  [CYS_4506, CYS_4540, CYS_4537, CYS_4509]     5o6cA   2.3.2.33   \n",
       "92755  [CYS_4393, CYS_4390, CYS_4416, HIS_4413]     5o6cA   2.3.2.33   \n",
       "\n",
       "       resolution  \n",
       "77           1.50  \n",
       "364          1.80  \n",
       "540          1.80  \n",
       "620          1.80  \n",
       "1046         1.72  \n",
       "...           ...  \n",
       "92751        1.75  \n",
       "92752        1.75  \n",
       "92753        1.75  \n",
       "92754        1.75  \n",
       "92755        1.75  \n",
       "\n",
       "[964 rows x 13 columns]"
      ]
     },
     "execution_count": 12,
     "metadata": {},
     "output_type": "execute_result"
    }
   ],
   "source": [
    "db_pos"
   ]
  },
  {
   "cell_type": "code",
   "execution_count": 52,
   "id": "ebf81e63",
   "metadata": {},
   "outputs": [
    {
     "name": "stderr",
     "output_type": "stream",
     "text": [
      "--2023-09-17 19:03:56--  https://files.rcsb.org/download/1atl.cif\n",
      "Resolving files.rcsb.org (files.rcsb.org)... 132.249.210.234\n",
      "Connecting to files.rcsb.org (files.rcsb.org)|132.249.210.234|:443... connected.\n",
      "HTTP request sent, awaiting response... 200 OK\n",
      "Length: unspecified [application/octet-stream]\n",
      "Saving to: ‘../data/pdb/1atl.cif’\n",
      "\n",
      "     0K .......... .......... .......... .......... .......... 2.05M\n",
      "    50K .......... .......... .......... .......... .......... 4.02M\n",
      "   100K .......... .......... .......... .......... ..........  128M\n",
      "   150K .......... .......... .......... .......... ..........  119M\n",
      "   200K .......... .......... .......... .......... .......... 4.29M\n",
      "   250K .......... .......... .......... .......... ..........  121M\n",
      "   300K .......... .......... .......... .......... ..........  102M\n",
      "   350K .......... .                                            139M=0.05s\n",
      "\n",
      "2023-09-17 19:03:56 (7.17 MB/s) - ‘../data/pdb/1atl.cif’ saved [369667]\n",
      "\n"
     ]
    }
   ],
   "source": [
    "for p in list(db['pos']['pdb_id'].unique()) + list(db['neg']['pdb_id'].unique()):\n",
    "    if not os.path.exists('../data/pdb/' + p + '.cif'):\n",
    "        os.system('wget https://files.rcsb.org/download/' + p + '.cif -O ../data/pdb/' + p + '.cif')\n",
    "    break"
   ]
  },
  {
   "cell_type": "code",
   "execution_count": 75,
   "id": "5eb48bf7",
   "metadata": {},
   "outputs": [],
   "source": [
    "import atom3d.util.formats as fo\n",
    "from atom3d.filters.filters import first_model_filter\n",
    "def process_pdb(pdb_file, chain=None, include_hets=True):\n",
    "    atoms = fo.bp_to_df(fo.read_mmcif(pdb_file, name=None, auth_residues=False))\n",
    "    atoms = first_model_filter(atoms)\n",
    "    if chain:\n",
    "        atoms = atoms[atoms.chain == chain]\n",
    "    atoms = atoms[atoms.resname != 'HOH']\n",
    "    atoms = atoms[atoms.element != 'H'].reset_index(drop=True)\n",
    "    if not include_hets:\n",
    "        atoms = atoms[atoms.resname.isin(atom_info.aa)].reset_index(drop=True)\n",
    "    return atoms"
   ]
  },
  {
   "cell_type": "code",
   "execution_count": 76,
   "id": "7d11fba7",
   "metadata": {},
   "outputs": [
    {
     "ename": "TypeError",
     "evalue": "'type' object cannot be interpreted as an integer",
     "output_type": "error",
     "traceback": [
      "\u001b[0;31m---------------------------------------------------------------------------\u001b[0m",
      "\u001b[0;31mTypeError\u001b[0m                                 Traceback (most recent call last)",
      "Cell \u001b[0;32mIn[76], line 1\u001b[0m\n\u001b[0;32m----> 1\u001b[0m process_pdb(\u001b[39m'\u001b[39;49m\u001b[39m../data/pdb/2kpn.cif\u001b[39;49m\u001b[39m'\u001b[39;49m, chain\u001b[39m=\u001b[39;49m\u001b[39m'\u001b[39;49m\u001b[39mA\u001b[39;49m\u001b[39m'\u001b[39;49m, include_hets\u001b[39m=\u001b[39;49m\u001b[39mFalse\u001b[39;49;00m)\u001b[39m.\u001b[39mhead()\u001b[39m#[['resname', 'residue']].iloc[:20]\u001b[39;00m\n",
      "Cell \u001b[0;32mIn[75], line 4\u001b[0m, in \u001b[0;36mprocess_pdb\u001b[0;34m(pdb_file, chain, include_hets)\u001b[0m\n\u001b[1;32m      3\u001b[0m \u001b[39mdef\u001b[39;00m \u001b[39mprocess_pdb\u001b[39m(pdb_file, chain\u001b[39m=\u001b[39m\u001b[39mNone\u001b[39;00m, include_hets\u001b[39m=\u001b[39m\u001b[39mTrue\u001b[39;00m):\n\u001b[0;32m----> 4\u001b[0m     atoms \u001b[39m=\u001b[39m fo\u001b[39m.\u001b[39mbp_to_df(fo\u001b[39m.\u001b[39;49mread_mmcif(pdb_file, name\u001b[39m=\u001b[39;49m\u001b[39mNone\u001b[39;49;00m, auth_residues\u001b[39m=\u001b[39;49m\u001b[39mFalse\u001b[39;49;00m))\n\u001b[1;32m      5\u001b[0m     atoms \u001b[39m=\u001b[39m first_model_filter(atoms)\n\u001b[1;32m      6\u001b[0m     \u001b[39mif\u001b[39;00m chain:\n",
      "File \u001b[0;32m/oak/stanford/groups/rbaltman/aderry/atom3d/atom3d/atom3d/util/formats.py:291\u001b[0m, in \u001b[0;36mread_mmcif\u001b[0;34m(mmcif_file, name, auth_residues)\u001b[0m\n\u001b[1;32m    289\u001b[0m     name \u001b[39m=\u001b[39m os\u001b[39m.\u001b[39mpath\u001b[39m.\u001b[39mbasename(mmcif_file)\n\u001b[1;32m    290\u001b[0m parser \u001b[39m=\u001b[39m Bio\u001b[39m.\u001b[39mPDB\u001b[39m.\u001b[39mMMCIFParser(QUIET\u001b[39m=\u001b[39m\u001b[39mTrue\u001b[39;00m, auth_residues\u001b[39m=\u001b[39mauth_residues)\n\u001b[0;32m--> 291\u001b[0m \u001b[39mreturn\u001b[39;00m parser\u001b[39m.\u001b[39;49mget_structure(name, mmcif_file)\n",
      "File \u001b[0;32m/oak/stanford/groups/rbaltman/aderry/miniconda3/envs/collapse3/lib/python3.9/site-packages/Bio/PDB/MMCIFParser.py:74\u001b[0m, in \u001b[0;36mMMCIFParser.get_structure\u001b[0;34m(self, structure_id, filename)\u001b[0m\n\u001b[1;32m     72\u001b[0m         warnings\u001b[39m.\u001b[39mfilterwarnings(\u001b[39m\"\u001b[39m\u001b[39mignore\u001b[39m\u001b[39m\"\u001b[39m, category\u001b[39m=\u001b[39mPDBConstructionWarning)\n\u001b[1;32m     73\u001b[0m     \u001b[39mself\u001b[39m\u001b[39m.\u001b[39m_mmcif_dict \u001b[39m=\u001b[39m MMCIF2Dict(filename)\n\u001b[0;32m---> 74\u001b[0m     \u001b[39mself\u001b[39;49m\u001b[39m.\u001b[39;49m_build_structure(structure_id)\n\u001b[1;32m     75\u001b[0m     \u001b[39mself\u001b[39m\u001b[39m.\u001b[39m_structure_builder\u001b[39m.\u001b[39mset_header(\u001b[39mself\u001b[39m\u001b[39m.\u001b[39m_get_header())\n\u001b[1;32m     77\u001b[0m \u001b[39mreturn\u001b[39;00m \u001b[39mself\u001b[39m\u001b[39m.\u001b[39m_structure_builder\u001b[39m.\u001b[39mget_structure()\n",
      "File \u001b[0;32m/oak/stanford/groups/rbaltman/aderry/miniconda3/envs/collapse3/lib/python3.9/site-packages/Bio/PDB/MMCIFParser.py:241\u001b[0m, in \u001b[0;36mMMCIFParser._build_structure\u001b[0;34m(self, structure_id)\u001b[0m\n\u001b[1;32m    239\u001b[0m     \u001b[39mexcept\u001b[39;00m (\u001b[39mKeyError\u001b[39;00m, \u001b[39mIndexError\u001b[39;00m):\n\u001b[1;32m    240\u001b[0m         msg \u001b[39m=\u001b[39m \u001b[39mf\u001b[39m\u001b[39m\"\u001b[39m\u001b[39mNon-existing residue ID in chain \u001b[39m\u001b[39m'\u001b[39m\u001b[39m{\u001b[39;00mchainid\u001b[39m}\u001b[39;00m\u001b[39m'\u001b[39m\u001b[39m\"\u001b[39m\n\u001b[0;32m--> 241\u001b[0m     warnings\u001b[39m.\u001b[39;49mwarn(\n\u001b[1;32m    242\u001b[0m         \u001b[39m\"\u001b[39;49m\u001b[39mPDBConstructionWarning: \u001b[39;49m\u001b[39m\"\u001b[39;49m,\n\u001b[1;32m    243\u001b[0m         msg,\n\u001b[1;32m    244\u001b[0m         PDBConstructionWarning,\n\u001b[1;32m    245\u001b[0m     )\n\u001b[1;32m    246\u001b[0m     \u001b[39mcontinue\u001b[39;00m\n\u001b[1;32m    247\u001b[0m int_resseq \u001b[39m=\u001b[39m \u001b[39mint\u001b[39m(resseq)\n",
      "\u001b[0;31mTypeError\u001b[0m: 'type' object cannot be interpreted as an integer"
     ]
    }
   ],
   "source": [
    "process_pdb('../data/pdb/2kpn.cif', chain='A', include_hets=False).head()#[['resname', 'residue']].iloc[:20]"
   ]
  },
  {
   "cell_type": "code",
   "execution_count": 26,
   "id": "eecb3d6f-8d99-44fb-8fc4-2d636ac5431a",
   "metadata": {},
   "outputs": [],
   "source": [
    "db = database['K']\n",
    "db_pos = db['pos']\n",
    "n_pos = len(db_pos)\n",
    "num_pos_ec = db_pos['EC_NUMBER'].unique()\n",
    "train_ec, test_ec = train_test_split(num_pos_ec, test_size=0.2, random_state=77)\n",
    "train_df = db_pos[db_pos['EC_NUMBER'].isin(train_ec)]\n",
    "test_df = db_pos[db_pos['EC_NUMBER'].isin(test_ec)]\n",
    "train_keyres = dict(train_df.groupby('pdb_chain')['interactions'].apply(lambda x: [i for i in sum(x, []) if i.split('_')[0] in aa]))\n",
    "test_keyres = dict(test_df.groupby('pdb_chain')['interactions'].apply(lambda x: [i for i in sum(x, []) if i.split('_')[0] in aa]))"
   ]
  },
  {
   "cell_type": "code",
   "execution_count": 42,
   "id": "e68119b8",
   "metadata": {},
   "outputs": [],
   "source": [
    "device = torch.device('cuda' if torch.cuda.is_available() else 'cpu')\n",
    "model = initialize_model(device=device)\n",
    "\n",
    "def compute_adjacency(df, resids, num_neighbors=8):\n",
    "    df = df[df.name == 'CA']\n",
    "    df['resid'] = df['resname'].apply(lambda x: atom_info.aa_to_letter(x)) + df['residue'].astype(str) + df['insertion_code'].astype(str).str.strip()\n",
    "    df = df[df.resid.isin(resids)]\n",
    "    edge_index = knn_graph(torch.tensor(df[['x', 'y', 'z']].to_numpy()), k=num_neighbors) # COO format\n",
    "    return edge_index.numpy()\n",
    "\n",
    "def create_graph_from_pdb(pdb_chain, pdb_dir, model, device):\n",
    "    pdb, chain = pdb_chain[:4], pdb_chain[-1]\n",
    "    atom_df = process_pdb(os.path.join(pdb_dir, pdb[1:3], f'pdb{pdb}.ent.gz'), chain=chain, include_hets=False)\n",
    "    outdata = embed_protein(atom_df.copy(), model, device=device, include_hets=False, env_radius=10.0)\n",
    "    if outdata is None:\n",
    "        return\n",
    "    outdata['adj'] = compute_adjacency(atom_df.copy(), outdata['resids'])\n",
    "    return elem"
   ]
  },
  {
   "cell_type": "code",
   "execution_count": 43,
   "id": "9b92b8fb",
   "metadata": {},
   "outputs": [
    {
     "ename": "NameError",
     "evalue": "name 'self' is not defined",
     "output_type": "error",
     "traceback": [
      "\u001b[0;31m---------------------------------------------------------------------------\u001b[0m",
      "\u001b[0;31mNameError\u001b[0m                                 Traceback (most recent call last)",
      "Cell \u001b[0;32mIn[43], line 3\u001b[0m\n\u001b[1;32m      1\u001b[0m pdb_dir \u001b[39m=\u001b[39m \u001b[39m'\u001b[39m\u001b[39m/scratch/users/aderry/pdb\u001b[39m\u001b[39m'\u001b[39m\n\u001b[1;32m      2\u001b[0m \u001b[39mfor\u001b[39;00m pdbc, res \u001b[39min\u001b[39;00m train_keyres\u001b[39m.\u001b[39mitems():\n\u001b[0;32m----> 3\u001b[0m     emb_data \u001b[39m=\u001b[39m create_graph_from_pdb(pdbc, pdb_dir, model, device)\n\u001b[1;32m      4\u001b[0m     \u001b[39mprint\u001b[39m(emb_data)\n\u001b[1;32m      5\u001b[0m     \u001b[39mbreak\u001b[39;00m\n",
      "Cell \u001b[0;32mIn[42], line 17\u001b[0m, in \u001b[0;36mcreate_graph_from_pdb\u001b[0;34m(pdb_chain, pdb_dir, model, device)\u001b[0m\n\u001b[1;32m     15\u001b[0m \u001b[39mif\u001b[39;00m outdata \u001b[39mis\u001b[39;00m \u001b[39mNone\u001b[39;00m:\n\u001b[1;32m     16\u001b[0m     \u001b[39mreturn\u001b[39;00m\n\u001b[0;32m---> 17\u001b[0m outdata[\u001b[39m'\u001b[39m\u001b[39madj\u001b[39m\u001b[39m'\u001b[39m] \u001b[39m=\u001b[39m compute_adjacency(atom_df\u001b[39m.\u001b[39;49mcopy(), outdata[\u001b[39m'\u001b[39;49m\u001b[39mresids\u001b[39;49m\u001b[39m'\u001b[39;49m])\n\u001b[1;32m     18\u001b[0m \u001b[39mreturn\u001b[39;00m elem\n",
      "Cell \u001b[0;32mIn[42], line 8\u001b[0m, in \u001b[0;36mcompute_adjacency\u001b[0;34m(df, resids)\u001b[0m\n\u001b[1;32m      6\u001b[0m df[\u001b[39m'\u001b[39m\u001b[39mresid\u001b[39m\u001b[39m'\u001b[39m] \u001b[39m=\u001b[39m df[\u001b[39m'\u001b[39m\u001b[39mresname\u001b[39m\u001b[39m'\u001b[39m]\u001b[39m.\u001b[39mapply(\u001b[39mlambda\u001b[39;00m x: atom_info\u001b[39m.\u001b[39maa_to_letter(x)) \u001b[39m+\u001b[39m df[\u001b[39m'\u001b[39m\u001b[39mresidue\u001b[39m\u001b[39m'\u001b[39m]\u001b[39m.\u001b[39mastype(\u001b[39mstr\u001b[39m) \u001b[39m+\u001b[39m df[\u001b[39m'\u001b[39m\u001b[39minsertion_code\u001b[39m\u001b[39m'\u001b[39m]\u001b[39m.\u001b[39mastype(\u001b[39mstr\u001b[39m)\u001b[39m.\u001b[39mstr\u001b[39m.\u001b[39mstrip()\n\u001b[1;32m      7\u001b[0m df \u001b[39m=\u001b[39m df[df\u001b[39m.\u001b[39mresid\u001b[39m.\u001b[39misin(resids)]\n\u001b[0;32m----> 8\u001b[0m edge_index \u001b[39m=\u001b[39m knn_graph(torch\u001b[39m.\u001b[39mtensor(df[[\u001b[39m'\u001b[39m\u001b[39mx\u001b[39m\u001b[39m'\u001b[39m, \u001b[39m'\u001b[39m\u001b[39my\u001b[39m\u001b[39m'\u001b[39m, \u001b[39m'\u001b[39m\u001b[39mz\u001b[39m\u001b[39m'\u001b[39m]]\u001b[39m.\u001b[39mto_numpy()), k\u001b[39m=\u001b[39m\u001b[39mself\u001b[39;49m\u001b[39m.\u001b[39mnum_neighbors) \u001b[39m# COO format\u001b[39;00m\n\u001b[1;32m      9\u001b[0m \u001b[39mreturn\u001b[39;00m edge_index\u001b[39m.\u001b[39mnumpy()\n",
      "\u001b[0;31mNameError\u001b[0m: name 'self' is not defined"
     ]
    }
   ],
   "source": [
    "pdb_dir = '/scratch/users/aderry/pdb'\n",
    "for pdbc, res in train_keyres.items():\n",
    "    emb_data = create_graph_from_pdb(pdbc, pdb_dir, model, device)\n",
    "    print(emb_data)\n",
    "    break"
   ]
  },
  {
   "cell_type": "code",
   "execution_count": null,
   "id": "341af090",
   "metadata": {},
   "outputs": [],
   "source": []
  }
 ],
 "metadata": {
  "kernelspec": {
   "display_name": "k2",
   "language": "python",
   "name": "k2"
  },
  "language_info": {
   "codemirror_mode": {
    "name": "ipython",
    "version": 3
   },
   "file_extension": ".py",
   "mimetype": "text/x-python",
   "name": "python",
   "nbconvert_exporter": "python",
   "pygments_lexer": "ipython3",
   "version": "3.10.12"
  }
 },
 "nbformat": 4,
 "nbformat_minor": 5
}
