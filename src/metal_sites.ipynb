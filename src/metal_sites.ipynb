{
 "cells": [
  {
   "cell_type": "code",
   "execution_count": 1,
   "id": "134ce813-e096-40e8-b788-4eb42e10cbbe",
   "metadata": {
    "tags": []
   },
   "outputs": [],
   "source": [
    "%load_ext autoreload\n",
    "%autoreload 2"
   ]
  },
  {
   "cell_type": "code",
   "execution_count": 34,
   "id": "8a1ed841-5cac-4564-b0de-dfb684fababc",
   "metadata": {
    "tags": []
   },
   "outputs": [],
   "source": [
    "import os\n",
    "import numpy as np\n",
    "import pandas as pd\n",
    "from utils import serialize, deserialize"
   ]
  },
  {
   "cell_type": "code",
   "execution_count": 7,
   "id": "1145a4dd-2ba5-4668-b54f-f8bec3ff7fb9",
   "metadata": {
    "tags": []
   },
   "outputs": [],
   "source": [
    "from xml_parse import parse_xml"
   ]
  },
  {
   "cell_type": "code",
   "execution_count": 8,
   "id": "391255fb-d56f-40b5-bf2d-973046218bd1",
   "metadata": {
    "tags": []
   },
   "outputs": [],
   "source": [
    "import random\n",
    "np.random.seed(77)\n",
    "random.seed(77)"
   ]
  },
  {
   "cell_type": "code",
   "execution_count": 9,
   "id": "ebbba37f-c811-44f0-b38e-e45a71175a86",
   "metadata": {
    "tags": []
   },
   "outputs": [
    {
     "name": "stderr",
     "output_type": "stream",
     "text": [
      "100%|██████████| 27128801/27128801 [02:35<00:00, 174658.89it/s]\n"
     ]
    }
   ],
   "source": [
    "sites = parse_xml('../data/flat_db_file.xml')"
   ]
  },
  {
   "cell_type": "code",
   "execution_count": 10,
   "id": "e7adfce4-2e90-4742-bb29-19945c8bc71f",
   "metadata": {},
   "outputs": [],
   "source": [
    "data_list = []\n",
    "for s in sites:\n",
    "    if s.getSiteChain().getMolType() != 'protein':\n",
    "        continue\n",
    "    site_id = s.getSite()\n",
    "    pdb_id = s.getPDBid()\n",
    "    m = s.getMetal()\n",
    "    sc = s.getSiteChain()\n",
    "    \n",
    "    chain = m.getChainid()\n",
    "    metal_pdb_name = m.getAtomName()\n",
    "    # metal_pdb_atom = m.getElement()\n",
    "    metal_resname = m.getResidueName()\n",
    "    metal_resid = m.getResidueid()\n",
    "    metal_coord_num = m.getCoord()\n",
    "    site_loc = s.getSiteLoc()\n",
    "    name = sc.getMolName()\n",
    "    interactions = []\n",
    "    for lig in m.getLigands():\n",
    "        if lig.getEndoExo() == 'exogenous':\n",
    "            exo = True\n",
    "        else:\n",
    "            exo = False\n",
    "        resname = lig.getResidueName()\n",
    "        resid = lig.getResidueid()\n",
    "        chain = lig.getChainid()\n",
    "        interactions.append('_'.join((resname, resid)))\n",
    "    data_list.append([site_id, pdb_id, chain, name, metal_pdb_name, metal_resname, metal_resid, metal_coord_num, site_loc, interactions])"
   ]
  },
  {
   "cell_type": "code",
   "execution_count": 11,
   "id": "0a056462-94ab-4654-b78f-792c04dab21f",
   "metadata": {
    "tags": []
   },
   "outputs": [],
   "source": [
    "metal_df = pd.DataFrame(data_list, columns=['site_id', 'pdb_id', 'chain', 'protein_name', 'metal_pdb_name', 'metal_resname', 'metal_resid', 'metal_coord_num', 'site_loc', 'interactions'])"
   ]
  },
  {
   "cell_type": "code",
   "execution_count": 12,
   "id": "f22420ad-64bf-4711-9b34-341db0e9f6dd",
   "metadata": {
    "tags": []
   },
   "outputs": [],
   "source": [
    "metal_df = metal_df[metal_df.site_loc == 'Within a Chain']"
   ]
  },
  {
   "cell_type": "code",
   "execution_count": 13,
   "id": "85715a9e-147a-4268-94da-68fee83fa378",
   "metadata": {
    "tags": []
   },
   "outputs": [],
   "source": [
    "metal_df['pdb_chain'] = metal_df['pdb_id'] + metal_df['chain']"
   ]
  },
  {
   "cell_type": "code",
   "execution_count": 14,
   "id": "4e17a377-d308-4ced-b241-98050d223530",
   "metadata": {},
   "outputs": [],
   "source": [
    "pdb_ec = pd.read_csv('../data/pdb_chain_enzyme.csv', skiprows=1)"
   ]
  },
  {
   "cell_type": "code",
   "execution_count": 15,
   "id": "d934a811-7f2f-43f2-ae26-5de8c3c17015",
   "metadata": {
    "tags": []
   },
   "outputs": [],
   "source": [
    "pdb_ec['pdb_chain'] = pdb_ec['PDB'] + pdb_ec['CHAIN']"
   ]
  },
  {
   "cell_type": "code",
   "execution_count": 16,
   "id": "6df009c7-1e65-4f2b-b32f-adc0475b9652",
   "metadata": {
    "tags": []
   },
   "outputs": [],
   "source": [
    "metal_df = pd.merge(metal_df, pdb_ec[['pdb_chain', 'EC_NUMBER']], how='left')"
   ]
  },
  {
   "cell_type": "code",
   "execution_count": 17,
   "id": "bfd7cd08-c39e-4d7b-97a2-4a853e96b8ef",
   "metadata": {
    "tags": []
   },
   "outputs": [],
   "source": [
    "metal_enzymes = metal_df[~metal_df['EC_NUMBER'].isna()]\n",
    "metal_enzymes = metal_enzymes[metal_enzymes['metal_pdb_name'] != '']"
   ]
  },
  {
   "cell_type": "code",
   "execution_count": 18,
   "id": "304f82ea-c896-4881-b959-bc8c826c12c6",
   "metadata": {
    "tags": []
   },
   "outputs": [
    {
     "data": {
      "text/plain": [
       "metal_pdb_name\n",
       "ZN    21408\n",
       "MG    15817\n",
       "CA    12081\n",
       "FE     9338\n",
       "NA     8447\n",
       "MN     3717\n",
       "K      2843\n",
       "NI     1851\n",
       "Name: count, dtype: int64"
      ]
     },
     "execution_count": 18,
     "metadata": {},
     "output_type": "execute_result"
    }
   ],
   "source": [
    "metal_enzymes.metal_pdb_name.value_counts()[:8]"
   ]
  },
  {
   "cell_type": "code",
   "execution_count": 19,
   "id": "f4650099-73c3-4a49-8f89-a7cc6212b386",
   "metadata": {
    "tags": []
   },
   "outputs": [
    {
     "data": {
      "text/plain": [
       "32217     3l4oB\n",
       "11017     3ip1C\n",
       "141025    5vn1B\n",
       "14340     1uzlA\n",
       "134043    5kiaA\n",
       "          ...  \n",
       "11864     2onjB\n",
       "50098     3g5uA\n",
       "50084     3g5uA\n",
       "33773     2cbzA\n",
       "86758     4fi3C\n",
       "Name: pdb_chain, Length: 2116, dtype: object"
      ]
     },
     "execution_count": 19,
     "metadata": {},
     "output_type": "execute_result"
    }
   ],
   "source": [
    "metal_enzymes.groupby('EC_NUMBER')['pdb_chain'].sample(1)"
   ]
  },
  {
   "cell_type": "code",
   "execution_count": 20,
   "id": "8498798a-3802-49f3-b45a-8d0f948882ff",
   "metadata": {
    "tags": []
   },
   "outputs": [],
   "source": [
    "pdb_resol = {}\n",
    "with open('../data/resolu.idx') as f:\n",
    "    for line in f:\n",
    "        l = [x.strip() for x in line.strip().split(';')]\n",
    "        if (len(l) != 2) or (l[1] == ''):\n",
    "            continue\n",
    "        pdb_resol[l[0]] = float(l[1])"
   ]
  },
  {
   "cell_type": "code",
   "execution_count": 21,
   "id": "1992af6d-7835-4e94-ae67-febe1fcb78b3",
   "metadata": {
    "tags": []
   },
   "outputs": [],
   "source": [
    "metal_enzymes['resolution'] = metal_enzymes['pdb_id'].apply(lambda x: pdb_resol.get(x.upper()))"
   ]
  },
  {
   "cell_type": "code",
   "execution_count": 22,
   "id": "5e8b6691-0aa4-4a0f-90f7-62c29a104c21",
   "metadata": {
    "tags": []
   },
   "outputs": [],
   "source": [
    "ions = ['ZN', 'MG', 'CA', 'FE', 'NA', 'MN', 'K']"
   ]
  },
  {
   "cell_type": "code",
   "execution_count": 23,
   "id": "f1cea8fa-5e4e-4d2c-a8b6-46d4091fa6ce",
   "metadata": {
    "tags": []
   },
   "outputs": [
    {
     "name": "stdout",
     "output_type": "stream",
     "text": [
      "ZN 1230 1257\n",
      "MG 1177 1628\n",
      "CA 1039 1248\n",
      "FE 357 507\n",
      "NA 1086 1390\n",
      "MN 378 579\n",
      "K 398 633\n"
     ]
    }
   ],
   "source": [
    "database = {k:{} for k in ions}\n",
    "for el in ions:\n",
    "    subdf = metal_enzymes[metal_enzymes['metal_pdb_name'] == el]\n",
    "    pos_pdb = subdf.sort_values('resolution').groupby('EC_NUMBER')['pdb_chain'].nth(0)\n",
    "    pos_df = subdf[subdf['pdb_chain'].isin(pos_pdb)]\n",
    "    database[el]['pos'] = pos_df\n",
    "    \n",
    "    neg_df = metal_enzymes[(metal_enzymes['metal_pdb_name'] != el) & (~metal_enzymes['pdb_chain'].isin(pos_pdb))]\n",
    "    neg_pdb = neg_df.sort_values('resolution').groupby('EC_NUMBER')['pdb_chain'].nth(0)\n",
    "    neg_pdb = neg_pdb.sample(len(pos_pdb))\n",
    "    assert len(set(neg_pdb) & set(pos_pdb)) == 0\n",
    "    neg_df = neg_df[neg_df['pdb_chain'].isin(neg_pdb)]\n",
    "    # neg_df = neg_df.sample(len(pos_df))\n",
    "    database[el]['neg'] = neg_df\n",
    "    \n",
    "    print(el, len(pos_df), len(neg_df))"
   ]
  },
  {
   "cell_type": "code",
   "execution_count": 24,
   "id": "04538f44-3261-4412-a529-94afd870ba00",
   "metadata": {
    "tags": []
   },
   "outputs": [],
   "source": [
    "serialize(database, '../data/metal_database_balanced.pkl')"
   ]
  },
  {
   "cell_type": "markdown",
   "id": "281abcbc",
   "metadata": {},
   "source": [
    "### Create embeddings database"
   ]
  },
  {
   "cell_type": "code",
   "execution_count": 41,
   "id": "ee49a30f",
   "metadata": {},
   "outputs": [],
   "source": [
    "from sklearn.model_selection import train_test_split\n",
    "from atom3d.datasets import load_dataset\n",
    "from collapse import process_pdb, embed_protein, initialize_model, atom_info\n",
    "from torch_geometric.nn import knn_graph\n",
    "import torch"
   ]
  },
  {
   "cell_type": "code",
   "execution_count": 25,
   "id": "50a7a929",
   "metadata": {},
   "outputs": [],
   "source": [
    "database = deserialize('../data/metal_database_balanced.pkl')"
   ]
  },
  {
   "cell_type": "code",
   "execution_count": 26,
   "id": "eecb3d6f-8d99-44fb-8fc4-2d636ac5431a",
   "metadata": {},
   "outputs": [],
   "source": [
    "db = database['K']\n",
    "db_pos = db['pos']\n",
    "n_pos = len(db_pos)\n",
    "num_pos_ec = db_pos['EC_NUMBER'].unique()\n",
    "train_ec, test_ec = train_test_split(num_pos_ec, test_size=0.2, random_state=77)\n",
    "train_df = db_pos[db_pos['EC_NUMBER'].isin(train_ec)]\n",
    "test_df = db_pos[db_pos['EC_NUMBER'].isin(test_ec)]\n",
    "train_keyres = dict(train_df.groupby('pdb_chain')['interactions'].apply(lambda x: [i for i in sum(x, []) if i.split('_')[0] in aa]))\n",
    "test_keyres = dict(test_df.groupby('pdb_chain')['interactions'].apply(lambda x: [i for i in sum(x, []) if i.split('_')[0] in aa]))"
   ]
  },
  {
   "cell_type": "code",
   "execution_count": 42,
   "id": "e68119b8",
   "metadata": {},
   "outputs": [],
   "source": [
    "device = torch.device('cuda' if torch.cuda.is_available() else 'cpu')\n",
    "model = initialize_model(device=device)\n",
    "\n",
    "def compute_adjacency(df, resids, num_neighbors=8):\n",
    "    df = df[df.name == 'CA']\n",
    "    df['resid'] = df['resname'].apply(lambda x: atom_info.aa_to_letter(x)) + df['residue'].astype(str) + df['insertion_code'].astype(str).str.strip()\n",
    "    df = df[df.resid.isin(resids)]\n",
    "    edge_index = knn_graph(torch.tensor(df[['x', 'y', 'z']].to_numpy()), k=num_neighbors) # COO format\n",
    "    return edge_index.numpy()\n",
    "\n",
    "def create_graph_from_pdb(pdb_chain, pdb_dir, model, device):\n",
    "    pdb, chain = pdb_chain[:4], pdb_chain[-1]\n",
    "    atom_df = process_pdb(os.path.join(pdb_dir, pdb[1:3], f'pdb{pdb}.ent.gz'), chain=chain, include_hets=False)\n",
    "    outdata = embed_protein(atom_df.copy(), model, device=device, include_hets=False, env_radius=10.0)\n",
    "    if outdata is None:\n",
    "        return\n",
    "    outdata['adj'] = compute_adjacency(atom_df.copy(), outdata['resids'])\n",
    "    return elem"
   ]
  },
  {
   "cell_type": "code",
   "execution_count": 43,
   "id": "9b92b8fb",
   "metadata": {},
   "outputs": [
    {
     "ename": "NameError",
     "evalue": "name 'self' is not defined",
     "output_type": "error",
     "traceback": [
      "\u001b[0;31m---------------------------------------------------------------------------\u001b[0m",
      "\u001b[0;31mNameError\u001b[0m                                 Traceback (most recent call last)",
      "Cell \u001b[0;32mIn[43], line 3\u001b[0m\n\u001b[1;32m      1\u001b[0m pdb_dir \u001b[39m=\u001b[39m \u001b[39m'\u001b[39m\u001b[39m/scratch/users/aderry/pdb\u001b[39m\u001b[39m'\u001b[39m\n\u001b[1;32m      2\u001b[0m \u001b[39mfor\u001b[39;00m pdbc, res \u001b[39min\u001b[39;00m train_keyres\u001b[39m.\u001b[39mitems():\n\u001b[0;32m----> 3\u001b[0m     emb_data \u001b[39m=\u001b[39m create_graph_from_pdb(pdbc, pdb_dir, model, device)\n\u001b[1;32m      4\u001b[0m     \u001b[39mprint\u001b[39m(emb_data)\n\u001b[1;32m      5\u001b[0m     \u001b[39mbreak\u001b[39;00m\n",
      "Cell \u001b[0;32mIn[42], line 17\u001b[0m, in \u001b[0;36mcreate_graph_from_pdb\u001b[0;34m(pdb_chain, pdb_dir, model, device)\u001b[0m\n\u001b[1;32m     15\u001b[0m \u001b[39mif\u001b[39;00m outdata \u001b[39mis\u001b[39;00m \u001b[39mNone\u001b[39;00m:\n\u001b[1;32m     16\u001b[0m     \u001b[39mreturn\u001b[39;00m\n\u001b[0;32m---> 17\u001b[0m outdata[\u001b[39m'\u001b[39m\u001b[39madj\u001b[39m\u001b[39m'\u001b[39m] \u001b[39m=\u001b[39m compute_adjacency(atom_df\u001b[39m.\u001b[39;49mcopy(), outdata[\u001b[39m'\u001b[39;49m\u001b[39mresids\u001b[39;49m\u001b[39m'\u001b[39;49m])\n\u001b[1;32m     18\u001b[0m \u001b[39mreturn\u001b[39;00m elem\n",
      "Cell \u001b[0;32mIn[42], line 8\u001b[0m, in \u001b[0;36mcompute_adjacency\u001b[0;34m(df, resids)\u001b[0m\n\u001b[1;32m      6\u001b[0m df[\u001b[39m'\u001b[39m\u001b[39mresid\u001b[39m\u001b[39m'\u001b[39m] \u001b[39m=\u001b[39m df[\u001b[39m'\u001b[39m\u001b[39mresname\u001b[39m\u001b[39m'\u001b[39m]\u001b[39m.\u001b[39mapply(\u001b[39mlambda\u001b[39;00m x: atom_info\u001b[39m.\u001b[39maa_to_letter(x)) \u001b[39m+\u001b[39m df[\u001b[39m'\u001b[39m\u001b[39mresidue\u001b[39m\u001b[39m'\u001b[39m]\u001b[39m.\u001b[39mastype(\u001b[39mstr\u001b[39m) \u001b[39m+\u001b[39m df[\u001b[39m'\u001b[39m\u001b[39minsertion_code\u001b[39m\u001b[39m'\u001b[39m]\u001b[39m.\u001b[39mastype(\u001b[39mstr\u001b[39m)\u001b[39m.\u001b[39mstr\u001b[39m.\u001b[39mstrip()\n\u001b[1;32m      7\u001b[0m df \u001b[39m=\u001b[39m df[df\u001b[39m.\u001b[39mresid\u001b[39m.\u001b[39misin(resids)]\n\u001b[0;32m----> 8\u001b[0m edge_index \u001b[39m=\u001b[39m knn_graph(torch\u001b[39m.\u001b[39mtensor(df[[\u001b[39m'\u001b[39m\u001b[39mx\u001b[39m\u001b[39m'\u001b[39m, \u001b[39m'\u001b[39m\u001b[39my\u001b[39m\u001b[39m'\u001b[39m, \u001b[39m'\u001b[39m\u001b[39mz\u001b[39m\u001b[39m'\u001b[39m]]\u001b[39m.\u001b[39mto_numpy()), k\u001b[39m=\u001b[39m\u001b[39mself\u001b[39;49m\u001b[39m.\u001b[39mnum_neighbors) \u001b[39m# COO format\u001b[39;00m\n\u001b[1;32m      9\u001b[0m \u001b[39mreturn\u001b[39;00m edge_index\u001b[39m.\u001b[39mnumpy()\n",
      "\u001b[0;31mNameError\u001b[0m: name 'self' is not defined"
     ]
    }
   ],
   "source": [
    "pdb_dir = '/scratch/users/aderry/pdb'\n",
    "for pdbc, res in train_keyres.items():\n",
    "    emb_data = create_graph_from_pdb(pdbc, pdb_dir, model, device)\n",
    "    print(emb_data)\n",
    "    break"
   ]
  },
  {
   "cell_type": "code",
   "execution_count": null,
   "id": "341af090",
   "metadata": {},
   "outputs": [],
   "source": []
  }
 ],
 "metadata": {
  "kernelspec": {
   "display_name": "collapse3",
   "language": "python",
   "name": "python3"
  },
  "language_info": {
   "codemirror_mode": {
    "name": "ipython",
    "version": 3
   },
   "file_extension": ".py",
   "mimetype": "text/x-python",
   "name": "python",
   "nbconvert_exporter": "python",
   "pygments_lexer": "ipython3",
   "version": "3.9.16"
  }
 },
 "nbformat": 4,
 "nbformat_minor": 5
}
