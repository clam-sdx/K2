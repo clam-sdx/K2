{
 "cells": [
  {
   "cell_type": "code",
   "execution_count": 1,
   "id": "134ce813-e096-40e8-b788-4eb42e10cbbe",
   "metadata": {
    "tags": []
   },
   "outputs": [],
   "source": [
    "%load_ext autoreload\n",
    "%autoreload 2"
   ]
  },
  {
   "cell_type": "code",
   "execution_count": 2,
   "id": "8a1ed841-5cac-4564-b0de-dfb684fababc",
   "metadata": {
    "tags": []
   },
   "outputs": [],
   "source": [
    "import os\n",
    "import numpy as np\n",
    "import pandas as pd\n",
    "from utils import serialize, deserialize\n",
    "from collapse import atom_info"
   ]
  },
  {
   "cell_type": "code",
   "execution_count": 4,
   "id": "1145a4dd-2ba5-4668-b54f-f8bec3ff7fb9",
   "metadata": {
    "tags": []
   },
   "outputs": [],
   "source": [
    "from xml_parse import parse_xml"
   ]
  },
  {
   "cell_type": "code",
   "execution_count": 5,
   "id": "391255fb-d56f-40b5-bf2d-973046218bd1",
   "metadata": {
    "tags": []
   },
   "outputs": [],
   "source": [
    "import random\n",
    "np.random.seed(77)\n",
    "random.seed(77)"
   ]
  },
  {
   "cell_type": "code",
   "execution_count": 6,
   "id": "ebbba37f-c811-44f0-b38e-e45a71175a86",
   "metadata": {
    "tags": []
   },
   "outputs": [
    {
     "name": "stderr",
     "output_type": "stream",
     "text": [
      "100%|███████████████████████████████████████████████████████████████████████████████████████████████████| 27128801/27128801 [02:31<00:00, 178776.66it/s]\n"
     ]
    }
   ],
   "source": [
    "sites = parse_xml('../data/flat_db_file.xml')"
   ]
  },
  {
   "cell_type": "code",
   "execution_count": 7,
   "id": "e7adfce4-2e90-4742-bb29-19945c8bc71f",
   "metadata": {},
   "outputs": [],
   "source": [
    "data_list = []\n",
    "for s in sites:\n",
    "    if s.getSiteChain().getMolType() != 'protein':\n",
    "        continue\n",
    "    site_id = s.getSite()\n",
    "    pdb_id = s.getPDBid()\n",
    "    m = s.getMetal()\n",
    "    sc = s.getSiteChain()\n",
    "    \n",
    "    chain = m.getChainid()\n",
    "    metal_pdb_name = m.getAtomName()\n",
    "    # metal_pdb_atom = m.getElement()\n",
    "    metal_resname = m.getResidueName()\n",
    "    metal_resid = m.getResidueid()\n",
    "    metal_coord_num = m.getCoord()\n",
    "    site_loc = s.getSiteLoc()\n",
    "    name = sc.getMolName()\n",
    "    interactions = []\n",
    "    \n",
    "    for lig in m.getLigands():\n",
    "        if lig.getEndoExo() == 'exogenous':\n",
    "            exo = True\n",
    "        else:\n",
    "            exo = False\n",
    "        resname = lig.getResidueName()\n",
    "        resid = lig.getResidueid()\n",
    "        m_chain = lig.getChainid()\n",
    "        if resname not in atom_info.aa:\n",
    "            continue\n",
    "        if m_chain != chain:\n",
    "            continue\n",
    "        interactions.append('_'.join((resname, resid)))\n",
    "    data_list.append([site_id, pdb_id, chain, name, metal_pdb_name, metal_resname, metal_resid, metal_coord_num, site_loc, interactions])"
   ]
  },
  {
   "cell_type": "code",
   "execution_count": 8,
   "id": "0a056462-94ab-4654-b78f-792c04dab21f",
   "metadata": {
    "tags": []
   },
   "outputs": [],
   "source": [
    "metal_df = pd.DataFrame(data_list, columns=['site_id', 'pdb_id', 'chain', 'protein_name', 'metal_pdb_name', 'metal_resname', 'metal_resid', 'metal_coord_num', 'site_loc', 'interactions'])"
   ]
  },
  {
   "cell_type": "code",
   "execution_count": 10,
   "id": "412d99f0",
   "metadata": {},
   "outputs": [
    {
     "data": {
      "text/html": [
       "<div>\n",
       "<style scoped>\n",
       "    .dataframe tbody tr th:only-of-type {\n",
       "        vertical-align: middle;\n",
       "    }\n",
       "\n",
       "    .dataframe tbody tr th {\n",
       "        vertical-align: top;\n",
       "    }\n",
       "\n",
       "    .dataframe thead th {\n",
       "        text-align: right;\n",
       "    }\n",
       "</style>\n",
       "<table border=\"1\" class=\"dataframe\">\n",
       "  <thead>\n",
       "    <tr style=\"text-align: right;\">\n",
       "      <th></th>\n",
       "      <th>site_id</th>\n",
       "      <th>pdb_id</th>\n",
       "      <th>chain</th>\n",
       "      <th>protein_name</th>\n",
       "      <th>metal_pdb_name</th>\n",
       "      <th>metal_resname</th>\n",
       "      <th>metal_resid</th>\n",
       "      <th>metal_coord_num</th>\n",
       "      <th>site_loc</th>\n",
       "      <th>interactions</th>\n",
       "    </tr>\n",
       "  </thead>\n",
       "  <tbody>\n",
       "    <tr>\n",
       "      <th>36988</th>\n",
       "      <td>2c5w_1</td>\n",
       "      <td>2c5w</td>\n",
       "      <td>B</td>\n",
       "      <td>Penicillin-binding protein 1A</td>\n",
       "      <td>ZN</td>\n",
       "      <td>ZN</td>\n",
       "      <td>701</td>\n",
       "      <td>2</td>\n",
       "      <td>Within a Chain</td>\n",
       "      <td>[HIS_309]</td>\n",
       "    </tr>\n",
       "    <tr>\n",
       "      <th>36989</th>\n",
       "      <td>2c5w_2</td>\n",
       "      <td>2c5w</td>\n",
       "      <td>B</td>\n",
       "      <td>Penicillin-binding protein 1A</td>\n",
       "      <td>ZN</td>\n",
       "      <td>ZN</td>\n",
       "      <td>703</td>\n",
       "      <td>2</td>\n",
       "      <td>Within a Chain</td>\n",
       "      <td>[HIS_460]</td>\n",
       "    </tr>\n",
       "    <tr>\n",
       "      <th>36990</th>\n",
       "      <td>2c5w_3</td>\n",
       "      <td>2c5w</td>\n",
       "      <td>B</td>\n",
       "      <td>Penicillin-binding protein 1A</td>\n",
       "      <td>ZN</td>\n",
       "      <td>ZN</td>\n",
       "      <td>702</td>\n",
       "      <td>3</td>\n",
       "      <td>Within a Chain</td>\n",
       "      <td>[GLU_435, HIS_395]</td>\n",
       "    </tr>\n",
       "    <tr>\n",
       "      <th>36991</th>\n",
       "      <td>2c5w_4</td>\n",
       "      <td>2c5w</td>\n",
       "      <td>B</td>\n",
       "      <td>Penicillin-binding protein 1A</td>\n",
       "      <td>ZN</td>\n",
       "      <td>ZN</td>\n",
       "      <td>705</td>\n",
       "      <td>1</td>\n",
       "      <td>Within a Chain</td>\n",
       "      <td>[HIS_349]</td>\n",
       "    </tr>\n",
       "    <tr>\n",
       "      <th>36992</th>\n",
       "      <td>2c5w_5</td>\n",
       "      <td>2c5w</td>\n",
       "      <td>B</td>\n",
       "      <td>Penicillin-binding protein 1A</td>\n",
       "      <td>ZN</td>\n",
       "      <td>ZN</td>\n",
       "      <td>704</td>\n",
       "      <td>1</td>\n",
       "      <td>Within a Chain</td>\n",
       "      <td>[HIS_503]</td>\n",
       "    </tr>\n",
       "  </tbody>\n",
       "</table>\n",
       "</div>"
      ],
      "text/plain": [
       "      site_id pdb_id chain                   protein_name metal_pdb_name  \\\n",
       "36988  2c5w_1   2c5w     B  Penicillin-binding protein 1A             ZN   \n",
       "36989  2c5w_2   2c5w     B  Penicillin-binding protein 1A             ZN   \n",
       "36990  2c5w_3   2c5w     B  Penicillin-binding protein 1A             ZN   \n",
       "36991  2c5w_4   2c5w     B  Penicillin-binding protein 1A             ZN   \n",
       "36992  2c5w_5   2c5w     B  Penicillin-binding protein 1A             ZN   \n",
       "\n",
       "      metal_resname metal_resid metal_coord_num        site_loc  \\\n",
       "36988            ZN         701               2  Within a Chain   \n",
       "36989            ZN         703               2  Within a Chain   \n",
       "36990            ZN         702               3  Within a Chain   \n",
       "36991            ZN         705               1  Within a Chain   \n",
       "36992            ZN         704               1  Within a Chain   \n",
       "\n",
       "             interactions  \n",
       "36988           [HIS_309]  \n",
       "36989           [HIS_460]  \n",
       "36990  [GLU_435, HIS_395]  \n",
       "36991           [HIS_349]  \n",
       "36992           [HIS_503]  "
      ]
     },
     "execution_count": 10,
     "metadata": {},
     "output_type": "execute_result"
    }
   ],
   "source": [
    "metal_df[(metal_df['pdb_id'] == '2c5w') & (metal_df['metal_pdb_name'] == 'ZN')]"
   ]
  },
  {
   "cell_type": "code",
   "execution_count": 11,
   "id": "f22420ad-64bf-4711-9b34-341db0e9f6dd",
   "metadata": {
    "tags": []
   },
   "outputs": [],
   "source": [
    "metal_df = metal_df[metal_df.site_loc == 'Within a Chain']"
   ]
  },
  {
   "cell_type": "code",
   "execution_count": 18,
   "id": "ab61e062-7e71-4aac-9c49-f971bc22ba7d",
   "metadata": {},
   "outputs": [],
   "source": [
    "metal_df = metal_df.groupby(['pdb_id', 'chain', 'metal_pdb_name'])['interactions'].apply(lambda x: [subl for l in x for subl in l]).reset_index()"
   ]
  },
  {
   "cell_type": "code",
   "execution_count": 22,
   "id": "b0d1eebe-a2e9-4042-a26e-5421cec03730",
   "metadata": {},
   "outputs": [
    {
     "data": {
      "text/html": [
       "<div>\n",
       "<style scoped>\n",
       "    .dataframe tbody tr th:only-of-type {\n",
       "        vertical-align: middle;\n",
       "    }\n",
       "\n",
       "    .dataframe tbody tr th {\n",
       "        vertical-align: top;\n",
       "    }\n",
       "\n",
       "    .dataframe thead th {\n",
       "        text-align: right;\n",
       "    }\n",
       "</style>\n",
       "<table border=\"1\" class=\"dataframe\">\n",
       "  <thead>\n",
       "    <tr style=\"text-align: right;\">\n",
       "      <th></th>\n",
       "      <th>pdb_id</th>\n",
       "      <th>chain</th>\n",
       "      <th>metal_pdb_name</th>\n",
       "      <th>interactions</th>\n",
       "    </tr>\n",
       "  </thead>\n",
       "  <tbody>\n",
       "    <tr>\n",
       "      <th>21160</th>\n",
       "      <td>2c5w</td>\n",
       "      <td>B</td>\n",
       "      <td>ZN</td>\n",
       "      <td>[HIS_309, HIS_460, GLU_435, HIS_395, HIS_349, ...</td>\n",
       "    </tr>\n",
       "  </tbody>\n",
       "</table>\n",
       "</div>"
      ],
      "text/plain": [
       "      pdb_id chain metal_pdb_name  \\\n",
       "21160   2c5w     B             ZN   \n",
       "\n",
       "                                            interactions  \n",
       "21160  [HIS_309, HIS_460, GLU_435, HIS_395, HIS_349, ...  "
      ]
     },
     "execution_count": 22,
     "metadata": {},
     "output_type": "execute_result"
    }
   ],
   "source": [
    "metal_df[(metal_df['pdb_id'] == '2c5w') & (metal_df['metal_pdb_name'] == 'ZN')]"
   ]
  },
  {
   "cell_type": "code",
   "execution_count": 39,
   "id": "4eb0c697",
   "metadata": {},
   "outputs": [
    {
     "data": {
      "text/plain": [
       "Counter({3: 22394,\n",
       "         4: 21104,\n",
       "         2: 15363,\n",
       "         5: 4479,\n",
       "         8: 3372,\n",
       "         7: 2232,\n",
       "         6: 2169,\n",
       "         10: 1051,\n",
       "         9: 1014,\n",
       "         12: 663,\n",
       "         11: 410,\n",
       "         16: 281,\n",
       "         20: 263,\n",
       "         15: 231,\n",
       "         13: 203,\n",
       "         14: 183,\n",
       "         21: 98,\n",
       "         18: 94,\n",
       "         19: 77,\n",
       "         17: 56,\n",
       "         24: 32,\n",
       "         23: 27,\n",
       "         32: 24,\n",
       "         22: 14,\n",
       "         31: 12,\n",
       "         25: 9,\n",
       "         30: 9,\n",
       "         29: 8,\n",
       "         37: 8,\n",
       "         27: 7,\n",
       "         34: 6,\n",
       "         26: 5,\n",
       "         28: 5,\n",
       "         35: 4,\n",
       "         42: 3,\n",
       "         36: 3,\n",
       "         33: 3,\n",
       "         48: 3,\n",
       "         51: 2,\n",
       "         40: 2,\n",
       "         39: 1,\n",
       "         56: 1,\n",
       "         49: 1,\n",
       "         46: 1,\n",
       "         69: 1,\n",
       "         60: 1})"
      ]
     },
     "execution_count": 39,
     "metadata": {},
     "output_type": "execute_result"
    }
   ],
   "source": [
    "import collections as col\n",
    "col.Counter(metal_df.interactions.apply(len))"
   ]
  },
  {
   "cell_type": "code",
   "execution_count": 21,
   "id": "cfdb93fa",
   "metadata": {},
   "outputs": [],
   "source": [
    "metal_df = metal_df[metal_df.interactions.apply(len) > 1]"
   ]
  },
  {
   "cell_type": "code",
   "execution_count": 23,
   "id": "85715a9e-147a-4268-94da-68fee83fa378",
   "metadata": {
    "tags": []
   },
   "outputs": [],
   "source": [
    "metal_df['pdb_chain'] = metal_df['pdb_id'] + metal_df['chain']"
   ]
  },
  {
   "cell_type": "code",
   "execution_count": 24,
   "id": "4e17a377-d308-4ced-b241-98050d223530",
   "metadata": {},
   "outputs": [],
   "source": [
    "pdb_ec = pd.read_csv('../data/pdb_chain_enzyme.csv', skiprows=1)"
   ]
  },
  {
   "cell_type": "code",
   "execution_count": 25,
   "id": "d934a811-7f2f-43f2-ae26-5de8c3c17015",
   "metadata": {
    "tags": []
   },
   "outputs": [],
   "source": [
    "pdb_ec['pdb_chain'] = pdb_ec['PDB'] + pdb_ec['CHAIN']"
   ]
  },
  {
   "cell_type": "code",
   "execution_count": 26,
   "id": "6df009c7-1e65-4f2b-b32f-adc0475b9652",
   "metadata": {
    "tags": []
   },
   "outputs": [],
   "source": [
    "metal_df = pd.merge(metal_df, pdb_ec[['pdb_chain', 'EC_NUMBER']], how='left')"
   ]
  },
  {
   "cell_type": "code",
   "execution_count": 42,
   "id": "65a2f8fd-34a9-42b6-9d2c-1c3053cf290a",
   "metadata": {},
   "outputs": [],
   "source": [
    "import json\n",
    "with open('../../pdb/pdb_to_cath.json', 'r') as f:\n",
    "    pdb_to_cath = json.load(f)"
   ]
  },
  {
   "cell_type": "code",
   "execution_count": 84,
   "id": "6bbd4ddb-71be-4fe9-8898-9c37f96c6191",
   "metadata": {},
   "outputs": [],
   "source": [
    "import collections as col\n",
    "cath_to_pdb = col.defaultdict(list)\n",
    "for p, cathlist in pdb_to_cath.items():\n",
    "    for c in cathlist:\n",
    "        cath_to_pdb[c].append(p)"
   ]
  },
  {
   "cell_type": "code",
   "execution_count": 44,
   "id": "8bc5f411-cda8-44b2-9bec-485174dfd1fc",
   "metadata": {},
   "outputs": [],
   "source": [
    "metal_df['CATH'] = metal_df['pdb_id'].map(pdb_to_cath)"
   ]
  },
  {
   "cell_type": "code",
   "execution_count": 57,
   "id": "fd47cdf7-d297-4070-9f12-58e5f614a713",
   "metadata": {},
   "outputs": [],
   "source": [
    "metal_single_domain = metal_df[metal_df['CATH'].apply(lambda x: len(x) if isinstance(x, list) else 0) == 1]\n",
    "metal_single_domain['CATH'] = [x[0] for x in metal_single_domain['CATH']]"
   ]
  },
  {
   "cell_type": "code",
   "execution_count": 79,
   "id": "77e28ed7-fd7d-4ee1-b810-c8ec1a6b3e22",
   "metadata": {},
   "outputs": [
    {
     "data": {
      "text/html": [
       "<div>\n",
       "<style scoped>\n",
       "    .dataframe tbody tr th:only-of-type {\n",
       "        vertical-align: middle;\n",
       "    }\n",
       "\n",
       "    .dataframe tbody tr th {\n",
       "        vertical-align: top;\n",
       "    }\n",
       "\n",
       "    .dataframe thead th {\n",
       "        text-align: right;\n",
       "    }\n",
       "</style>\n",
       "<table border=\"1\" class=\"dataframe\">\n",
       "  <thead>\n",
       "    <tr style=\"text-align: right;\">\n",
       "      <th></th>\n",
       "      <th>count_x</th>\n",
       "      <th>count_y</th>\n",
       "    </tr>\n",
       "    <tr>\n",
       "      <th>EC_NUMBER</th>\n",
       "      <th></th>\n",
       "      <th></th>\n",
       "    </tr>\n",
       "  </thead>\n",
       "  <tbody>\n",
       "    <tr>\n",
       "      <th>4.2.1.1</th>\n",
       "      <td>957</td>\n",
       "      <td>171</td>\n",
       "    </tr>\n",
       "    <tr>\n",
       "      <th>2.3.2.27</th>\n",
       "      <td>352</td>\n",
       "      <td>9</td>\n",
       "    </tr>\n",
       "    <tr>\n",
       "      <th>1.15.1.1</th>\n",
       "      <td>307</td>\n",
       "      <td>265</td>\n",
       "    </tr>\n",
       "    <tr>\n",
       "      <th>3.4.24.-</th>\n",
       "      <td>189</td>\n",
       "      <td>180</td>\n",
       "    </tr>\n",
       "    <tr>\n",
       "      <th>1.14.11.66</th>\n",
       "      <td>160</td>\n",
       "      <td>126</td>\n",
       "    </tr>\n",
       "    <tr>\n",
       "      <th>...</th>\n",
       "      <td>...</td>\n",
       "      <td>...</td>\n",
       "    </tr>\n",
       "    <tr>\n",
       "      <th>6.5.1.1</th>\n",
       "      <td>1</td>\n",
       "      <td>2</td>\n",
       "    </tr>\n",
       "    <tr>\n",
       "      <th>7.1.1.9</th>\n",
       "      <td>1</td>\n",
       "      <td>1</td>\n",
       "    </tr>\n",
       "    <tr>\n",
       "      <th>2.4.1.33</th>\n",
       "      <td>1</td>\n",
       "      <td>1</td>\n",
       "    </tr>\n",
       "    <tr>\n",
       "      <th>3.4.24.55</th>\n",
       "      <td>1</td>\n",
       "      <td>1</td>\n",
       "    </tr>\n",
       "    <tr>\n",
       "      <th>2.3.1.-</th>\n",
       "      <td>1</td>\n",
       "      <td>17</td>\n",
       "    </tr>\n",
       "  </tbody>\n",
       "</table>\n",
       "<p>239 rows × 2 columns</p>\n",
       "</div>"
      ],
      "text/plain": [
       "            count_x  count_y\n",
       "EC_NUMBER                   \n",
       "4.2.1.1         957      171\n",
       "2.3.2.27        352        9\n",
       "1.15.1.1        307      265\n",
       "3.4.24.-        189      180\n",
       "1.14.11.66      160      126\n",
       "...             ...      ...\n",
       "6.5.1.1           1        2\n",
       "7.1.1.9           1        1\n",
       "2.4.1.33          1        1\n",
       "3.4.24.55         1        1\n",
       "2.3.1.-           1       17\n",
       "\n",
       "[239 rows x 2 columns]"
      ]
     },
     "execution_count": 79,
     "metadata": {},
     "output_type": "execute_result"
    }
   ],
   "source": [
    "pd.merge(metal_single_domain[metal_single_domain.metal_pdb_name == 'ZN'].value_counts('EC_NUMBER'), metal_single_domain[metal_single_domain.metal_pdb_name != 'ZN'].value_counts('EC_NUMBER'), left_index=True, right_index=True)"
   ]
  },
  {
   "cell_type": "code",
   "execution_count": 92,
   "id": "927e374a-e1ce-4411-84d2-03e1ecc4b2ba",
   "metadata": {},
   "outputs": [],
   "source": [
    "zn_single_domain = metal_single_domain[(metal_single_domain['metal_pdb_name'] == 'ZN') & ~metal_single_domain['EC_NUMBER'].isna()]"
   ]
  },
  {
   "cell_type": "code",
   "execution_count": 93,
   "id": "7ee792d0-9fe6-4e0d-a260-0d971d8c8ee1",
   "metadata": {},
   "outputs": [
    {
     "name": "stdout",
     "output_type": "stream",
     "text": [
      "      pdb_chain          CATH EC_NUMBER      interactions\n",
      "58753     4zyaA  1.10.10.1430  6.1.1.22  [GLU_39, HIS_71]\n",
      "58754     4zyaB  1.10.10.1430  6.1.1.22  [HIS_71, GLU_39]\n",
      "['2kqr']\n"
     ]
    }
   ],
   "source": [
    "for cath, df in zn_single_domain.groupby('CATH'):\n",
    "    print(df[['pdb_chain', 'CATH', 'EC_NUMBER', 'interactions']])\n",
    "    pdb_matches = cath_to_pdb[cath]\n",
    "    other_pdb = list(set(pdb_matches) - set(df['pdb_id'].tolist()))\n",
    "    print(other_pdb[:5])\n",
    "    break"
   ]
  },
  {
   "cell_type": "code",
   "execution_count": 27,
   "id": "bfd7cd08-c39e-4d7b-97a2-4a853e96b8ef",
   "metadata": {
    "tags": []
   },
   "outputs": [],
   "source": [
    "metal_enzymes = metal_df[~metal_df['EC_NUMBER'].isna()]\n",
    "metal_enzymes = metal_enzymes[metal_enzymes['metal_pdb_name'] != '']"
   ]
  },
  {
   "cell_type": "code",
   "execution_count": 28,
   "id": "304f82ea-c896-4881-b959-bc8c826c12c6",
   "metadata": {
    "tags": []
   },
   "outputs": [
    {
     "data": {
      "text/plain": [
       "metal_pdb_name\n",
       "ZN    15088\n",
       "MG     9371\n",
       "CA     8009\n",
       "NA     5006\n",
       "FE     3287\n",
       "MN     3012\n",
       "K      2081\n",
       "CU     1339\n",
       "Name: count, dtype: int64"
      ]
     },
     "execution_count": 28,
     "metadata": {},
     "output_type": "execute_result"
    }
   ],
   "source": [
    "metal_enzymes.metal_pdb_name.value_counts()[:8]"
   ]
  },
  {
   "cell_type": "code",
   "execution_count": 37,
   "id": "a7b591f5-7b63-4517-8301-b941dac90451",
   "metadata": {},
   "outputs": [
    {
     "data": {
      "text/html": [
       "<div>\n",
       "<style scoped>\n",
       "    .dataframe tbody tr th:only-of-type {\n",
       "        vertical-align: middle;\n",
       "    }\n",
       "\n",
       "    .dataframe tbody tr th {\n",
       "        vertical-align: top;\n",
       "    }\n",
       "\n",
       "    .dataframe thead th {\n",
       "        text-align: right;\n",
       "    }\n",
       "</style>\n",
       "<table border=\"1\" class=\"dataframe\">\n",
       "  <thead>\n",
       "    <tr style=\"text-align: right;\">\n",
       "      <th></th>\n",
       "      <th>pdb_id</th>\n",
       "      <th>chain</th>\n",
       "      <th>metal_pdb_name</th>\n",
       "      <th>interactions</th>\n",
       "      <th>pdb_chain</th>\n",
       "      <th>EC_NUMBER</th>\n",
       "      <th>resolution</th>\n",
       "    </tr>\n",
       "  </thead>\n",
       "  <tbody>\n",
       "    <tr>\n",
       "      <th>15087</th>\n",
       "      <td>2c5w</td>\n",
       "      <td>B</td>\n",
       "      <td>ZN</td>\n",
       "      <td>[HIS_309, HIS_460, GLU_435, HIS_395, HIS_349, ...</td>\n",
       "      <td>2c5wB</td>\n",
       "      <td>2.4.1.129</td>\n",
       "      <td>2.55</td>\n",
       "    </tr>\n",
       "    <tr>\n",
       "      <th>15088</th>\n",
       "      <td>2c5w</td>\n",
       "      <td>B</td>\n",
       "      <td>ZN</td>\n",
       "      <td>[HIS_309, HIS_460, GLU_435, HIS_395, HIS_349, ...</td>\n",
       "      <td>2c5wB</td>\n",
       "      <td>3.4.16.4</td>\n",
       "      <td>2.55</td>\n",
       "    </tr>\n",
       "  </tbody>\n",
       "</table>\n",
       "</div>"
      ],
      "text/plain": [
       "      pdb_id chain metal_pdb_name  \\\n",
       "15087   2c5w     B             ZN   \n",
       "15088   2c5w     B             ZN   \n",
       "\n",
       "                                            interactions pdb_chain  EC_NUMBER  \\\n",
       "15087  [HIS_309, HIS_460, GLU_435, HIS_395, HIS_349, ...     2c5wB  2.4.1.129   \n",
       "15088  [HIS_309, HIS_460, GLU_435, HIS_395, HIS_349, ...     2c5wB   3.4.16.4   \n",
       "\n",
       "       resolution  \n",
       "15087        2.55  \n",
       "15088        2.55  "
      ]
     },
     "execution_count": 37,
     "metadata": {},
     "output_type": "execute_result"
    }
   ],
   "source": [
    "metal_enzymes[(metal_enzymes['pdb_id'] == '2c5w') & (metal_enzymes['metal_pdb_name'] == 'ZN')]"
   ]
  },
  {
   "cell_type": "code",
   "execution_count": 41,
   "id": "43d95c44-7bea-49fd-8714-4c4d52fdf310",
   "metadata": {},
   "outputs": [
    {
     "data": {
      "text/plain": [
       "EC_NUMBER\n",
       "1.-.-.-      [PT, FE, ZN, NA, NI, CA, CU]\n",
       "1.1.1.-      [NA, ZN, FE, CD, MG, CA, MN]\n",
       "1.1.1.1       [ZN, CA, CD, K, FE, CU, CO]\n",
       "1.1.1.100            [CA, CS, MG, NI, NA]\n",
       "1.1.1.103                    [ZN, CA, NA]\n",
       "                         ...             \n",
       "7.6.2.-                          [NA, MG]\n",
       "7.6.2.1                          [HG, MG]\n",
       "7.6.2.2                          [MG, HG]\n",
       "7.6.2.3                              [MG]\n",
       "7.6.2.8                              [MG]\n",
       "Name: metal_pdb_name, Length: 1874, dtype: object"
      ]
     },
     "execution_count": 41,
     "metadata": {},
     "output_type": "execute_result"
    }
   ],
   "source": [
    "metal_enzymes.groupby('EC_NUMBER')['metal_pdb_name'].unique()"
   ]
  },
  {
   "cell_type": "code",
   "execution_count": 29,
   "id": "8498798a-3802-49f3-b45a-8d0f948882ff",
   "metadata": {
    "tags": []
   },
   "outputs": [],
   "source": [
    "pdb_resol = {}\n",
    "with open('../data/resolu.idx') as f:\n",
    "    for line in f:\n",
    "        l = [x.strip() for x in line.strip().split(';')]\n",
    "        if (len(l) != 2) or (l[1] == ''):\n",
    "            continue\n",
    "        pdb_resol[l[0]] = float(l[1])"
   ]
  },
  {
   "cell_type": "code",
   "execution_count": 30,
   "id": "1992af6d-7835-4e94-ae67-febe1fcb78b3",
   "metadata": {
    "tags": []
   },
   "outputs": [],
   "source": [
    "metal_enzymes['resolution'] = metal_enzymes['pdb_id'].apply(lambda x: pdb_resol.get(x.upper()))"
   ]
  },
  {
   "cell_type": "code",
   "execution_count": 31,
   "id": "5e8b6691-0aa4-4a0f-90f7-62c29a104c21",
   "metadata": {
    "tags": []
   },
   "outputs": [],
   "source": [
    "ions = ['ZN', 'MG', 'CA', 'FE', 'NA', 'MN', 'K']"
   ]
  },
  {
   "cell_type": "code",
   "execution_count": 32,
   "id": "f1cea8fa-5e4e-4d2c-a8b6-46d4091fa6ce",
   "metadata": {
    "tags": []
   },
   "outputs": [
    {
     "name": "stdout",
     "output_type": "stream",
     "text": [
      "ZN 756 867\n",
      "MG 776 883\n",
      "CA 660 781\n",
      "FE 228 292\n",
      "NA 677 844\n",
      "MN 295 353\n",
      "K 276 372\n"
     ]
    }
   ],
   "source": [
    "database = {k:{} for k in ions}\n",
    "for el in ions:\n",
    "    subdf = metal_enzymes[metal_enzymes['metal_pdb_name'] == el]\n",
    "    pos_pdb = subdf.sort_values('resolution').groupby('EC_NUMBER')['pdb_chain'].nth(0)\n",
    "    pos_df = subdf[subdf['pdb_chain'].isin(pos_pdb)]\n",
    "    database[el]['pos'] = pos_df\n",
    "    \n",
    "    neg_df = metal_enzymes[(metal_enzymes['metal_pdb_name'] != el) & (~metal_enzymes['pdb_chain'].isin(pos_pdb))]\n",
    "    neg_pdb = neg_df.sort_values('resolution').groupby('EC_NUMBER')['pdb_chain'].nth(0)\n",
    "    neg_pdb = neg_pdb.sample(len(pos_pdb))\n",
    "    assert len(set(neg_pdb) & set(pos_pdb)) == 0\n",
    "    neg_df = neg_df[neg_df['pdb_chain'].isin(neg_pdb)]\n",
    "    # neg_df = neg_df.sample(len(pos_df))\n",
    "    database[el]['neg'] = neg_df\n",
    "    \n",
    "    print(el, len(pos_df), len(neg_df))"
   ]
  },
  {
   "cell_type": "code",
   "execution_count": 33,
   "id": "04538f44-3261-4412-a529-94afd870ba00",
   "metadata": {
    "tags": []
   },
   "outputs": [],
   "source": [
    "serialize(database, '../data/metal_database_balanced_2.pkl')"
   ]
  },
  {
   "cell_type": "markdown",
   "id": "281abcbc",
   "metadata": {},
   "source": [
    "### Create embeddings database"
   ]
  },
  {
   "cell_type": "code",
   "execution_count": 34,
   "id": "ee49a30f",
   "metadata": {},
   "outputs": [],
   "source": [
    "from sklearn.model_selection import train_test_split\n",
    "from atom3d.datasets import load_dataset\n",
    "from collapse import process_pdb, embed_protein, initialize_model, atom_info\n",
    "from torch_geometric.nn import knn_graph\n",
    "import torch"
   ]
  },
  {
   "cell_type": "code",
   "execution_count": 35,
   "id": "50a7a929",
   "metadata": {},
   "outputs": [],
   "source": [
    "database = deserialize('../data/metal_database_balanced_2.pkl')"
   ]
  },
  {
   "cell_type": "code",
   "execution_count": 36,
   "id": "208e1669",
   "metadata": {},
   "outputs": [
    {
     "data": {
      "text/html": [
       "<div>\n",
       "<style scoped>\n",
       "    .dataframe tbody tr th:only-of-type {\n",
       "        vertical-align: middle;\n",
       "    }\n",
       "\n",
       "    .dataframe tbody tr th {\n",
       "        vertical-align: top;\n",
       "    }\n",
       "\n",
       "    .dataframe thead th {\n",
       "        text-align: right;\n",
       "    }\n",
       "</style>\n",
       "<table border=\"1\" class=\"dataframe\">\n",
       "  <thead>\n",
       "    <tr style=\"text-align: right;\">\n",
       "      <th></th>\n",
       "      <th>pdb_id</th>\n",
       "      <th>chain</th>\n",
       "      <th>metal_pdb_name</th>\n",
       "      <th>interactions</th>\n",
       "      <th>pdb_chain</th>\n",
       "      <th>EC_NUMBER</th>\n",
       "      <th>resolution</th>\n",
       "    </tr>\n",
       "  </thead>\n",
       "  <tbody>\n",
       "    <tr>\n",
       "      <th>15087</th>\n",
       "      <td>2c5w</td>\n",
       "      <td>B</td>\n",
       "      <td>ZN</td>\n",
       "      <td>[HIS_309, HIS_460, GLU_435, HIS_395, HIS_349, ...</td>\n",
       "      <td>2c5wB</td>\n",
       "      <td>2.4.1.129</td>\n",
       "      <td>2.55</td>\n",
       "    </tr>\n",
       "    <tr>\n",
       "      <th>15088</th>\n",
       "      <td>2c5w</td>\n",
       "      <td>B</td>\n",
       "      <td>ZN</td>\n",
       "      <td>[HIS_309, HIS_460, GLU_435, HIS_395, HIS_349, ...</td>\n",
       "      <td>2c5wB</td>\n",
       "      <td>3.4.16.4</td>\n",
       "      <td>2.55</td>\n",
       "    </tr>\n",
       "  </tbody>\n",
       "</table>\n",
       "</div>"
      ],
      "text/plain": [
       "      pdb_id chain metal_pdb_name  \\\n",
       "15087   2c5w     B             ZN   \n",
       "15088   2c5w     B             ZN   \n",
       "\n",
       "                                            interactions pdb_chain  EC_NUMBER  \\\n",
       "15087  [HIS_309, HIS_460, GLU_435, HIS_395, HIS_349, ...     2c5wB  2.4.1.129   \n",
       "15088  [HIS_309, HIS_460, GLU_435, HIS_395, HIS_349, ...     2c5wB   3.4.16.4   \n",
       "\n",
       "       resolution  \n",
       "15087        2.55  \n",
       "15088        2.55  "
      ]
     },
     "execution_count": 36,
     "metadata": {},
     "output_type": "execute_result"
    }
   ],
   "source": [
    "db = database['ZN']\n",
    "db_pos = db['pos']\n",
    "db_pos[db_pos['pdb_id']=='2c5w']"
   ]
  },
  {
   "cell_type": "code",
   "execution_count": 38,
   "id": "c4130656-d75b-4766-93db-a9047ca52414",
   "metadata": {},
   "outputs": [
    {
     "data": {
      "text/html": [
       "<div>\n",
       "<style scoped>\n",
       "    .dataframe tbody tr th:only-of-type {\n",
       "        vertical-align: middle;\n",
       "    }\n",
       "\n",
       "    .dataframe tbody tr th {\n",
       "        vertical-align: top;\n",
       "    }\n",
       "\n",
       "    .dataframe thead th {\n",
       "        text-align: right;\n",
       "    }\n",
       "</style>\n",
       "<table border=\"1\" class=\"dataframe\">\n",
       "  <thead>\n",
       "    <tr style=\"text-align: right;\">\n",
       "      <th></th>\n",
       "      <th>pdb_id</th>\n",
       "      <th>chain</th>\n",
       "      <th>metal_pdb_name</th>\n",
       "      <th>interactions</th>\n",
       "      <th>pdb_chain</th>\n",
       "      <th>EC_NUMBER</th>\n",
       "      <th>resolution</th>\n",
       "    </tr>\n",
       "  </thead>\n",
       "  <tbody>\n",
       "    <tr>\n",
       "      <th>41</th>\n",
       "      <td>1a2p</td>\n",
       "      <td>C</td>\n",
       "      <td>ZN</td>\n",
       "      <td>[LYS_62, GLU_60]</td>\n",
       "      <td>1a2pC</td>\n",
       "      <td>3.1.27.-</td>\n",
       "      <td>1.50</td>\n",
       "    </tr>\n",
       "    <tr>\n",
       "      <th>241</th>\n",
       "      <td>1ak0</td>\n",
       "      <td>A</td>\n",
       "      <td>ZN</td>\n",
       "      <td>[GLU_181, HIS_15]</td>\n",
       "      <td>1ak0A</td>\n",
       "      <td>3.1.30.1</td>\n",
       "      <td>1.80</td>\n",
       "    </tr>\n",
       "    <tr>\n",
       "      <th>373</th>\n",
       "      <td>1atl</td>\n",
       "      <td>A</td>\n",
       "      <td>ZN</td>\n",
       "      <td>[HIS_142, HIS_146, HIS_152]</td>\n",
       "      <td>1atlA</td>\n",
       "      <td>3.4.24.42</td>\n",
       "      <td>1.80</td>\n",
       "    </tr>\n",
       "    <tr>\n",
       "      <th>427</th>\n",
       "      <td>1aye</td>\n",
       "      <td>A</td>\n",
       "      <td>ZN</td>\n",
       "      <td>[GLU_72, HIS_196, HIS_69]</td>\n",
       "      <td>1ayeA</td>\n",
       "      <td>3.4.17.15</td>\n",
       "      <td>1.80</td>\n",
       "    </tr>\n",
       "    <tr>\n",
       "      <th>768</th>\n",
       "      <td>1bqb</td>\n",
       "      <td>A</td>\n",
       "      <td>ZN</td>\n",
       "      <td>[HIS_148, GLU_168, HIS_144]</td>\n",
       "      <td>1bqbA</td>\n",
       "      <td>3.4.24.29</td>\n",
       "      <td>1.72</td>\n",
       "    </tr>\n",
       "    <tr>\n",
       "      <th>...</th>\n",
       "      <td>...</td>\n",
       "      <td>...</td>\n",
       "      <td>...</td>\n",
       "      <td>...</td>\n",
       "      <td>...</td>\n",
       "      <td>...</td>\n",
       "      <td>...</td>\n",
       "    </tr>\n",
       "    <tr>\n",
       "      <th>75065</th>\n",
       "      <td>6h0t</td>\n",
       "      <td>A</td>\n",
       "      <td>ZN</td>\n",
       "      <td>[HIS_168, HIS_48, SER_194, GLU_78, ASP_77, ASP...</td>\n",
       "      <td>6h0tA</td>\n",
       "      <td>3.1.1.6</td>\n",
       "      <td>1.90</td>\n",
       "    </tr>\n",
       "    <tr>\n",
       "      <th>75177</th>\n",
       "      <td>6h9j</td>\n",
       "      <td>A</td>\n",
       "      <td>ZN</td>\n",
       "      <td>[ASP_201, HIS_279, HIS_199]</td>\n",
       "      <td>6h9jA</td>\n",
       "      <td>1.14.11.30</td>\n",
       "      <td>1.83</td>\n",
       "    </tr>\n",
       "    <tr>\n",
       "      <th>75178</th>\n",
       "      <td>6h9j</td>\n",
       "      <td>A</td>\n",
       "      <td>ZN</td>\n",
       "      <td>[ASP_201, HIS_279, HIS_199]</td>\n",
       "      <td>6h9jA</td>\n",
       "      <td>1.14.11.n4</td>\n",
       "      <td>1.83</td>\n",
       "    </tr>\n",
       "    <tr>\n",
       "      <th>75419</th>\n",
       "      <td>6j4t</td>\n",
       "      <td>A</td>\n",
       "      <td>ZN</td>\n",
       "      <td>[ASN_295, HIS_240, HIS_15, HIS_217, HIS_13]</td>\n",
       "      <td>6j4tA</td>\n",
       "      <td>3.5.4.-</td>\n",
       "      <td>1.82</td>\n",
       "    </tr>\n",
       "    <tr>\n",
       "      <th>75846</th>\n",
       "      <td>7mdh</td>\n",
       "      <td>A</td>\n",
       "      <td>ZN</td>\n",
       "      <td>[LYS_363, ASP_321, GLU_372, GLU_121, GLU_118, ...</td>\n",
       "      <td>7mdhA</td>\n",
       "      <td>1.1.1.82</td>\n",
       "      <td>2.40</td>\n",
       "    </tr>\n",
       "  </tbody>\n",
       "</table>\n",
       "<p>756 rows × 7 columns</p>\n",
       "</div>"
      ],
      "text/plain": [
       "      pdb_id chain metal_pdb_name  \\\n",
       "41      1a2p     C             ZN   \n",
       "241     1ak0     A             ZN   \n",
       "373     1atl     A             ZN   \n",
       "427     1aye     A             ZN   \n",
       "768     1bqb     A             ZN   \n",
       "...      ...   ...            ...   \n",
       "75065   6h0t     A             ZN   \n",
       "75177   6h9j     A             ZN   \n",
       "75178   6h9j     A             ZN   \n",
       "75419   6j4t     A             ZN   \n",
       "75846   7mdh     A             ZN   \n",
       "\n",
       "                                            interactions pdb_chain  \\\n",
       "41                                      [LYS_62, GLU_60]     1a2pC   \n",
       "241                                    [GLU_181, HIS_15]     1ak0A   \n",
       "373                          [HIS_142, HIS_146, HIS_152]     1atlA   \n",
       "427                            [GLU_72, HIS_196, HIS_69]     1ayeA   \n",
       "768                          [HIS_148, GLU_168, HIS_144]     1bqbA   \n",
       "...                                                  ...       ...   \n",
       "75065  [HIS_168, HIS_48, SER_194, GLU_78, ASP_77, ASP...     6h0tA   \n",
       "75177                        [ASP_201, HIS_279, HIS_199]     6h9jA   \n",
       "75178                        [ASP_201, HIS_279, HIS_199]     6h9jA   \n",
       "75419        [ASN_295, HIS_240, HIS_15, HIS_217, HIS_13]     6j4tA   \n",
       "75846  [LYS_363, ASP_321, GLU_372, GLU_121, GLU_118, ...     7mdhA   \n",
       "\n",
       "        EC_NUMBER  resolution  \n",
       "41       3.1.27.-        1.50  \n",
       "241      3.1.30.1        1.80  \n",
       "373     3.4.24.42        1.80  \n",
       "427     3.4.17.15        1.80  \n",
       "768     3.4.24.29        1.72  \n",
       "...           ...         ...  \n",
       "75065     3.1.1.6        1.90  \n",
       "75177  1.14.11.30        1.83  \n",
       "75178  1.14.11.n4        1.83  \n",
       "75419     3.5.4.-        1.82  \n",
       "75846    1.1.1.82        2.40  \n",
       "\n",
       "[756 rows x 7 columns]"
      ]
     },
     "execution_count": 38,
     "metadata": {},
     "output_type": "execute_result"
    }
   ],
   "source": [
    "db_pos"
   ]
  },
  {
   "cell_type": "code",
   "execution_count": 52,
   "id": "ebf81e63",
   "metadata": {},
   "outputs": [
    {
     "name": "stderr",
     "output_type": "stream",
     "text": [
      "--2023-09-17 19:03:56--  https://files.rcsb.org/download/1atl.cif\n",
      "Resolving files.rcsb.org (files.rcsb.org)... 132.249.210.234\n",
      "Connecting to files.rcsb.org (files.rcsb.org)|132.249.210.234|:443... connected.\n",
      "HTTP request sent, awaiting response... 200 OK\n",
      "Length: unspecified [application/octet-stream]\n",
      "Saving to: ‘../data/pdb/1atl.cif’\n",
      "\n",
      "     0K .......... .......... .......... .......... .......... 2.05M\n",
      "    50K .......... .......... .......... .......... .......... 4.02M\n",
      "   100K .......... .......... .......... .......... ..........  128M\n",
      "   150K .......... .......... .......... .......... ..........  119M\n",
      "   200K .......... .......... .......... .......... .......... 4.29M\n",
      "   250K .......... .......... .......... .......... ..........  121M\n",
      "   300K .......... .......... .......... .......... ..........  102M\n",
      "   350K .......... .                                            139M=0.05s\n",
      "\n",
      "2023-09-17 19:03:56 (7.17 MB/s) - ‘../data/pdb/1atl.cif’ saved [369667]\n",
      "\n"
     ]
    }
   ],
   "source": [
    "for p in list(db['pos']['pdb_id'].unique()) + list(db['neg']['pdb_id'].unique()):\n",
    "    if not os.path.exists('../data/pdb/' + p + '.cif'):\n",
    "        os.system('wget https://files.rcsb.org/download/' + p + '.cif -O ../data/pdb/' + p + '.cif')\n",
    "    break"
   ]
  },
  {
   "cell_type": "code",
   "execution_count": 75,
   "id": "5eb48bf7",
   "metadata": {},
   "outputs": [],
   "source": [
    "import atom3d.util.formats as fo\n",
    "from atom3d.filters.filters import first_model_filter\n",
    "def process_pdb(pdb_file, chain=None, include_hets=True):\n",
    "    atoms = fo.bp_to_df(fo.read_mmcif(pdb_file, name=None, auth_residues=False))\n",
    "    atoms = first_model_filter(atoms)\n",
    "    if chain:\n",
    "        atoms = atoms[atoms.chain == chain]\n",
    "    atoms = atoms[atoms.resname != 'HOH']\n",
    "    atoms = atoms[atoms.element != 'H'].reset_index(drop=True)\n",
    "    if not include_hets:\n",
    "        atoms = atoms[atoms.resname.isin(atom_info.aa)].reset_index(drop=True)\n",
    "    return atoms"
   ]
  },
  {
   "cell_type": "code",
   "execution_count": 76,
   "id": "7d11fba7",
   "metadata": {},
   "outputs": [
    {
     "ename": "TypeError",
     "evalue": "'type' object cannot be interpreted as an integer",
     "output_type": "error",
     "traceback": [
      "\u001b[0;31m---------------------------------------------------------------------------\u001b[0m",
      "\u001b[0;31mTypeError\u001b[0m                                 Traceback (most recent call last)",
      "Cell \u001b[0;32mIn[76], line 1\u001b[0m\n\u001b[0;32m----> 1\u001b[0m process_pdb(\u001b[39m'\u001b[39;49m\u001b[39m../data/pdb/2kpn.cif\u001b[39;49m\u001b[39m'\u001b[39;49m, chain\u001b[39m=\u001b[39;49m\u001b[39m'\u001b[39;49m\u001b[39mA\u001b[39;49m\u001b[39m'\u001b[39;49m, include_hets\u001b[39m=\u001b[39;49m\u001b[39mFalse\u001b[39;49;00m)\u001b[39m.\u001b[39mhead()\u001b[39m#[['resname', 'residue']].iloc[:20]\u001b[39;00m\n",
      "Cell \u001b[0;32mIn[75], line 4\u001b[0m, in \u001b[0;36mprocess_pdb\u001b[0;34m(pdb_file, chain, include_hets)\u001b[0m\n\u001b[1;32m      3\u001b[0m \u001b[39mdef\u001b[39;00m \u001b[39mprocess_pdb\u001b[39m(pdb_file, chain\u001b[39m=\u001b[39m\u001b[39mNone\u001b[39;00m, include_hets\u001b[39m=\u001b[39m\u001b[39mTrue\u001b[39;00m):\n\u001b[0;32m----> 4\u001b[0m     atoms \u001b[39m=\u001b[39m fo\u001b[39m.\u001b[39mbp_to_df(fo\u001b[39m.\u001b[39;49mread_mmcif(pdb_file, name\u001b[39m=\u001b[39;49m\u001b[39mNone\u001b[39;49;00m, auth_residues\u001b[39m=\u001b[39;49m\u001b[39mFalse\u001b[39;49;00m))\n\u001b[1;32m      5\u001b[0m     atoms \u001b[39m=\u001b[39m first_model_filter(atoms)\n\u001b[1;32m      6\u001b[0m     \u001b[39mif\u001b[39;00m chain:\n",
      "File \u001b[0;32m/oak/stanford/groups/rbaltman/aderry/atom3d/atom3d/atom3d/util/formats.py:291\u001b[0m, in \u001b[0;36mread_mmcif\u001b[0;34m(mmcif_file, name, auth_residues)\u001b[0m\n\u001b[1;32m    289\u001b[0m     name \u001b[39m=\u001b[39m os\u001b[39m.\u001b[39mpath\u001b[39m.\u001b[39mbasename(mmcif_file)\n\u001b[1;32m    290\u001b[0m parser \u001b[39m=\u001b[39m Bio\u001b[39m.\u001b[39mPDB\u001b[39m.\u001b[39mMMCIFParser(QUIET\u001b[39m=\u001b[39m\u001b[39mTrue\u001b[39;00m, auth_residues\u001b[39m=\u001b[39mauth_residues)\n\u001b[0;32m--> 291\u001b[0m \u001b[39mreturn\u001b[39;00m parser\u001b[39m.\u001b[39;49mget_structure(name, mmcif_file)\n",
      "File \u001b[0;32m/oak/stanford/groups/rbaltman/aderry/miniconda3/envs/collapse3/lib/python3.9/site-packages/Bio/PDB/MMCIFParser.py:74\u001b[0m, in \u001b[0;36mMMCIFParser.get_structure\u001b[0;34m(self, structure_id, filename)\u001b[0m\n\u001b[1;32m     72\u001b[0m         warnings\u001b[39m.\u001b[39mfilterwarnings(\u001b[39m\"\u001b[39m\u001b[39mignore\u001b[39m\u001b[39m\"\u001b[39m, category\u001b[39m=\u001b[39mPDBConstructionWarning)\n\u001b[1;32m     73\u001b[0m     \u001b[39mself\u001b[39m\u001b[39m.\u001b[39m_mmcif_dict \u001b[39m=\u001b[39m MMCIF2Dict(filename)\n\u001b[0;32m---> 74\u001b[0m     \u001b[39mself\u001b[39;49m\u001b[39m.\u001b[39;49m_build_structure(structure_id)\n\u001b[1;32m     75\u001b[0m     \u001b[39mself\u001b[39m\u001b[39m.\u001b[39m_structure_builder\u001b[39m.\u001b[39mset_header(\u001b[39mself\u001b[39m\u001b[39m.\u001b[39m_get_header())\n\u001b[1;32m     77\u001b[0m \u001b[39mreturn\u001b[39;00m \u001b[39mself\u001b[39m\u001b[39m.\u001b[39m_structure_builder\u001b[39m.\u001b[39mget_structure()\n",
      "File \u001b[0;32m/oak/stanford/groups/rbaltman/aderry/miniconda3/envs/collapse3/lib/python3.9/site-packages/Bio/PDB/MMCIFParser.py:241\u001b[0m, in \u001b[0;36mMMCIFParser._build_structure\u001b[0;34m(self, structure_id)\u001b[0m\n\u001b[1;32m    239\u001b[0m     \u001b[39mexcept\u001b[39;00m (\u001b[39mKeyError\u001b[39;00m, \u001b[39mIndexError\u001b[39;00m):\n\u001b[1;32m    240\u001b[0m         msg \u001b[39m=\u001b[39m \u001b[39mf\u001b[39m\u001b[39m\"\u001b[39m\u001b[39mNon-existing residue ID in chain \u001b[39m\u001b[39m'\u001b[39m\u001b[39m{\u001b[39;00mchainid\u001b[39m}\u001b[39;00m\u001b[39m'\u001b[39m\u001b[39m\"\u001b[39m\n\u001b[0;32m--> 241\u001b[0m     warnings\u001b[39m.\u001b[39;49mwarn(\n\u001b[1;32m    242\u001b[0m         \u001b[39m\"\u001b[39;49m\u001b[39mPDBConstructionWarning: \u001b[39;49m\u001b[39m\"\u001b[39;49m,\n\u001b[1;32m    243\u001b[0m         msg,\n\u001b[1;32m    244\u001b[0m         PDBConstructionWarning,\n\u001b[1;32m    245\u001b[0m     )\n\u001b[1;32m    246\u001b[0m     \u001b[39mcontinue\u001b[39;00m\n\u001b[1;32m    247\u001b[0m int_resseq \u001b[39m=\u001b[39m \u001b[39mint\u001b[39m(resseq)\n",
      "\u001b[0;31mTypeError\u001b[0m: 'type' object cannot be interpreted as an integer"
     ]
    }
   ],
   "source": [
    "process_pdb('../data/pdb/2kpn.cif', chain='A', include_hets=False).head()#[['resname', 'residue']].iloc[:20]"
   ]
  },
  {
   "cell_type": "code",
   "execution_count": 26,
   "id": "eecb3d6f-8d99-44fb-8fc4-2d636ac5431a",
   "metadata": {},
   "outputs": [],
   "source": [
    "db = database['K']\n",
    "db_pos = db['pos']\n",
    "n_pos = len(db_pos)\n",
    "num_pos_ec = db_pos['EC_NUMBER'].unique()\n",
    "train_ec, test_ec = train_test_split(num_pos_ec, test_size=0.2, random_state=77)\n",
    "train_df = db_pos[db_pos['EC_NUMBER'].isin(train_ec)]\n",
    "test_df = db_pos[db_pos['EC_NUMBER'].isin(test_ec)]\n",
    "train_keyres = dict(train_df.groupby('pdb_chain')['interactions'].apply(lambda x: [i for i in sum(x, []) if i.split('_')[0] in aa]))\n",
    "test_keyres = dict(test_df.groupby('pdb_chain')['interactions'].apply(lambda x: [i for i in sum(x, []) if i.split('_')[0] in aa]))"
   ]
  },
  {
   "cell_type": "code",
   "execution_count": 42,
   "id": "e68119b8",
   "metadata": {},
   "outputs": [],
   "source": [
    "device = torch.device('cuda' if torch.cuda.is_available() else 'cpu')\n",
    "model = initialize_model(device=device)\n",
    "\n",
    "def compute_adjacency(df, resids, num_neighbors=8):\n",
    "    df = df[df.name == 'CA']\n",
    "    df['resid'] = df['resname'].apply(lambda x: atom_info.aa_to_letter(x)) + df['residue'].astype(str) + df['insertion_code'].astype(str).str.strip()\n",
    "    df = df[df.resid.isin(resids)]\n",
    "    edge_index = knn_graph(torch.tensor(df[['x', 'y', 'z']].to_numpy()), k=num_neighbors) # COO format\n",
    "    return edge_index.numpy()\n",
    "\n",
    "def create_graph_from_pdb(pdb_chain, pdb_dir, model, device):\n",
    "    pdb, chain = pdb_chain[:4], pdb_chain[-1]\n",
    "    atom_df = process_pdb(os.path.join(pdb_dir, pdb[1:3], f'pdb{pdb}.ent.gz'), chain=chain, include_hets=False)\n",
    "    outdata = embed_protein(atom_df.copy(), model, device=device, include_hets=False, env_radius=10.0)\n",
    "    if outdata is None:\n",
    "        return\n",
    "    outdata['adj'] = compute_adjacency(atom_df.copy(), outdata['resids'])\n",
    "    return elem"
   ]
  },
  {
   "cell_type": "code",
   "execution_count": 43,
   "id": "9b92b8fb",
   "metadata": {},
   "outputs": [
    {
     "ename": "NameError",
     "evalue": "name 'self' is not defined",
     "output_type": "error",
     "traceback": [
      "\u001b[0;31m---------------------------------------------------------------------------\u001b[0m",
      "\u001b[0;31mNameError\u001b[0m                                 Traceback (most recent call last)",
      "Cell \u001b[0;32mIn[43], line 3\u001b[0m\n\u001b[1;32m      1\u001b[0m pdb_dir \u001b[39m=\u001b[39m \u001b[39m'\u001b[39m\u001b[39m/scratch/users/aderry/pdb\u001b[39m\u001b[39m'\u001b[39m\n\u001b[1;32m      2\u001b[0m \u001b[39mfor\u001b[39;00m pdbc, res \u001b[39min\u001b[39;00m train_keyres\u001b[39m.\u001b[39mitems():\n\u001b[0;32m----> 3\u001b[0m     emb_data \u001b[39m=\u001b[39m create_graph_from_pdb(pdbc, pdb_dir, model, device)\n\u001b[1;32m      4\u001b[0m     \u001b[39mprint\u001b[39m(emb_data)\n\u001b[1;32m      5\u001b[0m     \u001b[39mbreak\u001b[39;00m\n",
      "Cell \u001b[0;32mIn[42], line 17\u001b[0m, in \u001b[0;36mcreate_graph_from_pdb\u001b[0;34m(pdb_chain, pdb_dir, model, device)\u001b[0m\n\u001b[1;32m     15\u001b[0m \u001b[39mif\u001b[39;00m outdata \u001b[39mis\u001b[39;00m \u001b[39mNone\u001b[39;00m:\n\u001b[1;32m     16\u001b[0m     \u001b[39mreturn\u001b[39;00m\n\u001b[0;32m---> 17\u001b[0m outdata[\u001b[39m'\u001b[39m\u001b[39madj\u001b[39m\u001b[39m'\u001b[39m] \u001b[39m=\u001b[39m compute_adjacency(atom_df\u001b[39m.\u001b[39;49mcopy(), outdata[\u001b[39m'\u001b[39;49m\u001b[39mresids\u001b[39;49m\u001b[39m'\u001b[39;49m])\n\u001b[1;32m     18\u001b[0m \u001b[39mreturn\u001b[39;00m elem\n",
      "Cell \u001b[0;32mIn[42], line 8\u001b[0m, in \u001b[0;36mcompute_adjacency\u001b[0;34m(df, resids)\u001b[0m\n\u001b[1;32m      6\u001b[0m df[\u001b[39m'\u001b[39m\u001b[39mresid\u001b[39m\u001b[39m'\u001b[39m] \u001b[39m=\u001b[39m df[\u001b[39m'\u001b[39m\u001b[39mresname\u001b[39m\u001b[39m'\u001b[39m]\u001b[39m.\u001b[39mapply(\u001b[39mlambda\u001b[39;00m x: atom_info\u001b[39m.\u001b[39maa_to_letter(x)) \u001b[39m+\u001b[39m df[\u001b[39m'\u001b[39m\u001b[39mresidue\u001b[39m\u001b[39m'\u001b[39m]\u001b[39m.\u001b[39mastype(\u001b[39mstr\u001b[39m) \u001b[39m+\u001b[39m df[\u001b[39m'\u001b[39m\u001b[39minsertion_code\u001b[39m\u001b[39m'\u001b[39m]\u001b[39m.\u001b[39mastype(\u001b[39mstr\u001b[39m)\u001b[39m.\u001b[39mstr\u001b[39m.\u001b[39mstrip()\n\u001b[1;32m      7\u001b[0m df \u001b[39m=\u001b[39m df[df\u001b[39m.\u001b[39mresid\u001b[39m.\u001b[39misin(resids)]\n\u001b[0;32m----> 8\u001b[0m edge_index \u001b[39m=\u001b[39m knn_graph(torch\u001b[39m.\u001b[39mtensor(df[[\u001b[39m'\u001b[39m\u001b[39mx\u001b[39m\u001b[39m'\u001b[39m, \u001b[39m'\u001b[39m\u001b[39my\u001b[39m\u001b[39m'\u001b[39m, \u001b[39m'\u001b[39m\u001b[39mz\u001b[39m\u001b[39m'\u001b[39m]]\u001b[39m.\u001b[39mto_numpy()), k\u001b[39m=\u001b[39m\u001b[39mself\u001b[39;49m\u001b[39m.\u001b[39mnum_neighbors) \u001b[39m# COO format\u001b[39;00m\n\u001b[1;32m      9\u001b[0m \u001b[39mreturn\u001b[39;00m edge_index\u001b[39m.\u001b[39mnumpy()\n",
      "\u001b[0;31mNameError\u001b[0m: name 'self' is not defined"
     ]
    }
   ],
   "source": [
    "pdb_dir = '/scratch/users/aderry/pdb'\n",
    "for pdbc, res in train_keyres.items():\n",
    "    emb_data = create_graph_from_pdb(pdbc, pdb_dir, model, device)\n",
    "    print(emb_data)\n",
    "    break"
   ]
  },
  {
   "cell_type": "code",
   "execution_count": null,
   "id": "341af090",
   "metadata": {},
   "outputs": [],
   "source": []
  }
 ],
 "metadata": {
  "kernelspec": {
   "display_name": "k2",
   "language": "python",
   "name": "k2"
  },
  "language_info": {
   "codemirror_mode": {
    "name": "ipython",
    "version": 3
   },
   "file_extension": ".py",
   "mimetype": "text/x-python",
   "name": "python",
   "nbconvert_exporter": "python",
   "pygments_lexer": "ipython3",
   "version": "3.10.12"
  }
 },
 "nbformat": 4,
 "nbformat_minor": 5
}
