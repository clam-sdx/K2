{
 "cells": [
  {
   "cell_type": "code",
   "execution_count": 8,
   "metadata": {},
   "outputs": [
    {
     "name": "stdout",
     "output_type": "stream",
     "text": [
      "The autoreload extension is already loaded. To reload it, use:\n",
      "  %reload_ext autoreload\n"
     ]
    }
   ],
   "source": [
    "%load_ext autoreload\n",
    "%autoreload 2"
   ]
  },
  {
   "cell_type": "code",
   "execution_count": 46,
   "metadata": {},
   "outputs": [
    {
     "data": {
      "text/plain": [
       "('k10_r2_alpha0.010_tau2.00_lamnan.model', '>', 1.0)"
      ]
     },
     "execution_count": 46,
     "metadata": {},
     "output_type": "execute_result"
    }
   ],
   "source": [
    "from model_selection import top_model_confusion\n",
    "from utils import serialize, deserialize, serialize_model, deserialize_model\n",
    "\n",
    "metric_str = \"precision\"\n",
    "results_cache_dir = \"/home/k2/K2/src/outputs/plip_gridsearch/plip-eval_results\"\n",
    "model_cache_dir = \"/home/k2/K2/src/outputs/plip_gridsearch/plip-fitted_k2_models\"\n",
    "\n",
    "top_model_confusion(metric_str,results_cache_dir, model_cache_dir)"
   ]
  },
  {
   "cell_type": "code",
   "execution_count": 67,
   "metadata": {},
   "outputs": [
    {
     "name": "stdout",
     "output_type": "stream",
     "text": [
      "msd\n",
      "('k10_r1_alpha0.050_tau2.00_lamnan.model', 0.0, 21.712360490212976)\n",
      "specificity\n",
      "('k10_r2_alpha0.010_tau2.00_lamnan.model', '>', 1.0)\n",
      "precision\n",
      "('k10_r2_alpha0.010_tau2.00_lamnan.model', '>', 1.0)\n",
      "fnr\n",
      "('k10_r0_alpha0.025_tau0.00_lamnan.model', 1.0, 0.48847926267281105)\n",
      "fdr\n",
      "('k10_r0_alpha0.025_tau0.00_lamnan.model', 1.0, 1.0)\n",
      "recall\n",
      "('k10_r2_alpha0.010_tau2.00_lamnan.model', '>', 1.0)\n",
      "accuracy\n",
      "('k10_r2_alpha0.010_tau2.00_lamnan.model', '>', 1.0)\n",
      "balanced_acc\n",
      "('k15_r2_alpha0.010_tau0.00_lamnan.model', 0.0, 0.719548237415655)\n",
      "correlation\n",
      "('k10_r2_alpha0.010_tau2.00_lamnan.model', '>', 0.48847926267281105)\n",
      "threat_score\n",
      "('k10_r2_alpha0.010_tau2.00_lamnan.model', '>', 1.0)\n",
      "prevalence\n",
      "('k10_r2_alpha0.010_tau2.00_lamnan.model', '>', 0.9325953958523177)\n",
      "dice\n",
      "('k10_r2_alpha0.010_tau2.00_lamnan.model', '>', 1.0)\n",
      "jaccard\n",
      "('k10_r2_alpha0.010_tau2.00_lamnan.model', '>', 1.0)\n"
     ]
    }
   ],
   "source": [
    "valid_metrics = [\"msd\", \"specificity\", \"precision\", \"fnr\", \"fdr\", \"recall\", \"accuracy\", \"balanced_acc\", \"correlation\", \"threat_score\", \"prevalence\", \"dice\", \"jaccard\"]\n",
    "for metric_str in valid_metrics:\n",
    "    print(metric_str)\n",
    "    results = top_model_confusion(metric_str,results_cache_dir, model_cache_dir)\n",
    "    print(results)"
   ]
  },
  {
   "cell_type": "code",
   "execution_count": 68,
   "metadata": {},
   "outputs": [
    {
     "name": "stdout",
     "output_type": "stream",
     "text": [
      "msd\n",
      "('k10_r0_alpha0.010_tau0.00_lamnan.model', '>', 21.291466954049017)\n",
      "specificity\n",
      "('k10_r2_alpha0.010_tau2.00_lamnan.model', '>', 1.0)\n",
      "precision\n",
      "('k10_r2_alpha0.010_tau2.00_lamnan.model', '>', 1.0)\n",
      "fnr\n",
      "('k10_r0_alpha0.025_tau0.00_lamnan.model', 0.0, 0.0)\n",
      "fdr\n",
      "('k10_r0_alpha0.025_tau0.00_lamnan.model', 1.0, 1.0)\n",
      "recall\n",
      "('k10_r0_alpha0.025_tau0.00_lamnan.model', 0.0, 1.0)\n",
      "accuracy\n",
      "('k10_r2_alpha0.010_tau2.00_lamnan.model', '>', 1.0)\n",
      "balanced_acc\n",
      "('k10_r0_alpha0.025_tau0.00_lamnan.model', 0.0, 0.5)\n",
      "correlation\n",
      "('k10_r0_alpha0.025_tau0.00_lamnan.model', 0.0, 0.0)\n",
      "threat_score\n",
      "('k10_r2_alpha0.010_tau2.00_lamnan.model', '>', 1.0)\n",
      "prevalence\n",
      "('k10_r2_alpha0.010_tau2.00_lamnan.model', '>', 1.0)\n",
      "dice\n",
      "('k10_r2_alpha0.010_tau2.00_lamnan.model', '>', 1.0)\n",
      "jaccard\n",
      "('k10_r2_alpha0.010_tau2.00_lamnan.model', '>', 1.0)\n"
     ]
    }
   ],
   "source": [
    "valid_metrics = [\"msd\", \"specificity\", \"precision\", \"fnr\", \"fdr\", \"recall\", \"accuracy\", \"balanced_acc\", \"correlation\", \"threat_score\", \"prevalence\", \"dice\", \"jaccard\"]\n",
    "for metric_str in valid_metrics:\n",
    "    print(metric_str)\n",
    "    results = top_model_confusion(metric_str, results_cache_dir, model_cache_dir, eval_class=0)\n",
    "    print(results)"
   ]
  },
  {
   "cell_type": "code",
   "execution_count": 69,
   "metadata": {},
   "outputs": [
    {
     "name": "stdout",
     "output_type": "stream",
     "text": [
      "msd\n"
     ]
    },
    {
     "name": "stdout",
     "output_type": "stream",
     "text": [
      "('k10_r4_alpha0.010_tau0.00_lamnan.model', 0.1, 25.374530128951633)\n",
      "specificity\n",
      "('k10_r2_alpha0.010_tau2.00_lamnan.model', '>', 1.0)\n",
      "precision\n",
      "('k10_r2_alpha0.010_tau2.00_lamnan.model', '>', 1.0)\n",
      "fnr\n",
      "('k10_r0_alpha0.025_tau0.00_lamnan.model', 1.0, 1.0)\n",
      "fdr\n",
      "('k10_r0_alpha0.025_tau0.00_lamnan.model', 1.0, 1.0)\n",
      "recall\n",
      "('k10_r2_alpha0.010_tau2.00_lamnan.model', '>', 1.0)\n",
      "accuracy\n",
      "('k10_r2_alpha0.010_tau2.00_lamnan.model', '>', 1.0)\n",
      "balanced_acc\n",
      "('k10_r2_alpha0.010_tau2.00_lamnan.model', '>', 1.0)\n",
      "correlation\n",
      "('k10_r2_alpha0.010_tau2.00_lamnan.model', '>', 1.0)\n",
      "threat_score\n",
      "('k10_r2_alpha0.010_tau2.00_lamnan.model', '>', 1.0)\n",
      "prevalence\n",
      "('k10_r2_alpha0.010_tau2.00_lamnan.model', '>', 0.8620113292448391)\n",
      "dice\n",
      "('k10_r2_alpha0.010_tau2.00_lamnan.model', '>', 1.0)\n",
      "jaccard\n",
      "('k10_r2_alpha0.010_tau2.00_lamnan.model', '>', 1.0)\n"
     ]
    }
   ],
   "source": [
    "valid_metrics = [\"msd\", \"specificity\", \"precision\", \"fnr\", \"fdr\", \"recall\", \"accuracy\", \"balanced_acc\", \"correlation\", \"threat_score\", \"prevalence\", \"dice\", \"jaccard\"]\n",
    "for metric_str in valid_metrics:\n",
    "    print(metric_str)\n",
    "    results = top_model_confusion(metric_str, results_cache_dir, model_cache_dir, eval_class=1)\n",
    "    print(results)"
   ]
  },
  {
   "cell_type": "code",
   "execution_count": 55,
   "metadata": {},
   "outputs": [
    {
     "name": "stdout",
     "output_type": "stream",
     "text": [
      "auroc\n",
      "('k15_r0_alphanan_taunan_lam0.50.model', 0.6537480877103519)\n",
      "auprc\n",
      "('k10_r0_alphanan_taunan_lam0.50.model', 0.7436969959825918)\n",
      "ap\n",
      "('k10_r2_alphanan_taunan_lam0.50.model', 0.6649129225828838)\n"
     ]
    }
   ],
   "source": [
    "from model_selection import top_model_preds\n",
    "valid_metrics = [\"auroc\", \"auprc\", \"ap\"]\n",
    "for metric_str in valid_metrics:\n",
    "    print(metric_str)\n",
    "    results = top_model_preds(metric_str, results_cache_dir, model_cache_dir)\n",
    "    print(results)"
   ]
  },
  {
   "cell_type": "code",
   "execution_count": 65,
   "metadata": {},
   "outputs": [
    {
     "name": "stdout",
     "output_type": "stream",
     "text": [
      "auroc\n",
      "54\n",
      "('k15_r2_alpha0.010_tau0.00_lamnan.model', 0.6265340958139578)\n",
      "auprc\n",
      "54\n",
      "('k10_r0_alpha10000000000.000_tau2.00_lamnan.model', 0.569017124065061)\n",
      "ap\n",
      "54\n",
      "('k15_r1_alpha0.010_tau0.00_lamnan.model', 0.319652296594971)\n"
     ]
    }
   ],
   "source": [
    "from model_selection import top_model_continuous_avg\n",
    "valid_metrics = [\"auroc\", \"auprc\", \"ap\"]\n",
    "for metric_str in valid_metrics:\n",
    "    print(metric_str)\n",
    "    results = top_model_continuous_avg(metric_str, results_cache_dir, model_cache_dir)\n",
    "    print(results)"
   ]
  },
  {
   "cell_type": "code",
   "execution_count": 64,
   "metadata": {
    "notebookRunGroups": {
     "groupValue": "2"
    }
   },
   "outputs": [
    {
     "name": "stdout",
     "output_type": "stream",
     "text": [
      "auroc\n",
      "('k15_r0_alpha0.010_tau0.00_lamnan.model', 0.6825469846616833)\n",
      "auprc\n",
      "('k15_r0_alpha0.010_tau0.00_lamnan.model', 0.38687260159292813)\n",
      "ap\n",
      "('k15_r0_alpha0.010_tau0.00_lamnan.model', 0.29282449136260036)\n"
     ]
    }
   ],
   "source": [
    "from model_selection import top_model_continuous_iid\n",
    "valid_metrics = [\"auroc\", \"auprc\", \"ap\"]\n",
    "linearized_cache_dir = \"/home/k2/K2/src/outputs/plip_gridsearch/plip-linearized_data\"\n",
    "for metric_str in valid_metrics:\n",
    "    print(metric_str)\n",
    "    results = top_model_continuous_iid(metric_str, model_cache_dir, linearized_cache_dir)\n",
    "    print(results)"
   ]
  },
  {
   "cell_type": "code",
   "execution_count": null,
   "metadata": {},
   "outputs": [],
   "source": []
  }
 ],
 "metadata": {
  "kernelspec": {
   "display_name": "Python 3",
   "language": "python",
   "name": "python3"
  },
  "language_info": {
   "codemirror_mode": {
    "name": "ipython",
    "version": 3
   },
   "file_extension": ".py",
   "mimetype": "text/x-python",
   "name": "python",
   "nbconvert_exporter": "python",
   "pygments_lexer": "ipython3",
   "version": "3.10.9"
  },
  "orig_nbformat": 4
 },
 "nbformat": 4,
 "nbformat_minor": 2
}
