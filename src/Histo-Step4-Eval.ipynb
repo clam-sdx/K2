{
 "cells": [
  {
   "cell_type": "code",
   "execution_count": 8,
   "metadata": {},
   "outputs": [
    {
     "name": "stdout",
     "output_type": "stream",
     "text": [
      "The autoreload extension is already loaded. To reload it, use:\n",
      "  %reload_ext autoreload\n"
     ]
    }
   ],
   "source": [
    "%load_ext autoreload\n",
    "%autoreload 2"
   ]
  },
  {
   "cell_type": "code",
   "execution_count": 100,
   "metadata": {},
   "outputs": [
    {
     "data": {
      "text/plain": [
       "('k15_r1_alpha0.010_tau0.00_lamnan.model', 0.9, 0.2452596792596705)"
      ]
     },
     "execution_count": 100,
     "metadata": {},
     "output_type": "execute_result"
    }
   ],
   "source": [
    "from model_selection import top_model_confusion\n",
    "from utils import serialize, deserialize, serialize_model, deserialize_model\n",
    "\n",
    "metric_str = \"precision\"\n",
    "results_cache_dir = \"/home/k2/K2/src/outputs/plip_gridsearch/plip-eval_results\"\n",
    "model_cache_dir = \"/home/k2/K2/src/outputs/plip_gridsearch/plip-fitted_k2_models\"\n",
    "\n",
    "top_model_confusion(metric_str, results_cache_dir, model_cache_dir)"
   ]
  },
  {
   "cell_type": "code",
   "execution_count": 106,
   "metadata": {},
   "outputs": [
    {
     "name": "stdout",
     "output_type": "stream",
     "text": [
      "msd\n",
      "('k10_r8_alpha0.010_tau0.00_lamnan.model', 0.1, 22.9607722382849)\n",
      "specificity\n",
      "('k10_r0_alpha0.025_tau0.00_lamnan.model', 1.0, 1.0)\n",
      "precision\n",
      "('k15_r1_alpha0.010_tau0.00_lamnan.model', 0.9, 0.2452596792596705)\n",
      "fnr\n",
      "('k10_r0_alpha0.025_tau0.00_lamnan.model', 1.0, 0.48847926267281105)\n",
      "fdr\n",
      "('k10_r0_alpha0.010_tau0.00_lamnan.model', 0.8, 0.9393045834754674)\n",
      "recall\n",
      "('k10_r4_alpha0.050_tau1.00_lamnan.model', '>', 1.0)\n",
      "accuracy\n",
      "('k10_r0_alpha0.025_tau0.00_lamnan.model', 1.0, 0.9325953958523177)\n",
      "balanced_acc\n",
      "('k15_r1_alpha0.010_tau0.00_lamnan.model', 0.9, 0.591942005940775)\n",
      "correlation\n",
      "('k15_r1_alpha0.010_tau0.00_lamnan.model', 0.6, 0.0999732676447854)\n",
      "threat_score\n",
      "('k15_r2_alpha0.010_tau0.00_lamnan.model', 0.2, 0.08959569339685622)\n",
      "prevalence\n",
      "('k10_r0_alpha0.025_tau0.00_lamnan.model', 0.0, 0.06740460414768223)\n",
      "dice\n",
      "('k15_r0_alphanan_taunan_lam0.50.model', '<', 0.5462759730622698)\n",
      "jaccard\n",
      "('k15_r0_alphanan_taunan_lam0.50.model', '<', 0.5281777089478673)\n"
     ]
    }
   ],
   "source": [
    "valid_metrics = [\"msd\", \"specificity\", \"precision\", \"fnr\", \"fdr\", \"recall\", \"accuracy\", \"balanced_acc\", \"correlation\", \"threat_score\", \"prevalence\", \"dice\", \"jaccard\"]\n",
    "for metric_str in valid_metrics:\n",
    "    print(metric_str)\n",
    "    results = top_model_confusion(metric_str,results_cache_dir, model_cache_dir)\n",
    "    print(results)"
   ]
  },
  {
   "cell_type": "code",
   "execution_count": 107,
   "metadata": {},
   "outputs": [
    {
     "name": "stdout",
     "output_type": "stream",
     "text": [
      "msd\n",
      "('k10_r0_alpha0.010_tau0.00_lamnan.model', '>', 21.291466954049017)\n",
      "specificity\n",
      "('k10_r0_alpha0.025_tau0.00_lamnan.model', 1.0, 1.0)\n",
      "precision\n",
      "('k10_r0_alpha0.025_tau0.00_lamnan.model', 0.0, 0.0)\n",
      "fnr\n",
      "('k10_r0_alpha0.025_tau0.00_lamnan.model', 0.0, 0.0)\n",
      "fdr\n",
      "('k10_r0_alpha0.025_tau0.00_lamnan.model', 0.0, 1.0)\n",
      "recall\n",
      "('k10_r0_alpha0.025_tau0.00_lamnan.model', 0.0, 1.0)\n",
      "accuracy\n",
      "('k10_r0_alpha0.025_tau0.00_lamnan.model', 1.0, 1.0)\n",
      "balanced_acc\n",
      "('k10_r0_alpha0.025_tau0.00_lamnan.model', 0.0, 0.5)\n",
      "correlation\n",
      "('k10_r0_alpha0.025_tau0.00_lamnan.model', 0.0, 0.0)\n",
      "threat_score\n",
      "('k10_r0_alpha0.025_tau0.00_lamnan.model', 0.0, 0.0)\n",
      "prevalence\n",
      "('k10_r0_alpha0.025_tau0.00_lamnan.model', 0.0, 0.0)\n",
      "dice\n",
      "('k10_r0_alpha0.025_tau0.00_lamnan.model', 1.0, 1.0)\n",
      "jaccard\n",
      "('k10_r0_alpha0.025_tau0.00_lamnan.model', 1.0, 1.0)\n"
     ]
    }
   ],
   "source": [
    "valid_metrics = [\"msd\", \"specificity\", \"precision\", \"fnr\", \"fdr\", \"recall\", \"accuracy\", \"balanced_acc\", \"correlation\", \"threat_score\", \"prevalence\", \"dice\", \"jaccard\"]\n",
    "for metric_str in valid_metrics:\n",
    "    print(metric_str)\n",
    "    results = top_model_confusion(metric_str, results_cache_dir, model_cache_dir, eval_class=0)\n",
    "    print(results)"
   ]
  },
  {
   "cell_type": "code",
   "execution_count": 108,
   "metadata": {},
   "outputs": [
    {
     "name": "stdout",
     "output_type": "stream",
     "text": [
      "msd\n",
      "('k10_r4_alpha10000000000.000_tau0.00_lamnan.model', 0.2, 26.114541251844734)\n",
      "specificity\n",
      "('k10_r0_alpha0.025_tau0.00_lamnan.model', 1.0, 1.0)\n",
      "precision\n",
      "('k15_r1_alpha0.010_tau0.00_lamnan.model', 0.9, 0.5020882113146085)\n",
      "fnr\n",
      "('k10_r0_alpha0.025_tau0.00_lamnan.model', 1.0, 1.0)\n",
      "fdr\n",
      "('k10_r0_alphanan_taunan_lam0.50.model', '<', 0.9091263546762496)\n",
      "recall\n",
      "('k10_r4_alpha0.050_tau1.00_lamnan.model', '>', 1.0)\n",
      "accuracy\n",
      "('k15_r0_alpha0.010_tau0.00_lamnan.model', 0.9, 0.8809393240368446)\n",
      "balanced_acc\n",
      "('k15_r1_alpha0.010_tau0.00_lamnan.model', 0.9, 0.6882208989542283)\n",
      "correlation\n",
      "('k15_r1_alpha0.010_tau0.00_lamnan.model', 0.6, 0.20466225546149464)\n",
      "threat_score\n",
      "('k15_r2_alpha0.010_tau0.00_lamnan.model', 0.2, 0.18341759874639432)\n",
      "prevalence\n",
      "('k10_r0_alpha0.025_tau0.00_lamnan.model', 0.0, 0.1379886707551608)\n",
      "dice\n",
      "('k15_r2_alpha0.010_tau0.00_lamnan.model', 0.2, 0.25494709490436995)\n",
      "jaccard\n",
      "('k15_r2_alpha0.010_tau0.00_lamnan.model', 0.2, 0.18341759874639432)\n"
     ]
    }
   ],
   "source": [
    "valid_metrics = [\"msd\", \"specificity\", \"precision\", \"fnr\", \"fdr\", \"recall\", \"accuracy\", \"balanced_acc\", \"correlation\", \"threat_score\", \"prevalence\", \"dice\", \"jaccard\"]\n",
    "for metric_str in valid_metrics:\n",
    "    print(metric_str)\n",
    "    results = top_model_confusion(metric_str, results_cache_dir, model_cache_dir, eval_class=1)\n",
    "    print(results)"
   ]
  },
  {
   "cell_type": "code",
   "execution_count": 109,
   "metadata": {},
   "outputs": [
    {
     "name": "stdout",
     "output_type": "stream",
     "text": [
      "auroc\n",
      "('k15_r0_alphanan_taunan_lam0.50.model', 0.6537480877103519)\n",
      "auprc\n",
      "('k10_r8_alpha0.010_tau1.00_lamnan.model', 0.7530313697404826)\n",
      "ap\n",
      "('k10_r2_alphanan_taunan_lam0.50.model', 0.6649129225828838)\n"
     ]
    }
   ],
   "source": [
    "from model_selection import top_model_preds\n",
    "valid_metrics = [\"auroc\", \"auprc\", \"ap\"]\n",
    "for metric_str in valid_metrics:\n",
    "    print(metric_str)\n",
    "    results = top_model_preds(metric_str, results_cache_dir, model_cache_dir)\n",
    "    print(results)"
   ]
  },
  {
   "cell_type": "code",
   "execution_count": 110,
   "metadata": {},
   "outputs": [
    {
     "name": "stdout",
     "output_type": "stream",
     "text": [
      "auroc\n",
      "('k15_r2_alpha0.010_tau0.00_lamnan.model', 0.6265340958139578)\n",
      "auprc\n",
      "('k10_r0_alpha10000000000.000_tau2.00_lamnan.model', 0.569017124065061)\n",
      "ap\n",
      "('k15_r1_alpha0.010_tau0.00_lamnan.model', 0.319652296594971)\n"
     ]
    }
   ],
   "source": [
    "from model_selection import top_model_continuous_avg\n",
    "valid_metrics = [\"auroc\", \"auprc\", \"ap\"]\n",
    "for metric_str in valid_metrics:\n",
    "    print(metric_str)\n",
    "    results = top_model_continuous_avg(metric_str, results_cache_dir, model_cache_dir)\n",
    "    print(results)"
   ]
  },
  {
   "cell_type": "code",
   "execution_count": 111,
   "metadata": {
    "notebookRunGroups": {
     "groupValue": "2"
    }
   },
   "outputs": [
    {
     "name": "stdout",
     "output_type": "stream",
     "text": [
      "auroc\n",
      "('k15_r0_alpha0.010_tau0.00_lamnan.model', 0.6825469846616833)\n",
      "auprc\n",
      "('k10_r8_alpha0.010_tau1.00_lamnan.model', 0.4312084507514163)\n",
      "ap\n",
      "('k15_r0_alpha0.010_tau0.00_lamnan.model', 0.29282449136260036)\n"
     ]
    }
   ],
   "source": [
    "from model_selection import top_model_continuous_iid\n",
    "valid_metrics = [\"auroc\", \"auprc\", \"ap\"]\n",
    "linearized_cache_dir = \"/home/k2/K2/src/outputs/plip_gridsearch/plip-linearized_data\"\n",
    "for metric_str in valid_metrics:\n",
    "    print(metric_str)\n",
    "    results = top_model_continuous_iid(metric_str, model_cache_dir, linearized_cache_dir)\n",
    "    print(results)"
   ]
  },
  {
   "cell_type": "code",
   "execution_count": null,
   "metadata": {},
   "outputs": [],
   "source": []
  },
  {
   "cell_type": "code",
   "execution_count": null,
   "metadata": {},
   "outputs": [],
   "source": []
  },
  {
   "cell_type": "code",
   "execution_count": null,
   "metadata": {},
   "outputs": [],
   "source": []
  },
  {
   "cell_type": "code",
   "execution_count": null,
   "metadata": {},
   "outputs": [],
   "source": []
  },
  {
   "cell_type": "code",
   "execution_count": 77,
   "metadata": {},
   "outputs": [],
   "source": [
    "import pandas as pd\n",
    "import numpy as np\n",
    "import altair as alt"
   ]
  },
  {
   "cell_type": "code",
   "execution_count": 82,
   "metadata": {},
   "outputs": [],
   "source": [
    "df1=pd.DataFrame(10*np.random.rand(4,2),index=[\"tile2vec\",\"ViT\",\"CLIP\",\"PLIP\"],columns=[\"baseline\",\"K2\"])\n",
    "df2=pd.DataFrame(10*np.random.rand(4,2),index=[\"tile2vec\",\"ViT\",\"CLIP\",\"PLIP\"],columns=[\"baseline\",\"K2\"])\n",
    "df3=pd.DataFrame(10*np.random.rand(4,2),index=[\"tile2vec\",\"ViT\",\"CLIP\",\"PLIP\"],columns=[\"baseline\",\"K2\"])\n",
    "\n",
    "def prep_df(df, name):\n",
    "    df = df.stack().reset_index()\n",
    "    df.columns = ['c1', 'c2', 'values']\n",
    "    df['DF'] = name\n",
    "    return df\n",
    "\n",
    "df1 = prep_df(df1, 'DF1')\n",
    "df2 = prep_df(df2, 'DF2')\n",
    "df3 = prep_df(df3, 'DF3')\n",
    "\n",
    "df = pd.concat([df1, df2, df3])"
   ]
  },
  {
   "cell_type": "code",
   "execution_count": 86,
   "metadata": {},
   "outputs": [
    {
     "data": {
      "text/html": [
       "\n",
       "<style>\n",
       "  #altair-viz-fe6febf83b1c457488bb46f25567687f.vega-embed {\n",
       "    width: 100%;\n",
       "    display: flex;\n",
       "  }\n",
       "\n",
       "  #altair-viz-fe6febf83b1c457488bb46f25567687f.vega-embed details,\n",
       "  #altair-viz-fe6febf83b1c457488bb46f25567687f.vega-embed details summary {\n",
       "    position: relative;\n",
       "  }\n",
       "</style>\n",
       "<div id=\"altair-viz-fe6febf83b1c457488bb46f25567687f\"></div>\n",
       "<script type=\"text/javascript\">\n",
       "  var VEGA_DEBUG = (typeof VEGA_DEBUG == \"undefined\") ? {} : VEGA_DEBUG;\n",
       "  (function(spec, embedOpt){\n",
       "    let outputDiv = document.currentScript.previousElementSibling;\n",
       "    if (outputDiv.id !== \"altair-viz-fe6febf83b1c457488bb46f25567687f\") {\n",
       "      outputDiv = document.getElementById(\"altair-viz-fe6febf83b1c457488bb46f25567687f\");\n",
       "    }\n",
       "    const paths = {\n",
       "      \"vega\": \"https://cdn.jsdelivr.net/npm/vega@5?noext\",\n",
       "      \"vega-lib\": \"https://cdn.jsdelivr.net/npm/vega-lib?noext\",\n",
       "      \"vega-lite\": \"https://cdn.jsdelivr.net/npm/vega-lite@5.14.1?noext\",\n",
       "      \"vega-embed\": \"https://cdn.jsdelivr.net/npm/vega-embed@6?noext\",\n",
       "    };\n",
       "\n",
       "    function maybeLoadScript(lib, version) {\n",
       "      var key = `${lib.replace(\"-\", \"\")}_version`;\n",
       "      return (VEGA_DEBUG[key] == version) ?\n",
       "        Promise.resolve(paths[lib]) :\n",
       "        new Promise(function(resolve, reject) {\n",
       "          var s = document.createElement('script');\n",
       "          document.getElementsByTagName(\"head\")[0].appendChild(s);\n",
       "          s.async = true;\n",
       "          s.onload = () => {\n",
       "            VEGA_DEBUG[key] = version;\n",
       "            return resolve(paths[lib]);\n",
       "          };\n",
       "          s.onerror = () => reject(`Error loading script: ${paths[lib]}`);\n",
       "          s.src = paths[lib];\n",
       "        });\n",
       "    }\n",
       "\n",
       "    function showError(err) {\n",
       "      outputDiv.innerHTML = `<div class=\"error\" style=\"color:red;\">${err}</div>`;\n",
       "      throw err;\n",
       "    }\n",
       "\n",
       "    function displayChart(vegaEmbed) {\n",
       "      vegaEmbed(outputDiv, spec, embedOpt)\n",
       "        .catch(err => showError(`Javascript Error: ${err.message}<br>This usually means there's a typo in your chart specification. See the javascript console for the full traceback.`));\n",
       "    }\n",
       "\n",
       "    if(typeof define === \"function\" && define.amd) {\n",
       "      requirejs.config({paths});\n",
       "      require([\"vega-embed\"], displayChart, err => showError(`Error loading script: ${err.message}`));\n",
       "    } else {\n",
       "      maybeLoadScript(\"vega\", \"5\")\n",
       "        .then(() => maybeLoadScript(\"vega-lite\", \"5.14.1\"))\n",
       "        .then(() => maybeLoadScript(\"vega-embed\", \"6\"))\n",
       "        .catch(showError)\n",
       "        .then(() => displayChart(vegaEmbed));\n",
       "    }\n",
       "  })({\"config\": {\"view\": {\"continuousWidth\": 300, \"continuousHeight\": 300, \"strokeOpacity\": 0}}, \"data\": {\"name\": \"data-06ce5fd03a921b5b4a750ae9be80f5da\"}, \"mark\": {\"type\": \"bar\"}, \"encoding\": {\"color\": {\"field\": \"DF\", \"scale\": {\"range\": [\"#96ceb4\", \"#ffcc5c\", \"#ff6f69\"]}, \"type\": \"nominal\"}, \"column\": {\"field\": \"c1\", \"title\": null, \"type\": \"nominal\"}, \"x\": {\"field\": \"c2\", \"title\": null, \"type\": \"nominal\"}, \"y\": {\"aggregate\": \"sum\", \"axis\": {\"grid\": false, \"title\": null}, \"field\": \"values\", \"type\": \"quantitative\"}}, \"$schema\": \"https://vega.github.io/schema/vega-lite/v5.14.1.json\", \"datasets\": {\"data-06ce5fd03a921b5b4a750ae9be80f5da\": [{\"c1\": \"tile2vec\", \"c2\": \"baseline\", \"values\": 1.6649960797041974, \"DF\": \"DF1\"}, {\"c1\": \"tile2vec\", \"c2\": \"K2\", \"values\": 8.435226862708218, \"DF\": \"DF1\"}, {\"c1\": \"ViT\", \"c2\": \"baseline\", \"values\": 7.105579867344009, \"DF\": \"DF1\"}, {\"c1\": \"ViT\", \"c2\": \"K2\", \"values\": 6.636919668486813, \"DF\": \"DF1\"}, {\"c1\": \"CLIP\", \"c2\": \"baseline\", \"values\": 0.7810147550143354, \"DF\": \"DF1\"}, {\"c1\": \"CLIP\", \"c2\": \"K2\", \"values\": 1.9813671078391915, \"DF\": \"DF1\"}, {\"c1\": \"PLIP\", \"c2\": \"baseline\", \"values\": 8.353506877156248, \"DF\": \"DF1\"}, {\"c1\": \"PLIP\", \"c2\": \"K2\", \"values\": 8.823860434138052, \"DF\": \"DF1\"}, {\"c1\": \"tile2vec\", \"c2\": \"baseline\", \"values\": 8.286406210002626, \"DF\": \"DF2\"}, {\"c1\": \"tile2vec\", \"c2\": \"K2\", \"values\": 6.017695492038049, \"DF\": \"DF2\"}, {\"c1\": \"ViT\", \"c2\": \"baseline\", \"values\": 9.664501217304519, \"DF\": \"DF2\"}, {\"c1\": \"ViT\", \"c2\": \"K2\", \"values\": 3.0320375301564964, \"DF\": \"DF2\"}, {\"c1\": \"CLIP\", \"c2\": \"baseline\", \"values\": 7.119812527576752, \"DF\": \"DF2\"}, {\"c1\": \"CLIP\", \"c2\": \"K2\", \"values\": 2.2190983473767787, \"DF\": \"DF2\"}, {\"c1\": \"PLIP\", \"c2\": \"baseline\", \"values\": 5.794199385363605, \"DF\": \"DF2\"}, {\"c1\": \"PLIP\", \"c2\": \"K2\", \"values\": 0.04835708310861109, \"DF\": \"DF2\"}, {\"c1\": \"tile2vec\", \"c2\": \"baseline\", \"values\": 8.242416727331776, \"DF\": \"DF3\"}, {\"c1\": \"tile2vec\", \"c2\": \"K2\", \"values\": 2.588259196421135, \"DF\": \"DF3\"}, {\"c1\": \"ViT\", \"c2\": \"baseline\", \"values\": 7.976605585675616, \"DF\": \"DF3\"}, {\"c1\": \"ViT\", \"c2\": \"K2\", \"values\": 8.399177058906913, \"DF\": \"DF3\"}, {\"c1\": \"CLIP\", \"c2\": \"baseline\", \"values\": 8.856108824548434, \"DF\": \"DF3\"}, {\"c1\": \"CLIP\", \"c2\": \"K2\", \"values\": 9.465034066529162, \"DF\": \"DF3\"}, {\"c1\": \"PLIP\", \"c2\": \"baseline\", \"values\": 7.242505591922041, \"DF\": \"DF3\"}, {\"c1\": \"PLIP\", \"c2\": \"K2\", \"values\": 1.4194131911603447, \"DF\": \"DF3\"}]}}, {\"mode\": \"vega-lite\"});\n",
       "</script>"
      ],
      "text/plain": [
       "alt.Chart(...)"
      ]
     },
     "execution_count": 86,
     "metadata": {},
     "output_type": "execute_result"
    }
   ],
   "source": [
    "alt.Chart(df).mark_bar().encode(\n",
    "\n",
    "    # tell Altair which field to group columns on\n",
    "    x=alt.X('c2:N', title=None),\n",
    "\n",
    "    # tell Altair which field to use as Y values and how to calculate\n",
    "    y=alt.Y('sum(values):Q',axis=alt.Axis(grid=False,title=None)),\n",
    "\n",
    "    # tell Altair which field to use to use as the set of columns to be  represented in each group\n",
    "    column=alt.Column('c1:N', title=None),\n",
    "\n",
    "    # tell Altair which field to use for color segmentation \n",
    "    color=alt.Color('DF:N',scale=alt.Scale(range=['#96ceb4', '#ffcc5c','#ff6f69'],),)).configure_view(strokeOpacity=0)\n",
    "    # remove grid lines around column clusters  \n",
    "    # make it look pretty with an enjoyable color pallet\n"
   ]
  },
  {
   "cell_type": "code",
   "execution_count": null,
   "metadata": {},
   "outputs": [],
   "source": []
  }
 ],
 "metadata": {
  "kernelspec": {
   "display_name": "Python 3",
   "language": "python",
   "name": "python3"
  },
  "language_info": {
   "codemirror_mode": {
    "name": "ipython",
    "version": 3
   },
   "file_extension": ".py",
   "mimetype": "text/x-python",
   "name": "python",
   "nbconvert_exporter": "python",
   "pygments_lexer": "ipython3",
   "version": "3.10.9"
  },
  "orig_nbformat": 4
 },
 "nbformat": 4,
 "nbformat_minor": 2
}
