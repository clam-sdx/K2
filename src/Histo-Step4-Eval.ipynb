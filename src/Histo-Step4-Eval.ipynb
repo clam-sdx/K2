{
 "cells": [
  {
   "cell_type": "markdown",
   "metadata": {},
   "source": [
    "# 4. Evaluation\n",
    "This notbook is used for analyzing the grid search and performing model selection "
   ]
  },
  {
   "cell_type": "code",
   "execution_count": 160,
   "metadata": {},
   "outputs": [],
   "source": [
    "%load_ext autoreload\n",
    "%autoreload 2"
   ]
  },
  {
   "cell_type": "code",
   "execution_count": 161,
   "metadata": {},
   "outputs": [],
   "source": [
    "encoder_name = \"vit_iid\""
   ]
  },
  {
   "cell_type": "markdown",
   "metadata": {},
   "source": [
    "### Take a look at some top models based on metrics"
   ]
  },
  {
   "cell_type": "code",
   "execution_count": 162,
   "metadata": {},
   "outputs": [],
   "source": [
    "# from model_selection import top_model_confusion\n",
    "# from utils import serialize, deserialize, serialize_model, deserialize_model\n",
    "# import os\n",
    "\n",
    "# metric_str = \"precision\"\n",
    "# results_cache_dir = \"/home/k2/K2/src/outputs/\" + encoder_name + \"_gridsearch/\" + encoder_name + \"-eval_results\"\n",
    "# model_cache_dir = \"/home/k2/K2/src/outputs/\" + encoder_name + \"_gridsearch/\" + encoder_name + \"-fitted_k2_models\"\n",
    "# print(len(os.listdir(model_cache_dir)), \"models from grid search\")\n",
    "# top_model_confusion(metric_str, results_cache_dir, model_cache_dir, return_all=True)"
   ]
  },
  {
   "cell_type": "code",
   "execution_count": 163,
   "metadata": {},
   "outputs": [],
   "source": [
    "# valid_metrics = [\"msd\", \"specificity\", \"precision\", \"fnr\", \"fdr\", \"recall\", \"accuracy\", \"correlation\", \"threat_score\", \"prevalence\", \"dice\", \"jaccard\"]\n",
    "# for metric_str in valid_metrics:\n",
    "#     print(metric_str)\n",
    "#     results = top_model_confusion(metric_str,results_cache_dir, model_cache_dir)\n",
    "#     print(results)\n"
   ]
  },
  {
   "cell_type": "code",
   "execution_count": 164,
   "metadata": {},
   "outputs": [],
   "source": [
    "# valid_metrics = [\"msd\", \"specificity\", \"precision\", \"fnr\", \"fdr\", \"recall\", \"accuracy\", \"correlation\", \"threat_score\", \"prevalence\", \"dice\", \"jaccard\"]\n",
    "# for metric_str in valid_metrics:\n",
    "#     print(metric_str)\n",
    "#     results = top_model_confusion(metric_str, results_cache_dir, model_cache_dir, eval_class=0)\n",
    "#     print(results)"
   ]
  },
  {
   "cell_type": "code",
   "execution_count": 165,
   "metadata": {},
   "outputs": [],
   "source": [
    "# valid_metrics = [\"msd\", \"specificity\", \"precision\", \"fnr\", \"fdr\", \"recall\", \"accuracy\", \"balanced_acc\", \"correlation\", \"threat_score\", \"prevalence\", \"dice\", \"jaccard\"]\n",
    "# for metric_str in valid_metrics:\n",
    "#     print(metric_str)\n",
    "#     results = top_model_confusion(metric_str, results_cache_dir, model_cache_dir, eval_class=1)\n",
    "#     print(results)"
   ]
  },
  {
   "cell_type": "code",
   "execution_count": 166,
   "metadata": {},
   "outputs": [],
   "source": [
    "# from model_selection import top_model_preds\n",
    "# valid_metrics = [\"auroc\", \"auprc\", \"ap\"]\n",
    "# for metric_str in valid_metrics:\n",
    "#     print(metric_str)\n",
    "#     results = top_model_preds(metric_str, results_cache_dir, model_cache_dir)\n",
    "#     print(results)"
   ]
  },
  {
   "cell_type": "code",
   "execution_count": 167,
   "metadata": {},
   "outputs": [],
   "source": [
    "# from model_selection import top_model_continuous_avg\n",
    "# valid_metrics = [\"auroc\", \"auprc\", \"ap\"]\n",
    "# for metric_str in valid_metrics:\n",
    "#     print(metric_str)\n",
    "#     results = top_model_continuous_avg(metric_str, results_cache_dir, model_cache_dir)\n",
    "#     print(results)"
   ]
  },
  {
   "cell_type": "code",
   "execution_count": 168,
   "metadata": {
    "notebookRunGroups": {
     "groupValue": "2"
    }
   },
   "outputs": [],
   "source": [
    "# from model_selection import top_model_continuous_iid\n",
    "# valid_metrics = [\"auroc\", \"auprc\", \"ap\"]\n",
    "# linearized_cache_dir = \"/home/k2/K2/src/outputs/\" + encoder_name +  \"_gridsearch/\" + encoder_name + \"-linearized_data\"\n",
    "# for metric_str in valid_metrics:\n",
    "#     print(metric_str)\n",
    "#     results = top_model_continuous_iid(metric_str, model_cache_dir, linearized_cache_dir)\n",
    "#     print(results)"
   ]
  },
  {
   "cell_type": "markdown",
   "metadata": {},
   "source": [
    "### Model selection\n",
    "We now use the gridsearch to choose top AUPRC models"
   ]
  },
  {
   "cell_type": "code",
   "execution_count": 184,
   "metadata": {},
   "outputs": [],
   "source": [
    "encoder = 'tile2vec' # clip, plip, tile2vec, vit_iid\n",
    "\n",
    "# grid_dir = \"/home/k2/K2/src/outputs/\" + encoder + \"_gridsearch/\"\n",
    "grid_dir = \"/dfs/scratch1/gmachi/gcp_backup/k2/\" + encoder + \"_gridsearch/\"\n",
    "\n",
    "results_cache_dir = grid_dir + encoder + \"-eval_results\"\n",
    "model_cache_dir = grid_dir + encoder + \"-fitted_k2_models\"\n",
    "processor_cache_dir = grid_dir + encoder + \"-fitted_k2_processors\"\n",
    "linearized_cache_dir = grid_dir + encoder + \"-linearized_data\""
   ]
  },
  {
   "cell_type": "code",
   "execution_count": 185,
   "metadata": {},
   "outputs": [],
   "source": [
    "key_conf_metrics = [] #[\"precision\", \"correlation\", \"dice\"]\n",
    "key_cont_metrics = [\"auprc\"]"
   ]
  },
  {
   "cell_type": "code",
   "execution_count": 186,
   "metadata": {},
   "outputs": [
    {
     "name": "stdout",
     "output_type": "stream",
     "text": [
      "auprc\n"
     ]
    }
   ],
   "source": [
    "from model_selection import top_model_confusion, top_model_continuous_avg\n",
    "import pandas as pd\n",
    "\n",
    "# conf_res = []\n",
    "# for metric in key_conf_metrics:\n",
    "#     print(metric)\n",
    "#     res = top_model_confusion(metric,results_cache_dir, model_cache_dir, eval_class=1, return_all=True)\n",
    "#     res[\"metric\"] = [metric]*len(res)\n",
    "#     conf_res.append(res)\n",
    "# conf_res = pd.concat(conf_res)\n",
    "\n",
    "cont_res = []\n",
    "for metric in key_cont_metrics:\n",
    "    print(metric)\n",
    "    res = top_model_continuous_avg(metric, results_cache_dir, model_cache_dir, return_all=True)\n",
    "    res[\"metric\"] = [metric]*len(res)\n",
    "    cont_res.append(res)\n",
    "cont_res = pd.concat(cont_res)"
   ]
  },
  {
   "cell_type": "code",
   "execution_count": 187,
   "metadata": {},
   "outputs": [],
   "source": [
    "# conf_pvt = conf_res.pivot(index=['model_name', 'threshold'], columns='metric', values='score')\n",
    "# for met in key_conf_metrics:\n",
    "#     rank = conf_pvt[met].rank(method='min', ascending=False)\n",
    "#     conf_pvt[f'rank_{met}'] = rank\n",
    "# # conf_pvt['rank'] = conf_pvt[key_conf_metrics].apply(tuple,axis=1).rank(method='dense',ascending=False)\n",
    "\n",
    "# cont_pvt = cont_res.pivot(index='model_name', columns='metric', values='score')\n",
    "# cont_pvt['rank_auprc'] = cont_pvt['auprc'].rank(method='min', ascending=False)\n",
    "\n",
    "# merged = pd.merge(conf_pvt.reset_index(level=['threshold']), cont_pvt, on='model_name', how='left')\n",
    "# merged['avg_rank'] = merged[[f'rank_{i}' for i in key_conf_metrics] + ['rank_auprc']].mean(axis=1)\n",
    "# merged.sort_values('avg_rank').head(20)"
   ]
  },
  {
   "cell_type": "code",
   "execution_count": 188,
   "metadata": {},
   "outputs": [],
   "source": [
    "# merged.max(axis=0)"
   ]
  },
  {
   "cell_type": "code",
   "execution_count": 189,
   "metadata": {},
   "outputs": [
    {
     "data": {
      "text/html": [
       "<div>\n",
       "<style scoped>\n",
       "    .dataframe tbody tr th:only-of-type {\n",
       "        vertical-align: middle;\n",
       "    }\n",
       "\n",
       "    .dataframe tbody tr th {\n",
       "        vertical-align: top;\n",
       "    }\n",
       "\n",
       "    .dataframe thead th {\n",
       "        text-align: right;\n",
       "    }\n",
       "</style>\n",
       "<table border=\"1\" class=\"dataframe\">\n",
       "  <thead>\n",
       "    <tr style=\"text-align: right;\">\n",
       "      <th>metric</th>\n",
       "      <th>auprc</th>\n",
       "      <th>rank_auprc</th>\n",
       "    </tr>\n",
       "    <tr>\n",
       "      <th>model_name</th>\n",
       "      <th></th>\n",
       "      <th></th>\n",
       "    </tr>\n",
       "  </thead>\n",
       "  <tbody>\n",
       "    <tr>\n",
       "      <th>k15_r0_alpha0.010_tau2.00_lamnan.model</th>\n",
       "      <td>0.538680</td>\n",
       "      <td>1.0</td>\n",
       "    </tr>\n",
       "    <tr>\n",
       "      <th>k20_r0_alpha0.010_tau2.00_lamnan.model</th>\n",
       "      <td>0.538680</td>\n",
       "      <td>1.0</td>\n",
       "    </tr>\n",
       "    <tr>\n",
       "      <th>k20_r0_alpha0.050_tau2.00_lamnan.model</th>\n",
       "      <td>0.538680</td>\n",
       "      <td>1.0</td>\n",
       "    </tr>\n",
       "    <tr>\n",
       "      <th>k20_r0_alpha10000000000.000_tau2.00_lamnan.model</th>\n",
       "      <td>0.538680</td>\n",
       "      <td>1.0</td>\n",
       "    </tr>\n",
       "    <tr>\n",
       "      <th>k25_r0_alpha0.010_tau2.00_lamnan.model</th>\n",
       "      <td>0.538680</td>\n",
       "      <td>1.0</td>\n",
       "    </tr>\n",
       "    <tr>\n",
       "      <th>k25_r0_alpha0.025_tau2.00_lamnan.model</th>\n",
       "      <td>0.538680</td>\n",
       "      <td>1.0</td>\n",
       "    </tr>\n",
       "    <tr>\n",
       "      <th>k15_r0_alpha10000000000.000_tau2.00_lamnan.model</th>\n",
       "      <td>0.538680</td>\n",
       "      <td>1.0</td>\n",
       "    </tr>\n",
       "    <tr>\n",
       "      <th>k15_r0_alpha0.050_tau2.00_lamnan.model</th>\n",
       "      <td>0.538680</td>\n",
       "      <td>1.0</td>\n",
       "    </tr>\n",
       "    <tr>\n",
       "      <th>k25_r0_alpha0.050_tau2.00_lamnan.model</th>\n",
       "      <td>0.538680</td>\n",
       "      <td>1.0</td>\n",
       "    </tr>\n",
       "    <tr>\n",
       "      <th>k15_r0_alpha0.025_tau2.00_lamnan.model</th>\n",
       "      <td>0.538680</td>\n",
       "      <td>1.0</td>\n",
       "    </tr>\n",
       "    <tr>\n",
       "      <th>k30_r0_alpha0.050_tau2.00_lamnan.model</th>\n",
       "      <td>0.538680</td>\n",
       "      <td>1.0</td>\n",
       "    </tr>\n",
       "    <tr>\n",
       "      <th>k25_r0_alpha10000000000.000_tau2.00_lamnan.model</th>\n",
       "      <td>0.538680</td>\n",
       "      <td>1.0</td>\n",
       "    </tr>\n",
       "    <tr>\n",
       "      <th>k30_r0_alpha0.010_tau2.00_lamnan.model</th>\n",
       "      <td>0.538680</td>\n",
       "      <td>1.0</td>\n",
       "    </tr>\n",
       "    <tr>\n",
       "      <th>k20_r0_alpha0.025_tau2.00_lamnan.model</th>\n",
       "      <td>0.538680</td>\n",
       "      <td>1.0</td>\n",
       "    </tr>\n",
       "    <tr>\n",
       "      <th>k30_r0_alpha0.025_tau2.00_lamnan.model</th>\n",
       "      <td>0.538680</td>\n",
       "      <td>1.0</td>\n",
       "    </tr>\n",
       "    <tr>\n",
       "      <th>k30_r0_alpha10000000000.000_tau2.00_lamnan.model</th>\n",
       "      <td>0.538680</td>\n",
       "      <td>1.0</td>\n",
       "    </tr>\n",
       "    <tr>\n",
       "      <th>k10_r0_alpha0.010_tau2.00_lamnan.model</th>\n",
       "      <td>0.538680</td>\n",
       "      <td>1.0</td>\n",
       "    </tr>\n",
       "    <tr>\n",
       "      <th>k10_r1_alpha10000000000.000_tau2.00_lamnan.model</th>\n",
       "      <td>0.530483</td>\n",
       "      <td>18.0</td>\n",
       "    </tr>\n",
       "    <tr>\n",
       "      <th>k10_r1_alpha0.010_tau2.00_lamnan.model</th>\n",
       "      <td>0.530483</td>\n",
       "      <td>18.0</td>\n",
       "    </tr>\n",
       "    <tr>\n",
       "      <th>k10_r0_alpha0.025_tau2.00_lamnan.model</th>\n",
       "      <td>0.530483</td>\n",
       "      <td>18.0</td>\n",
       "    </tr>\n",
       "  </tbody>\n",
       "</table>\n",
       "</div>"
      ],
      "text/plain": [
       "metric                                               auprc  rank_auprc\n",
       "model_name                                                            \n",
       "k15_r0_alpha0.010_tau2.00_lamnan.model            0.538680         1.0\n",
       "k20_r0_alpha0.010_tau2.00_lamnan.model            0.538680         1.0\n",
       "k20_r0_alpha0.050_tau2.00_lamnan.model            0.538680         1.0\n",
       "k20_r0_alpha10000000000.000_tau2.00_lamnan.model  0.538680         1.0\n",
       "k25_r0_alpha0.010_tau2.00_lamnan.model            0.538680         1.0\n",
       "k25_r0_alpha0.025_tau2.00_lamnan.model            0.538680         1.0\n",
       "k15_r0_alpha10000000000.000_tau2.00_lamnan.model  0.538680         1.0\n",
       "k15_r0_alpha0.050_tau2.00_lamnan.model            0.538680         1.0\n",
       "k25_r0_alpha0.050_tau2.00_lamnan.model            0.538680         1.0\n",
       "k15_r0_alpha0.025_tau2.00_lamnan.model            0.538680         1.0\n",
       "k30_r0_alpha0.050_tau2.00_lamnan.model            0.538680         1.0\n",
       "k25_r0_alpha10000000000.000_tau2.00_lamnan.model  0.538680         1.0\n",
       "k30_r0_alpha0.010_tau2.00_lamnan.model            0.538680         1.0\n",
       "k20_r0_alpha0.025_tau2.00_lamnan.model            0.538680         1.0\n",
       "k30_r0_alpha0.025_tau2.00_lamnan.model            0.538680         1.0\n",
       "k30_r0_alpha10000000000.000_tau2.00_lamnan.model  0.538680         1.0\n",
       "k10_r0_alpha0.010_tau2.00_lamnan.model            0.538680         1.0\n",
       "k10_r1_alpha10000000000.000_tau2.00_lamnan.model  0.530483        18.0\n",
       "k10_r1_alpha0.010_tau2.00_lamnan.model            0.530483        18.0\n",
       "k10_r0_alpha0.025_tau2.00_lamnan.model            0.530483        18.0"
      ]
     },
     "execution_count": 189,
     "metadata": {},
     "output_type": "execute_result"
    }
   ],
   "source": [
    "cont_pvt = cont_res.pivot(index='model_name', columns='metric', values='score')\n",
    "cont_pvt['rank_auprc'] = cont_pvt['auprc'].rank(method='min', ascending=False)\n",
    "cont_pvt.sort_values('rank_auprc').head(20)"
   ]
  },
  {
   "cell_type": "code",
   "execution_count": 190,
   "metadata": {},
   "outputs": [],
   "source": [
    "import os\n",
    "save_path = \"/dfs/scratch1/gmachi/k2/K2/src/outputs/k2-train/gridesearch-auprc\"\n",
    "save_file = os.path.join(save_path, encoder+\".csv\")\n",
    "cont_pvt.to_csv(save_file)"
   ]
  },
  {
   "cell_type": "markdown",
   "metadata": {},
   "source": [
    "Reminder: Please run the above cells for all encoders -- Annotate the top models below:\n",
    "- tile2vec: k15_r0_alpha0.010_tau2.00_lamnan.model\n",
    "- vit: k10_r2_alpha0.010_tau2.00_lamnan.model\n",
    "- CLIP: k20_r0_alpha0.050_tau2.00_lamnan.model\n",
    "- PLIP: k10_r0_alpha0.010_tau2.00_lamnan.model"
   ]
  },
  {
   "cell_type": "markdown",
   "metadata": {},
   "source": [
    "# analyzing grid search: silhouette vs training auprc"
   ]
  },
  {
   "cell_type": "code",
   "execution_count": 39,
   "metadata": {},
   "outputs": [],
   "source": [
    "import os\n",
    "from utils import deserialize_model\n",
    "from sklearn.metrics import silhouette_samples, silhouette_score"
   ]
  },
  {
   "cell_type": "code",
   "execution_count": 43,
   "metadata": {},
   "outputs": [],
   "source": [
    "modelstrs = [\"tile2vec\",\"vit_iid\",\"clip\",\"plip\"]\n",
    "mapping_path = None\n",
    "embed_type = \"dict\"\n"
   ]
  },
  {
   "cell_type": "code",
   "execution_count": 70,
   "metadata": {},
   "outputs": [],
   "source": [
    "sil_dict = {}"
   ]
  },
  {
   "cell_type": "code",
   "execution_count": 74,
   "metadata": {},
   "outputs": [
    {
     "name": "stderr",
     "output_type": "stream",
     "text": [
      "/dfs/scratch1/gmachi/miniconda3/envs/kkenv/lib/python3.10/site-packages/sklearn/base.py:347: InconsistentVersionWarning: Trying to unpickle estimator KMeans from version 1.2.1 when using version 1.3.0. This might lead to breaking code or invalid results. Use at your own risk. For more info please refer to:\n",
      "https://scikit-learn.org/stable/model_persistence.html#security-maintainability-limitations\n",
      "  warnings.warn(\n",
      "/dfs/scratch1/gmachi/miniconda3/envs/kkenv/lib/python3.10/site-packages/sklearn/base.py:347: InconsistentVersionWarning: Trying to unpickle estimator KMeans from version 1.2.1 when using version 1.3.0. This might lead to breaking code or invalid results. Use at your own risk. For more info please refer to:\n",
      "https://scikit-learn.org/stable/model_persistence.html#security-maintainability-limitations\n",
      "  warnings.warn(\n",
      "/dfs/scratch1/gmachi/miniconda3/envs/kkenv/lib/python3.10/site-packages/sklearn/base.py:347: InconsistentVersionWarning: Trying to unpickle estimator KMeans from version 1.2.1 when using version 1.3.0. This might lead to breaking code or invalid results. Use at your own risk. For more info please refer to:\n",
      "https://scikit-learn.org/stable/model_persistence.html#security-maintainability-limitations\n",
      "  warnings.warn(\n",
      "/dfs/scratch1/gmachi/miniconda3/envs/kkenv/lib/python3.10/site-packages/sklearn/base.py:347: InconsistentVersionWarning: Trying to unpickle estimator KMeans from version 1.2.1 when using version 1.3.0. This might lead to breaking code or invalid results. Use at your own risk. For more info please refer to:\n",
      "https://scikit-learn.org/stable/model_persistence.html#security-maintainability-limitations\n",
      "  warnings.warn(\n",
      "/dfs/scratch1/gmachi/miniconda3/envs/kkenv/lib/python3.10/site-packages/sklearn/base.py:347: InconsistentVersionWarning: Trying to unpickle estimator KMeans from version 1.2.1 when using version 1.3.0. This might lead to breaking code or invalid results. Use at your own risk. For more info please refer to:\n",
      "https://scikit-learn.org/stable/model_persistence.html#security-maintainability-limitations\n",
      "  warnings.warn(\n"
     ]
    }
   ],
   "source": [
    "import os\n",
    "from utils import deserialize_model\n",
    "model_str = \"plip\"\n",
    "proc_path = \"/dfs/scratch1/gmachi/gcp_backup/k2/\" + model_str + \"_gridsearch/\" + model_str + \"-fitted_k2_processors\"\n",
    "\n",
    "S = {}\n",
    "for proc_file in os.listdir(proc_path):\n",
    "    proc_file = os.path.join(proc_path, proc_file)\n",
    "    proc = deserialize_model(proc_file)\n",
    "    k = proc.k\n",
    "    cluster_labels = proc.quantizer.labels_\n",
    "    X = proc.embedding_array\n",
    "    s = silhouette_score(X, cluster_labels)\n",
    "    S[k] = s\n",
    "sil_dict[model_str] = S"
   ]
  },
  {
   "cell_type": "code",
   "execution_count": 75,
   "metadata": {},
   "outputs": [
    {
     "data": {
      "text/plain": [
       "{'vit_iid': {10: 0.3647240851163467,\n",
       "  15: 0.3162938974287476,\n",
       "  30: 0.23868303560815454,\n",
       "  25: 0.2663106955546722,\n",
       "  20: 0.26309249284113584},\n",
       " 'tile2vec': {30: 0.4420643970765414,\n",
       "  15: 0.4980078365027722,\n",
       "  10: 0.5167613411526364,\n",
       "  20: 0.4848224559221231,\n",
       "  25: 0.46248168218180435},\n",
       " 'clip': {10: 0.11862899488734147,\n",
       "  20: 0.09489828053720029,\n",
       "  25: 0.0887282808312751,\n",
       "  30: 0.08710333712374545,\n",
       "  15: 0.09407186461369971},\n",
       " 'plip': {10: 0.13522270030643468,\n",
       "  15: 0.1279088824115152,\n",
       "  30: 0.10253938910429587,\n",
       "  25: 0.10711353957387001,\n",
       "  20: 0.11457200761487715}}"
      ]
     },
     "execution_count": 75,
     "metadata": {},
     "output_type": "execute_result"
    }
   ],
   "source": [
    "sil_dict"
   ]
  },
  {
   "cell_type": "code",
   "execution_count": 76,
   "metadata": {},
   "outputs": [],
   "source": [
    "from utils import serialize\n",
    "serialize(sil_dict, \"/dfs/scratch1/gmachi/k2/K2/src/outputs/k2-train/silhouettes.obj\")"
   ]
  },
  {
   "cell_type": "markdown",
   "metadata": {},
   "source": [
    "Now we plot gridsearch models (train/validation) to see how AUPRC is related to k or Silhouette scores"
   ]
  },
  {
   "cell_type": "code",
   "execution_count": 124,
   "metadata": {},
   "outputs": [],
   "source": [
    "import pandas as pd"
   ]
  },
  {
   "cell_type": "code",
   "execution_count": 125,
   "metadata": {},
   "outputs": [],
   "source": [
    "tile_df = pd.read_csv(\"/dfs/scratch1/gmachi/k2/K2/src/outputs/k2-train/gridesearch-auprc/tile2vec.csv\")\n",
    "tile_df['k'] = pd.to_numeric(tile_df[\"model_name\"].str.split(\"_\").str[0].str.split(\"k\").str[1])\n",
    "tile_df[\"sil\"] = tile_df[\"k\"].map(sil_dict[\"tile2vec\"])\n",
    "tile_df[\"encoder\"] = \"tile2vec\""
   ]
  },
  {
   "cell_type": "code",
   "execution_count": 126,
   "metadata": {},
   "outputs": [],
   "source": [
    "vit_df = pd.read_csv(\"/dfs/scratch1/gmachi/k2/K2/src/outputs/k2-train/gridesearch-auprc/vit_iid.csv\")\n",
    "vit_df['k'] = pd.to_numeric(vit_df[\"model_name\"].str.split(\"_\").str[0].str.split(\"k\").str[1])\n",
    "vit_df[\"sil\"] = vit_df[\"k\"].map(sil_dict[\"vit_iid\"])\n",
    "vit_df[\"encoder\"] = \"vit_iid\""
   ]
  },
  {
   "cell_type": "code",
   "execution_count": 127,
   "metadata": {},
   "outputs": [],
   "source": [
    "clip_df = pd.read_csv(\"/dfs/scratch1/gmachi/k2/K2/src/outputs/k2-train/gridesearch-auprc/clip.csv\")\n",
    "clip_df['k'] = pd.to_numeric(clip_df[\"model_name\"].str.split(\"_\").str[0].str.split(\"k\").str[1])\n",
    "clip_df[\"sil\"] = clip_df[\"k\"].map(sil_dict[\"clip\"])\n",
    "clip_df[\"encoder\"] = \"clip\""
   ]
  },
  {
   "cell_type": "code",
   "execution_count": 128,
   "metadata": {},
   "outputs": [],
   "source": [
    "plip_df = pd.read_csv(\"/dfs/scratch1/gmachi/k2/K2/src/outputs/k2-train/gridesearch-auprc/plip.csv\")\n",
    "plip_df['k'] = pd.to_numeric(plip_df[\"model_name\"].str.split(\"_\").str[0].str.split(\"k\").str[1])\n",
    "plip_df[\"sil\"] = plip_df[\"k\"].map(sil_dict[\"plip\"])\n",
    "plip_df[\"encoder\"] = \"plip\""
   ]
  },
  {
   "cell_type": "code",
   "execution_count": 129,
   "metadata": {},
   "outputs": [
    {
     "data": {
      "text/html": [
       "<div>\n",
       "<style scoped>\n",
       "    .dataframe tbody tr th:only-of-type {\n",
       "        vertical-align: middle;\n",
       "    }\n",
       "\n",
       "    .dataframe tbody tr th {\n",
       "        vertical-align: top;\n",
       "    }\n",
       "\n",
       "    .dataframe thead th {\n",
       "        text-align: right;\n",
       "    }\n",
       "</style>\n",
       "<table border=\"1\" class=\"dataframe\">\n",
       "  <thead>\n",
       "    <tr style=\"text-align: right;\">\n",
       "      <th></th>\n",
       "      <th>model_name</th>\n",
       "      <th>auprc</th>\n",
       "      <th>rank_auprc</th>\n",
       "      <th>k</th>\n",
       "      <th>sil</th>\n",
       "      <th>encoder</th>\n",
       "    </tr>\n",
       "  </thead>\n",
       "  <tbody>\n",
       "    <tr>\n",
       "      <th>0</th>\n",
       "      <td>k10_r0_alpha0.010_tau0.00_lamnan.model</td>\n",
       "      <td>0.101451</td>\n",
       "      <td>258.0</td>\n",
       "      <td>10</td>\n",
       "      <td>0.516761</td>\n",
       "      <td>tile2vec</td>\n",
       "    </tr>\n",
       "    <tr>\n",
       "      <th>1</th>\n",
       "      <td>k10_r0_alpha0.010_tau1.00_lamnan.model</td>\n",
       "      <td>0.111081</td>\n",
       "      <td>178.0</td>\n",
       "      <td>10</td>\n",
       "      <td>0.516761</td>\n",
       "      <td>tile2vec</td>\n",
       "    </tr>\n",
       "    <tr>\n",
       "      <th>2</th>\n",
       "      <td>k10_r0_alpha0.010_tau2.00_lamnan.model</td>\n",
       "      <td>0.538680</td>\n",
       "      <td>1.0</td>\n",
       "      <td>10</td>\n",
       "      <td>0.516761</td>\n",
       "      <td>tile2vec</td>\n",
       "    </tr>\n",
       "    <tr>\n",
       "      <th>3</th>\n",
       "      <td>k10_r0_alpha0.025_tau0.00_lamnan.model</td>\n",
       "      <td>0.097135</td>\n",
       "      <td>275.0</td>\n",
       "      <td>10</td>\n",
       "      <td>0.516761</td>\n",
       "      <td>tile2vec</td>\n",
       "    </tr>\n",
       "    <tr>\n",
       "      <th>4</th>\n",
       "      <td>k10_r0_alpha0.025_tau1.00_lamnan.model</td>\n",
       "      <td>0.111081</td>\n",
       "      <td>179.0</td>\n",
       "      <td>10</td>\n",
       "      <td>0.516761</td>\n",
       "      <td>tile2vec</td>\n",
       "    </tr>\n",
       "    <tr>\n",
       "      <th>...</th>\n",
       "      <td>...</td>\n",
       "      <td>...</td>\n",
       "      <td>...</td>\n",
       "      <td>...</td>\n",
       "      <td>...</td>\n",
       "      <td>...</td>\n",
       "    </tr>\n",
       "    <tr>\n",
       "      <th>1317</th>\n",
       "      <td>k30_r8_alpha0.050_tau2.00_lamnan.model</td>\n",
       "      <td>0.311171</td>\n",
       "      <td>142.0</td>\n",
       "      <td>30</td>\n",
       "      <td>0.102539</td>\n",
       "      <td>plip</td>\n",
       "    </tr>\n",
       "    <tr>\n",
       "      <th>1318</th>\n",
       "      <td>k30_r8_alpha10000000000.000_tau0.00_lamnan.model</td>\n",
       "      <td>0.269484</td>\n",
       "      <td>269.0</td>\n",
       "      <td>30</td>\n",
       "      <td>0.102539</td>\n",
       "      <td>plip</td>\n",
       "    </tr>\n",
       "    <tr>\n",
       "      <th>1319</th>\n",
       "      <td>k30_r8_alpha10000000000.000_tau1.00_lamnan.model</td>\n",
       "      <td>0.276215</td>\n",
       "      <td>242.0</td>\n",
       "      <td>30</td>\n",
       "      <td>0.102539</td>\n",
       "      <td>plip</td>\n",
       "    </tr>\n",
       "    <tr>\n",
       "      <th>1320</th>\n",
       "      <td>k30_r8_alpha10000000000.000_tau2.00_lamnan.model</td>\n",
       "      <td>0.311171</td>\n",
       "      <td>142.0</td>\n",
       "      <td>30</td>\n",
       "      <td>0.102539</td>\n",
       "      <td>plip</td>\n",
       "    </tr>\n",
       "    <tr>\n",
       "      <th>1321</th>\n",
       "      <td>k30_r8_alphanan_taunan_lam0.50.model</td>\n",
       "      <td>0.219088</td>\n",
       "      <td>297.0</td>\n",
       "      <td>30</td>\n",
       "      <td>0.102539</td>\n",
       "      <td>plip</td>\n",
       "    </tr>\n",
       "  </tbody>\n",
       "</table>\n",
       "<p>1322 rows × 6 columns</p>\n",
       "</div>"
      ],
      "text/plain": [
       "                                            model_name     auprc  rank_auprc  \\\n",
       "0               k10_r0_alpha0.010_tau0.00_lamnan.model  0.101451       258.0   \n",
       "1               k10_r0_alpha0.010_tau1.00_lamnan.model  0.111081       178.0   \n",
       "2               k10_r0_alpha0.010_tau2.00_lamnan.model  0.538680         1.0   \n",
       "3               k10_r0_alpha0.025_tau0.00_lamnan.model  0.097135       275.0   \n",
       "4               k10_r0_alpha0.025_tau1.00_lamnan.model  0.111081       179.0   \n",
       "...                                                ...       ...         ...   \n",
       "1317            k30_r8_alpha0.050_tau2.00_lamnan.model  0.311171       142.0   \n",
       "1318  k30_r8_alpha10000000000.000_tau0.00_lamnan.model  0.269484       269.0   \n",
       "1319  k30_r8_alpha10000000000.000_tau1.00_lamnan.model  0.276215       242.0   \n",
       "1320  k30_r8_alpha10000000000.000_tau2.00_lamnan.model  0.311171       142.0   \n",
       "1321              k30_r8_alphanan_taunan_lam0.50.model  0.219088       297.0   \n",
       "\n",
       "       k       sil   encoder  \n",
       "0     10  0.516761  tile2vec  \n",
       "1     10  0.516761  tile2vec  \n",
       "2     10  0.516761  tile2vec  \n",
       "3     10  0.516761  tile2vec  \n",
       "4     10  0.516761  tile2vec  \n",
       "...   ..       ...       ...  \n",
       "1317  30  0.102539      plip  \n",
       "1318  30  0.102539      plip  \n",
       "1319  30  0.102539      plip  \n",
       "1320  30  0.102539      plip  \n",
       "1321  30  0.102539      plip  \n",
       "\n",
       "[1322 rows x 6 columns]"
      ]
     },
     "execution_count": 129,
     "metadata": {},
     "output_type": "execute_result"
    }
   ],
   "source": [
    "df_merged = pd.concat([tile_df, vit_df, clip_df, plip_df], ignore_index=True, sort=False)\n",
    "df_merged\n"
   ]
  },
  {
   "cell_type": "code",
   "execution_count": 130,
   "metadata": {},
   "outputs": [],
   "source": [
    "import seaborn as sns\n",
    "import matplotlib.pyplot as plt"
   ]
  },
  {
   "cell_type": "code",
   "execution_count": 154,
   "metadata": {},
   "outputs": [],
   "source": [
    "def setup_figure(width=6, height=3):\n",
    "    sns.set(style='white')\n",
    "    sns.set_context('paper')\n",
    "    plt.figure(figsize=(width,height))"
   ]
  },
  {
   "cell_type": "code",
   "execution_count": 159,
   "metadata": {},
   "outputs": [
    {
     "name": "stderr",
     "output_type": "stream",
     "text": [
      "/dfs/scratch1/gmachi/miniconda3/envs/kkenv/lib/python3.10/site-packages/seaborn/_oldcore.py:1119: FutureWarning: use_inf_as_na option is deprecated and will be removed in a future version. Convert inf values to NaN before operating instead.\n",
      "  with pd.option_context('mode.use_inf_as_na', True):\n",
      "/dfs/scratch1/gmachi/miniconda3/envs/kkenv/lib/python3.10/site-packages/seaborn/_oldcore.py:1119: FutureWarning: use_inf_as_na option is deprecated and will be removed in a future version. Convert inf values to NaN before operating instead.\n",
      "  with pd.option_context('mode.use_inf_as_na', True):\n"
     ]
    },
    {
     "data": {
      "image/png": "[encoded data removed]",
      "text/plain": [
       "<Figure size 300x300 with 1 Axes>"
      ]
     },
     "metadata": {},
     "output_type": "display_data"
    }
   ],
   "source": [
    "setup_figure(3,3)\n",
    "g = sns.lineplot(data=df_merged, x=\"k\", y=\"auprc\", hue=\"encoder\")\n",
    "# sns.scatterplot(data=df_merged, x=\"k\", y=\"auprc\", hue=\"encoder\")\n",
    "# g.set_xscale(\"log\")\n",
    "# g.set_yscale(\"log\")\n",
    "# ax2 = plt.twinx()\n",
    "# sns.lineplot(data=df_merged, x=\"k\", y=\"sil\", hue=\"encoder\", ax=ax2)\n",
    "# _ = g.set(xlabel=\"k\", ylabel=\"Segmentation AUPRC\")\n",
    "g.set_title(\"Camelyon16\", fontsize=15)\n",
    "# plt.title(\"Hi\", fontsize=15)\n",
    "g.set_xlabel('k', fontsize=13)\n",
    "g.set_ylabel('Segmentation AUPRC', fontsize=13)\n",
    "g.tick_params(labelsize=13)"
   ]
  },
  {
   "cell_type": "code",
   "execution_count": 152,
   "metadata": {},
   "outputs": [],
   "source": [
    "# g = sns.lineplot(data=df_merged, x=\"sil\", y=\"auprc\", hue=\"encoder\")\n",
    "# g.set_xscale(\"log\")\n",
    "# # g.set_yscale(\"log\")\n",
    "# # ax2 = plt.twinx()\n",
    "# # sns.lineplot(data=plip_df, x=\"k\", y=\"sil\", ax=ax2)\n",
    "# _ = g.set(xlabel=\"Silhouette Score\", ylabel=\"Segmentation AUPRC\")\n",
    "# g.set_title(\"Impact of Silhouette on segmentation\")"
   ]
  },
  {
   "cell_type": "code",
   "execution_count": null,
   "metadata": {},
   "outputs": [],
   "source": []
  }
 ],
 "metadata": {
  "kernelspec": {
   "display_name": "Python 3",
   "language": "python",
   "name": "python3"
  },
  "language_info": {
   "codemirror_mode": {
    "name": "ipython",
    "version": 3
   },
   "file_extension": ".py",
   "mimetype": "text/x-python",
   "name": "python",
   "nbconvert_exporter": "python",
   "pygments_lexer": "ipython3",
   "version": "3.10.13"
  },
  "orig_nbformat": 4
 },
 "nbformat": 4,
 "nbformat_minor": 2
}
