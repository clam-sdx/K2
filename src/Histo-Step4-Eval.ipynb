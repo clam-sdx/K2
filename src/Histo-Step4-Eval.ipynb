{
 "cells": [
  {
   "cell_type": "code",
   "execution_count": 3,
   "metadata": {},
   "outputs": [
    {
     "name": "stdout",
     "output_type": "stream",
     "text": [
      "The autoreload extension is already loaded. To reload it, use:\n",
      "  %reload_ext autoreload\n"
     ]
    }
   ],
   "source": [
    "%load_ext autoreload\n",
    "%autoreload 2"
   ]
  },
  {
   "cell_type": "code",
   "execution_count": 4,
   "metadata": {},
   "outputs": [],
   "source": [
    "encoder_name = \"plip\""
   ]
  },
  {
   "cell_type": "code",
   "execution_count": 5,
   "metadata": {},
   "outputs": [
    {
     "name": "stdout",
     "output_type": "stream",
     "text": [
      "325 models from grid search\n"
     ]
    },
    {
     "data": {
      "text/plain": [
       "('k15_r1_alpha0.010_tau1.00_lamnan.model',\n",
       " 0.9,\n",
       " 0.24581090899868516,\n",
       " 0.24581090899868516,\n",
       " 0.18061845109950495)"
      ]
     },
     "execution_count": 5,
     "metadata": {},
     "output_type": "execute_result"
    }
   ],
   "source": [
    "from model_selection import top_model_confusion\n",
    "from utils import serialize, deserialize, serialize_model, deserialize_model\n",
    "import os\n",
    "\n",
    "metric_str = \"precision\"\n",
    "results_cache_dir = \"/home/k2/K2/src/outputs/plip_gridsearch/\" + encoder_name + \"-eval_results\"\n",
    "model_cache_dir = \"/home/k2/K2/src/outputs/plip_gridsearch/\" + encoder_name + \"-fitted_k2_models\"\n",
    "print(len(os.listdir(model_cache_dir)), \"models from grid search\")\n",
    "top_model_confusion(metric_str, results_cache_dir, model_cache_dir)"
   ]
  },
  {
   "cell_type": "code",
   "execution_count": 6,
   "metadata": {},
   "outputs": [
    {
     "name": "stdout",
     "output_type": "stream",
     "text": [
      "msd\n",
      "('k15_r8_alpha0.010_tau2.00_lamnan.model', 0.0, 48.05555971869213, 48.05555971869213, 19.98864996366044)\n",
      "specificity\n",
      "('k30_r8_alpha0.025_tau0.00_lamnan.model', 1.0, 1.0, 0.9948641071349688, 0.8828828132263375)\n",
      "precision\n",
      "('k15_r1_alpha0.010_tau1.00_lamnan.model', 0.9, 0.24581090899868516, 0.24581090899868516, 0.18061845109950495)\n",
      "fnr\n",
      "('k30_r8_alpha0.025_tau0.00_lamnan.model', 1.0, 0.48847926267281105, 0.48784708335758614, 0.45479912076025814)\n",
      "fdr\n",
      "('k10_r0_alpha0.010_tau0.00_lamnan.model', 0.8, 0.9393045834754674, 0.9393045834754674, 0.9182865955954662)\n",
      "recall\n",
      "('k10_r4_alpha0.050_tau1.00_lamnan.model', '>', 1.0, 0.48847926267281105, 0.45479912076025814)\n",
      "accuracy\n",
      "('k30_r8_alpha0.025_tau0.00_lamnan.model', 1.0, 0.9325953958523177, 0.8605208715339892, 0.7577077166794478)\n",
      "balanced_acc\n",
      "('k15_r1_alpha0.010_tau1.00_lamnan.model', 0.9, 0.5921719997259044, 0.07472264580445698, nan)\n",
      "correlation\n",
      "('k15_r2_alpha0.050_tau2.00_lamnan.model', 0.1, 0.11729112985750308, 0.12372586216225412, 0.0800065571105884)\n",
      "threat_score\n"
     ]
    },
    {
     "name": "stderr",
     "output_type": "stream",
     "text": [
      "/home/k2/K2/src/metrics.py:114: RuntimeWarning: invalid value encountered in scalar divide\n",
      "  return tp / (tp + fn + fp)\n"
     ]
    },
    {
     "name": "stdout",
     "output_type": "stream",
     "text": [
      "('k20_r1_alpha0.010_tau2.00_lamnan.model', 0.0, 0.1130013016526357, 0.03706801418339711, 0.03570368088057988)\n",
      "prevalence\n",
      "('k30_r8_alpha0.025_tau0.00_lamnan.model', 0.0, 0.06740460414768223, 0.0, 0.0)\n",
      "dice\n",
      "('k15_r0_alphanan_taunan_lam0.50.model', '<', 0.5462759730622698, 0.4674934501236061, 0.45433393323783583)\n",
      "jaccard\n",
      "('k15_r0_alphanan_taunan_lam0.50.model', '<', 0.5281777089478673, 0.47722197659580917, 0.4715263193460635)\n"
     ]
    }
   ],
   "source": [
    "valid_metrics = [\"msd\", \"specificity\", \"precision\", \"fnr\", \"fdr\", \"recall\", \"accuracy\", \"balanced_acc\", \"correlation\", \"threat_score\", \"prevalence\", \"dice\", \"jaccard\"]\n",
    "for metric_str in valid_metrics:\n",
    "    print(metric_str)\n",
    "    results = top_model_confusion(metric_str,results_cache_dir, model_cache_dir)\n",
    "    print(results)\n"
   ]
  },
  {
   "cell_type": "code",
   "execution_count": 7,
   "metadata": {},
   "outputs": [
    {
     "name": "stdout",
     "output_type": "stream",
     "text": [
      "msd\n",
      "('k15_r8_alpha0.010_tau2.00_lamnan.model', 0.0, 39.722271631036854, 39.722271631036854, 19.516530380415716)\n",
      "specificity\n",
      "('k30_r8_alpha0.025_tau0.00_lamnan.model', 1.0, 1.0, 0.9937246056249519, 0.8927047402126304)\n",
      "precision\n",
      "('k30_r8_alpha0.025_tau0.00_lamnan.model', 0.0, 0.0, 0.0, 0.0)\n",
      "fnr\n",
      "('k30_r8_alpha0.025_tau0.00_lamnan.model', 0.0, 0.0, 0.0, 0.0)\n",
      "fdr\n",
      "('k30_r8_alpha0.025_tau0.00_lamnan.model', 0.0, 1.0, 1.0, 1.0)\n",
      "recall\n",
      "('k30_r8_alpha0.025_tau0.00_lamnan.model', 0.0, 1.0, 0.0, 0.0)\n",
      "accuracy\n",
      "('k30_r8_alpha0.025_tau0.00_lamnan.model', 1.0, 1.0, 0.9937246056249519, 0.8927047402126304)\n",
      "balanced_acc\n",
      "('k30_r8_alpha0.025_tau0.00_lamnan.model', 0.0, 0.5, 0.0, nan)\n",
      "correlation\n",
      "('k30_r8_alpha0.025_tau0.00_lamnan.model', 0.0, 0.0, 0.0, 0.0)\n",
      "threat_score\n",
      "('k30_r8_alpha0.025_tau0.00_lamnan.model', 0.0, 0.0, 0.0, 0.0)\n",
      "prevalence\n",
      "('k30_r8_alpha0.025_tau0.00_lamnan.model', 0.0, 0.0, 0.0, 0.0)\n",
      "dice\n",
      "('k30_r8_alpha0.025_tau0.00_lamnan.model', 1.0, 1.0, 1.0, 1.0)\n",
      "jaccard\n",
      "('k30_r8_alpha0.025_tau0.00_lamnan.model', 1.0, 1.0, 1.0, 1.0)\n"
     ]
    }
   ],
   "source": [
    "valid_metrics = [\"msd\", \"specificity\", \"precision\", \"fnr\", \"fdr\", \"recall\", \"accuracy\", \"balanced_acc\", \"correlation\", \"threat_score\", \"prevalence\", \"dice\", \"jaccard\"]\n",
    "for metric_str in valid_metrics:\n",
    "    print(metric_str)\n",
    "    results = top_model_confusion(metric_str, results_cache_dir, model_cache_dir, eval_class=0)\n",
    "    print(results)"
   ]
  },
  {
   "cell_type": "code",
   "execution_count": 125,
   "metadata": {},
   "outputs": [
    {
     "name": "stdout",
     "output_type": "stream",
     "text": [
      "msd\n",
      "('k15_r8_alpha0.010_tau2.00_lamnan.model', 0.0, 56.78192743312363, 56.78192743312363, 21.597363063559772)\n",
      "specificity\n",
      "('k30_r8_alpha0.025_tau0.00_lamnan.model', 1.0, 1.0, 0.9960573587162127, 0.9318317742683435)\n",
      "precision\n",
      "('k15_r1_alpha0.010_tau1.00_lamnan.model', 0.9, 0.5032166721954214, 0.5032166721954214, 0.3697566404584205)\n",
      "fnr\n",
      "('k30_r8_alpha0.025_tau0.00_lamnan.model', 1.0, 1.0, 0.9987058215905301, 0.9310510302356225)\n",
      "fdr\n",
      "('k10_r0_alphanan_taunan_lam0.50.model', '<', 0.9091263546762496, 0.9091263546762496, 0.833599420925658)\n",
      "recall\n",
      "('k10_r4_alpha0.050_tau1.00_lamnan.model', '>', 1.0, 1.0, 0.9310510302356224)\n",
      "accuracy\n",
      "('k15_r0_alpha0.025_tau0.00_lamnan.model', 0.9, 0.8809393240368446, 0.727996033274774, 0.6655819449625109)\n",
      "balanced_acc\n",
      "('k15_r1_alpha0.010_tau1.00_lamnan.model', 0.9, 0.6886917352879367, 0.15296994471289804, nan)\n",
      "correlation\n",
      "('k15_r2_alpha0.050_tau2.00_lamnan.model', 0.1, 0.2401148601799827, 0.25328784989819947, 0.16378700842450641)\n",
      "threat_score\n",
      "('k20_r1_alpha0.010_tau2.00_lamnan.model', 0.0, 0.2313328533832259, 0.2313328533832259, 0.1660636545480476)\n",
      "prevalence\n",
      "('k30_r8_alpha0.025_tau0.00_lamnan.model', 0.0, 0.1379886707551608, 0.0, 0.0)\n",
      "dice\n",
      "('k20_r1_alpha0.010_tau2.00_lamnan.model', 0.0, 0.3079332865497752, 0.3079332865497752, 0.23415107236661759)\n",
      "jaccard\n",
      "('k20_r1_alpha0.010_tau2.00_lamnan.model', 0.0, 0.2313328533832259, 0.2313328533832259, 0.1660636545480476)\n"
     ]
    }
   ],
   "source": [
    "valid_metrics = [\"msd\", \"specificity\", \"precision\", \"fnr\", \"fdr\", \"recall\", \"accuracy\", \"balanced_acc\", \"correlation\", \"threat_score\", \"prevalence\", \"dice\", \"jaccard\"]\n",
    "for metric_str in valid_metrics:\n",
    "    print(metric_str)\n",
    "    results = top_model_confusion(metric_str, results_cache_dir, model_cache_dir, eval_class=1)\n",
    "    print(results)"
   ]
  },
  {
   "cell_type": "code",
   "execution_count": 126,
   "metadata": {},
   "outputs": [
    {
     "name": "stdout",
     "output_type": "stream",
     "text": [
      "auroc\n",
      "('k15_r0_alphanan_taunan_lam0.50.model', 0.6537480877103519)\n",
      "auprc\n",
      "('k10_r8_alpha10000000000.000_tau1.00_lamnan.model', 0.7530313697404826)\n",
      "ap\n",
      "('k10_r2_alphanan_taunan_lam0.50.model', 0.6649129225828838)\n"
     ]
    }
   ],
   "source": [
    "from model_selection import top_model_preds\n",
    "valid_metrics = [\"auroc\", \"auprc\", \"ap\"]\n",
    "for metric_str in valid_metrics:\n",
    "    print(metric_str)\n",
    "    results = top_model_preds(metric_str, results_cache_dir, model_cache_dir)\n",
    "    print(results)"
   ]
  },
  {
   "cell_type": "code",
   "execution_count": 127,
   "metadata": {},
   "outputs": [
    {
     "name": "stdout",
     "output_type": "stream",
     "text": [
      "auroc\n",
      "('k15_r2_alpha0.050_tau2.00_lamnan.model', 0.6872710426823875)\n",
      "auprc\n",
      "('k10_r0_alpha10000000000.000_tau2.00_lamnan.model', 0.569017124065061)\n",
      "ap\n",
      "('k15_r2_alpha0.050_tau2.00_lamnan.model', 0.3651190603962344)\n"
     ]
    }
   ],
   "source": [
    "from model_selection import top_model_continuous_avg\n",
    "valid_metrics = [\"auroc\", \"auprc\", \"ap\"]\n",
    "for metric_str in valid_metrics:\n",
    "    print(metric_str)\n",
    "    results = top_model_continuous_avg(metric_str, results_cache_dir, model_cache_dir)\n",
    "    print(results)"
   ]
  },
  {
   "cell_type": "code",
   "execution_count": 128,
   "metadata": {
    "notebookRunGroups": {
     "groupValue": "2"
    }
   },
   "outputs": [
    {
     "name": "stdout",
     "output_type": "stream",
     "text": [
      "auroc\n",
      "('k20_r8_alpha10000000000.000_tau2.00_lamnan.model', 0.7399451237882797)\n",
      "auprc\n",
      "('k10_r8_alpha10000000000.000_tau1.00_lamnan.model', 0.4312084507514163)\n",
      "ap\n",
      "('k15_r0_alpha0.050_tau0.00_lamnan.model', 0.2944118184795374)\n"
     ]
    }
   ],
   "source": [
    "from model_selection import top_model_continuous_iid\n",
    "valid_metrics = [\"auroc\", \"auprc\", \"ap\"]\n",
    "linearized_cache_dir = \"/home/k2/K2/src/outputs/plip_gridsearch/plip-linearized_data\"\n",
    "for metric_str in valid_metrics:\n",
    "    print(metric_str)\n",
    "    results = top_model_continuous_iid(metric_str, model_cache_dir, linearized_cache_dir)\n",
    "    print(results)"
   ]
  },
  {
   "cell_type": "code",
   "execution_count": null,
   "metadata": {},
   "outputs": [],
   "source": []
  },
  {
   "cell_type": "code",
   "execution_count": null,
   "metadata": {},
   "outputs": [],
   "source": []
  },
  {
   "cell_type": "code",
   "execution_count": null,
   "metadata": {},
   "outputs": [],
   "source": []
  },
  {
   "cell_type": "code",
   "execution_count": null,
   "metadata": {},
   "outputs": [],
   "source": []
  },
  {
   "cell_type": "code",
   "execution_count": 77,
   "metadata": {},
   "outputs": [],
   "source": [
    "import pandas as pd\n",
    "import numpy as np\n",
    "import altair as alt"
   ]
  },
  {
   "cell_type": "code",
   "execution_count": 82,
   "metadata": {},
   "outputs": [],
   "source": [
    "df1=pd.DataFrame(10*np.random.rand(4,2),index=[\"tile2vec\",\"ViT\",\"CLIP\",\"PLIP\"],columns=[\"baseline\",\"K2\"])\n",
    "df2=pd.DataFrame(10*np.random.rand(4,2),index=[\"tile2vec\",\"ViT\",\"CLIP\",\"PLIP\"],columns=[\"baseline\",\"K2\"])\n",
    "df3=pd.DataFrame(10*np.random.rand(4,2),index=[\"tile2vec\",\"ViT\",\"CLIP\",\"PLIP\"],columns=[\"baseline\",\"K2\"])\n",
    "\n",
    "def prep_df(df, name):\n",
    "    df = df.stack().reset_index()\n",
    "    df.columns = ['c1', 'c2', 'values']\n",
    "    df['DF'] = name\n",
    "    return df\n",
    "\n",
    "df1 = prep_df(df1, 'DF1')\n",
    "df2 = prep_df(df2, 'DF2')\n",
    "df3 = prep_df(df3, 'DF3')\n",
    "\n",
    "df = pd.concat([df1, df2, df3])"
   ]
  },
  {
   "cell_type": "code",
   "execution_count": 86,
   "metadata": {},
   "outputs": [
    {
     "data": {
      "text/html": [
       "\n",
       "<style>\n",
       "  #altair-viz-fe6febf83b1c457488bb46f25567687f.vega-embed {\n",
       "    width: 100%;\n",
       "    display: flex;\n",
       "  }\n",
       "\n",
       "  #altair-viz-fe6febf83b1c457488bb46f25567687f.vega-embed details,\n",
       "  #altair-viz-fe6febf83b1c457488bb46f25567687f.vega-embed details summary {\n",
       "    position: relative;\n",
       "  }\n",
       "</style>\n",
       "<div id=\"altair-viz-fe6febf83b1c457488bb46f25567687f\"></div>\n",
       "<script type=\"text/javascript\">\n",
       "  var VEGA_DEBUG = (typeof VEGA_DEBUG == \"undefined\") ? {} : VEGA_DEBUG;\n",
       "  (function(spec, embedOpt){\n",
       "    let outputDiv = document.currentScript.previousElementSibling;\n",
       "    if (outputDiv.id !== \"altair-viz-fe6febf83b1c457488bb46f25567687f\") {\n",
       "      outputDiv = document.getElementById(\"altair-viz-fe6febf83b1c457488bb46f25567687f\");\n",
       "    }\n",
       "    const paths = {\n",
       "      \"vega\": \"https://cdn.jsdelivr.net/npm/vega@5?noext\",\n",
       "      \"vega-lib\": \"https://cdn.jsdelivr.net/npm/vega-lib?noext\",\n",
       "      \"vega-lite\": \"https://cdn.jsdelivr.net/npm/vega-lite@5.14.1?noext\",\n",
       "      \"vega-embed\": \"https://cdn.jsdelivr.net/npm/vega-embed@6?noext\",\n",
       "    };\n",
       "\n",
       "    function maybeLoadScript(lib, version) {\n",
       "      var key = `${lib.replace(\"-\", \"\")}_version`;\n",
       "      return (VEGA_DEBUG[key] == version) ?\n",
       "        Promise.resolve(paths[lib]) :\n",
       "        new Promise(function(resolve, reject) {\n",
       "          var s = document.createElement('script');\n",
       "          document.getElementsByTagName(\"head\")[0].appendChild(s);\n",
       "          s.async = true;\n",
       "          s.onload = () => {\n",
       "            VEGA_DEBUG[key] = version;\n",
       "            return resolve(paths[lib]);\n",
       "          };\n",
       "          s.onerror = () => reject(`Error loading script: ${paths[lib]}`);\n",
       "          s.src = paths[lib];\n",
       "        });\n",
       "    }\n",
       "\n",
       "    function showError(err) {\n",
       "      outputDiv.innerHTML = `<div class=\"error\" style=\"color:red;\">${err}</div>`;\n",
       "      throw err;\n",
       "    }\n",
       "\n",
       "    function displayChart(vegaEmbed) {\n",
       "      vegaEmbed(outputDiv, spec, embedOpt)\n",
       "        .catch(err => showError(`Javascript Error: ${err.message}<br>This usually means there's a typo in your chart specification. See the javascript console for the full traceback.`));\n",
       "    }\n",
       "\n",
       "    if(typeof define === \"function\" && define.amd) {\n",
       "      requirejs.config({paths});\n",
       "      require([\"vega-embed\"], displayChart, err => showError(`Error loading script: ${err.message}`));\n",
       "    } else {\n",
       "      maybeLoadScript(\"vega\", \"5\")\n",
       "        .then(() => maybeLoadScript(\"vega-lite\", \"5.14.1\"))\n",
       "        .then(() => maybeLoadScript(\"vega-embed\", \"6\"))\n",
       "        .catch(showError)\n",
       "        .then(() => displayChart(vegaEmbed));\n",
       "    }\n",
       "  })({\"config\": {\"view\": {\"continuousWidth\": 300, \"continuousHeight\": 300, \"strokeOpacity\": 0}}, \"data\": {\"name\": \"data-06ce5fd03a921b5b4a750ae9be80f5da\"}, \"mark\": {\"type\": \"bar\"}, \"encoding\": {\"color\": {\"field\": \"DF\", \"scale\": {\"range\": [\"#96ceb4\", \"#ffcc5c\", \"#ff6f69\"]}, \"type\": \"nominal\"}, \"column\": {\"field\": \"c1\", \"title\": null, \"type\": \"nominal\"}, \"x\": {\"field\": \"c2\", \"title\": null, \"type\": \"nominal\"}, \"y\": {\"aggregate\": \"sum\", \"axis\": {\"grid\": false, \"title\": null}, \"field\": \"values\", \"type\": \"quantitative\"}}, \"$schema\": \"https://vega.github.io/schema/vega-lite/v5.14.1.json\", \"datasets\": {\"data-06ce5fd03a921b5b4a750ae9be80f5da\": [{\"c1\": \"tile2vec\", \"c2\": \"baseline\", \"values\": 1.6649960797041974, \"DF\": \"DF1\"}, {\"c1\": \"tile2vec\", \"c2\": \"K2\", \"values\": 8.435226862708218, \"DF\": \"DF1\"}, {\"c1\": \"ViT\", \"c2\": \"baseline\", \"values\": 7.105579867344009, \"DF\": \"DF1\"}, {\"c1\": \"ViT\", \"c2\": \"K2\", \"values\": 6.636919668486813, \"DF\": \"DF1\"}, {\"c1\": \"CLIP\", \"c2\": \"baseline\", \"values\": 0.7810147550143354, \"DF\": \"DF1\"}, {\"c1\": \"CLIP\", \"c2\": \"K2\", \"values\": 1.9813671078391915, \"DF\": \"DF1\"}, {\"c1\": \"PLIP\", \"c2\": \"baseline\", \"values\": 8.353506877156248, \"DF\": \"DF1\"}, {\"c1\": \"PLIP\", \"c2\": \"K2\", \"values\": 8.823860434138052, \"DF\": \"DF1\"}, {\"c1\": \"tile2vec\", \"c2\": \"baseline\", \"values\": 8.286406210002626, \"DF\": \"DF2\"}, {\"c1\": \"tile2vec\", \"c2\": \"K2\", \"values\": 6.017695492038049, \"DF\": \"DF2\"}, {\"c1\": \"ViT\", \"c2\": \"baseline\", \"values\": 9.664501217304519, \"DF\": \"DF2\"}, {\"c1\": \"ViT\", \"c2\": \"K2\", \"values\": 3.0320375301564964, \"DF\": \"DF2\"}, {\"c1\": \"CLIP\", \"c2\": \"baseline\", \"values\": 7.119812527576752, \"DF\": \"DF2\"}, {\"c1\": \"CLIP\", \"c2\": \"K2\", \"values\": 2.2190983473767787, \"DF\": \"DF2\"}, {\"c1\": \"PLIP\", \"c2\": \"baseline\", \"values\": 5.794199385363605, \"DF\": \"DF2\"}, {\"c1\": \"PLIP\", \"c2\": \"K2\", \"values\": 0.04835708310861109, \"DF\": \"DF2\"}, {\"c1\": \"tile2vec\", \"c2\": \"baseline\", \"values\": 8.242416727331776, \"DF\": \"DF3\"}, {\"c1\": \"tile2vec\", \"c2\": \"K2\", \"values\": 2.588259196421135, \"DF\": \"DF3\"}, {\"c1\": \"ViT\", \"c2\": \"baseline\", \"values\": 7.976605585675616, \"DF\": \"DF3\"}, {\"c1\": \"ViT\", \"c2\": \"K2\", \"values\": 8.399177058906913, \"DF\": \"DF3\"}, {\"c1\": \"CLIP\", \"c2\": \"baseline\", \"values\": 8.856108824548434, \"DF\": \"DF3\"}, {\"c1\": \"CLIP\", \"c2\": \"K2\", \"values\": 9.465034066529162, \"DF\": \"DF3\"}, {\"c1\": \"PLIP\", \"c2\": \"baseline\", \"values\": 7.242505591922041, \"DF\": \"DF3\"}, {\"c1\": \"PLIP\", \"c2\": \"K2\", \"values\": 1.4194131911603447, \"DF\": \"DF3\"}]}}, {\"mode\": \"vega-lite\"});\n",
       "</script>"
      ],
      "text/plain": [
       "alt.Chart(...)"
      ]
     },
     "execution_count": 86,
     "metadata": {},
     "output_type": "execute_result"
    }
   ],
   "source": [
    "alt.Chart(df).mark_bar().encode(\n",
    "\n",
    "    # tell Altair which field to group columns on\n",
    "    x=alt.X('c2:N', title=None),\n",
    "\n",
    "    # tell Altair which field to use as Y values and how to calculate\n",
    "    y=alt.Y('sum(values):Q',axis=alt.Axis(grid=False,title=None)),\n",
    "\n",
    "    # tell Altair which field to use to use as the set of columns to be  represented in each group\n",
    "    column=alt.Column('c1:N', title=None),\n",
    "\n",
    "    # tell Altair which field to use for color segmentation \n",
    "    color=alt.Color('DF:N',scale=alt.Scale(range=['#96ceb4', '#ffcc5c','#ff6f69'],),)).configure_view(strokeOpacity=0)\n",
    "    # remove grid lines around column clusters  \n",
    "    # make it look pretty with an enjoyable color pallet\n"
   ]
  },
  {
   "cell_type": "code",
   "execution_count": null,
   "metadata": {},
   "outputs": [],
   "source": []
  }
 ],
 "metadata": {
  "kernelspec": {
   "display_name": "Python 3",
   "language": "python",
   "name": "python3"
  },
  "language_info": {
   "codemirror_mode": {
    "name": "ipython",
    "version": 3
   },
   "file_extension": ".py",
   "mimetype": "text/x-python",
   "name": "python",
   "nbconvert_exporter": "python",
   "pygments_lexer": "ipython3",
   "version": "3.10.9"
  },
  "orig_nbformat": 4
 },
 "nbformat": 4,
 "nbformat_minor": 2
}
