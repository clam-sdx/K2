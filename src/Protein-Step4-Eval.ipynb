{
 "cells": [
  {
   "cell_type": "code",
   "execution_count": 1,
   "metadata": {},
   "outputs": [],
   "source": [
    "%load_ext autoreload\n",
    "%autoreload 2"
   ]
  },
  {
   "cell_type": "code",
   "execution_count": 12,
   "metadata": {},
   "outputs": [
    {
     "data": {
      "text/plain": [
       "('k15_r0_cutoff6.00_alpha0.500_tau0.00_lamnan.model',\n",
       " 0.9,\n",
       " 0.3041668074688543,\n",
       " 0.3041668074688543)"
      ]
     },
     "execution_count": 12,
     "metadata": {},
     "output_type": "execute_result"
    }
   ],
   "source": [
    "from model_selection import top_model_confusion\n",
    "from utils import serialize, deserialize, serialize_model, deserialize_model\n",
    "\n",
    "encoder = 'COLLAPSE'\n",
    "metal = 'ZN'\n",
    "metric_str = \"precision\"\n",
    "results_cache_dir = f\"../data/{encoder}_{metal}_gridsearch_results/{encoder}-eval_results\"\n",
    "model_cache_dir = f\"../data/{encoder}_{metal}_gridsearch_results/{encoder}-fitted_k2_models\"\n",
    "linearized_cache_dir = f\"../data/{encoder}_{metal}_gridsearch_results/{encoder}-linearized_data\"\n",
    "\n",
    "top_model_confusion(metric_str,results_cache_dir, model_cache_dir, eval_class=1)"
   ]
  },
  {
   "cell_type": "code",
   "execution_count": 13,
   "metadata": {},
   "outputs": [
    {
     "ename": "FileNotFoundError",
     "evalue": "[Errno 2] No such file or directory: '../data/results/ZN_confusion_all_train_models.pkl'",
     "output_type": "error",
     "traceback": [
      "\u001b[0;31m---------------------------------------------------------------------------\u001b[0m",
      "\u001b[0;31mFileNotFoundError\u001b[0m                         Traceback (most recent call last)",
      "Cell \u001b[0;32mIn[13], line 1\u001b[0m\n\u001b[0;32m----> 1\u001b[0m confusion_all_models \u001b[39m=\u001b[39m deserialize(\u001b[39mf\u001b[39;49m\u001b[39m\"\u001b[39;49m\u001b[39m../data/results/\u001b[39;49m\u001b[39m{\u001b[39;49;00mmetal\u001b[39m}\u001b[39;49;00m\u001b[39m_confusion_all_train_models.pkl\u001b[39;49m\u001b[39m\"\u001b[39;49m)\n\u001b[1;32m      2\u001b[0m confusion_class1_models \u001b[39m=\u001b[39m deserialize(\u001b[39mf\u001b[39m\u001b[39m\"\u001b[39m\u001b[39m../data/results/\u001b[39m\u001b[39m{\u001b[39;00mmetal\u001b[39m}\u001b[39;00m\u001b[39m_confusion_class1_train_models.pkl\u001b[39m\u001b[39m\"\u001b[39m)\n\u001b[1;32m      3\u001b[0m datum_level_models \u001b[39m=\u001b[39m deserialize(\u001b[39mf\u001b[39m\u001b[39m\"\u001b[39m\u001b[39m../data/results/\u001b[39m\u001b[39m{\u001b[39;00mmetal\u001b[39m}\u001b[39;00m\u001b[39m_datum_level_train_models.pkl\u001b[39m\u001b[39m\"\u001b[39m)\n",
      "File \u001b[0;32m/oak/stanford/groups/rbaltman/aderry/K2/src/utils.py:30\u001b[0m, in \u001b[0;36mdeserialize\u001b[0;34m(path)\u001b[0m\n\u001b[1;32m     29\u001b[0m \u001b[39mdef\u001b[39;00m \u001b[39mdeserialize\u001b[39m(path):\n\u001b[0;32m---> 30\u001b[0m     \u001b[39mwith\u001b[39;00m \u001b[39mopen\u001b[39;49m(path, \u001b[39m'\u001b[39;49m\u001b[39mrb\u001b[39;49m\u001b[39m'\u001b[39;49m) \u001b[39mas\u001b[39;00m fh:\n\u001b[1;32m     31\u001b[0m         \u001b[39mreturn\u001b[39;00m pickle\u001b[39m.\u001b[39mload(fh)\n",
      "\u001b[0;31mFileNotFoundError\u001b[0m: [Errno 2] No such file or directory: '../data/results/ZN_confusion_all_train_models.pkl'"
     ]
    }
   ],
   "source": [
    "confusion_all_models = deserialize(f\"../data/results/{metal}_confusion_all_train_models.pkl\")\n",
    "confusion_class1_models = deserialize(f\"../data/results/{metal}_confusion_class1_train_models.pkl\")\n",
    "datum_level_models = deserialize(f\"../data/results/{metal}_datum_level_train_models.pkl\")\n",
    "continuous_avg_models = deserialize(f\"../data/results/{metal}_continuous_avg_train_models.pkl\")\n",
    "continuous_iid_models = deserialize(f\"../data/results/{metal}_continuous_iid_train_models.pkl\")"
   ]
  },
  {
   "cell_type": "code",
   "execution_count": 4,
   "metadata": {},
   "outputs": [
    {
     "data": {
      "text/plain": [
       "{'msd': ('k20_r0_cutoff8.00_alpha0.001_tau2.00_lamnan.model', 0.0),\n",
       " 'specificity': ('k20_r1_cutoff6.00_alpha0.100_tau2.00_lamnan.model', 0.5),\n",
       " 'precision': ('k20_r2_cutoff6.00_alpha0.100_tau0.00_lamnan.model', 0.9),\n",
       " 'fnr': ('k20_r1_cutoff6.00_alpha0.100_tau2.00_lamnan.model', 0.5),\n",
       " 'fdr': ('k20_r2_cutoff4.00_alphanan_taunan_lam0.50.model', 0.9),\n",
       " 'recall': ('k20_r1_cutoff6.00_alpha0.100_tau2.00_lamnan.model', 0.0),\n",
       " 'accuracy': ('k20_r1_cutoff6.00_alpha0.100_tau2.00_lamnan.model', 0.5),\n",
       " 'balanced_acc': ('k20_r0_cutoff4.00_alphanan_taunan_lam0.50.model', 0.6),\n",
       " 'correlation': ('k20_r4_cutoff6.00_alpha0.001_tau0.00_lamnan.model', 0.9),\n",
       " 'threat_score': ('k20_r4_cutoff6.00_alpha0.001_tau0.00_lamnan.model', 0.9),\n",
       " 'prevalence': ('k20_r1_cutoff6.00_alpha0.100_tau2.00_lamnan.model', 0.0),\n",
       " 'dice': ('k20_r4_cutoff6.00_alpha0.001_tau0.00_lamnan.model', 0.9),\n",
       " 'jaccard': ('k20_r4_cutoff6.00_alpha0.001_tau0.00_lamnan.model', 0.9)}"
      ]
     },
     "execution_count": 4,
     "metadata": {},
     "output_type": "execute_result"
    }
   ],
   "source": [
    "confusion_class1_models"
   ]
  },
  {
   "cell_type": "code",
   "execution_count": null,
   "metadata": {},
   "outputs": [],
   "source": [
    "from model_selection import k_hop_precision\n",
    "for encoder in ['COLLAPSE', 'ESM', 'AA']:\n",
    "    results_cache_dir = f\"../data/{encoder}_{metal}_gridsearch_results/{encoder}-eval_results\"\n",
    "    model_cache_dir = f\"../data/{encoder}_{metal}_gridsearch_results/{encoder}-fitted_k2_models\"\n",
    "    linearized_cache_dir = f\"../data/{encoder}_{metal}_gridsearch_results/{encoder}-linearized_data\"\n",
    "    graph_base_dir = f\"../data/COLLAPSE_{metal}_cutoff_train_graphs\"\n",
    "\n",
    "    results = k_hop_precision('protein', results_cache_dir, linearized_cache_dir, model_cache_dir, graph_base_dir, eval_class='both')\n",
    "    \n",
    "    print(encoder, results)\n",
    "    \"\"\"\n",
    "    \n",
    "for encoder in ['COLLAPSE', 'ESM', 'AA']:\n",
    "    results_cache_dir = f\"../data/{encoder}_{metal}_gridsearch_results/{encoder}-eval_results\"\n",
    "    model_cache_dir = f\"../data/{encoder}_{metal}_gridsearch_results/{encoder}-fitted_k2_models\"\n",
    "    linearized_cache_dir = f\"../data/{encoder}_{metal}_gridsearch_results/{encoder}-linearized_data\"\n",
    "    graph_base_dir = f\"../data/{encoder}_{metal}_cutoff_train_graphs\"\n",
    "\n",
    "    results = k_hop_precision('protein', results_cache_dir, linearized_cache_dir, model_cache_dir, graph_base_dir, eval_class=1)\n",
    "    print(encoder, results)\n",
    "    \"\"\""
   ]
  },
  {
   "cell_type": "code",
   "execution_count": 38,
   "metadata": {},
   "outputs": [
    {
     "name": "stdout",
     "output_type": "stream",
     "text": [
      "msd\n",
      "('k20_r0_cutoff8.00_alpha0.001_tau2.00_lamnan.model', '>', 361.22301951779565)\n",
      "specificity\n",
      "('k10_r0_cutoff4.00_alpha0.001_tau0.00_lamnan.model', 1.0, 1.0)\n",
      "precision\n",
      "('k20_r2_cutoff6.00_alpha0.100_tau0.00_lamnan.model', 0.9, 0.027639492988932958)\n",
      "fnr\n",
      "('k10_r0_cutoff4.00_alpha0.001_tau0.00_lamnan.model', 1.0, 0.48679678530424797)\n",
      "fdr\n",
      "('k15_r1_cutoff4.00_alphanan_taunan_lam0.50.model', 0.9, 0.9976602850353525)\n",
      "recall\n",
      "('k20_r1_cutoff6.00_alpha0.100_tau2.00_lamnan.model', 0.0, 1.0)\n",
      "accuracy\n",
      "('k10_r0_cutoff4.00_alpha0.001_tau0.00_lamnan.model', 1.0, 0.9929412145133447)\n",
      "balanced_acc\n",
      "('k20_r2_cutoff6.00_alpha0.100_tau0.00_lamnan.model', 0.9, 0.5104395595671256)\n",
      "correlation\n",
      "('k20_r0_cutoff8.00_alpha0.001_tau0.00_lamnan.model', 0.9, 0.03524971449809501)\n",
      "threat_score\n"
     ]
    },
    {
     "name": "stderr",
     "output_type": "stream",
     "text": [
      "/oak/stanford/groups/rbaltman/aderry/K2/src/metrics.py:104: RuntimeWarning: invalid value encountered in scalar divide\n",
      "  return tp / (tp + fn + fp)\n"
     ]
    },
    {
     "name": "stdout",
     "output_type": "stream",
     "text": [
      "('k20_r0_cutoff8.00_alpha0.001_tau0.00_lamnan.model', 0.9, 0.018289480717047984)\n",
      "prevalence\n",
      "('k10_r0_cutoff4.00_alpha0.001_tau0.00_lamnan.model', 0.0, 0.007058785486655712)\n",
      "dice\n",
      "('k15_r1_cutoff4.00_alpha0.100_tau2.00_lamnan.model', '<', 0.5132626435597806)\n",
      "jaccard\n",
      "('k15_r1_cutoff4.00_alpha0.100_tau2.00_lamnan.model', '<', 0.5132331635114069)\n"
     ]
    }
   ],
   "source": [
    "valid_metrics = [\"msd\", \"specificity\", \"precision\", \"fnr\", \"fdr\", \"recall\", \"accuracy\", \"balanced_acc\", \"correlation\", \"threat_score\", \"prevalence\", \"dice\", \"jaccard\"]\n",
    "for metric_str in valid_metrics:\n",
    "    print(metric_str)\n",
    "    results = top_model_confusion(metric_str,results_cache_dir, model_cache_dir)\n",
    "    print(results)"
   ]
  },
  {
   "cell_type": "code",
   "execution_count": 39,
   "metadata": {},
   "outputs": [
    {
     "name": "stdout",
     "output_type": "stream",
     "text": [
      "msd\n",
      "('k20_r0_cutoff8.00_alpha0.001_tau2.00_lamnan.model', '>', 343.8249440715884)\n",
      "specificity\n",
      "('k10_r0_cutoff4.00_alpha0.001_tau0.00_lamnan.model', 1.0, 1.0)\n",
      "precision\n",
      "('k10_r0_cutoff4.00_alpha0.001_tau0.00_lamnan.model', 0.0, 0.0)\n",
      "fnr\n",
      "('k10_r0_cutoff4.00_alpha0.001_tau0.00_lamnan.model', 0.0, 0.0)\n",
      "fdr\n",
      "('k10_r0_cutoff4.00_alpha0.001_tau0.00_lamnan.model', 0.0, 1.0)\n",
      "recall\n",
      "('k10_r0_cutoff4.00_alpha0.001_tau0.00_lamnan.model', 0.0, 1.0)\n",
      "accuracy\n",
      "('k10_r0_cutoff4.00_alpha0.001_tau0.00_lamnan.model', 1.0, 1.0)\n",
      "balanced_acc\n",
      "('k10_r0_cutoff4.00_alpha0.001_tau0.00_lamnan.model', 0.0, 0.5)\n",
      "correlation\n",
      "('k10_r0_cutoff4.00_alpha0.001_tau0.00_lamnan.model', 0.0, 0.0)\n",
      "threat_score\n",
      "('k10_r0_cutoff4.00_alpha0.001_tau0.00_lamnan.model', 0.0, 0.0)\n",
      "prevalence\n",
      "('k10_r0_cutoff4.00_alpha0.001_tau0.00_lamnan.model', 0.0, 0.0)\n",
      "dice\n",
      "('k10_r0_cutoff4.00_alpha0.001_tau0.00_lamnan.model', 1.0, 1.0)\n",
      "jaccard\n",
      "('k10_r0_cutoff4.00_alpha0.001_tau0.00_lamnan.model', 1.0, 1.0)\n"
     ]
    }
   ],
   "source": [
    "valid_metrics = [\"msd\", \"specificity\", \"precision\", \"fnr\", \"fdr\", \"recall\", \"accuracy\", \"balanced_acc\", \"correlation\", \"threat_score\", \"prevalence\", \"dice\", \"jaccard\"]\n",
    "for metric_str in valid_metrics:\n",
    "    print(metric_str)\n",
    "    results = top_model_confusion(metric_str, results_cache_dir, model_cache_dir, eval_class=0)\n",
    "    print(results)"
   ]
  },
  {
   "cell_type": "code",
   "execution_count": 14,
   "metadata": {},
   "outputs": [
    {
     "name": "stdout",
     "output_type": "stream",
     "text": [
      "msd\n",
      "('k15_r2_cutoff6.00_alpha0.100_tau0.00_lamnan.model', 0.0, 315.8590909090909, 315.8590909090909)\n",
      "specificity\n",
      "('k25_r4_cutoff4.00_alpha10000000000.000_tau2.00_lamnan.model', 1.0, 1.0, 0.7515132105463032)\n",
      "precision\n",
      "('k15_r0_cutoff6.00_alpha0.500_tau0.00_lamnan.model', 0.9, 0.3041668074688543, 0.3041668074688543)\n",
      "fnr\n",
      "('k25_r4_cutoff4.00_alpha10000000000.000_tau2.00_lamnan.model', 1.0, 1.0, 0.9757319223985891)\n",
      "fdr\n",
      "('k15_r4_cutoff4.00_alphanan_taunan_lam0.50.model', 0.5, 0.9832821100673487, 0.9832821100673487)\n",
      "recall\n",
      "('k20_r4_cutoff4.00_alpha0.001_tau0.00_lamnan.model', 0.0, 1.0, 1.0)\n",
      "accuracy\n",
      "('k25_r0_cutoff4.00_alpha0.010_tau2.00_lamnan.model', 0.9, 0.9890565010244482, 0.6742095176662541)\n",
      "balanced_acc\n",
      "('k25_r0_cutoff4.00_alphanan_taunan_lam0.50.model', 0.5, 0.6824292907063454, 0.20249396245272494)\n",
      "correlation\n",
      "('k20_r0_cutoff4.00_alpha0.001_tau0.00_lamnan.model', 0.9, 0.283302755744555, 0.43019888279702956)\n",
      "threat_score\n",
      "('k25_r0_cutoff4.00_alpha0.010_tau2.00_lamnan.model', 0.9, 0.2504271637783224, 0.2504271637783224)\n",
      "prevalence\n",
      "('k25_r4_cutoff4.00_alpha10000000000.000_tau2.00_lamnan.model', 0.0, 0.021490169022734273, 0.0)\n",
      "dice\n",
      "('k20_r0_cutoff4.00_alpha0.001_tau0.00_lamnan.model', 0.9, 0.2816072991487391, 0.2816072991487391)\n",
      "jaccard\n",
      "('k25_r0_cutoff4.00_alpha0.010_tau2.00_lamnan.model', 0.9, 0.2504271637783224, 0.2504271637783224)\n"
     ]
    }
   ],
   "source": [
    "valid_metrics = [\"msd\", \"specificity\", \"precision\", \"fnr\", \"fdr\", \"recall\", \"accuracy\", \"balanced_acc\", \"correlation\", \"threat_score\", \"prevalence\", \"dice\", \"jaccard\"]\n",
    "for metric_str in valid_metrics:\n",
    "    print(metric_str)\n",
    "    results = top_model_confusion(metric_str, results_cache_dir, model_cache_dir, eval_class=1)\n",
    "    print(results)"
   ]
  },
  {
   "cell_type": "code",
   "execution_count": 15,
   "metadata": {},
   "outputs": [
    {
     "name": "stdout",
     "output_type": "stream",
     "text": [
      "auroc\n",
      "('k15_r0_cutoff4.00_alpha0.500_tau1.00_lamnan.model', 0.6417658365026786)\n",
      "auprc\n",
      "('k15_r0_cutoff4.00_alpha0.500_tau1.00_lamnan.model', 0.7503116923180316)\n",
      "ap\n",
      "('k15_r1_cutoff4.00_alpha0.001_tau2.00_lamnan.model', 0.6186558235373336)\n"
     ]
    }
   ],
   "source": [
    "from model_selection import top_model_preds\n",
    "valid_metrics = [\"auroc\", \"auprc\", \"ap\"]\n",
    "for metric_str in valid_metrics:\n",
    "    print(metric_str)\n",
    "    results = top_model_preds(metric_str, results_cache_dir, model_cache_dir)\n",
    "    print(results)"
   ]
  },
  {
   "cell_type": "code",
   "execution_count": 16,
   "metadata": {},
   "outputs": [
    {
     "name": "stdout",
     "output_type": "stream",
     "text": [
      "auroc\n",
      "('k30_r0_cutoff4.00_alphanan_taunan_lam0.50.model', 0.6973103715675234)\n",
      "auprc\n",
      "('k15_r0_cutoff4.00_alpha0.500_tau1.00_lamnan.model', 0.623781770088546)\n",
      "ap\n",
      "('k30_r0_cutoff4.00_alpha10000000000.000_tau0.00_lamnan.model', 0.28177340947313906)\n"
     ]
    }
   ],
   "source": [
    "from model_selection import top_model_continuous_avg\n",
    "valid_metrics = [\"auroc\", \"auprc\", \"ap\"]\n",
    "for metric_str in valid_metrics:\n",
    "    print(metric_str)\n",
    "    results = top_model_continuous_avg(metric_str, results_cache_dir, model_cache_dir)\n",
    "    print(results)"
   ]
  },
  {
   "cell_type": "code",
   "execution_count": 20,
   "metadata": {
    "notebookRunGroups": {
     "groupValue": "2"
    }
   },
   "outputs": [
    {
     "name": "stdout",
     "output_type": "stream",
     "text": [
      "auroc\n",
      "('k15_r0_cutoff4.00_alpha0.500_tau1.00_lamnan.model', 0.722221562467037)\n",
      "auprc\n",
      "('k15_r0_cutoff4.00_alpha0.500_tau1.00_lamnan.model', 0.4308754654861674)\n",
      "ap\n",
      "('k25_r0_cutoff4.00_alpha0.010_tau2.00_lamnan.model', 0.293951822492335)\n"
     ]
    }
   ],
   "source": [
    "from model_selection import top_model_continuous_iid\n",
    "valid_metrics = [\"auroc\", \"auprc\", \"ap\"]\n",
    "for metric_str in valid_metrics:\n",
    "    print(metric_str)\n",
    "    results = top_model_continuous_iid(metric_str, model_cache_dir, linearized_cache_dir)\n",
    "    print(results)"
   ]
  },
  {
   "cell_type": "code",
   "execution_count": null,
   "metadata": {},
   "outputs": [],
   "source": []
  },
  {
   "cell_type": "code",
   "execution_count": 8,
   "metadata": {},
   "outputs": [],
   "source": [
    "encoder = 'COLLAPSE'\n",
    "metal = 'ZN'\n",
    "\n",
    "results_cache_dir = f\"../data/{encoder}_{metal}_baseline-GAT_gridsearch_results/{encoder}-eval_results\"\n",
    "model_cache_dir = f\"../data/{encoder}_{metal}_baseline-GAT_gridsearch_results/{encoder}-fitted_k2_models\"\n",
    "linearized_cache_dir = f\"../data/{encoder}_{metal}_baseline-GAT_gridsearch_results/{encoder}-linearized_data\""
   ]
  },
  {
   "cell_type": "code",
   "execution_count": 9,
   "metadata": {},
   "outputs": [
    {
     "name": "stdout",
     "output_type": "stream",
     "text": [
      "msd\n",
      "('COLLAPSE-ZN-6.0-1e-05', 0.0, 151.0, 151.0)\n",
      "specificity\n",
      "('COLLAPSE-ZN-6.0-1e-05', 0.8, 1.0, 1.0)\n",
      "precision\n",
      "('COLLAPSE-ZN-6.0-1e-05', 0.0, 0.0, 0.0)\n",
      "fnr\n",
      "('COLLAPSE-ZN-6.0-1e-05', 0.0, 0.0, 0.0)\n",
      "fdr\n",
      "('COLLAPSE-ZN-6.0-1e-05', 0.0, 1.0, 1.0)\n",
      "recall\n",
      "('COLLAPSE-ZN-6.0-1e-05', 0.0, 1.0, 0.0)\n",
      "accuracy\n",
      "('COLLAPSE-ZN-6.0-1e-05', 0.8, 1.0, 1.0)\n",
      "balanced_acc\n",
      "('COLLAPSE-ZN-6.0-1e-05', 0.0, nan, nan)\n",
      "correlation\n",
      "('COLLAPSE-ZN-6.0-1e-05', 0.0, 0.0, 0.0)\n",
      "threat_score\n",
      "('COLLAPSE-ZN-6.0-1e-05', 0.0, 0.0, 0.0)\n",
      "prevalence\n",
      "('COLLAPSE-ZN-6.0-1e-05', 0.0, 0.0, 0.0)\n",
      "dice\n",
      "('COLLAPSE-ZN-6.0-1e-05', 0.8, 1.0, 1.0)\n",
      "jaccard\n",
      "('COLLAPSE-ZN-6.0-1e-05', 0.8, 1.0, 1.0)\n"
     ]
    }
   ],
   "source": [
    "valid_metrics = [\"msd\", \"specificity\", \"precision\", \"fnr\", \"fdr\", \"recall\", \"accuracy\", \"balanced_acc\", \"correlation\", \"threat_score\", \"prevalence\", \"dice\", \"jaccard\"]\n",
    "for metric_str in valid_metrics:\n",
    "    print(metric_str)\n",
    "    results = top_model_confusion(metric_str,results_cache_dir, model_cache_dir)\n",
    "    print(results)"
   ]
  },
  {
   "cell_type": "code",
   "execution_count": 11,
   "metadata": {},
   "outputs": [
    {
     "name": "stdout",
     "output_type": "stream",
     "text": [
      "msd\n",
      "0\n"
     ]
    },
    {
     "ename": "UnboundLocalError",
     "evalue": "local variable 'model_cms' referenced before assignment",
     "output_type": "error",
     "traceback": [
      "\u001b[0;31m---------------------------------------------------------------------------\u001b[0m",
      "\u001b[0;31mUnboundLocalError\u001b[0m                         Traceback (most recent call last)",
      "Cell \u001b[0;32mIn[11], line 4\u001b[0m\n\u001b[1;32m      2\u001b[0m \u001b[38;5;28;01mfor\u001b[39;00m metric_str \u001b[38;5;129;01min\u001b[39;00m valid_metrics:\n\u001b[1;32m      3\u001b[0m     \u001b[38;5;28mprint\u001b[39m(metric_str)\n\u001b[0;32m----> 4\u001b[0m     results \u001b[38;5;241m=\u001b[39m \u001b[43mtop_model_confusion\u001b[49m\u001b[43m(\u001b[49m\u001b[43mmetric_str\u001b[49m\u001b[43m,\u001b[49m\u001b[43m \u001b[49m\u001b[43mresults_cache_dir\u001b[49m\u001b[43m,\u001b[49m\u001b[43m \u001b[49m\u001b[43mmodel_cache_dir\u001b[49m\u001b[43m,\u001b[49m\u001b[43m \u001b[49m\u001b[43meval_class\u001b[49m\u001b[38;5;241;43m=\u001b[39;49m\u001b[38;5;241;43m1\u001b[39;49m\u001b[43m)\u001b[49m\n\u001b[1;32m      5\u001b[0m     \u001b[38;5;28mprint\u001b[39m(results)\n",
      "File \u001b[0;32m/oak/stanford/groups/rbaltman/aderry/K2/src/model_selection.py:53\u001b[0m, in \u001b[0;36mtop_model_confusion\u001b[0;34m(metric_str, results_cache_dir, model_cache_dir, eval_class, return_all)\u001b[0m\n\u001b[1;32m     50\u001b[0m     N \u001b[38;5;241m+\u001b[39m\u001b[38;5;241m=\u001b[39m \u001b[38;5;241m1\u001b[39m\n\u001b[1;32m     52\u001b[0m \u001b[38;5;66;03m# now average over all graphs\u001b[39;00m\n\u001b[0;32m---> 53\u001b[0m \u001b[38;5;28;01mfor\u001b[39;00m thresh \u001b[38;5;129;01min\u001b[39;00m \u001b[43mmodel_cms\u001b[49m\u001b[38;5;241m.\u001b[39mkeys():\n\u001b[1;32m     54\u001b[0m     model_cms[thresh] \u001b[38;5;241m/\u001b[39m\u001b[38;5;241m=\u001b[39m N\n\u001b[1;32m     55\u001b[0m \u001b[38;5;66;03m# get top score and threshold\u001b[39;00m\n",
      "\u001b[0;31mUnboundLocalError\u001b[0m: local variable 'model_cms' referenced before assignment"
     ]
    }
   ],
   "source": [
    "valid_metrics = [\"msd\", \"specificity\", \"precision\", \"fnr\", \"fdr\", \"recall\", \"accuracy\", \"balanced_acc\", \"correlation\", \"threat_score\", \"prevalence\", \"dice\", \"jaccard\"]\n",
    "for metric_str in valid_metrics:\n",
    "    print(metric_str)\n",
    "    results = top_model_confusion(metric_str, results_cache_dir, model_cache_dir, eval_class=1)\n",
    "    print(results)"
   ]
  },
  {
   "cell_type": "markdown",
   "metadata": {},
   "source": [
    "## Ranking gridsearch models"
   ]
  },
  {
   "cell_type": "code",
   "execution_count": 125,
   "metadata": {},
   "outputs": [],
   "source": [
    "import pandas as pd\n",
    "\n",
    "encoder = 'AA'\n",
    "metal = 'ZN'\n",
    "\n",
    "results_cache_dir = f\"../data/{encoder}_{metal}_gridsearch_results/{encoder}-eval_results\"\n",
    "model_cache_dir = f\"../data/{encoder}_{metal}_gridsearch_results/{encoder}-fitted_k2_models\"\n",
    "processor_cache_dir = f\"../data/{encoder}_{metal}_gridsearch_results/{encoder}-fitted_k2_processors\"\n",
    "linearized_cache_dir = f\"../data/{encoder}_{metal}_gridsearch_results/{encoder}-linearized_data\""
   ]
  },
  {
   "cell_type": "code",
   "execution_count": 126,
   "metadata": {},
   "outputs": [],
   "source": [
    "key_conf_metrics = [\"precision\", \"balanced_acc\", \"correlation\", \"dice\"]\n",
    "key_cont_metrics = [\"auprc\"]"
   ]
  },
  {
   "cell_type": "code",
   "execution_count": 127,
   "metadata": {},
   "outputs": [
    {
     "name": "stdout",
     "output_type": "stream",
     "text": [
      "precision\n",
      "balanced_acc\n",
      "correlation\n",
      "dice\n",
      "auprc\n"
     ]
    }
   ],
   "source": [
    "from model_selection import top_model_confusion, top_model_continuous_avg\n",
    "conf_res = []\n",
    "for metric in key_conf_metrics:\n",
    "    print(metric)\n",
    "    res = top_model_confusion(metric,results_cache_dir, model_cache_dir, eval_class=1, return_all=True)\n",
    "    res[\"metric\"] = [metric]*len(res)\n",
    "    conf_res.append(res)\n",
    "conf_res = pd.concat(conf_res)\n",
    "\n",
    "cont_res = []\n",
    "for metric in key_cont_metrics:\n",
    "    print(metric)\n",
    "    res = top_model_continuous_avg(metric, results_cache_dir, model_cache_dir, return_all=True)\n",
    "    res[\"metric\"] = [metric]*len(res)\n",
    "    cont_res.append(res)\n",
    "cont_res = pd.concat(cont_res)"
   ]
  },
  {
   "cell_type": "code",
   "execution_count": 128,
   "metadata": {},
   "outputs": [
    {
     "data": {
      "text/html": [
       "<div>\n",
       "<style scoped>\n",
       "    .dataframe tbody tr th:only-of-type {\n",
       "        vertical-align: middle;\n",
       "    }\n",
       "\n",
       "    .dataframe tbody tr th {\n",
       "        vertical-align: top;\n",
       "    }\n",
       "\n",
       "    .dataframe thead th {\n",
       "        text-align: right;\n",
       "    }\n",
       "</style>\n",
       "<table border=\"1\" class=\"dataframe\">\n",
       "  <thead>\n",
       "    <tr style=\"text-align: right;\">\n",
       "      <th></th>\n",
       "      <th>metric</th>\n",
       "      <th>balanced_acc</th>\n",
       "      <th>correlation</th>\n",
       "      <th>dice</th>\n",
       "      <th>precision</th>\n",
       "    </tr>\n",
       "    <tr>\n",
       "      <th>model_name</th>\n",
       "      <th>threshold</th>\n",
       "      <th></th>\n",
       "      <th></th>\n",
       "      <th></th>\n",
       "      <th></th>\n",
       "    </tr>\n",
       "  </thead>\n",
       "  <tbody>\n",
       "    <tr>\n",
       "      <th>k21_r1_cutoff8.00_alpha0.010_tau1.00_lamnan.model</th>\n",
       "      <th>0.9</th>\n",
       "      <td>0.562095</td>\n",
       "      <td>0.190294</td>\n",
       "      <td>0.170332</td>\n",
       "      <td>0.336801</td>\n",
       "    </tr>\n",
       "    <tr>\n",
       "      <th>k21_r1_cutoff8.00_alpha0.100_tau1.00_lamnan.model</th>\n",
       "      <th>0.9</th>\n",
       "      <td>0.562095</td>\n",
       "      <td>0.190294</td>\n",
       "      <td>0.170332</td>\n",
       "      <td>0.336801</td>\n",
       "    </tr>\n",
       "    <tr>\n",
       "      <th>k21_r1_cutoff8.00_alpha10000000000.000_tau1.00_lamnan.model</th>\n",
       "      <th>0.9</th>\n",
       "      <td>0.562095</td>\n",
       "      <td>0.190294</td>\n",
       "      <td>0.170332</td>\n",
       "      <td>0.336801</td>\n",
       "    </tr>\n",
       "    <tr>\n",
       "      <th>k21_r1_cutoff8.00_alpha0.010_tau1.00_lamnan.model</th>\n",
       "      <th>0.8</th>\n",
       "      <td>0.582069</td>\n",
       "      <td>0.221921</td>\n",
       "      <td>0.210051</td>\n",
       "      <td>0.335147</td>\n",
       "    </tr>\n",
       "    <tr>\n",
       "      <th>k21_r1_cutoff8.00_alpha0.100_tau1.00_lamnan.model</th>\n",
       "      <th>0.8</th>\n",
       "      <td>0.582069</td>\n",
       "      <td>0.221921</td>\n",
       "      <td>0.210051</td>\n",
       "      <td>0.335147</td>\n",
       "    </tr>\n",
       "    <tr>\n",
       "      <th>...</th>\n",
       "      <th>...</th>\n",
       "      <td>...</td>\n",
       "      <td>...</td>\n",
       "      <td>...</td>\n",
       "      <td>...</td>\n",
       "    </tr>\n",
       "    <tr>\n",
       "      <th rowspan=\"5\" valign=\"top\">k21_r0_cutoff8.00_alpha10000000000.000_tau1.00_lamnan.model</th>\n",
       "      <th>0.5</th>\n",
       "      <td>0.499951</td>\n",
       "      <td>-0.000045</td>\n",
       "      <td>0.000000</td>\n",
       "      <td>0.000000</td>\n",
       "    </tr>\n",
       "    <tr>\n",
       "      <th>0.6</th>\n",
       "      <td>0.499951</td>\n",
       "      <td>-0.000045</td>\n",
       "      <td>0.000000</td>\n",
       "      <td>0.000000</td>\n",
       "    </tr>\n",
       "    <tr>\n",
       "      <th>0.7</th>\n",
       "      <td>0.499951</td>\n",
       "      <td>-0.000045</td>\n",
       "      <td>0.000000</td>\n",
       "      <td>0.000000</td>\n",
       "    </tr>\n",
       "    <tr>\n",
       "      <th>0.8</th>\n",
       "      <td>0.499951</td>\n",
       "      <td>-0.000045</td>\n",
       "      <td>0.000000</td>\n",
       "      <td>0.000000</td>\n",
       "    </tr>\n",
       "    <tr>\n",
       "      <th>0.9</th>\n",
       "      <td>0.499951</td>\n",
       "      <td>-0.000045</td>\n",
       "      <td>0.000000</td>\n",
       "      <td>0.000000</td>\n",
       "    </tr>\n",
       "  </tbody>\n",
       "</table>\n",
       "<p>728 rows × 4 columns</p>\n",
       "</div>"
      ],
      "text/plain": [
       "metric                                                        balanced_acc  \\\n",
       "model_name                                         threshold                 \n",
       "k21_r1_cutoff8.00_alpha0.010_tau1.00_lamnan.model  0.9            0.562095   \n",
       "k21_r1_cutoff8.00_alpha0.100_tau1.00_lamnan.model  0.9            0.562095   \n",
       "k21_r1_cutoff8.00_alpha10000000000.000_tau1.00_... 0.9            0.562095   \n",
       "k21_r1_cutoff8.00_alpha0.010_tau1.00_lamnan.model  0.8            0.582069   \n",
       "k21_r1_cutoff8.00_alpha0.100_tau1.00_lamnan.model  0.8            0.582069   \n",
       "...                                                                    ...   \n",
       "k21_r0_cutoff8.00_alpha10000000000.000_tau1.00_... 0.5            0.499951   \n",
       "                                                   0.6            0.499951   \n",
       "                                                   0.7            0.499951   \n",
       "                                                   0.8            0.499951   \n",
       "                                                   0.9            0.499951   \n",
       "\n",
       "metric                                                        correlation  \\\n",
       "model_name                                         threshold                \n",
       "k21_r1_cutoff8.00_alpha0.010_tau1.00_lamnan.model  0.9           0.190294   \n",
       "k21_r1_cutoff8.00_alpha0.100_tau1.00_lamnan.model  0.9           0.190294   \n",
       "k21_r1_cutoff8.00_alpha10000000000.000_tau1.00_... 0.9           0.190294   \n",
       "k21_r1_cutoff8.00_alpha0.010_tau1.00_lamnan.model  0.8           0.221921   \n",
       "k21_r1_cutoff8.00_alpha0.100_tau1.00_lamnan.model  0.8           0.221921   \n",
       "...                                                                   ...   \n",
       "k21_r0_cutoff8.00_alpha10000000000.000_tau1.00_... 0.5          -0.000045   \n",
       "                                                   0.6          -0.000045   \n",
       "                                                   0.7          -0.000045   \n",
       "                                                   0.8          -0.000045   \n",
       "                                                   0.9          -0.000045   \n",
       "\n",
       "metric                                                            dice  \\\n",
       "model_name                                         threshold             \n",
       "k21_r1_cutoff8.00_alpha0.010_tau1.00_lamnan.model  0.9        0.170332   \n",
       "k21_r1_cutoff8.00_alpha0.100_tau1.00_lamnan.model  0.9        0.170332   \n",
       "k21_r1_cutoff8.00_alpha10000000000.000_tau1.00_... 0.9        0.170332   \n",
       "k21_r1_cutoff8.00_alpha0.010_tau1.00_lamnan.model  0.8        0.210051   \n",
       "k21_r1_cutoff8.00_alpha0.100_tau1.00_lamnan.model  0.8        0.210051   \n",
       "...                                                                ...   \n",
       "k21_r0_cutoff8.00_alpha10000000000.000_tau1.00_... 0.5        0.000000   \n",
       "                                                   0.6        0.000000   \n",
       "                                                   0.7        0.000000   \n",
       "                                                   0.8        0.000000   \n",
       "                                                   0.9        0.000000   \n",
       "\n",
       "metric                                                        precision  \n",
       "model_name                                         threshold             \n",
       "k21_r1_cutoff8.00_alpha0.010_tau1.00_lamnan.model  0.9         0.336801  \n",
       "k21_r1_cutoff8.00_alpha0.100_tau1.00_lamnan.model  0.9         0.336801  \n",
       "k21_r1_cutoff8.00_alpha10000000000.000_tau1.00_... 0.9         0.336801  \n",
       "k21_r1_cutoff8.00_alpha0.010_tau1.00_lamnan.model  0.8         0.335147  \n",
       "k21_r1_cutoff8.00_alpha0.100_tau1.00_lamnan.model  0.8         0.335147  \n",
       "...                                                                 ...  \n",
       "k21_r0_cutoff8.00_alpha10000000000.000_tau1.00_... 0.5         0.000000  \n",
       "                                                   0.6         0.000000  \n",
       "                                                   0.7         0.000000  \n",
       "                                                   0.8         0.000000  \n",
       "                                                   0.9         0.000000  \n",
       "\n",
       "[728 rows x 4 columns]"
      ]
     },
     "execution_count": 128,
     "metadata": {},
     "output_type": "execute_result"
    }
   ],
   "source": [
    "conf_pvt = conf_res.pivot(index=['model_name', 'threshold'], columns='metric', values='score')\n",
    "conf_pvt.sort_values(key_conf_metrics, ascending=False)"
   ]
  },
  {
   "cell_type": "code",
   "execution_count": 129,
   "metadata": {},
   "outputs": [],
   "source": [
    "conf_pvt['rank'] = conf_pvt[key_conf_metrics].apply(tuple,axis=1).rank(method='dense',ascending=False)"
   ]
  },
  {
   "cell_type": "code",
   "execution_count": 130,
   "metadata": {},
   "outputs": [
    {
     "data": {
      "text/html": [
       "<div>\n",
       "<style scoped>\n",
       "    .dataframe tbody tr th:only-of-type {\n",
       "        vertical-align: middle;\n",
       "    }\n",
       "\n",
       "    .dataframe tbody tr th {\n",
       "        vertical-align: top;\n",
       "    }\n",
       "\n",
       "    .dataframe thead th {\n",
       "        text-align: right;\n",
       "    }\n",
       "</style>\n",
       "<table border=\"1\" class=\"dataframe\">\n",
       "  <thead>\n",
       "    <tr style=\"text-align: right;\">\n",
       "      <th></th>\n",
       "      <th>metric</th>\n",
       "      <th>balanced_acc</th>\n",
       "      <th>correlation</th>\n",
       "      <th>dice</th>\n",
       "      <th>precision</th>\n",
       "      <th>rank</th>\n",
       "    </tr>\n",
       "    <tr>\n",
       "      <th>model_name</th>\n",
       "      <th>threshold</th>\n",
       "      <th></th>\n",
       "      <th></th>\n",
       "      <th></th>\n",
       "      <th></th>\n",
       "      <th></th>\n",
       "    </tr>\n",
       "  </thead>\n",
       "  <tbody>\n",
       "    <tr>\n",
       "      <th>k21_r1_cutoff8.00_alpha0.100_tau1.00_lamnan.model</th>\n",
       "      <th>0.9</th>\n",
       "      <td>0.562095</td>\n",
       "      <td>0.190294</td>\n",
       "      <td>0.170332</td>\n",
       "      <td>0.336801</td>\n",
       "      <td>1.0</td>\n",
       "    </tr>\n",
       "    <tr>\n",
       "      <th>k21_r1_cutoff8.00_alpha0.010_tau1.00_lamnan.model</th>\n",
       "      <th>0.9</th>\n",
       "      <td>0.562095</td>\n",
       "      <td>0.190294</td>\n",
       "      <td>0.170332</td>\n",
       "      <td>0.336801</td>\n",
       "      <td>1.0</td>\n",
       "    </tr>\n",
       "    <tr>\n",
       "      <th>k21_r1_cutoff8.00_alpha10000000000.000_tau1.00_lamnan.model</th>\n",
       "      <th>0.9</th>\n",
       "      <td>0.562095</td>\n",
       "      <td>0.190294</td>\n",
       "      <td>0.170332</td>\n",
       "      <td>0.336801</td>\n",
       "      <td>1.0</td>\n",
       "    </tr>\n",
       "    <tr>\n",
       "      <th>k21_r1_cutoff8.00_alpha0.010_tau1.00_lamnan.model</th>\n",
       "      <th>0.8</th>\n",
       "      <td>0.582069</td>\n",
       "      <td>0.221921</td>\n",
       "      <td>0.210051</td>\n",
       "      <td>0.335147</td>\n",
       "      <td>2.0</td>\n",
       "    </tr>\n",
       "    <tr>\n",
       "      <th>k21_r1_cutoff8.00_alpha10000000000.000_tau1.00_lamnan.model</th>\n",
       "      <th>0.8</th>\n",
       "      <td>0.582069</td>\n",
       "      <td>0.221921</td>\n",
       "      <td>0.210051</td>\n",
       "      <td>0.335147</td>\n",
       "      <td>2.0</td>\n",
       "    </tr>\n",
       "    <tr>\n",
       "      <th>...</th>\n",
       "      <th>...</th>\n",
       "      <td>...</td>\n",
       "      <td>...</td>\n",
       "      <td>...</td>\n",
       "      <td>...</td>\n",
       "      <td>...</td>\n",
       "    </tr>\n",
       "    <tr>\n",
       "      <th rowspan=\"5\" valign=\"top\">k21_r0_cutoff8.00_alpha10000000000.000_tau1.00_lamnan.model</th>\n",
       "      <th>0.9</th>\n",
       "      <td>0.499951</td>\n",
       "      <td>-0.000045</td>\n",
       "      <td>0.000000</td>\n",
       "      <td>0.000000</td>\n",
       "      <td>249.0</td>\n",
       "    </tr>\n",
       "    <tr>\n",
       "      <th>0.8</th>\n",
       "      <td>0.499951</td>\n",
       "      <td>-0.000045</td>\n",
       "      <td>0.000000</td>\n",
       "      <td>0.000000</td>\n",
       "      <td>249.0</td>\n",
       "    </tr>\n",
       "    <tr>\n",
       "      <th>0.7</th>\n",
       "      <td>0.499951</td>\n",
       "      <td>-0.000045</td>\n",
       "      <td>0.000000</td>\n",
       "      <td>0.000000</td>\n",
       "      <td>249.0</td>\n",
       "    </tr>\n",
       "    <tr>\n",
       "      <th>0.6</th>\n",
       "      <td>0.499951</td>\n",
       "      <td>-0.000045</td>\n",
       "      <td>0.000000</td>\n",
       "      <td>0.000000</td>\n",
       "      <td>249.0</td>\n",
       "    </tr>\n",
       "    <tr>\n",
       "      <th>0.5</th>\n",
       "      <td>0.499951</td>\n",
       "      <td>-0.000045</td>\n",
       "      <td>0.000000</td>\n",
       "      <td>0.000000</td>\n",
       "      <td>249.0</td>\n",
       "    </tr>\n",
       "  </tbody>\n",
       "</table>\n",
       "<p>728 rows × 5 columns</p>\n",
       "</div>"
      ],
      "text/plain": [
       "metric                                                        balanced_acc  \\\n",
       "model_name                                         threshold                 \n",
       "k21_r1_cutoff8.00_alpha0.100_tau1.00_lamnan.model  0.9            0.562095   \n",
       "k21_r1_cutoff8.00_alpha0.010_tau1.00_lamnan.model  0.9            0.562095   \n",
       "k21_r1_cutoff8.00_alpha10000000000.000_tau1.00_... 0.9            0.562095   \n",
       "k21_r1_cutoff8.00_alpha0.010_tau1.00_lamnan.model  0.8            0.582069   \n",
       "k21_r1_cutoff8.00_alpha10000000000.000_tau1.00_... 0.8            0.582069   \n",
       "...                                                                    ...   \n",
       "k21_r0_cutoff8.00_alpha10000000000.000_tau1.00_... 0.9            0.499951   \n",
       "                                                   0.8            0.499951   \n",
       "                                                   0.7            0.499951   \n",
       "                                                   0.6            0.499951   \n",
       "                                                   0.5            0.499951   \n",
       "\n",
       "metric                                                        correlation  \\\n",
       "model_name                                         threshold                \n",
       "k21_r1_cutoff8.00_alpha0.100_tau1.00_lamnan.model  0.9           0.190294   \n",
       "k21_r1_cutoff8.00_alpha0.010_tau1.00_lamnan.model  0.9           0.190294   \n",
       "k21_r1_cutoff8.00_alpha10000000000.000_tau1.00_... 0.9           0.190294   \n",
       "k21_r1_cutoff8.00_alpha0.010_tau1.00_lamnan.model  0.8           0.221921   \n",
       "k21_r1_cutoff8.00_alpha10000000000.000_tau1.00_... 0.8           0.221921   \n",
       "...                                                                   ...   \n",
       "k21_r0_cutoff8.00_alpha10000000000.000_tau1.00_... 0.9          -0.000045   \n",
       "                                                   0.8          -0.000045   \n",
       "                                                   0.7          -0.000045   \n",
       "                                                   0.6          -0.000045   \n",
       "                                                   0.5          -0.000045   \n",
       "\n",
       "metric                                                            dice  \\\n",
       "model_name                                         threshold             \n",
       "k21_r1_cutoff8.00_alpha0.100_tau1.00_lamnan.model  0.9        0.170332   \n",
       "k21_r1_cutoff8.00_alpha0.010_tau1.00_lamnan.model  0.9        0.170332   \n",
       "k21_r1_cutoff8.00_alpha10000000000.000_tau1.00_... 0.9        0.170332   \n",
       "k21_r1_cutoff8.00_alpha0.010_tau1.00_lamnan.model  0.8        0.210051   \n",
       "k21_r1_cutoff8.00_alpha10000000000.000_tau1.00_... 0.8        0.210051   \n",
       "...                                                                ...   \n",
       "k21_r0_cutoff8.00_alpha10000000000.000_tau1.00_... 0.9        0.000000   \n",
       "                                                   0.8        0.000000   \n",
       "                                                   0.7        0.000000   \n",
       "                                                   0.6        0.000000   \n",
       "                                                   0.5        0.000000   \n",
       "\n",
       "metric                                                        precision   rank  \n",
       "model_name                                         threshold                    \n",
       "k21_r1_cutoff8.00_alpha0.100_tau1.00_lamnan.model  0.9         0.336801    1.0  \n",
       "k21_r1_cutoff8.00_alpha0.010_tau1.00_lamnan.model  0.9         0.336801    1.0  \n",
       "k21_r1_cutoff8.00_alpha10000000000.000_tau1.00_... 0.9         0.336801    1.0  \n",
       "k21_r1_cutoff8.00_alpha0.010_tau1.00_lamnan.model  0.8         0.335147    2.0  \n",
       "k21_r1_cutoff8.00_alpha10000000000.000_tau1.00_... 0.8         0.335147    2.0  \n",
       "...                                                                 ...    ...  \n",
       "k21_r0_cutoff8.00_alpha10000000000.000_tau1.00_... 0.9         0.000000  249.0  \n",
       "                                                   0.8         0.000000  249.0  \n",
       "                                                   0.7         0.000000  249.0  \n",
       "                                                   0.6         0.000000  249.0  \n",
       "                                                   0.5         0.000000  249.0  \n",
       "\n",
       "[728 rows x 5 columns]"
      ]
     },
     "execution_count": 130,
     "metadata": {},
     "output_type": "execute_result"
    }
   ],
   "source": [
    "conf_pvt.sort_values('rank')"
   ]
  },
  {
   "cell_type": "code",
   "execution_count": 131,
   "metadata": {},
   "outputs": [],
   "source": [
    "cont_pvt = cont_res.pivot(index='model_name', columns='metric', values='score')\n",
    "cont_pvt['rank'] = cont_pvt['auprc'].rank(method='min', ascending=False)"
   ]
  },
  {
   "cell_type": "code",
   "execution_count": 132,
   "metadata": {},
   "outputs": [
    {
     "data": {
      "text/html": [
       "<div>\n",
       "<style scoped>\n",
       "    .dataframe tbody tr th:only-of-type {\n",
       "        vertical-align: middle;\n",
       "    }\n",
       "\n",
       "    .dataframe tbody tr th {\n",
       "        vertical-align: top;\n",
       "    }\n",
       "\n",
       "    .dataframe thead th {\n",
       "        text-align: right;\n",
       "    }\n",
       "</style>\n",
       "<table border=\"1\" class=\"dataframe\">\n",
       "  <thead>\n",
       "    <tr style=\"text-align: right;\">\n",
       "      <th>metric</th>\n",
       "      <th>auprc</th>\n",
       "      <th>rank</th>\n",
       "    </tr>\n",
       "    <tr>\n",
       "      <th>model_name</th>\n",
       "      <th></th>\n",
       "      <th></th>\n",
       "    </tr>\n",
       "  </thead>\n",
       "  <tbody>\n",
       "    <tr>\n",
       "      <th>k21_r0_cutoff6.00_alpha0.010_tau1.00_lamnan.model</th>\n",
       "      <td>0.510745</td>\n",
       "      <td>1.0</td>\n",
       "    </tr>\n",
       "    <tr>\n",
       "      <th>k21_r0_cutoff8.00_alpha0.010_tau1.00_lamnan.model</th>\n",
       "      <td>0.510745</td>\n",
       "      <td>1.0</td>\n",
       "    </tr>\n",
       "    <tr>\n",
       "      <th>k21_r0_cutoff6.00_alpha10000000000.000_tau1.00_lamnan.model</th>\n",
       "      <td>0.509735</td>\n",
       "      <td>3.0</td>\n",
       "    </tr>\n",
       "    <tr>\n",
       "      <th>k21_r0_cutoff6.00_alpha0.100_tau1.00_lamnan.model</th>\n",
       "      <td>0.509735</td>\n",
       "      <td>3.0</td>\n",
       "    </tr>\n",
       "    <tr>\n",
       "      <th>k21_r0_cutoff8.00_alpha0.100_tau1.00_lamnan.model</th>\n",
       "      <td>0.509735</td>\n",
       "      <td>3.0</td>\n",
       "    </tr>\n",
       "  </tbody>\n",
       "</table>\n",
       "</div>"
      ],
      "text/plain": [
       "metric                                                 auprc  rank\n",
       "model_name                                                        \n",
       "k21_r0_cutoff6.00_alpha0.010_tau1.00_lamnan.model   0.510745   1.0\n",
       "k21_r0_cutoff8.00_alpha0.010_tau1.00_lamnan.model   0.510745   1.0\n",
       "k21_r0_cutoff6.00_alpha10000000000.000_tau1.00_...  0.509735   3.0\n",
       "k21_r0_cutoff6.00_alpha0.100_tau1.00_lamnan.model   0.509735   3.0\n",
       "k21_r0_cutoff8.00_alpha0.100_tau1.00_lamnan.model   0.509735   3.0"
      ]
     },
     "execution_count": 132,
     "metadata": {},
     "output_type": "execute_result"
    }
   ],
   "source": [
    "cont_pvt.sort_values('rank').head()"
   ]
  },
  {
   "cell_type": "code",
   "execution_count": 133,
   "metadata": {},
   "outputs": [
    {
     "data": {
      "text/html": [
       "<div>\n",
       "<style scoped>\n",
       "    .dataframe tbody tr th:only-of-type {\n",
       "        vertical-align: middle;\n",
       "    }\n",
       "\n",
       "    .dataframe tbody tr th {\n",
       "        vertical-align: top;\n",
       "    }\n",
       "\n",
       "    .dataframe thead th {\n",
       "        text-align: right;\n",
       "    }\n",
       "</style>\n",
       "<table border=\"1\" class=\"dataframe\">\n",
       "  <thead>\n",
       "    <tr style=\"text-align: right;\">\n",
       "      <th>metric</th>\n",
       "      <th>threshold</th>\n",
       "      <th>balanced_acc</th>\n",
       "      <th>correlation</th>\n",
       "      <th>dice</th>\n",
       "      <th>precision</th>\n",
       "      <th>rank_conf</th>\n",
       "      <th>auprc</th>\n",
       "      <th>rank_cont</th>\n",
       "      <th>avg_rank</th>\n",
       "    </tr>\n",
       "    <tr>\n",
       "      <th>model_name</th>\n",
       "      <th></th>\n",
       "      <th></th>\n",
       "      <th></th>\n",
       "      <th></th>\n",
       "      <th></th>\n",
       "      <th></th>\n",
       "      <th></th>\n",
       "      <th></th>\n",
       "      <th></th>\n",
       "    </tr>\n",
       "  </thead>\n",
       "  <tbody>\n",
       "    <tr>\n",
       "      <th>k21_r1_cutoff8.00_alpha10000000000.000_tau1.00_lamnan.model</th>\n",
       "      <td>0.9</td>\n",
       "      <td>0.562095</td>\n",
       "      <td>0.190294</td>\n",
       "      <td>0.170332</td>\n",
       "      <td>0.336801</td>\n",
       "      <td>1.0</td>\n",
       "      <td>0.387892</td>\n",
       "      <td>7.0</td>\n",
       "      <td>4.0</td>\n",
       "    </tr>\n",
       "    <tr>\n",
       "      <th>k21_r1_cutoff8.00_alpha0.010_tau1.00_lamnan.model</th>\n",
       "      <td>0.9</td>\n",
       "      <td>0.562095</td>\n",
       "      <td>0.190294</td>\n",
       "      <td>0.170332</td>\n",
       "      <td>0.336801</td>\n",
       "      <td>1.0</td>\n",
       "      <td>0.387892</td>\n",
       "      <td>7.0</td>\n",
       "      <td>4.0</td>\n",
       "    </tr>\n",
       "    <tr>\n",
       "      <th>k21_r1_cutoff8.00_alpha0.100_tau1.00_lamnan.model</th>\n",
       "      <td>0.9</td>\n",
       "      <td>0.562095</td>\n",
       "      <td>0.190294</td>\n",
       "      <td>0.170332</td>\n",
       "      <td>0.336801</td>\n",
       "      <td>1.0</td>\n",
       "      <td>0.387892</td>\n",
       "      <td>7.0</td>\n",
       "      <td>4.0</td>\n",
       "    </tr>\n",
       "    <tr>\n",
       "      <th>k21_r1_cutoff8.00_alpha0.010_tau1.00_lamnan.model</th>\n",
       "      <td>0.8</td>\n",
       "      <td>0.582069</td>\n",
       "      <td>0.221921</td>\n",
       "      <td>0.210051</td>\n",
       "      <td>0.335147</td>\n",
       "      <td>2.0</td>\n",
       "      <td>0.387892</td>\n",
       "      <td>7.0</td>\n",
       "      <td>4.5</td>\n",
       "    </tr>\n",
       "    <tr>\n",
       "      <th>k21_r1_cutoff8.00_alpha0.100_tau1.00_lamnan.model</th>\n",
       "      <td>0.8</td>\n",
       "      <td>0.582069</td>\n",
       "      <td>0.221921</td>\n",
       "      <td>0.210051</td>\n",
       "      <td>0.335147</td>\n",
       "      <td>2.0</td>\n",
       "      <td>0.387892</td>\n",
       "      <td>7.0</td>\n",
       "      <td>4.5</td>\n",
       "    </tr>\n",
       "    <tr>\n",
       "      <th>k21_r1_cutoff8.00_alpha10000000000.000_tau1.00_lamnan.model</th>\n",
       "      <td>0.8</td>\n",
       "      <td>0.582069</td>\n",
       "      <td>0.221921</td>\n",
       "      <td>0.210051</td>\n",
       "      <td>0.335147</td>\n",
       "      <td>2.0</td>\n",
       "      <td>0.387892</td>\n",
       "      <td>7.0</td>\n",
       "      <td>4.5</td>\n",
       "    </tr>\n",
       "    <tr>\n",
       "      <th>k21_r1_cutoff8.00_alpha0.010_tau1.00_lamnan.model</th>\n",
       "      <td>0.7</td>\n",
       "      <td>0.605710</td>\n",
       "      <td>0.249747</td>\n",
       "      <td>0.244590</td>\n",
       "      <td>0.326618</td>\n",
       "      <td>5.0</td>\n",
       "      <td>0.387892</td>\n",
       "      <td>7.0</td>\n",
       "      <td>6.0</td>\n",
       "    </tr>\n",
       "    <tr>\n",
       "      <th>k21_r1_cutoff8.00_alpha10000000000.000_tau1.00_lamnan.model</th>\n",
       "      <td>0.7</td>\n",
       "      <td>0.605710</td>\n",
       "      <td>0.249747</td>\n",
       "      <td>0.244590</td>\n",
       "      <td>0.326618</td>\n",
       "      <td>5.0</td>\n",
       "      <td>0.387892</td>\n",
       "      <td>7.0</td>\n",
       "      <td>6.0</td>\n",
       "    </tr>\n",
       "    <tr>\n",
       "      <th>k21_r1_cutoff8.00_alpha0.100_tau1.00_lamnan.model</th>\n",
       "      <td>0.7</td>\n",
       "      <td>0.605710</td>\n",
       "      <td>0.249747</td>\n",
       "      <td>0.244590</td>\n",
       "      <td>0.326618</td>\n",
       "      <td>5.0</td>\n",
       "      <td>0.387892</td>\n",
       "      <td>7.0</td>\n",
       "      <td>6.0</td>\n",
       "    </tr>\n",
       "    <tr>\n",
       "      <th>k21_r1_cutoff8.00_alpha0.100_tau1.00_lamnan.model</th>\n",
       "      <td>0.6</td>\n",
       "      <td>0.632662</td>\n",
       "      <td>0.278817</td>\n",
       "      <td>0.279121</td>\n",
       "      <td>0.316639</td>\n",
       "      <td>6.0</td>\n",
       "      <td>0.387892</td>\n",
       "      <td>7.0</td>\n",
       "      <td>6.5</td>\n",
       "    </tr>\n",
       "    <tr>\n",
       "      <th>k21_r1_cutoff8.00_alpha10000000000.000_tau1.00_lamnan.model</th>\n",
       "      <td>0.6</td>\n",
       "      <td>0.632662</td>\n",
       "      <td>0.278817</td>\n",
       "      <td>0.279121</td>\n",
       "      <td>0.316639</td>\n",
       "      <td>6.0</td>\n",
       "      <td>0.387892</td>\n",
       "      <td>7.0</td>\n",
       "      <td>6.5</td>\n",
       "    </tr>\n",
       "    <tr>\n",
       "      <th>k21_r1_cutoff8.00_alpha0.010_tau1.00_lamnan.model</th>\n",
       "      <td>0.6</td>\n",
       "      <td>0.632662</td>\n",
       "      <td>0.278817</td>\n",
       "      <td>0.279121</td>\n",
       "      <td>0.316639</td>\n",
       "      <td>6.0</td>\n",
       "      <td>0.387892</td>\n",
       "      <td>7.0</td>\n",
       "      <td>6.5</td>\n",
       "    </tr>\n",
       "    <tr>\n",
       "      <th>k21_r1_cutoff8.00_alpha0.010_tau1.00_lamnan.model</th>\n",
       "      <td>0.5</td>\n",
       "      <td>0.643024</td>\n",
       "      <td>0.284237</td>\n",
       "      <td>0.285937</td>\n",
       "      <td>0.303835</td>\n",
       "      <td>13.0</td>\n",
       "      <td>0.387892</td>\n",
       "      <td>7.0</td>\n",
       "      <td>10.0</td>\n",
       "    </tr>\n",
       "    <tr>\n",
       "      <th>k21_r1_cutoff8.00_alpha10000000000.000_tau1.00_lamnan.model</th>\n",
       "      <td>0.5</td>\n",
       "      <td>0.643024</td>\n",
       "      <td>0.284237</td>\n",
       "      <td>0.285937</td>\n",
       "      <td>0.303835</td>\n",
       "      <td>13.0</td>\n",
       "      <td>0.387892</td>\n",
       "      <td>7.0</td>\n",
       "      <td>10.0</td>\n",
       "    </tr>\n",
       "    <tr>\n",
       "      <th>k21_r1_cutoff8.00_alpha0.100_tau1.00_lamnan.model</th>\n",
       "      <td>0.5</td>\n",
       "      <td>0.643024</td>\n",
       "      <td>0.284237</td>\n",
       "      <td>0.285937</td>\n",
       "      <td>0.303835</td>\n",
       "      <td>13.0</td>\n",
       "      <td>0.387892</td>\n",
       "      <td>7.0</td>\n",
       "      <td>10.0</td>\n",
       "    </tr>\n",
       "    <tr>\n",
       "      <th>k21_r2_cutoff8.00_alpha0.100_tau1.00_lamnan.model</th>\n",
       "      <td>0.9</td>\n",
       "      <td>0.566787</td>\n",
       "      <td>0.187867</td>\n",
       "      <td>0.174208</td>\n",
       "      <td>0.304355</td>\n",
       "      <td>12.0</td>\n",
       "      <td>0.360989</td>\n",
       "      <td>10.0</td>\n",
       "      <td>11.0</td>\n",
       "    </tr>\n",
       "    <tr>\n",
       "      <th>k21_r2_cutoff8.00_alpha0.010_tau1.00_lamnan.model</th>\n",
       "      <td>0.9</td>\n",
       "      <td>0.566787</td>\n",
       "      <td>0.187867</td>\n",
       "      <td>0.174208</td>\n",
       "      <td>0.304355</td>\n",
       "      <td>12.0</td>\n",
       "      <td>0.360989</td>\n",
       "      <td>10.0</td>\n",
       "      <td>11.0</td>\n",
       "    </tr>\n",
       "    <tr>\n",
       "      <th>k21_r2_cutoff8.00_alpha10000000000.000_tau1.00_lamnan.model</th>\n",
       "      <td>0.9</td>\n",
       "      <td>0.566787</td>\n",
       "      <td>0.187867</td>\n",
       "      <td>0.174208</td>\n",
       "      <td>0.304355</td>\n",
       "      <td>12.0</td>\n",
       "      <td>0.360989</td>\n",
       "      <td>10.0</td>\n",
       "      <td>11.0</td>\n",
       "    </tr>\n",
       "    <tr>\n",
       "      <th>k21_r1_cutoff8.00_alpha0.100_tau0.00_lamnan.model</th>\n",
       "      <td>0.9</td>\n",
       "      <td>0.581601</td>\n",
       "      <td>0.214660</td>\n",
       "      <td>0.202253</td>\n",
       "      <td>0.330972</td>\n",
       "      <td>4.0</td>\n",
       "      <td>0.352142</td>\n",
       "      <td>18.0</td>\n",
       "      <td>11.0</td>\n",
       "    </tr>\n",
       "    <tr>\n",
       "      <th>k21_r1_cutoff8.00_alpha10000000000.000_tau0.00_lamnan.model</th>\n",
       "      <td>0.9</td>\n",
       "      <td>0.581601</td>\n",
       "      <td>0.214660</td>\n",
       "      <td>0.202253</td>\n",
       "      <td>0.330972</td>\n",
       "      <td>4.0</td>\n",
       "      <td>0.352142</td>\n",
       "      <td>18.0</td>\n",
       "      <td>11.0</td>\n",
       "    </tr>\n",
       "  </tbody>\n",
       "</table>\n",
       "</div>"
      ],
      "text/plain": [
       "metric                                             threshold  balanced_acc  \\\n",
       "model_name                                                                   \n",
       "k21_r1_cutoff8.00_alpha10000000000.000_tau1.00_...       0.9      0.562095   \n",
       "k21_r1_cutoff8.00_alpha0.010_tau1.00_lamnan.model        0.9      0.562095   \n",
       "k21_r1_cutoff8.00_alpha0.100_tau1.00_lamnan.model        0.9      0.562095   \n",
       "k21_r1_cutoff8.00_alpha0.010_tau1.00_lamnan.model        0.8      0.582069   \n",
       "k21_r1_cutoff8.00_alpha0.100_tau1.00_lamnan.model        0.8      0.582069   \n",
       "k21_r1_cutoff8.00_alpha10000000000.000_tau1.00_...       0.8      0.582069   \n",
       "k21_r1_cutoff8.00_alpha0.010_tau1.00_lamnan.model        0.7      0.605710   \n",
       "k21_r1_cutoff8.00_alpha10000000000.000_tau1.00_...       0.7      0.605710   \n",
       "k21_r1_cutoff8.00_alpha0.100_tau1.00_lamnan.model        0.7      0.605710   \n",
       "k21_r1_cutoff8.00_alpha0.100_tau1.00_lamnan.model        0.6      0.632662   \n",
       "k21_r1_cutoff8.00_alpha10000000000.000_tau1.00_...       0.6      0.632662   \n",
       "k21_r1_cutoff8.00_alpha0.010_tau1.00_lamnan.model        0.6      0.632662   \n",
       "k21_r1_cutoff8.00_alpha0.010_tau1.00_lamnan.model        0.5      0.643024   \n",
       "k21_r1_cutoff8.00_alpha10000000000.000_tau1.00_...       0.5      0.643024   \n",
       "k21_r1_cutoff8.00_alpha0.100_tau1.00_lamnan.model        0.5      0.643024   \n",
       "k21_r2_cutoff8.00_alpha0.100_tau1.00_lamnan.model        0.9      0.566787   \n",
       "k21_r2_cutoff8.00_alpha0.010_tau1.00_lamnan.model        0.9      0.566787   \n",
       "k21_r2_cutoff8.00_alpha10000000000.000_tau1.00_...       0.9      0.566787   \n",
       "k21_r1_cutoff8.00_alpha0.100_tau0.00_lamnan.model        0.9      0.581601   \n",
       "k21_r1_cutoff8.00_alpha10000000000.000_tau0.00_...       0.9      0.581601   \n",
       "\n",
       "metric                                              correlation      dice  \\\n",
       "model_name                                                                  \n",
       "k21_r1_cutoff8.00_alpha10000000000.000_tau1.00_...     0.190294  0.170332   \n",
       "k21_r1_cutoff8.00_alpha0.010_tau1.00_lamnan.model      0.190294  0.170332   \n",
       "k21_r1_cutoff8.00_alpha0.100_tau1.00_lamnan.model      0.190294  0.170332   \n",
       "k21_r1_cutoff8.00_alpha0.010_tau1.00_lamnan.model      0.221921  0.210051   \n",
       "k21_r1_cutoff8.00_alpha0.100_tau1.00_lamnan.model      0.221921  0.210051   \n",
       "k21_r1_cutoff8.00_alpha10000000000.000_tau1.00_...     0.221921  0.210051   \n",
       "k21_r1_cutoff8.00_alpha0.010_tau1.00_lamnan.model      0.249747  0.244590   \n",
       "k21_r1_cutoff8.00_alpha10000000000.000_tau1.00_...     0.249747  0.244590   \n",
       "k21_r1_cutoff8.00_alpha0.100_tau1.00_lamnan.model      0.249747  0.244590   \n",
       "k21_r1_cutoff8.00_alpha0.100_tau1.00_lamnan.model      0.278817  0.279121   \n",
       "k21_r1_cutoff8.00_alpha10000000000.000_tau1.00_...     0.278817  0.279121   \n",
       "k21_r1_cutoff8.00_alpha0.010_tau1.00_lamnan.model      0.278817  0.279121   \n",
       "k21_r1_cutoff8.00_alpha0.010_tau1.00_lamnan.model      0.284237  0.285937   \n",
       "k21_r1_cutoff8.00_alpha10000000000.000_tau1.00_...     0.284237  0.285937   \n",
       "k21_r1_cutoff8.00_alpha0.100_tau1.00_lamnan.model      0.284237  0.285937   \n",
       "k21_r2_cutoff8.00_alpha0.100_tau1.00_lamnan.model      0.187867  0.174208   \n",
       "k21_r2_cutoff8.00_alpha0.010_tau1.00_lamnan.model      0.187867  0.174208   \n",
       "k21_r2_cutoff8.00_alpha10000000000.000_tau1.00_...     0.187867  0.174208   \n",
       "k21_r1_cutoff8.00_alpha0.100_tau0.00_lamnan.model      0.214660  0.202253   \n",
       "k21_r1_cutoff8.00_alpha10000000000.000_tau0.00_...     0.214660  0.202253   \n",
       "\n",
       "metric                                              precision  rank_conf  \\\n",
       "model_name                                                                 \n",
       "k21_r1_cutoff8.00_alpha10000000000.000_tau1.00_...   0.336801        1.0   \n",
       "k21_r1_cutoff8.00_alpha0.010_tau1.00_lamnan.model    0.336801        1.0   \n",
       "k21_r1_cutoff8.00_alpha0.100_tau1.00_lamnan.model    0.336801        1.0   \n",
       "k21_r1_cutoff8.00_alpha0.010_tau1.00_lamnan.model    0.335147        2.0   \n",
       "k21_r1_cutoff8.00_alpha0.100_tau1.00_lamnan.model    0.335147        2.0   \n",
       "k21_r1_cutoff8.00_alpha10000000000.000_tau1.00_...   0.335147        2.0   \n",
       "k21_r1_cutoff8.00_alpha0.010_tau1.00_lamnan.model    0.326618        5.0   \n",
       "k21_r1_cutoff8.00_alpha10000000000.000_tau1.00_...   0.326618        5.0   \n",
       "k21_r1_cutoff8.00_alpha0.100_tau1.00_lamnan.model    0.326618        5.0   \n",
       "k21_r1_cutoff8.00_alpha0.100_tau1.00_lamnan.model    0.316639        6.0   \n",
       "k21_r1_cutoff8.00_alpha10000000000.000_tau1.00_...   0.316639        6.0   \n",
       "k21_r1_cutoff8.00_alpha0.010_tau1.00_lamnan.model    0.316639        6.0   \n",
       "k21_r1_cutoff8.00_alpha0.010_tau1.00_lamnan.model    0.303835       13.0   \n",
       "k21_r1_cutoff8.00_alpha10000000000.000_tau1.00_...   0.303835       13.0   \n",
       "k21_r1_cutoff8.00_alpha0.100_tau1.00_lamnan.model    0.303835       13.0   \n",
       "k21_r2_cutoff8.00_alpha0.100_tau1.00_lamnan.model    0.304355       12.0   \n",
       "k21_r2_cutoff8.00_alpha0.010_tau1.00_lamnan.model    0.304355       12.0   \n",
       "k21_r2_cutoff8.00_alpha10000000000.000_tau1.00_...   0.304355       12.0   \n",
       "k21_r1_cutoff8.00_alpha0.100_tau0.00_lamnan.model    0.330972        4.0   \n",
       "k21_r1_cutoff8.00_alpha10000000000.000_tau0.00_...   0.330972        4.0   \n",
       "\n",
       "metric                                                 auprc  rank_cont  \\\n",
       "model_name                                                                \n",
       "k21_r1_cutoff8.00_alpha10000000000.000_tau1.00_...  0.387892        7.0   \n",
       "k21_r1_cutoff8.00_alpha0.010_tau1.00_lamnan.model   0.387892        7.0   \n",
       "k21_r1_cutoff8.00_alpha0.100_tau1.00_lamnan.model   0.387892        7.0   \n",
       "k21_r1_cutoff8.00_alpha0.010_tau1.00_lamnan.model   0.387892        7.0   \n",
       "k21_r1_cutoff8.00_alpha0.100_tau1.00_lamnan.model   0.387892        7.0   \n",
       "k21_r1_cutoff8.00_alpha10000000000.000_tau1.00_...  0.387892        7.0   \n",
       "k21_r1_cutoff8.00_alpha0.010_tau1.00_lamnan.model   0.387892        7.0   \n",
       "k21_r1_cutoff8.00_alpha10000000000.000_tau1.00_...  0.387892        7.0   \n",
       "k21_r1_cutoff8.00_alpha0.100_tau1.00_lamnan.model   0.387892        7.0   \n",
       "k21_r1_cutoff8.00_alpha0.100_tau1.00_lamnan.model   0.387892        7.0   \n",
       "k21_r1_cutoff8.00_alpha10000000000.000_tau1.00_...  0.387892        7.0   \n",
       "k21_r1_cutoff8.00_alpha0.010_tau1.00_lamnan.model   0.387892        7.0   \n",
       "k21_r1_cutoff8.00_alpha0.010_tau1.00_lamnan.model   0.387892        7.0   \n",
       "k21_r1_cutoff8.00_alpha10000000000.000_tau1.00_...  0.387892        7.0   \n",
       "k21_r1_cutoff8.00_alpha0.100_tau1.00_lamnan.model   0.387892        7.0   \n",
       "k21_r2_cutoff8.00_alpha0.100_tau1.00_lamnan.model   0.360989       10.0   \n",
       "k21_r2_cutoff8.00_alpha0.010_tau1.00_lamnan.model   0.360989       10.0   \n",
       "k21_r2_cutoff8.00_alpha10000000000.000_tau1.00_...  0.360989       10.0   \n",
       "k21_r1_cutoff8.00_alpha0.100_tau0.00_lamnan.model   0.352142       18.0   \n",
       "k21_r1_cutoff8.00_alpha10000000000.000_tau0.00_...  0.352142       18.0   \n",
       "\n",
       "metric                                              avg_rank  \n",
       "model_name                                                    \n",
       "k21_r1_cutoff8.00_alpha10000000000.000_tau1.00_...       4.0  \n",
       "k21_r1_cutoff8.00_alpha0.010_tau1.00_lamnan.model        4.0  \n",
       "k21_r1_cutoff8.00_alpha0.100_tau1.00_lamnan.model        4.0  \n",
       "k21_r1_cutoff8.00_alpha0.010_tau1.00_lamnan.model        4.5  \n",
       "k21_r1_cutoff8.00_alpha0.100_tau1.00_lamnan.model        4.5  \n",
       "k21_r1_cutoff8.00_alpha10000000000.000_tau1.00_...       4.5  \n",
       "k21_r1_cutoff8.00_alpha0.010_tau1.00_lamnan.model        6.0  \n",
       "k21_r1_cutoff8.00_alpha10000000000.000_tau1.00_...       6.0  \n",
       "k21_r1_cutoff8.00_alpha0.100_tau1.00_lamnan.model        6.0  \n",
       "k21_r1_cutoff8.00_alpha0.100_tau1.00_lamnan.model        6.5  \n",
       "k21_r1_cutoff8.00_alpha10000000000.000_tau1.00_...       6.5  \n",
       "k21_r1_cutoff8.00_alpha0.010_tau1.00_lamnan.model        6.5  \n",
       "k21_r1_cutoff8.00_alpha0.010_tau1.00_lamnan.model       10.0  \n",
       "k21_r1_cutoff8.00_alpha10000000000.000_tau1.00_...      10.0  \n",
       "k21_r1_cutoff8.00_alpha0.100_tau1.00_lamnan.model       10.0  \n",
       "k21_r2_cutoff8.00_alpha0.100_tau1.00_lamnan.model       11.0  \n",
       "k21_r2_cutoff8.00_alpha0.010_tau1.00_lamnan.model       11.0  \n",
       "k21_r2_cutoff8.00_alpha10000000000.000_tau1.00_...      11.0  \n",
       "k21_r1_cutoff8.00_alpha0.100_tau0.00_lamnan.model       11.0  \n",
       "k21_r1_cutoff8.00_alpha10000000000.000_tau0.00_...      11.0  "
      ]
     },
     "execution_count": 133,
     "metadata": {},
     "output_type": "execute_result"
    }
   ],
   "source": [
    "merged = pd.merge(conf_pvt.reset_index(level=['threshold']), cont_pvt, on='model_name', how='left', suffixes=['_conf', '_cont'])\n",
    "merged['avg_rank'] = merged[['rank_conf', 'rank_cont']].mean(axis=1)\n",
    "merged.sort_values('avg_rank').head(20)"
   ]
  },
  {
   "cell_type": "code",
   "execution_count": 134,
   "metadata": {},
   "outputs": [],
   "source": [
    "encoder_top_models = \\\n",
    "    {'COLLAPSE': ('k15_r0_cutoff6.00_alpha0.010_tau1.00_lamnan.model', 0.9), \\\n",
    "    'ESM': ('k30_r1_cutoff4.00_alpha0.500_tau1.00_lamnan.model', 0.0), \\\n",
    "    'AA': ('k21_r1_cutoff8.00_alpha0.010_tau1.00_lamnan.model', 0.9)}"
   ]
  },
  {
   "cell_type": "markdown",
   "metadata": {},
   "source": [
    "## Plotting on test set"
   ]
  },
  {
   "cell_type": "code",
   "execution_count": 162,
   "metadata": {},
   "outputs": [],
   "source": [
    "from evaluation import test_eval, extract_params\n",
    "import matplotlib.pyplot as plt\n",
    "import seaborn as sns\n",
    "import utils"
   ]
  },
  {
   "cell_type": "code",
   "execution_count": 171,
   "metadata": {},
   "outputs": [],
   "source": [
    "import warnings\n",
    "warnings.filterwarnings(\"ignore\", \"is_categorical_dtype\")\n",
    "warnings.filterwarnings(\"ignore\", \"use_inf_as_na\")"
   ]
  },
  {
   "cell_type": "code",
   "execution_count": 166,
   "metadata": {},
   "outputs": [],
   "source": [
    "def setup_figure(width=6, height=3):\n",
    "    sns.set(style='white')\n",
    "    sns.set_context('paper')\n",
    "    plt.figure(figsize=(width,height))\n",
    "pal = sns.color_palette('tab20')"
   ]
  },
  {
   "cell_type": "code",
   "execution_count": 147,
   "metadata": {},
   "outputs": [],
   "source": [
    "metal = 'ZN'"
   ]
  },
  {
   "cell_type": "code",
   "execution_count": 174,
   "metadata": {},
   "outputs": [],
   "source": [
    "test_df = []\n",
    "test_metrics = key_conf_metrics + key_cont_metrics\n",
    "for encoder, (model_str, threshold) in encoder_top_models.items():\n",
    "    results_cache_dir = f\"../data/{encoder}_{metal}_gridsearch_results/{encoder}-eval_results\"\n",
    "    model_cache_dir = f\"../data/{encoder}_{metal}_gridsearch_results/{encoder}-fitted_k2_models\"\n",
    "    processor_cache_dir = f\"../data/{encoder}_{metal}_gridsearch_results/{encoder}-fitted_k2_processors\"\n",
    "    linearized_cache_dir = f\"../data/{encoder}_{metal}_gridsearch_results/{encoder}-linearized_data\"\n",
    "\n",
    "    _,_,cutoff,_,_,_ = extract_params(model_str)\n",
    "\n",
    "    if encoder == 'AA':\n",
    "        g_encoder = 'COLLAPSE'\n",
    "    else:\n",
    "        g_encoder = encoder\n",
    "\n",
    "    G_dir = f\"../data/{g_encoder}_{metal}_{cutoff}_test_graphs\"\n",
    "    \n",
    "    df = test_eval(model_str, threshold, test_metrics, model_cache_dir, processor_cache_dir, G_dir, gt_dir=None, label_dict=None, modality=\"graph\")\n",
    "    test_df.append(df)\n",
    "test_df = pd.concat(test_df)"
   ]
  },
  {
   "cell_type": "code",
   "execution_count": null,
   "metadata": {},
   "outputs": [],
   "source": [
    "# baselines\n",
    "for encoder in ['COLLAPSE', 'ESM', 'AA']:\n",
    "    results_dict = deserialize(f'../data/baselines/{encoder}_test_results.pkl')"
   ]
  },
  {
   "cell_type": "code",
   "execution_count": 178,
   "metadata": {},
   "outputs": [
    {
     "data": {
      "text/plain": [
       "<Figure size 640x480 with 0 Axes>"
      ]
     },
     "metadata": {},
     "output_type": "display_data"
    },
    {
     "data": {
      "image/png": "[encoded data removed]",
      "text/plain": [
       "<Figure size 600x300 with 1 Axes>"
      ]
     },
     "metadata": {},
     "output_type": "display_data"
    },
    {
     "data": {
      "text/plain": [
       "<Figure size 640x480 with 0 Axes>"
      ]
     },
     "metadata": {},
     "output_type": "display_data"
    },
    {
     "data": {
      "image/png": "[encoded data removed]",
      "text/plain": [
       "<Figure size 600x300 with 1 Axes>"
      ]
     },
     "metadata": {},
     "output_type": "display_data"
    },
    {
     "data": {
      "text/plain": [
       "<Figure size 640x480 with 0 Axes>"
      ]
     },
     "metadata": {},
     "output_type": "display_data"
    },
    {
     "data": {
      "image/png": "[encoded data removed]",
      "text/plain": [
       "<Figure size 600x300 with 1 Axes>"
      ]
     },
     "metadata": {},
     "output_type": "display_data"
    },
    {
     "data": {
      "text/plain": [
       "<Figure size 640x480 with 0 Axes>"
      ]
     },
     "metadata": {},
     "output_type": "display_data"
    },
    {
     "data": {
      "image/png": "[encoded data removed]",
      "text/plain": [
       "<Figure size 600x300 with 1 Axes>"
      ]
     },
     "metadata": {},
     "output_type": "display_data"
    },
    {
     "name": "stderr",
     "output_type": "stream",
     "text": [
      "No artists with labels found to put in legend.  Note that artists whose label start with an underscore are ignored when legend() is called with no argument.\n"
     ]
    },
    {
     "data": {
      "text/plain": [
       "<Figure size 640x480 with 0 Axes>"
      ]
     },
     "metadata": {},
     "output_type": "display_data"
    },
    {
     "data": {
      "image/png": "[encoded data removed]",
      "text/plain": [
       "<Figure size 600x300 with 1 Axes>"
      ]
     },
     "metadata": {},
     "output_type": "display_data"
    }
   ],
   "source": [
    "for met in test_metrics:\n",
    "    subdf = full_df[full_df.metric == met].reset_index()\n",
    "\n",
    "    plt.clf()\n",
    "    setup_figure()\n",
    "    if met == 'auprc':\n",
    "        ax = sns.barplot(data=subdf[subdf.regime == 'all'], x='encoder', y='value', color=sns.color_palette()[0])\n",
    "        sns.stripplot(data=subdf[subdf.regime == 'all'], x='encoder', y='value',  dodge=True, alpha=0.5, linewidth=1, ax=ax, color=sns.color_palette()[0])\n",
    "    else:\n",
    "        ax = sns.barplot(data=subdf, x='encoder', y='value', hue='regime')\n",
    "        sns.stripplot(data=subdf, x='encoder', y='value', hue='regime', dodge=True, alpha=0.5, linewidth=1, ax=ax)\n",
    "    plt.title(met)\n",
    "    plt.legend(loc=(1.01,0.9))\n",
    "    plt.show()"
   ]
  },
  {
   "cell_type": "code",
   "execution_count": null,
   "metadata": {},
   "outputs": [],
   "source": []
  }
 ],
 "metadata": {
  "kernelspec": {
   "display_name": "k2",
   "language": "python",
   "name": "k2"
  },
  "language_info": {
   "codemirror_mode": {
    "name": "ipython",
    "version": 3
   },
   "file_extension": ".py",
   "mimetype": "text/x-python",
   "name": "python",
   "nbconvert_exporter": "python",
   "pygments_lexer": "ipython3",
   "version": "3.10.12"
  }
 },
 "nbformat": 4,
 "nbformat_minor": 4
}
