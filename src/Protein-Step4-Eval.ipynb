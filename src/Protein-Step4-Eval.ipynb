{
 "cells": [
  {
   "cell_type": "code",
   "execution_count": 1,
   "metadata": {},
   "outputs": [],
   "source": [
    "%load_ext autoreload\n",
    "%autoreload 2"
   ]
  },
  {
   "cell_type": "code",
   "execution_count": 14,
   "metadata": {},
   "outputs": [
    {
     "data": {
      "text/plain": [
       "('k25_r4_cutoff4.00_alpha10000000000.000_tau2.00_lamnan.model',\n",
       " 0.0,\n",
       " 0.007058785486655712)"
      ]
     },
     "execution_count": 14,
     "metadata": {},
     "output_type": "execute_result"
    }
   ],
   "source": [
    "from model_selection import top_model_confusion\n",
    "from utils import serialize, deserialize, serialize_model, deserialize_model\n",
    "\n",
    "encoder = 'COLLAPSE'\n",
    "metal = 'CA'\n",
    "metric_str = \"prevalence\"\n",
    "results_cache_dir = f\"../data/{encoder}_gridsearch_results/{encoder}-eval_results\"\n",
    "model_cache_dir = f\"../data/{encoder}_gridsearch_results/{encoder}-fitted_k2_models\"\n",
    "\n",
    "top_model_confusion(metric_str,results_cache_dir, model_cache_dir)"
   ]
  },
  {
   "cell_type": "code",
   "execution_count": 26,
   "metadata": {},
   "outputs": [
    {
     "name": "stderr",
     "output_type": "stream",
     "text": [
      "  3%|▎         | 16/522 [07:52<4:07:51, 29.39s/it]"
     ]
    }
   ],
   "source": [
    "from model_selection import k_hop_precision\n",
    "linearized_cache_dir = f\"../data/{encoder}_gridsearch_results/{encoder}-linearized_data\"\n",
    "graph_base_dir = f\"../data/{encoder}_{metal}_cutoff_train_graphs\"\n",
    "\n",
    "k_hop_precision('protein', linearized_cache_dir, model_cache_dir, graph_base_dir)"
   ]
  },
  {
   "cell_type": "code",
   "execution_count": 38,
   "metadata": {},
   "outputs": [
    {
     "name": "stdout",
     "output_type": "stream",
     "text": [
      "msd\n",
      "('k20_r0_cutoff8.00_alpha0.001_tau2.00_lamnan.model', '>', 361.22301951779565)\n",
      "specificity\n",
      "('k10_r0_cutoff4.00_alpha0.001_tau0.00_lamnan.model', 1.0, 1.0)\n",
      "precision\n",
      "('k20_r2_cutoff6.00_alpha0.100_tau0.00_lamnan.model', 0.9, 0.027639492988932958)\n",
      "fnr\n",
      "('k10_r0_cutoff4.00_alpha0.001_tau0.00_lamnan.model', 1.0, 0.48679678530424797)\n",
      "fdr\n",
      "('k15_r1_cutoff4.00_alphanan_taunan_lam0.50.model', 0.9, 0.9976602850353525)\n",
      "recall\n",
      "('k20_r1_cutoff6.00_alpha0.100_tau2.00_lamnan.model', 0.0, 1.0)\n",
      "accuracy\n",
      "('k10_r0_cutoff4.00_alpha0.001_tau0.00_lamnan.model', 1.0, 0.9929412145133447)\n",
      "balanced_acc\n",
      "('k20_r2_cutoff6.00_alpha0.100_tau0.00_lamnan.model', 0.9, 0.5104395595671256)\n",
      "correlation\n",
      "('k20_r0_cutoff8.00_alpha0.001_tau0.00_lamnan.model', 0.9, 0.03524971449809501)\n",
      "threat_score\n"
     ]
    },
    {
     "name": "stderr",
     "output_type": "stream",
     "text": [
      "/oak/stanford/groups/rbaltman/aderry/K2/src/metrics.py:104: RuntimeWarning: invalid value encountered in scalar divide\n",
      "  return tp / (tp + fn + fp)\n"
     ]
    },
    {
     "name": "stdout",
     "output_type": "stream",
     "text": [
      "('k20_r0_cutoff8.00_alpha0.001_tau0.00_lamnan.model', 0.9, 0.018289480717047984)\n",
      "prevalence\n",
      "('k10_r0_cutoff4.00_alpha0.001_tau0.00_lamnan.model', 0.0, 0.007058785486655712)\n",
      "dice\n",
      "('k15_r1_cutoff4.00_alpha0.100_tau2.00_lamnan.model', '<', 0.5132626435597806)\n",
      "jaccard\n",
      "('k15_r1_cutoff4.00_alpha0.100_tau2.00_lamnan.model', '<', 0.5132331635114069)\n"
     ]
    }
   ],
   "source": [
    "valid_metrics = [\"msd\", \"specificity\", \"precision\", \"fnr\", \"fdr\", \"recall\", \"accuracy\", \"balanced_acc\", \"correlation\", \"threat_score\", \"prevalence\", \"dice\", \"jaccard\"]\n",
    "for metric_str in valid_metrics:\n",
    "    print(metric_str)\n",
    "    results = top_model_confusion(metric_str,results_cache_dir, model_cache_dir)\n",
    "    print(results)"
   ]
  },
  {
   "cell_type": "code",
   "execution_count": 39,
   "metadata": {},
   "outputs": [
    {
     "name": "stdout",
     "output_type": "stream",
     "text": [
      "msd\n",
      "('k20_r0_cutoff8.00_alpha0.001_tau2.00_lamnan.model', '>', 343.8249440715884)\n",
      "specificity\n",
      "('k10_r0_cutoff4.00_alpha0.001_tau0.00_lamnan.model', 1.0, 1.0)\n",
      "precision\n",
      "('k10_r0_cutoff4.00_alpha0.001_tau0.00_lamnan.model', 0.0, 0.0)\n",
      "fnr\n",
      "('k10_r0_cutoff4.00_alpha0.001_tau0.00_lamnan.model', 0.0, 0.0)\n",
      "fdr\n",
      "('k10_r0_cutoff4.00_alpha0.001_tau0.00_lamnan.model', 0.0, 1.0)\n",
      "recall\n",
      "('k10_r0_cutoff4.00_alpha0.001_tau0.00_lamnan.model', 0.0, 1.0)\n",
      "accuracy\n",
      "('k10_r0_cutoff4.00_alpha0.001_tau0.00_lamnan.model', 1.0, 1.0)\n",
      "balanced_acc\n",
      "('k10_r0_cutoff4.00_alpha0.001_tau0.00_lamnan.model', 0.0, 0.5)\n",
      "correlation\n",
      "('k10_r0_cutoff4.00_alpha0.001_tau0.00_lamnan.model', 0.0, 0.0)\n",
      "threat_score\n",
      "('k10_r0_cutoff4.00_alpha0.001_tau0.00_lamnan.model', 0.0, 0.0)\n",
      "prevalence\n",
      "('k10_r0_cutoff4.00_alpha0.001_tau0.00_lamnan.model', 0.0, 0.0)\n",
      "dice\n",
      "('k10_r0_cutoff4.00_alpha0.001_tau0.00_lamnan.model', 1.0, 1.0)\n",
      "jaccard\n",
      "('k10_r0_cutoff4.00_alpha0.001_tau0.00_lamnan.model', 1.0, 1.0)\n"
     ]
    }
   ],
   "source": [
    "valid_metrics = [\"msd\", \"specificity\", \"precision\", \"fnr\", \"fdr\", \"recall\", \"accuracy\", \"balanced_acc\", \"correlation\", \"threat_score\", \"prevalence\", \"dice\", \"jaccard\"]\n",
    "for metric_str in valid_metrics:\n",
    "    print(metric_str)\n",
    "    results = top_model_confusion(metric_str, results_cache_dir, model_cache_dir, eval_class=0)\n",
    "    print(results)"
   ]
  },
  {
   "cell_type": "code",
   "execution_count": 40,
   "metadata": {},
   "outputs": [
    {
     "name": "stdout",
     "output_type": "stream",
     "text": [
      "msd\n",
      "('k20_r0_cutoff8.00_alpha0.001_tau2.00_lamnan.model', '>', 379.56485849056605)\n",
      "specificity\n",
      "('k10_r0_cutoff4.00_alpha0.001_tau0.00_lamnan.model', 1.0, 1.0)\n",
      "precision\n",
      "('k20_r2_cutoff6.00_alpha0.100_tau0.00_lamnan.model', 0.9, 0.056778298097548606)\n",
      "fnr\n",
      "('k10_r0_cutoff4.00_alpha0.001_tau0.00_lamnan.model', 1.0, 1.0)\n",
      "fdr\n",
      "('k15_r1_cutoff4.00_alphanan_taunan_lam0.50.model', 0.9, 0.9951936515702645)\n",
      "recall\n",
      "('k20_r1_cutoff6.00_alpha0.100_tau2.00_lamnan.model', 0.0, 1.0)\n",
      "accuracy\n",
      "('k10_r0_cutoff4.00_alpha0.001_tau0.00_lamnan.model', 1.0, 0.9854995232101956)\n",
      "balanced_acc\n",
      "('k20_r2_cutoff6.00_alpha0.100_tau0.00_lamnan.model', 0.9, 0.5214454159975623)\n",
      "correlation\n",
      "('k20_r0_cutoff8.00_alpha0.001_tau0.00_lamnan.model', 0.9, 0.07241155973547347)\n",
      "threat_score\n",
      "('k20_r0_cutoff8.00_alpha0.001_tau0.00_lamnan.model', 0.9, 0.037571079491860365)\n",
      "prevalence\n",
      "('k10_r0_cutoff4.00_alpha0.001_tau0.00_lamnan.model', 0.0, 0.014500476789804541)\n",
      "dice\n",
      "('k20_r0_cutoff8.00_alpha0.001_tau0.00_lamnan.model', 0.9, 0.06669019805812608)\n",
      "jaccard\n",
      "('k20_r0_cutoff8.00_alpha0.001_tau0.00_lamnan.model', 0.9, 0.037571079491860365)\n"
     ]
    }
   ],
   "source": [
    "valid_metrics = [\"msd\", \"specificity\", \"precision\", \"fnr\", \"fdr\", \"recall\", \"accuracy\", \"balanced_acc\", \"correlation\", \"threat_score\", \"prevalence\", \"dice\", \"jaccard\"]\n",
    "for metric_str in valid_metrics:\n",
    "    print(metric_str)\n",
    "    results = top_model_confusion(metric_str, results_cache_dir, model_cache_dir, eval_class=1)\n",
    "    print(results)"
   ]
  },
  {
   "cell_type": "code",
   "execution_count": 41,
   "metadata": {},
   "outputs": [
    {
     "name": "stdout",
     "output_type": "stream",
     "text": [
      "auroc\n",
      "('k10_r1_cutoff6.00_alphanan_taunan_lam0.50.model', 0.5663727786923305)\n",
      "auprc\n",
      "('k10_r0_cutoff8.00_alphanan_taunan_lam0.50.model', 0.7172617127100788)\n",
      "ap\n",
      "('k10_r1_cutoff6.00_alphanan_taunan_lam0.50.model', 0.5431992877223788)\n"
     ]
    }
   ],
   "source": [
    "from model_selection import top_model_preds\n",
    "valid_metrics = [\"auroc\", \"auprc\", \"ap\"]\n",
    "for metric_str in valid_metrics:\n",
    "    print(metric_str)\n",
    "    results = top_model_preds(metric_str, results_cache_dir, model_cache_dir)\n",
    "    print(results)"
   ]
  },
  {
   "cell_type": "code",
   "execution_count": 42,
   "metadata": {},
   "outputs": [
    {
     "name": "stdout",
     "output_type": "stream",
     "text": [
      "auroc\n",
      "('k15_r2_cutoff8.00_alpha0.100_tau0.00_lamnan.model', 0.6123544445802317)\n",
      "auprc\n",
      "('k10_r1_cutoff4.00_alpha0.010_tau2.00_lamnan.model', 0.5072547017800387)\n",
      "ap\n",
      "('k20_r2_cutoff8.00_alpha0.010_tau0.00_lamnan.model', 0.07298280888640749)\n"
     ]
    }
   ],
   "source": [
    "from model_selection import top_model_continuous_avg\n",
    "valid_metrics = [\"auroc\", \"auprc\", \"ap\"]\n",
    "for metric_str in valid_metrics:\n",
    "    print(metric_str)\n",
    "    results = top_model_continuous_avg(metric_str, results_cache_dir, model_cache_dir)\n",
    "    print(results)"
   ]
  },
  {
   "cell_type": "code",
   "execution_count": 43,
   "metadata": {
    "notebookRunGroups": {
     "groupValue": "2"
    }
   },
   "outputs": [
    {
     "name": "stdout",
     "output_type": "stream",
     "text": [
      "auroc\n",
      "('k15_r0_cutoff4.00_alpha0.100_tau0.00_lamnan.model', 0.6477540204376162)\n",
      "auprc\n",
      "('k10_r0_cutoff6.00_alphanan_taunan_lam0.50.model', 0.203370086124383)\n",
      "ap\n",
      "('k20_r0_cutoff8.00_alpha0.100_tau0.00_lamnan.model', 0.013246789072496264)\n"
     ]
    }
   ],
   "source": [
    "from model_selection import top_model_continuous_iid\n",
    "valid_metrics = [\"auroc\", \"auprc\", \"ap\"]\n",
    "linearized_cache_dir = f\"../data/{encoder}_gridsearch_results/{encoder}-linearized_data\"\n",
    "for metric_str in valid_metrics:\n",
    "    print(metric_str)\n",
    "    results = top_model_continuous_iid(metric_str, model_cache_dir, linearized_cache_dir)\n",
    "    print(results)"
   ]
  },
  {
   "cell_type": "code",
   "execution_count": null,
   "metadata": {},
   "outputs": [],
   "source": []
  }
 ],
 "metadata": {
  "kernelspec": {
   "display_name": "Python 3",
   "language": "python",
   "name": "python3"
  },
  "language_info": {
   "codemirror_mode": {
    "name": "ipython",
    "version": 3
   },
   "file_extension": ".py",
   "mimetype": "text/x-python",
   "name": "python",
   "nbconvert_exporter": "python",
   "pygments_lexer": "ipython3",
   "version": "3.10.12"
  },
  "orig_nbformat": 4
 },
 "nbformat": 4,
 "nbformat_minor": 2
}
