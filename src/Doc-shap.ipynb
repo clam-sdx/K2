{
 "cells": [
  {
   "cell_type": "markdown",
   "metadata": {},
   "source": [
    "# Shap speed analysis\n",
    "- analysis uses the following CPU and Wall clock metrics:\n",
    "https://stackoverflow.com/questions/56672370/how-to-capture-wall-clock-time-and-cpu-time-in-a-python-variable-using-bash-buil "
   ]
  },
  {
   "cell_type": "code",
   "execution_count": 1,
   "metadata": {},
   "outputs": [
    {
     "name": "stderr",
     "output_type": "stream",
     "text": [
      "/dfs/scratch1/gmachi/miniconda3/envs/kkenv/lib/python3.10/site-packages/tqdm/auto.py:21: TqdmWarning: IProgress not found. Please update jupyter and ipywidgets. See https://ipywidgets.readthedocs.io/en/stable/user_install.html\n",
      "  from .autonotebook import tqdm as notebook_tqdm\n"
     ]
    }
   ],
   "source": [
    "%load_ext autoreload\n",
    "%autoreload 2\n",
    "\n",
    "import torch\n",
    "import json\n",
    "import numpy as np\n",
    "import os"
   ]
  },
  {
   "cell_type": "code",
   "execution_count": 7,
   "metadata": {},
   "outputs": [],
   "source": [
    "test = \"/dfs/scratch1/gmachi/datasets/WikiSection/wikisection_en_disease_test.json\"\n",
    "with open(test, 'r') as f:\n",
    "    test_data = json.load(f)\n",
    "\n",
    "save_path = \"/dfs/scratch1/gmachi/datasets/wikisection_processed/\"\n",
    "# save_path_attn = os.path.join(save_path, \"attn_Gs\")\n",
    "# save_path_entail = os.path.join(save_path, \"entail_Gs\")\n",
    "# save_path_prob = os.path.join(save_path, \"prob_Gs\")\n",
    "# save_path_lime = os.path.join(save_path, \"lime_Gs\")\n",
    "save_path_shap = os.path.join(save_path, \"shap_Gs\")\n",
    "save_path_shap_fc = os.path.join(save_path, \"shap_fullcontext\")\n",
    "\n",
    "\n",
    "target = \"disease.genetics\"  # class-1"
   ]
  },
  {
   "cell_type": "code",
   "execution_count": 42,
   "metadata": {},
   "outputs": [
    {
     "data": {
      "text/plain": [
       "718"
      ]
     },
     "execution_count": 42,
     "metadata": {},
     "output_type": "execute_result"
    }
   ],
   "source": [
    "len(test_data)"
   ]
  },
  {
   "cell_type": "code",
   "execution_count": 4,
   "metadata": {},
   "outputs": [],
   "source": [
    "from utils import process_sentences\n",
    "from utils import serialize, deserialize\n",
    "from utils import convert_text2graph\n",
    "import random\n",
    "import networkx as nx"
   ]
  },
  {
   "cell_type": "code",
   "execution_count": 5,
   "metadata": {},
   "outputs": [],
   "source": [
    "def chunker(seq, size):\n",
    "    return [seq[pos:pos + size] for pos in range(0, len(seq), size)]"
   ]
  },
  {
   "cell_type": "code",
   "execution_count": 6,
   "metadata": {},
   "outputs": [],
   "source": [
    "from time import process_time \n",
    "from time import perf_counter"
   ]
  },
  {
   "cell_type": "markdown",
   "metadata": {},
   "source": [
    "below is for full-context "
   ]
  },
  {
   "cell_type": "code",
   "execution_count": 38,
   "metadata": {},
   "outputs": [],
   "source": [
    "# def process_Zs_scores(test_data, score_fn, save_path_Gs, batch_size=1, kill_after=2):\n",
    "#     dt_cpu_data, dt_cpu_batches, dt_cpu_tokens = [], [], []\n",
    "#     dt_wall_data, dt_wall_batches, dt_wall_tokens = [], [], []\n",
    "#     finished = 0\n",
    "#     ran_idxs = []\n",
    "    \n",
    "#     for i in range(len(test_data)):\n",
    "#         if finished == kill_after:\n",
    "#             return ran_idxs, dt_cpu_tokens, dt_wall_tokens, dt_cpu_batches, dt_wall_batches, dt_cpu_data, dt_wall_data\n",
    "\n",
    "#         G_file = \"doc_\"+str(i) + \"_graph.obj\"\n",
    "#         save_path_G = os.path.join(save_path_Gs, G_file)\n",
    "#         if os.path.isfile(save_path_G) == True:\n",
    "#             print(\"skipping sample bc already created:\", G_file)\n",
    "#             continue\n",
    "\n",
    "#         text = test_data[i][\"text\"]\n",
    "#         annots = test_data[i][\"annotations\"]\n",
    "\n",
    "#         scores = []\n",
    "#         doc_sents = []\n",
    "#         for annot in annots:\n",
    "#             begin = int(annot[\"begin\"])\n",
    "#             idx = [begin, begin+int(annot[\"length\"])]\n",
    "#             chunk = text[idx[0]:idx[1]]\n",
    "#             sents = [s for s in chunk.split(\".\")]\n",
    "#             sents = process_sentences(sents)\n",
    "#             doc_sents.extend(sents)\n",
    "        \n",
    "#         doc = [\" \".join(doc_sents)]\n",
    "#         print(len(doc[0].split(\" \")))\n",
    "\n",
    "#         #===============================\n",
    "#         start_cpu_datum = process_time()\n",
    "#         start_wall_datum = perf_counter()\n",
    "#         dt_cpu_batch, dt_cpu_token = [], []\n",
    "#         dt_wall_batch, dt_wall_token = [], []\n",
    "    \n",
    "\n",
    "#         # all just in one pass\n",
    "#         #========================\n",
    "#         start_cpu_batch = process_time()  \n",
    "#         start_wall_batch = perf_counter()\n",
    "#         es = score_fn(doc)\n",
    "#         stop_cpu_batch = process_time() \n",
    "#         stop_wall_batch = perf_counter()\n",
    "#         #========================\n",
    "#         tdb_cpu = float(stop_cpu_batch - start_cpu_batch) # batch\n",
    "#         tdb_wall = float(stop_wall_batch - start_wall_batch) # batch\n",
    "#         print(\"dt cpu -> batch:\", tdb_cpu)\n",
    "#         print(\"dt wall -> batch:\", tdb_wall)\n",
    "#         dt_cpu_batch.append(tdb_cpu)\n",
    "#         dt_wall_batch.append(tdb_wall)\n",
    "\n",
    "#         scores.append(es)\n",
    "\n",
    "#         stop_cpu_datum = process_time()  \n",
    "#         stop_wall_datum = perf_counter() \n",
    "\n",
    "\n",
    "#         #==============================\n",
    "#         tdd_cpu = float(stop_cpu_datum - start_cpu_datum) # datum\n",
    "#         tdd_wall = float(stop_wall_datum - start_wall_datum) # datum\n",
    "#         print(\"dt cpu -> datum:\", tdd_cpu)\n",
    "#         print(\"dt wall -> datum:\", tdd_wall)\n",
    "#         dt_cpu_data.append(tdd_cpu)\n",
    "#         dt_wall_data.append(tdd_wall)\n",
    "        \n",
    "#         dt_cpu_tokens.append(dt_cpu_token)\n",
    "#         dt_wall_tokens.append(dt_wall_token)\n",
    "#         dt_cpu_batches.append(dt_cpu_batch)\n",
    "#         dt_wall_batches.append(dt_wall_batch)\n",
    "        \n",
    "#         # save\n",
    "#         Z = np.array(scores)\n",
    "#         G = convert_text2graph(Z) # save as graph\n",
    "#         serialize(G, save_path_G)\n",
    "#         finished += 1\n",
    "#         print(\"finished:\", finished)\n",
    "#         ran_idxs.append(i)\n",
    "#         xx\n",
    "\n",
    "#     return ran_idxs, dt_cpu_tokens, dt_wall_tokens, dt_cpu_batches, dt_wall_batches, dt_cpu_data, dt_wall_data"
   ]
  },
  {
   "cell_type": "code",
   "execution_count": 39,
   "metadata": {},
   "outputs": [
    {
     "name": "stdout",
     "output_type": "stream",
     "text": [
      "skipping sample bc already created: doc_0_graph.obj\n",
      "skipping sample bc already created: doc_1_graph.obj\n",
      "2354\n"
     ]
    },
    {
     "name": "stderr",
     "output_type": "stream",
     "text": [
      "Asking to truncate to max_length but no maximum length is provided and the model has no predefined maximum length. Default to no truncation.\n",
      " 10%|█         | 50/498 [00:40<07:29,  1.00s/it]/dfs/scratch1/gmachi/miniconda3/envs/kkenv/lib/python3.10/site-packages/transformers/pipelines/base.py:1101: UserWarning: You seem to be using the pipelines sequentially on GPU. In order to maximize efficiency please use a dataset\n",
      "  warnings.warn(\n",
      "PartitionExplainer explainer: 2it [09:40, 580.03s/it]              \n"
     ]
    },
    {
     "name": "stdout",
     "output_type": "stream",
     "text": [
      "dt cpu -> batch: 584.0735837940001\n",
      "dt wall -> batch: 582.1689849235117\n",
      "dt cpu -> datum: 584.0738073730001\n",
      "dt wall -> datum: 582.1691266559064\n",
      "finished: 1\n"
     ]
    },
    {
     "ename": "NameError",
     "evalue": "name 'xx' is not defined",
     "output_type": "error",
     "traceback": [
      "\u001b[0;31m---------------------------------------------------------------------------\u001b[0m",
      "\u001b[0;31mNameError\u001b[0m                                 Traceback (most recent call last)",
      "Cell \u001b[0;32mIn[39], line 2\u001b[0m\n\u001b[1;32m      1\u001b[0m \u001b[39mfrom\u001b[39;00m \u001b[39mtext_baselines\u001b[39;00m \u001b[39mimport\u001b[39;00m deberta_shapZSC_fullcontext\n\u001b[0;32m----> 2\u001b[0m outs \u001b[39m=\u001b[39m process_Zs_scores(test_data, deberta_shapZSC_fullcontext, save_path_shap_fc)\n",
      "Cell \u001b[0;32mIn[38], line 81\u001b[0m, in \u001b[0;36mprocess_Zs_scores\u001b[0;34m(test_data, score_fn, save_path_Gs, batch_size, kill_after)\u001b[0m\n\u001b[1;32m     79\u001b[0m     \u001b[39mprint\u001b[39m(\u001b[39m\"\u001b[39m\u001b[39mfinished:\u001b[39m\u001b[39m\"\u001b[39m, finished)\n\u001b[1;32m     80\u001b[0m     ran_idxs\u001b[39m.\u001b[39mappend(i)\n\u001b[0;32m---> 81\u001b[0m     xx\n\u001b[1;32m     83\u001b[0m \u001b[39mreturn\u001b[39;00m ran_idxs, dt_cpu_tokens, dt_wall_tokens, dt_cpu_batches, dt_wall_batches, dt_cpu_data, dt_wall_data\n",
      "\u001b[0;31mNameError\u001b[0m: name 'xx' is not defined"
     ]
    }
   ],
   "source": [
    "# from text_baselines import deberta_shapZSC_fullcontext\n",
    "# outs = process_Zs_scores(test_data, deberta_shapZSC_fullcontext, save_path_shap_fc)"
   ]
  },
  {
   "cell_type": "markdown",
   "metadata": {},
   "source": [
    "inspect the graph quickly"
   ]
  },
  {
   "cell_type": "code",
   "execution_count": 7,
   "metadata": {},
   "outputs": [
    {
     "data": {
      "text/plain": [
       "4"
      ]
     },
     "execution_count": 7,
     "metadata": {},
     "output_type": "execute_result"
    }
   ],
   "source": [
    "from utils import deserialize\n",
    "G = \"/dfs/scratch1/gmachi/datasets/wikisection_processed/shap_Gs/doc_22_graph.obj\"\n",
    "G = deserialize(G)\n",
    "len(G.nodes)"
   ]
  },
  {
   "cell_type": "markdown",
   "metadata": {},
   "source": [
    "below is for partial context SHAP saved at shap_Gs"
   ]
  },
  {
   "cell_type": "code",
   "execution_count": 51,
   "metadata": {},
   "outputs": [],
   "source": [
    "def process_Zs_scores(test_data, score_fn, save_path_Gs, batch_size=1, kill_after=2):\n",
    "    dt_cpu_data, dt_cpu_batches, dt_cpu_tokens = [], [], []\n",
    "    dt_wall_data, dt_wall_batches, dt_wall_tokens = [], [], []\n",
    "    finished = 0\n",
    "    ran_idxs = []\n",
    "    \n",
    "    for i in range(len(test_data)):\n",
    "        if finished == kill_after:\n",
    "            return ran_idxs, dt_cpu_tokens, dt_wall_tokens, dt_cpu_batches, dt_wall_batches, dt_cpu_data, dt_wall_data\n",
    "\n",
    "        G_file = \"doc_\"+str(i) + \"_graph.obj\"\n",
    "        save_path_G = os.path.join(save_path_Gs, G_file)\n",
    "        if os.path.isfile(save_path_G) == True:\n",
    "            print(\"skipping sample bc already created:\", G_file)\n",
    "            continue\n",
    "\n",
    "        text = test_data[i][\"text\"]\n",
    "        annots = test_data[i][\"annotations\"]\n",
    "\n",
    "        scores = []\n",
    "        doc_sents = []\n",
    "        for annot in annots:\n",
    "            begin = int(annot[\"begin\"])\n",
    "            idx = [begin, begin+int(annot[\"length\"])]\n",
    "            chunk = text[idx[0]:idx[1]]\n",
    "            sents = [s for s in chunk.split(\".\")]\n",
    "            sents = process_sentences(sents)\n",
    "            doc_sents.extend(sents)\n",
    "\n",
    "        #===============================\n",
    "        start_cpu_datum = process_time()\n",
    "        start_wall_datum = perf_counter()\n",
    "        dt_cpu_batch, dt_cpu_token = [], []\n",
    "        dt_wall_batch, dt_wall_token = [], []\n",
    "        for batch in chunker(doc_sents, batch_size):\n",
    "            #========================\n",
    "            start_cpu_batch = process_time()  \n",
    "            start_wall_batch = perf_counter()\n",
    "            es = score_fn(batch)\n",
    "            stop_cpu_batch = process_time() \n",
    "            stop_wall_batch = perf_counter()\n",
    "            #========================\n",
    "            tdb_cpu = float(stop_cpu_batch - start_cpu_batch) # batch\n",
    "            tdb_wall = float(stop_wall_batch - start_wall_batch) # batch\n",
    "            print(\"dt cpu -> batch:\", tdb_cpu)\n",
    "            print(\"dt wall -> batch:\", tdb_wall)\n",
    "            dt_cpu_batch.append(tdb_cpu)\n",
    "            dt_wall_batch.append(tdb_wall)\n",
    "\n",
    "            tdt_cpu = float(tdb_cpu / batch_size) # token\n",
    "            tdt_wall = float(tdb_wall / batch_size) # token\n",
    "            print(\"dt cpu -> token:\", tdt_cpu)\n",
    "            print(\"dt wall -> token:\", tdt_wall)\n",
    "            dt_cpu_token.append(tdt_cpu)\n",
    "            dt_wall_token.append(tdt_wall)\n",
    "\n",
    "            scores.extend(es)\n",
    "\n",
    "        stop_cpu_datum = process_time()  \n",
    "        stop_wall_datum = perf_counter() \n",
    "        #==============================\n",
    "        tdd_cpu = float(stop_cpu_datum - start_cpu_datum) # datum\n",
    "        tdd_wall = float(stop_wall_datum - start_wall_datum) # datum\n",
    "        print(\"dt cpu -> datum:\", tdd_cpu)\n",
    "        print(\"dt wall -> datum:\", tdd_wall)\n",
    "        dt_cpu_data.append(tdd_cpu)\n",
    "        dt_wall_data.append(tdd_wall)\n",
    "        \n",
    "        dt_cpu_tokens.append(dt_cpu_token)\n",
    "        dt_wall_tokens.append(dt_wall_token)\n",
    "        dt_cpu_batches.append(dt_cpu_batch)\n",
    "        dt_wall_batches.append(dt_wall_batch)\n",
    "        \n",
    "        # save\n",
    "        Z = np.array(scores)\n",
    "        G = convert_text2graph(Z) # save as graph\n",
    "        serialize(G, save_path_G)\n",
    "        finished += 1\n",
    "        print(\"finished:\", finished)\n",
    "        ran_idxs.append(i)\n",
    "\n",
    "    return ran_idxs, dt_cpu_tokens, dt_wall_tokens, dt_cpu_batches, dt_wall_batches, dt_cpu_data, dt_wall_data"
   ]
  },
  {
   "cell_type": "code",
   "execution_count": 52,
   "metadata": {},
   "outputs": [
    {
     "name": "stdout",
     "output_type": "stream",
     "text": [
      "skipping sample bc already created: doc_0_graph.obj\n",
      "skipping sample bc already created: doc_1_graph.obj\n",
      "skipping sample bc already created: doc_2_graph.obj\n",
      "skipping sample bc already created: doc_3_graph.obj\n",
      "skipping sample bc already created: doc_4_graph.obj\n",
      "skipping sample bc already created: doc_5_graph.obj\n",
      "skipping sample bc already created: doc_6_graph.obj\n",
      "skipping sample bc already created: doc_7_graph.obj\n",
      "skipping sample bc already created: doc_8_graph.obj\n",
      "skipping sample bc already created: doc_9_graph.obj\n",
      "skipping sample bc already created: doc_10_graph.obj\n",
      "skipping sample bc already created: doc_11_graph.obj\n",
      "skipping sample bc already created: doc_12_graph.obj\n",
      "skipping sample bc already created: doc_13_graph.obj\n",
      "skipping sample bc already created: doc_14_graph.obj\n",
      "skipping sample bc already created: doc_15_graph.obj\n",
      "skipping sample bc already created: doc_16_graph.obj\n",
      "skipping sample bc already created: doc_17_graph.obj\n",
      "skipping sample bc already created: doc_18_graph.obj\n"
     ]
    },
    {
     "name": "stderr",
     "output_type": "stream",
     "text": [
      "Asking to truncate to max_length but no maximum length is provided and the model has no predefined maximum length. Default to no truncation.\n"
     ]
    },
    {
     "name": "stdout",
     "output_type": "stream",
     "text": [
      "dt cpu -> batch: 11.422503930999937\n",
      "dt wall -> batch: 5.049421355128288\n",
      "dt cpu -> token: 11.422503930999937\n",
      "dt wall -> token: 5.049421355128288\n"
     ]
    },
    {
     "name": "stderr",
     "output_type": "stream",
     "text": [
      "Asking to truncate to max_length but no maximum length is provided and the model has no predefined maximum length. Default to no truncation.\n",
      "PartitionExplainer explainer: 2it [00:18, 18.49s/it]               \n"
     ]
    },
    {
     "name": "stdout",
     "output_type": "stream",
     "text": [
      "dt cpu -> batch: 27.066750195000168\n",
      "dt wall -> batch: 20.64337133616209\n",
      "dt cpu -> token: 27.066750195000168\n",
      "dt wall -> token: 20.64337133616209\n"
     ]
    },
    {
     "name": "stderr",
     "output_type": "stream",
     "text": [
      "Asking to truncate to max_length but no maximum length is provided and the model has no predefined maximum length. Default to no truncation.\n",
      "PartitionExplainer explainer: 2it [00:13, 13.46s/it]               \n"
     ]
    },
    {
     "name": "stdout",
     "output_type": "stream",
     "text": [
      "dt cpu -> batch: 21.895460878999984\n",
      "dt wall -> batch: 15.482008643448353\n",
      "dt cpu -> token: 21.895460878999984\n",
      "dt wall -> token: 15.482008643448353\n"
     ]
    },
    {
     "name": "stderr",
     "output_type": "stream",
     "text": [
      "Asking to truncate to max_length but no maximum length is provided and the model has no predefined maximum length. Default to no truncation.\n"
     ]
    },
    {
     "name": "stdout",
     "output_type": "stream",
     "text": [
      "dt cpu -> batch: 10.428797032000148\n",
      "dt wall -> batch: 4.334807485342026\n",
      "dt cpu -> token: 10.428797032000148\n",
      "dt wall -> token: 4.334807485342026\n"
     ]
    },
    {
     "name": "stderr",
     "output_type": "stream",
     "text": [
      "Asking to truncate to max_length but no maximum length is provided and the model has no predefined maximum length. Default to no truncation.\n",
      "PartitionExplainer explainer: 2it [00:18, 18.43s/it]               \n"
     ]
    },
    {
     "name": "stdout",
     "output_type": "stream",
     "text": [
      "dt cpu -> batch: 26.794675280999854\n",
      "dt wall -> batch: 20.404454488307238\n",
      "dt cpu -> token: 26.794675280999854\n",
      "dt wall -> token: 20.404454488307238\n"
     ]
    },
    {
     "name": "stderr",
     "output_type": "stream",
     "text": [
      "Asking to truncate to max_length but no maximum length is provided and the model has no predefined maximum length. Default to no truncation.\n",
      "PartitionExplainer explainer: 2it [00:18, 18.41s/it]               \n"
     ]
    },
    {
     "name": "stdout",
     "output_type": "stream",
     "text": [
      "dt cpu -> batch: 26.394105472999854\n",
      "dt wall -> batch: 20.286910112947226\n",
      "dt cpu -> token: 26.394105472999854\n",
      "dt wall -> token: 20.286910112947226\n"
     ]
    },
    {
     "name": "stderr",
     "output_type": "stream",
     "text": [
      "Asking to truncate to max_length but no maximum length is provided and the model has no predefined maximum length. Default to no truncation.\n"
     ]
    },
    {
     "name": "stdout",
     "output_type": "stream",
     "text": [
      "dt cpu -> batch: 12.044467488999999\n",
      "dt wall -> batch: 5.645420737564564\n",
      "dt cpu -> token: 12.044467488999999\n",
      "dt wall -> token: 5.645420737564564\n"
     ]
    },
    {
     "name": "stderr",
     "output_type": "stream",
     "text": [
      "Asking to truncate to max_length but no maximum length is provided and the model has no predefined maximum length. Default to no truncation.\n"
     ]
    },
    {
     "name": "stdout",
     "output_type": "stream",
     "text": [
      "dt cpu -> batch: 8.454951615000027\n",
      "dt wall -> batch: 2.3573219142854214\n",
      "dt cpu -> token: 8.454951615000027\n",
      "dt wall -> token: 2.3573219142854214\n"
     ]
    },
    {
     "name": "stderr",
     "output_type": "stream",
     "text": [
      "Asking to truncate to max_length but no maximum length is provided and the model has no predefined maximum length. Default to no truncation.\n",
      "PartitionExplainer explainer: 2it [00:18, 18.70s/it]               \n"
     ]
    },
    {
     "name": "stdout",
     "output_type": "stream",
     "text": [
      "dt cpu -> batch: 26.59015132400009\n",
      "dt wall -> batch: 20.484481547027826\n",
      "dt cpu -> token: 26.59015132400009\n",
      "dt wall -> token: 20.484481547027826\n"
     ]
    },
    {
     "name": "stderr",
     "output_type": "stream",
     "text": [
      "Asking to truncate to max_length but no maximum length is provided and the model has no predefined maximum length. Default to no truncation.\n",
      "PartitionExplainer explainer: 2it [00:18, 18.47s/it]               \n"
     ]
    },
    {
     "name": "stdout",
     "output_type": "stream",
     "text": [
      "dt cpu -> batch: 26.899714383000173\n",
      "dt wall -> batch: 20.47959005087614\n",
      "dt cpu -> token: 26.899714383000173\n",
      "dt wall -> token: 20.47959005087614\n",
      "dt cpu -> datum: 197.99295479500006\n",
      "dt wall -> datum: 135.16874253749847\n",
      "finished: 1\n"
     ]
    },
    {
     "name": "stderr",
     "output_type": "stream",
     "text": [
      "Asking to truncate to max_length but no maximum length is provided and the model has no predefined maximum length. Default to no truncation.\n",
      "PartitionExplainer explainer: 2it [00:18, 18.44s/it]               \n"
     ]
    },
    {
     "name": "stdout",
     "output_type": "stream",
     "text": [
      "dt cpu -> batch: 26.39106044900018\n",
      "dt wall -> batch: 20.285514563322067\n",
      "dt cpu -> token: 26.39106044900018\n",
      "dt wall -> token: 20.285514563322067\n"
     ]
    },
    {
     "name": "stderr",
     "output_type": "stream",
     "text": [
      "Asking to truncate to max_length but no maximum length is provided and the model has no predefined maximum length. Default to no truncation.\n",
      "PartitionExplainer explainer: 2it [00:18, 18.40s/it]               \n"
     ]
    },
    {
     "name": "stdout",
     "output_type": "stream",
     "text": [
      "dt cpu -> batch: 26.815743083000143\n",
      "dt wall -> batch: 20.389658980071545\n",
      "dt cpu -> token: 26.815743083000143\n",
      "dt wall -> token: 20.389658980071545\n"
     ]
    },
    {
     "name": "stderr",
     "output_type": "stream",
     "text": [
      "Asking to truncate to max_length but no maximum length is provided and the model has no predefined maximum length. Default to no truncation.\n",
      "PartitionExplainer explainer: 2it [00:18, 18.35s/it]               \n"
     ]
    },
    {
     "name": "stdout",
     "output_type": "stream",
     "text": [
      "dt cpu -> batch: 26.9129290879996\n",
      "dt wall -> batch: 20.38357265293598\n",
      "dt cpu -> token: 26.9129290879996\n",
      "dt wall -> token: 20.38357265293598\n"
     ]
    },
    {
     "name": "stderr",
     "output_type": "stream",
     "text": [
      "Asking to truncate to max_length but no maximum length is provided and the model has no predefined maximum length. Default to no truncation.\n",
      "PartitionExplainer explainer: 2it [00:16, 16.17s/it]               \n"
     ]
    },
    {
     "name": "stdout",
     "output_type": "stream",
     "text": [
      "dt cpu -> batch: 24.217442632000257\n",
      "dt wall -> batch: 18.055778950452805\n",
      "dt cpu -> token: 24.217442632000257\n",
      "dt wall -> token: 18.055778950452805\n"
     ]
    },
    {
     "name": "stderr",
     "output_type": "stream",
     "text": [
      "Asking to truncate to max_length but no maximum length is provided and the model has no predefined maximum length. Default to no truncation.\n",
      "PartitionExplainer explainer: 2it [00:18, 18.46s/it]               \n"
     ]
    },
    {
     "name": "stdout",
     "output_type": "stream",
     "text": [
      "dt cpu -> batch: 26.69086101699986\n",
      "dt wall -> batch: 20.276582539081573\n",
      "dt cpu -> token: 26.69086101699986\n",
      "dt wall -> token: 20.276582539081573\n"
     ]
    },
    {
     "name": "stderr",
     "output_type": "stream",
     "text": [
      "Asking to truncate to max_length but no maximum length is provided and the model has no predefined maximum length. Default to no truncation.\n",
      "                                       \r"
     ]
    },
    {
     "name": "stdout",
     "output_type": "stream",
     "text": [
      "dt cpu -> batch: 15.168089093999697\n",
      "dt wall -> batch: 9.062625009566545\n",
      "dt cpu -> token: 15.168089093999697\n",
      "dt wall -> token: 9.062625009566545\n"
     ]
    },
    {
     "name": "stderr",
     "output_type": "stream",
     "text": [
      "Asking to truncate to max_length but no maximum length is provided and the model has no predefined maximum length. Default to no truncation.\n",
      "PartitionExplainer explainer: 2it [00:18, 18.51s/it]               \n"
     ]
    },
    {
     "name": "stdout",
     "output_type": "stream",
     "text": [
      "dt cpu -> batch: 26.839411875999758\n",
      "dt wall -> batch: 20.42318195104599\n",
      "dt cpu -> token: 26.839411875999758\n",
      "dt wall -> token: 20.42318195104599\n"
     ]
    },
    {
     "name": "stderr",
     "output_type": "stream",
     "text": [
      "Asking to truncate to max_length but no maximum length is provided and the model has no predefined maximum length. Default to no truncation.\n"
     ]
    },
    {
     "name": "stdout",
     "output_type": "stream",
     "text": [
      "dt cpu -> batch: 11.813787477999995\n",
      "dt wall -> batch: 5.729581240564585\n",
      "dt cpu -> token: 11.813787477999995\n",
      "dt wall -> token: 5.729581240564585\n"
     ]
    },
    {
     "name": "stderr",
     "output_type": "stream",
     "text": [
      "Asking to truncate to max_length but no maximum length is provided and the model has no predefined maximum length. Default to no truncation.\n",
      "PartitionExplainer explainer: 2it [00:16, 16.84s/it]               \n"
     ]
    },
    {
     "name": "stdout",
     "output_type": "stream",
     "text": [
      "dt cpu -> batch: 25.872177381000256\n",
      "dt wall -> batch: 19.12664682045579\n",
      "dt cpu -> token: 25.872177381000256\n",
      "dt wall -> token: 19.12664682045579\n"
     ]
    },
    {
     "name": "stderr",
     "output_type": "stream",
     "text": [
      "Asking to truncate to max_length but no maximum length is provided and the model has no predefined maximum length. Default to no truncation.\n",
      "                                       \r"
     ]
    },
    {
     "name": "stdout",
     "output_type": "stream",
     "text": [
      "dt cpu -> batch: 15.230490432000352\n",
      "dt wall -> batch: 8.816783614456654\n",
      "dt cpu -> token: 15.230490432000352\n",
      "dt wall -> token: 8.816783614456654\n"
     ]
    },
    {
     "name": "stderr",
     "output_type": "stream",
     "text": [
      "Asking to truncate to max_length but no maximum length is provided and the model has no predefined maximum length. Default to no truncation.\n",
      "                                                  \r"
     ]
    },
    {
     "name": "stdout",
     "output_type": "stream",
     "text": [
      "dt cpu -> batch: 18.11643864200005\n",
      "dt wall -> batch: 11.816423796117306\n",
      "dt cpu -> token: 18.11643864200005\n",
      "dt wall -> token: 11.816423796117306\n"
     ]
    },
    {
     "name": "stderr",
     "output_type": "stream",
     "text": [
      "Asking to truncate to max_length but no maximum length is provided and the model has no predefined maximum length. Default to no truncation.\n",
      "PartitionExplainer explainer: 2it [00:11, 11.52s/it]               \n"
     ]
    },
    {
     "name": "stdout",
     "output_type": "stream",
     "text": [
      "dt cpu -> batch: 19.416962737000176\n",
      "dt wall -> batch: 13.33054694160819\n",
      "dt cpu -> token: 19.416962737000176\n",
      "dt wall -> token: 13.33054694160819\n"
     ]
    },
    {
     "name": "stderr",
     "output_type": "stream",
     "text": [
      "Asking to truncate to max_length but no maximum length is provided and the model has no predefined maximum length. Default to no truncation.\n",
      "PartitionExplainer explainer: 2it [00:18, 18.62s/it]               \n"
     ]
    },
    {
     "name": "stdout",
     "output_type": "stream",
     "text": [
      "dt cpu -> batch: 26.89829607999991\n",
      "dt wall -> batch: 20.472499795258045\n",
      "dt cpu -> token: 26.89829607999991\n",
      "dt wall -> token: 20.472499795258045\n"
     ]
    },
    {
     "name": "stderr",
     "output_type": "stream",
     "text": [
      "Asking to truncate to max_length but no maximum length is provided and the model has no predefined maximum length. Default to no truncation.\n",
      "PartitionExplainer explainer: 2it [00:18, 18.56s/it]               \n"
     ]
    },
    {
     "name": "stdout",
     "output_type": "stream",
     "text": [
      "dt cpu -> batch: 26.503636818999894\n",
      "dt wall -> batch: 20.393184777349234\n",
      "dt cpu -> token: 26.503636818999894\n",
      "dt wall -> token: 20.393184777349234\n"
     ]
    },
    {
     "name": "stderr",
     "output_type": "stream",
     "text": [
      "Asking to truncate to max_length but no maximum length is provided and the model has no predefined maximum length. Default to no truncation.\n",
      "PartitionExplainer explainer: 2it [00:18, 18.45s/it]               \n"
     ]
    },
    {
     "name": "stdout",
     "output_type": "stream",
     "text": [
      "dt cpu -> batch: 27.013590913999906\n",
      "dt wall -> batch: 20.665559116750956\n",
      "dt cpu -> token: 27.013590913999906\n",
      "dt wall -> token: 20.665559116750956\n"
     ]
    },
    {
     "name": "stderr",
     "output_type": "stream",
     "text": [
      "Asking to truncate to max_length but no maximum length is provided and the model has no predefined maximum length. Default to no truncation.\n",
      "PartitionExplainer explainer: 2it [00:18, 18.43s/it]               \n"
     ]
    },
    {
     "name": "stdout",
     "output_type": "stream",
     "text": [
      "dt cpu -> batch: 27.102540455000053\n",
      "dt wall -> batch: 20.657882120460272\n",
      "dt cpu -> token: 27.102540455000053\n",
      "dt wall -> token: 20.657882120460272\n"
     ]
    },
    {
     "name": "stderr",
     "output_type": "stream",
     "text": [
      "Asking to truncate to max_length but no maximum length is provided and the model has no predefined maximum length. Default to no truncation.\n",
      "PartitionExplainer explainer: 2it [00:16, 16.03s/it]               \n"
     ]
    },
    {
     "name": "stdout",
     "output_type": "stream",
     "text": [
      "dt cpu -> batch: 24.13822394099998\n",
      "dt wall -> batch: 18.03527034074068\n",
      "dt cpu -> token: 24.13822394099998\n",
      "dt wall -> token: 18.03527034074068\n"
     ]
    },
    {
     "name": "stderr",
     "output_type": "stream",
     "text": [
      "Asking to truncate to max_length but no maximum length is provided and the model has no predefined maximum length. Default to no truncation.\n",
      "PartitionExplainer explainer: 2it [00:13, 13.40s/it]               \n"
     ]
    },
    {
     "name": "stdout",
     "output_type": "stream",
     "text": [
      "dt cpu -> batch: 21.546188739000172\n",
      "dt wall -> batch: 15.444277830421925\n",
      "dt cpu -> token: 21.546188739000172\n",
      "dt wall -> token: 15.444277830421925\n"
     ]
    },
    {
     "name": "stderr",
     "output_type": "stream",
     "text": [
      "Asking to truncate to max_length but no maximum length is provided and the model has no predefined maximum length. Default to no truncation.\n",
      "PartitionExplainer explainer: 2it [00:17, 17.93s/it]               \n"
     ]
    },
    {
     "name": "stdout",
     "output_type": "stream",
     "text": [
      "dt cpu -> batch: 26.401084966000326\n",
      "dt wall -> batch: 19.986293360590935\n",
      "dt cpu -> token: 26.401084966000326\n",
      "dt wall -> token: 19.986293360590935\n"
     ]
    },
    {
     "name": "stderr",
     "output_type": "stream",
     "text": [
      "Asking to truncate to max_length but no maximum length is provided and the model has no predefined maximum length. Default to no truncation.\n",
      "PartitionExplainer explainer: 2it [00:18, 18.11s/it]               \n"
     ]
    },
    {
     "name": "stdout",
     "output_type": "stream",
     "text": [
      "dt cpu -> batch: 26.002959974000078\n",
      "dt wall -> batch: 19.896134607493877\n",
      "dt cpu -> token: 26.002959974000078\n",
      "dt wall -> token: 19.896134607493877\n"
     ]
    },
    {
     "name": "stderr",
     "output_type": "stream",
     "text": [
      "Asking to truncate to max_length but no maximum length is provided and the model has no predefined maximum length. Default to no truncation.\n",
      "PartitionExplainer explainer: 2it [00:18, 18.52s/it]               \n"
     ]
    },
    {
     "name": "stdout",
     "output_type": "stream",
     "text": [
      "dt cpu -> batch: 26.963183630999993\n",
      "dt wall -> batch: 20.54120621830225\n",
      "dt cpu -> token: 26.963183630999993\n",
      "dt wall -> token: 20.54120621830225\n"
     ]
    },
    {
     "name": "stderr",
     "output_type": "stream",
     "text": [
      "Asking to truncate to max_length but no maximum length is provided and the model has no predefined maximum length. Default to no truncation.\n"
     ]
    },
    {
     "name": "stdout",
     "output_type": "stream",
     "text": [
      "dt cpu -> batch: 12.968358167999668\n",
      "dt wall -> batch: 6.85088337957859\n",
      "dt cpu -> token: 12.968358167999668\n",
      "dt wall -> token: 6.85088337957859\n"
     ]
    },
    {
     "name": "stderr",
     "output_type": "stream",
     "text": [
      "Asking to truncate to max_length but no maximum length is provided and the model has no predefined maximum length. Default to no truncation.\n",
      "PartitionExplainer explainer: 2it [00:18, 18.58s/it]               \n"
     ]
    },
    {
     "name": "stdout",
     "output_type": "stream",
     "text": [
      "dt cpu -> batch: 26.984214089000034\n",
      "dt wall -> batch: 20.61656617373228\n",
      "dt cpu -> token: 26.984214089000034\n",
      "dt wall -> token: 20.61656617373228\n"
     ]
    },
    {
     "name": "stderr",
     "output_type": "stream",
     "text": [
      "Asking to truncate to max_length but no maximum length is provided and the model has no predefined maximum length. Default to no truncation.\n",
      "PartitionExplainer explainer: 2it [00:18, 18.06s/it]               \n"
     ]
    },
    {
     "name": "stdout",
     "output_type": "stream",
     "text": [
      "dt cpu -> batch: 26.167411025000092\n",
      "dt wall -> batch: 20.049391627311707\n",
      "dt cpu -> token: 26.167411025000092\n",
      "dt wall -> token: 20.049391627311707\n"
     ]
    },
    {
     "name": "stderr",
     "output_type": "stream",
     "text": [
      "Asking to truncate to max_length but no maximum length is provided and the model has no predefined maximum length. Default to no truncation.\n",
      "PartitionExplainer explainer: 2it [00:18, 18.40s/it]               \n"
     ]
    },
    {
     "name": "stdout",
     "output_type": "stream",
     "text": [
      "dt cpu -> batch: 26.929788671000097\n",
      "dt wall -> batch: 20.277216844260693\n",
      "dt cpu -> token: 26.929788671000097\n",
      "dt wall -> token: 20.277216844260693\n"
     ]
    },
    {
     "name": "stderr",
     "output_type": "stream",
     "text": [
      "Asking to truncate to max_length but no maximum length is provided and the model has no predefined maximum length. Default to no truncation.\n",
      "PartitionExplainer explainer: 2it [00:11, 11.18s/it]               \n"
     ]
    },
    {
     "name": "stdout",
     "output_type": "stream",
     "text": [
      "dt cpu -> batch: 19.371963587999744\n",
      "dt wall -> batch: 12.963983628898859\n",
      "dt cpu -> token: 19.371963587999744\n",
      "dt wall -> token: 12.963983628898859\n"
     ]
    },
    {
     "name": "stderr",
     "output_type": "stream",
     "text": [
      "Asking to truncate to max_length but no maximum length is provided and the model has no predefined maximum length. Default to no truncation.\n",
      "PartitionExplainer explainer: 2it [00:16, 16.92s/it]               \n"
     ]
    },
    {
     "name": "stdout",
     "output_type": "stream",
     "text": [
      "dt cpu -> batch: 25.307164229999216\n",
      "dt wall -> batch: 18.857723642140627\n",
      "dt cpu -> token: 25.307164229999216\n",
      "dt wall -> token: 18.857723642140627\n"
     ]
    },
    {
     "name": "stderr",
     "output_type": "stream",
     "text": [
      "Asking to truncate to max_length but no maximum length is provided and the model has no predefined maximum length. Default to no truncation.\n",
      "                                       \r"
     ]
    },
    {
     "name": "stdout",
     "output_type": "stream",
     "text": [
      "dt cpu -> batch: 15.346762559000126\n",
      "dt wall -> batch: 9.261609829962254\n",
      "dt cpu -> token: 15.346762559000126\n",
      "dt wall -> token: 9.261609829962254\n"
     ]
    },
    {
     "name": "stderr",
     "output_type": "stream",
     "text": [
      "Asking to truncate to max_length but no maximum length is provided and the model has no predefined maximum length. Default to no truncation.\n",
      "PartitionExplainer explainer: 2it [00:11, 11.50s/it]               \n"
     ]
    },
    {
     "name": "stdout",
     "output_type": "stream",
     "text": [
      "dt cpu -> batch: 19.76951429700057\n",
      "dt wall -> batch: 13.479626081883907\n",
      "dt cpu -> token: 19.76951429700057\n",
      "dt wall -> token: 13.479626081883907\n"
     ]
    },
    {
     "name": "stderr",
     "output_type": "stream",
     "text": [
      "Asking to truncate to max_length but no maximum length is provided and the model has no predefined maximum length. Default to no truncation.\n",
      "PartitionExplainer explainer: 2it [00:14, 14.92s/it]               \n"
     ]
    },
    {
     "name": "stdout",
     "output_type": "stream",
     "text": [
      "dt cpu -> batch: 22.941591248000805\n",
      "dt wall -> batch: 16.82179492712021\n",
      "dt cpu -> token: 22.941591248000805\n",
      "dt wall -> token: 16.82179492712021\n"
     ]
    },
    {
     "name": "stderr",
     "output_type": "stream",
     "text": [
      "Asking to truncate to max_length but no maximum length is provided and the model has no predefined maximum length. Default to no truncation.\n",
      "PartitionExplainer explainer: 2it [00:18, 18.46s/it]               \n"
     ]
    },
    {
     "name": "stdout",
     "output_type": "stream",
     "text": [
      "dt cpu -> batch: 26.651758328999676\n",
      "dt wall -> batch: 20.540338799357414\n",
      "dt cpu -> token: 26.651758328999676\n",
      "dt wall -> token: 20.540338799357414\n"
     ]
    },
    {
     "name": "stderr",
     "output_type": "stream",
     "text": [
      "Asking to truncate to max_length but no maximum length is provided and the model has no predefined maximum length. Default to no truncation.\n",
      "                                       \r"
     ]
    },
    {
     "name": "stdout",
     "output_type": "stream",
     "text": [
      "dt cpu -> batch: 15.68178748199989\n",
      "dt wall -> batch: 9.659437280148268\n",
      "dt cpu -> token: 15.68178748199989\n",
      "dt wall -> token: 9.659437280148268\n"
     ]
    },
    {
     "name": "stderr",
     "output_type": "stream",
     "text": [
      "Asking to truncate to max_length but no maximum length is provided and the model has no predefined maximum length. Default to no truncation.\n",
      "PartitionExplainer explainer: 2it [00:11, 11.37s/it]               \n"
     ]
    },
    {
     "name": "stdout",
     "output_type": "stream",
     "text": [
      "dt cpu -> batch: 19.348809383000116\n",
      "dt wall -> batch: 13.241954822093248\n",
      "dt cpu -> token: 19.348809383000116\n",
      "dt wall -> token: 13.241954822093248\n"
     ]
    },
    {
     "name": "stderr",
     "output_type": "stream",
     "text": [
      "Asking to truncate to max_length but no maximum length is provided and the model has no predefined maximum length. Default to no truncation.\n",
      "PartitionExplainer explainer: 2it [00:16, 16.21s/it]               \n"
     ]
    },
    {
     "name": "stdout",
     "output_type": "stream",
     "text": [
      "dt cpu -> batch: 24.441241624999748\n",
      "dt wall -> batch: 18.120976079255342\n",
      "dt cpu -> token: 24.441241624999748\n",
      "dt wall -> token: 18.120976079255342\n"
     ]
    },
    {
     "name": "stderr",
     "output_type": "stream",
     "text": [
      "Asking to truncate to max_length but no maximum length is provided and the model has no predefined maximum length. Default to no truncation.\n",
      "PartitionExplainer explainer: 2it [00:18, 18.49s/it]               \n"
     ]
    },
    {
     "name": "stdout",
     "output_type": "stream",
     "text": [
      "dt cpu -> batch: 26.875570733999666\n",
      "dt wall -> batch: 20.440445084124804\n",
      "dt cpu -> token: 26.875570733999666\n",
      "dt wall -> token: 20.440445084124804\n"
     ]
    },
    {
     "name": "stderr",
     "output_type": "stream",
     "text": [
      "Asking to truncate to max_length but no maximum length is provided and the model has no predefined maximum length. Default to no truncation.\n",
      "PartitionExplainer explainer: 2it [00:19, 19.06s/it]               \n"
     ]
    },
    {
     "name": "stdout",
     "output_type": "stream",
     "text": [
      "dt cpu -> batch: 27.476202953999746\n",
      "dt wall -> batch: 21.059522796422243\n",
      "dt cpu -> token: 27.476202953999746\n",
      "dt wall -> token: 21.059522796422243\n"
     ]
    },
    {
     "name": "stderr",
     "output_type": "stream",
     "text": [
      "Asking to truncate to max_length but no maximum length is provided and the model has no predefined maximum length. Default to no truncation.\n",
      "PartitionExplainer explainer: 2it [00:19, 19.31s/it]               \n"
     ]
    },
    {
     "name": "stdout",
     "output_type": "stream",
     "text": [
      "dt cpu -> batch: 27.7996515800005\n",
      "dt wall -> batch: 21.150208432227373\n",
      "dt cpu -> token: 27.7996515800005\n",
      "dt wall -> token: 21.150208432227373\n"
     ]
    },
    {
     "name": "stderr",
     "output_type": "stream",
     "text": [
      "Asking to truncate to max_length but no maximum length is provided and the model has no predefined maximum length. Default to no truncation.\n",
      "PartitionExplainer explainer: 2it [00:10, 10.43s/it]               \n"
     ]
    },
    {
     "name": "stdout",
     "output_type": "stream",
     "text": [
      "dt cpu -> batch: 18.368994196999665\n",
      "dt wall -> batch: 12.270166743546724\n",
      "dt cpu -> token: 18.368994196999665\n",
      "dt wall -> token: 12.270166743546724\n"
     ]
    },
    {
     "name": "stderr",
     "output_type": "stream",
     "text": [
      "Asking to truncate to max_length but no maximum length is provided and the model has no predefined maximum length. Default to no truncation.\n",
      "PartitionExplainer explainer: 2it [00:21, 21.74s/it]               \n"
     ]
    },
    {
     "name": "stdout",
     "output_type": "stream",
     "text": [
      "dt cpu -> batch: 30.213020256999698\n",
      "dt wall -> batch: 23.78724617511034\n",
      "dt cpu -> token: 30.213020256999698\n",
      "dt wall -> token: 23.78724617511034\n"
     ]
    },
    {
     "name": "stderr",
     "output_type": "stream",
     "text": [
      "Asking to truncate to max_length but no maximum length is provided and the model has no predefined maximum length. Default to no truncation.\n",
      "PartitionExplainer explainer: 2it [00:21, 21.06s/it]               \n"
     ]
    },
    {
     "name": "stdout",
     "output_type": "stream",
     "text": [
      "dt cpu -> batch: 29.766381718000048\n",
      "dt wall -> batch: 23.25396915525198\n",
      "dt cpu -> token: 29.766381718000048\n",
      "dt wall -> token: 23.25396915525198\n"
     ]
    },
    {
     "name": "stderr",
     "output_type": "stream",
     "text": [
      "Asking to truncate to max_length but no maximum length is provided and the model has no predefined maximum length. Default to no truncation.\n",
      "PartitionExplainer explainer: 2it [00:18, 18.57s/it]               \n"
     ]
    },
    {
     "name": "stdout",
     "output_type": "stream",
     "text": [
      "dt cpu -> batch: 27.630352574000426\n",
      "dt wall -> batch: 20.753220584243536\n",
      "dt cpu -> token: 27.630352574000426\n",
      "dt wall -> token: 20.753220584243536\n"
     ]
    },
    {
     "name": "stderr",
     "output_type": "stream",
     "text": [
      "Asking to truncate to max_length but no maximum length is provided and the model has no predefined maximum length. Default to no truncation.\n",
      "PartitionExplainer explainer: 2it [00:18, 18.29s/it]               \n"
     ]
    },
    {
     "name": "stdout",
     "output_type": "stream",
     "text": [
      "dt cpu -> batch: 26.45869866599969\n",
      "dt wall -> batch: 20.44202070310712\n",
      "dt cpu -> token: 26.45869866599969\n",
      "dt wall -> token: 20.44202070310712\n"
     ]
    },
    {
     "name": "stderr",
     "output_type": "stream",
     "text": [
      "Asking to truncate to max_length but no maximum length is provided and the model has no predefined maximum length. Default to no truncation.\n",
      "PartitionExplainer explainer: 2it [00:17, 17.74s/it]               \n"
     ]
    },
    {
     "name": "stdout",
     "output_type": "stream",
     "text": [
      "dt cpu -> batch: 25.952378305999446\n",
      "dt wall -> batch: 19.85858527943492\n",
      "dt cpu -> token: 25.952378305999446\n",
      "dt wall -> token: 19.85858527943492\n"
     ]
    },
    {
     "name": "stderr",
     "output_type": "stream",
     "text": [
      "Asking to truncate to max_length but no maximum length is provided and the model has no predefined maximum length. Default to no truncation.\n",
      "PartitionExplainer explainer: 2it [00:10, 10.83s/it]               \n"
     ]
    },
    {
     "name": "stdout",
     "output_type": "stream",
     "text": [
      "dt cpu -> batch: 19.206186135999815\n",
      "dt wall -> batch: 12.778906341642141\n",
      "dt cpu -> token: 19.206186135999815\n",
      "dt wall -> token: 12.778906341642141\n"
     ]
    },
    {
     "name": "stderr",
     "output_type": "stream",
     "text": [
      "Asking to truncate to max_length but no maximum length is provided and the model has no predefined maximum length. Default to no truncation.\n",
      "PartitionExplainer explainer: 2it [00:18, 18.44s/it]               \n"
     ]
    },
    {
     "name": "stdout",
     "output_type": "stream",
     "text": [
      "dt cpu -> batch: 26.967336975000762\n",
      "dt wall -> batch: 20.52298614382744\n",
      "dt cpu -> token: 26.967336975000762\n",
      "dt wall -> token: 20.52298614382744\n"
     ]
    },
    {
     "name": "stderr",
     "output_type": "stream",
     "text": [
      "Asking to truncate to max_length but no maximum length is provided and the model has no predefined maximum length. Default to no truncation.\n",
      "PartitionExplainer explainer: 2it [00:14, 14.93s/it]               \n"
     ]
    },
    {
     "name": "stdout",
     "output_type": "stream",
     "text": [
      "dt cpu -> batch: 23.300334503999693\n",
      "dt wall -> batch: 16.990478493273258\n",
      "dt cpu -> token: 23.300334503999693\n",
      "dt wall -> token: 16.990478493273258\n"
     ]
    },
    {
     "name": "stderr",
     "output_type": "stream",
     "text": [
      "Asking to truncate to max_length but no maximum length is provided and the model has no predefined maximum length. Default to no truncation.\n",
      "PartitionExplainer explainer: 2it [00:18, 18.79s/it]               \n"
     ]
    },
    {
     "name": "stdout",
     "output_type": "stream",
     "text": [
      "dt cpu -> batch: 27.064058445999763\n",
      "dt wall -> batch: 20.678624745458364\n",
      "dt cpu -> token: 27.064058445999763\n",
      "dt wall -> token: 20.678624745458364\n"
     ]
    },
    {
     "name": "stderr",
     "output_type": "stream",
     "text": [
      "Asking to truncate to max_length but no maximum length is provided and the model has no predefined maximum length. Default to no truncation.\n",
      "PartitionExplainer explainer: 2it [00:18, 18.63s/it]               \n"
     ]
    },
    {
     "name": "stdout",
     "output_type": "stream",
     "text": [
      "dt cpu -> batch: 26.783275474999755\n",
      "dt wall -> batch: 20.824850287288427\n",
      "dt cpu -> token: 26.783275474999755\n",
      "dt wall -> token: 20.824850287288427\n"
     ]
    },
    {
     "name": "stderr",
     "output_type": "stream",
     "text": [
      "Asking to truncate to max_length but no maximum length is provided and the model has no predefined maximum length. Default to no truncation.\n",
      "                                       \r"
     ]
    },
    {
     "name": "stdout",
     "output_type": "stream",
     "text": [
      "dt cpu -> batch: 16.67016857099952\n",
      "dt wall -> batch: 10.588174927979708\n",
      "dt cpu -> token: 16.67016857099952\n",
      "dt wall -> token: 10.588174927979708\n"
     ]
    },
    {
     "name": "stderr",
     "output_type": "stream",
     "text": [
      "Asking to truncate to max_length but no maximum length is provided and the model has no predefined maximum length. Default to no truncation.\n",
      "                                       \r"
     ]
    },
    {
     "name": "stdout",
     "output_type": "stream",
     "text": [
      "dt cpu -> batch: 17.24919003300056\n",
      "dt wall -> batch: 11.222819782793522\n",
      "dt cpu -> token: 17.24919003300056\n",
      "dt wall -> token: 11.222819782793522\n"
     ]
    },
    {
     "name": "stderr",
     "output_type": "stream",
     "text": [
      "Asking to truncate to max_length but no maximum length is provided and the model has no predefined maximum length. Default to no truncation.\n",
      "PartitionExplainer explainer: 2it [00:18, 18.32s/it]               \n"
     ]
    },
    {
     "name": "stdout",
     "output_type": "stream",
     "text": [
      "dt cpu -> batch: 26.730213848999483\n",
      "dt wall -> batch: 20.307168014347553\n",
      "dt cpu -> token: 26.730213848999483\n",
      "dt wall -> token: 20.307168014347553\n"
     ]
    },
    {
     "name": "stderr",
     "output_type": "stream",
     "text": [
      "Asking to truncate to max_length but no maximum length is provided and the model has no predefined maximum length. Default to no truncation.\n",
      "PartitionExplainer explainer: 2it [00:18, 18.02s/it]               \n"
     ]
    },
    {
     "name": "stdout",
     "output_type": "stream",
     "text": [
      "dt cpu -> batch: 26.580750408999847\n",
      "dt wall -> batch: 20.15507446601987\n",
      "dt cpu -> token: 26.580750408999847\n",
      "dt wall -> token: 20.15507446601987\n"
     ]
    },
    {
     "name": "stderr",
     "output_type": "stream",
     "text": [
      "Asking to truncate to max_length but no maximum length is provided and the model has no predefined maximum length. Default to no truncation.\n",
      "PartitionExplainer explainer: 2it [00:18, 18.04s/it]               \n"
     ]
    },
    {
     "name": "stdout",
     "output_type": "stream",
     "text": [
      "dt cpu -> batch: 26.158589411999856\n",
      "dt wall -> batch: 20.038817431777716\n",
      "dt cpu -> token: 26.158589411999856\n",
      "dt wall -> token: 20.038817431777716\n"
     ]
    },
    {
     "name": "stderr",
     "output_type": "stream",
     "text": [
      "Asking to truncate to max_length but no maximum length is provided and the model has no predefined maximum length. Default to no truncation.\n",
      "PartitionExplainer explainer: 2it [00:18, 18.10s/it]               \n"
     ]
    },
    {
     "name": "stdout",
     "output_type": "stream",
     "text": [
      "dt cpu -> batch: 26.56470349099982\n",
      "dt wall -> batch: 20.125646501779556\n",
      "dt cpu -> token: 26.56470349099982\n",
      "dt wall -> token: 20.125646501779556\n"
     ]
    },
    {
     "name": "stderr",
     "output_type": "stream",
     "text": [
      "Asking to truncate to max_length but no maximum length is provided and the model has no predefined maximum length. Default to no truncation.\n",
      "PartitionExplainer explainer: 2it [00:18, 18.05s/it]               \n"
     ]
    },
    {
     "name": "stdout",
     "output_type": "stream",
     "text": [
      "dt cpu -> batch: 26.53577598299944\n",
      "dt wall -> batch: 20.13600441813469\n",
      "dt cpu -> token: 26.53577598299944\n",
      "dt wall -> token: 20.13600441813469\n"
     ]
    },
    {
     "name": "stderr",
     "output_type": "stream",
     "text": [
      "Asking to truncate to max_length but no maximum length is provided and the model has no predefined maximum length. Default to no truncation.\n",
      "PartitionExplainer explainer: 2it [00:19, 19.12s/it]               \n"
     ]
    },
    {
     "name": "stdout",
     "output_type": "stream",
     "text": [
      "dt cpu -> batch: 27.617595808999795\n",
      "dt wall -> batch: 21.313252214342356\n",
      "dt cpu -> token: 27.617595808999795\n",
      "dt wall -> token: 21.313252214342356\n"
     ]
    },
    {
     "name": "stderr",
     "output_type": "stream",
     "text": [
      "Asking to truncate to max_length but no maximum length is provided and the model has no predefined maximum length. Default to no truncation.\n",
      "PartitionExplainer explainer: 2it [00:18, 18.52s/it]               \n"
     ]
    },
    {
     "name": "stdout",
     "output_type": "stream",
     "text": [
      "dt cpu -> batch: 26.67792499299958\n",
      "dt wall -> batch: 20.41027617827058\n",
      "dt cpu -> token: 26.67792499299958\n",
      "dt wall -> token: 20.41027617827058\n"
     ]
    },
    {
     "name": "stderr",
     "output_type": "stream",
     "text": [
      "Asking to truncate to max_length but no maximum length is provided and the model has no predefined maximum length. Default to no truncation.\n",
      "                                       \r"
     ]
    },
    {
     "name": "stdout",
     "output_type": "stream",
     "text": [
      "dt cpu -> batch: 14.803456229999938\n",
      "dt wall -> batch: 8.625571265816689\n",
      "dt cpu -> token: 14.803456229999938\n",
      "dt wall -> token: 8.625571265816689\n"
     ]
    },
    {
     "name": "stderr",
     "output_type": "stream",
     "text": [
      "Asking to truncate to max_length but no maximum length is provided and the model has no predefined maximum length. Default to no truncation.\n",
      "PartitionExplainer explainer: 2it [00:18, 18.42s/it]               \n"
     ]
    },
    {
     "name": "stdout",
     "output_type": "stream",
     "text": [
      "dt cpu -> batch: 26.46459231300014\n",
      "dt wall -> batch: 20.263457849621773\n",
      "dt cpu -> token: 26.46459231300014\n",
      "dt wall -> token: 20.263457849621773\n"
     ]
    },
    {
     "name": "stderr",
     "output_type": "stream",
     "text": [
      "Asking to truncate to max_length but no maximum length is provided and the model has no predefined maximum length. Default to no truncation.\n",
      "PartitionExplainer explainer: 2it [00:18, 18.34s/it]               \n"
     ]
    },
    {
     "name": "stdout",
     "output_type": "stream",
     "text": [
      "dt cpu -> batch: 26.56623709300038\n",
      "dt wall -> batch: 20.366017427295446\n",
      "dt cpu -> token: 26.56623709300038\n",
      "dt wall -> token: 20.366017427295446\n"
     ]
    },
    {
     "name": "stderr",
     "output_type": "stream",
     "text": [
      "Asking to truncate to max_length but no maximum length is provided and the model has no predefined maximum length. Default to no truncation.\n",
      "PartitionExplainer explainer: 2it [00:18, 18.41s/it]               \n"
     ]
    },
    {
     "name": "stdout",
     "output_type": "stream",
     "text": [
      "dt cpu -> batch: 26.665366155999436\n",
      "dt wall -> batch: 20.46852120757103\n",
      "dt cpu -> token: 26.665366155999436\n",
      "dt wall -> token: 20.46852120757103\n"
     ]
    },
    {
     "name": "stderr",
     "output_type": "stream",
     "text": [
      "Asking to truncate to max_length but no maximum length is provided and the model has no predefined maximum length. Default to no truncation.\n",
      "PartitionExplainer explainer: 2it [00:17, 17.90s/it]               \n"
     ]
    },
    {
     "name": "stdout",
     "output_type": "stream",
     "text": [
      "dt cpu -> batch: 26.033516622000207\n",
      "dt wall -> batch: 19.839632272720337\n",
      "dt cpu -> token: 26.033516622000207\n",
      "dt wall -> token: 19.839632272720337\n"
     ]
    },
    {
     "name": "stderr",
     "output_type": "stream",
     "text": [
      "Asking to truncate to max_length but no maximum length is provided and the model has no predefined maximum length. Default to no truncation.\n",
      "PartitionExplainer explainer: 2it [00:18, 18.32s/it]               \n"
     ]
    },
    {
     "name": "stdout",
     "output_type": "stream",
     "text": [
      "dt cpu -> batch: 26.564277688999937\n",
      "dt wall -> batch: 20.370769780129194\n",
      "dt cpu -> token: 26.564277688999937\n",
      "dt wall -> token: 20.370769780129194\n"
     ]
    },
    {
     "name": "stderr",
     "output_type": "stream",
     "text": [
      "Asking to truncate to max_length but no maximum length is provided and the model has no predefined maximum length. Default to no truncation.\n",
      "PartitionExplainer explainer: 2it [00:18, 18.38s/it]               \n"
     ]
    },
    {
     "name": "stdout",
     "output_type": "stream",
     "text": [
      "dt cpu -> batch: 26.635883914999795\n",
      "dt wall -> batch: 20.434568975120783\n",
      "dt cpu -> token: 26.635883914999795\n",
      "dt wall -> token: 20.434568975120783\n"
     ]
    },
    {
     "name": "stderr",
     "output_type": "stream",
     "text": [
      "Asking to truncate to max_length but no maximum length is provided and the model has no predefined maximum length. Default to no truncation.\n",
      "                                       \r"
     ]
    },
    {
     "name": "stdout",
     "output_type": "stream",
     "text": [
      "dt cpu -> batch: 15.462196401000256\n",
      "dt wall -> batch: 9.374098375439644\n",
      "dt cpu -> token: 15.462196401000256\n",
      "dt wall -> token: 9.374098375439644\n"
     ]
    },
    {
     "name": "stderr",
     "output_type": "stream",
     "text": [
      "Asking to truncate to max_length but no maximum length is provided and the model has no predefined maximum length. Default to no truncation.\n",
      "PartitionExplainer explainer: 2it [00:18, 18.35s/it]               \n"
     ]
    },
    {
     "name": "stdout",
     "output_type": "stream",
     "text": [
      "dt cpu -> batch: 26.35632895500021\n",
      "dt wall -> batch: 20.17117365077138\n",
      "dt cpu -> token: 26.35632895500021\n",
      "dt wall -> token: 20.17117365077138\n"
     ]
    },
    {
     "name": "stderr",
     "output_type": "stream",
     "text": [
      "Asking to truncate to max_length but no maximum length is provided and the model has no predefined maximum length. Default to no truncation.\n",
      "PartitionExplainer explainer: 2it [00:13, 13.90s/it]               \n"
     ]
    },
    {
     "name": "stdout",
     "output_type": "stream",
     "text": [
      "dt cpu -> batch: 21.990811324999413\n",
      "dt wall -> batch: 15.843342311680317\n",
      "dt cpu -> token: 21.990811324999413\n",
      "dt wall -> token: 15.843342311680317\n"
     ]
    },
    {
     "name": "stderr",
     "output_type": "stream",
     "text": [
      "Asking to truncate to max_length but no maximum length is provided and the model has no predefined maximum length. Default to no truncation.\n",
      "PartitionExplainer explainer: 2it [00:15, 15.46s/it]               \n"
     ]
    },
    {
     "name": "stdout",
     "output_type": "stream",
     "text": [
      "dt cpu -> batch: 23.587367102000826\n",
      "dt wall -> batch: 17.513058591634035\n",
      "dt cpu -> token: 23.587367102000826\n",
      "dt wall -> token: 17.513058591634035\n"
     ]
    },
    {
     "name": "stderr",
     "output_type": "stream",
     "text": [
      "Asking to truncate to max_length but no maximum length is provided and the model has no predefined maximum length. Default to no truncation.\n",
      "PartitionExplainer explainer: 2it [00:14, 14.93s/it]               \n"
     ]
    },
    {
     "name": "stdout",
     "output_type": "stream",
     "text": [
      "dt cpu -> batch: 22.874436045999573\n",
      "dt wall -> batch: 16.777664732187986\n",
      "dt cpu -> token: 22.874436045999573\n",
      "dt wall -> token: 16.777664732187986\n"
     ]
    },
    {
     "name": "stderr",
     "output_type": "stream",
     "text": [
      "Asking to truncate to max_length but no maximum length is provided and the model has no predefined maximum length. Default to no truncation.\n",
      "PartitionExplainer explainer: 2it [00:18, 18.68s/it]               \n"
     ]
    },
    {
     "name": "stdout",
     "output_type": "stream",
     "text": [
      "dt cpu -> batch: 26.91461177200017\n",
      "dt wall -> batch: 20.87727425992489\n",
      "dt cpu -> token: 26.91461177200017\n",
      "dt wall -> token: 20.87727425992489\n"
     ]
    },
    {
     "name": "stderr",
     "output_type": "stream",
     "text": [
      "Asking to truncate to max_length but no maximum length is provided and the model has no predefined maximum length. Default to no truncation.\n",
      "PartitionExplainer explainer: 2it [00:18, 18.36s/it]               \n"
     ]
    },
    {
     "name": "stdout",
     "output_type": "stream",
     "text": [
      "dt cpu -> batch: 26.60964889100069\n",
      "dt wall -> batch: 20.494923062622547\n",
      "dt cpu -> token: 26.60964889100069\n",
      "dt wall -> token: 20.494923062622547\n"
     ]
    },
    {
     "name": "stderr",
     "output_type": "stream",
     "text": [
      "Asking to truncate to max_length but no maximum length is provided and the model has no predefined maximum length. Default to no truncation.\n",
      "PartitionExplainer explainer: 2it [00:18, 18.38s/it]               \n"
     ]
    },
    {
     "name": "stdout",
     "output_type": "stream",
     "text": [
      "dt cpu -> batch: 26.677752513000087\n",
      "dt wall -> batch: 20.57122243195772\n",
      "dt cpu -> token: 26.677752513000087\n",
      "dt wall -> token: 20.57122243195772\n"
     ]
    },
    {
     "name": "stderr",
     "output_type": "stream",
     "text": [
      "Asking to truncate to max_length but no maximum length is provided and the model has no predefined maximum length. Default to no truncation.\n",
      "PartitionExplainer explainer: 2it [00:18, 18.31s/it]               \n"
     ]
    },
    {
     "name": "stdout",
     "output_type": "stream",
     "text": [
      "dt cpu -> batch: 26.83716300100059\n",
      "dt wall -> batch: 20.204216424375772\n",
      "dt cpu -> token: 26.83716300100059\n",
      "dt wall -> token: 20.204216424375772\n"
     ]
    },
    {
     "name": "stderr",
     "output_type": "stream",
     "text": [
      "Asking to truncate to max_length but no maximum length is provided and the model has no predefined maximum length. Default to no truncation.\n",
      "PartitionExplainer explainer: 2it [00:18, 18.35s/it]               \n"
     ]
    },
    {
     "name": "stdout",
     "output_type": "stream",
     "text": [
      "dt cpu -> batch: 26.69839503900039\n",
      "dt wall -> batch: 20.3311162404716\n",
      "dt cpu -> token: 26.69839503900039\n",
      "dt wall -> token: 20.3311162404716\n"
     ]
    },
    {
     "name": "stderr",
     "output_type": "stream",
     "text": [
      "Asking to truncate to max_length but no maximum length is provided and the model has no predefined maximum length. Default to no truncation.\n",
      "PartitionExplainer explainer: 2it [00:18, 18.33s/it]               \n"
     ]
    },
    {
     "name": "stdout",
     "output_type": "stream",
     "text": [
      "dt cpu -> batch: 26.72493769599987\n",
      "dt wall -> batch: 20.353020194917917\n",
      "dt cpu -> token: 26.72493769599987\n",
      "dt wall -> token: 20.353020194917917\n"
     ]
    },
    {
     "name": "stderr",
     "output_type": "stream",
     "text": [
      "Asking to truncate to max_length but no maximum length is provided and the model has no predefined maximum length. Default to no truncation.\n",
      "PartitionExplainer explainer: 2it [00:18, 18.38s/it]               \n"
     ]
    },
    {
     "name": "stdout",
     "output_type": "stream",
     "text": [
      "dt cpu -> batch: 26.794831774999693\n",
      "dt wall -> batch: 20.422760035842657\n",
      "dt cpu -> token: 26.794831774999693\n",
      "dt wall -> token: 20.422760035842657\n"
     ]
    },
    {
     "name": "stderr",
     "output_type": "stream",
     "text": [
      "Asking to truncate to max_length but no maximum length is provided and the model has no predefined maximum length. Default to no truncation.\n",
      "PartitionExplainer explainer: 2it [00:18, 18.33s/it]               \n"
     ]
    },
    {
     "name": "stdout",
     "output_type": "stream",
     "text": [
      "dt cpu -> batch: 26.707599938000385\n",
      "dt wall -> batch: 20.336451292037964\n",
      "dt cpu -> token: 26.707599938000385\n",
      "dt wall -> token: 20.336451292037964\n"
     ]
    },
    {
     "name": "stderr",
     "output_type": "stream",
     "text": [
      "Asking to truncate to max_length but no maximum length is provided and the model has no predefined maximum length. Default to no truncation.\n",
      "PartitionExplainer explainer: 2it [00:18, 18.60s/it]               \n"
     ]
    },
    {
     "name": "stdout",
     "output_type": "stream",
     "text": [
      "dt cpu -> batch: 26.978162748000614\n",
      "dt wall -> batch: 20.610551860183477\n",
      "dt cpu -> token: 26.978162748000614\n",
      "dt wall -> token: 20.610551860183477\n"
     ]
    },
    {
     "name": "stderr",
     "output_type": "stream",
     "text": [
      "Asking to truncate to max_length but no maximum length is provided and the model has no predefined maximum length. Default to no truncation.\n",
      "PartitionExplainer explainer: 2it [00:18, 18.31s/it]               \n"
     ]
    },
    {
     "name": "stdout",
     "output_type": "stream",
     "text": [
      "dt cpu -> batch: 26.758472751000227\n",
      "dt wall -> batch: 20.3317336961627\n",
      "dt cpu -> token: 26.758472751000227\n",
      "dt wall -> token: 20.3317336961627\n"
     ]
    },
    {
     "name": "stderr",
     "output_type": "stream",
     "text": [
      "Asking to truncate to max_length but no maximum length is provided and the model has no predefined maximum length. Default to no truncation.\n"
     ]
    },
    {
     "name": "stdout",
     "output_type": "stream",
     "text": [
      "dt cpu -> batch: 9.62351777099957\n",
      "dt wall -> batch: 3.2688243240118027\n",
      "dt cpu -> token: 9.62351777099957\n",
      "dt wall -> token: 3.2688243240118027\n"
     ]
    },
    {
     "name": "stderr",
     "output_type": "stream",
     "text": [
      "Asking to truncate to max_length but no maximum length is provided and the model has no predefined maximum length. Default to no truncation.\n"
     ]
    },
    {
     "name": "stdout",
     "output_type": "stream",
     "text": [
      "dt cpu -> batch: 8.829161388000102\n",
      "dt wall -> batch: 2.457034356892109\n",
      "dt cpu -> token: 8.829161388000102\n",
      "dt wall -> token: 2.457034356892109\n"
     ]
    },
    {
     "name": "stderr",
     "output_type": "stream",
     "text": [
      "Asking to truncate to max_length but no maximum length is provided and the model has no predefined maximum length. Default to no truncation.\n",
      "PartitionExplainer explainer: 2it [00:12, 12.09s/it]               \n"
     ]
    },
    {
     "name": "stdout",
     "output_type": "stream",
     "text": [
      "dt cpu -> batch: 20.5306543480001\n",
      "dt wall -> batch: 14.113164123147726\n",
      "dt cpu -> token: 20.5306543480001\n",
      "dt wall -> token: 14.113164123147726\n",
      "dt cpu -> datum: 1953.3149264129997\n",
      "dt wall -> datum: 1438.068976353854\n",
      "finished: 2\n"
     ]
    }
   ],
   "source": [
    "from text_baselines import deberta_shapZSC\n",
    "outs = process_Zs_scores(test_data, deberta_shapZSC, save_path_shap)"
   ]
  },
  {
   "cell_type": "code",
   "execution_count": 54,
   "metadata": {},
   "outputs": [],
   "source": [
    "from utils import serialize\n",
    "import os\n",
    "\n",
    "save_path = \"/dfs/scratch1/gmachi/k2/K2/src/outputs/shapley_wallclock\"\n",
    "filename = '-'.join(str(x) for x in outs[0]) + \"_wallclock.obj\"\n",
    "save_path = os.path.join(save_path, filename)\n",
    "serialize(outs, save_path)"
   ]
  },
  {
   "cell_type": "code",
   "execution_count": 55,
   "metadata": {},
   "outputs": [
    {
     "name": "stdout",
     "output_type": "stream",
     "text": [
      "([19, 20], [[11.422503930999937, 27.066750195000168, 21.895460878999984, 10.428797032000148, 26.794675280999854, 26.394105472999854, 12.044467488999999, 8.454951615000027, 26.59015132400009, 26.899714383000173], [26.39106044900018, 26.815743083000143, 26.9129290879996, 24.217442632000257, 26.69086101699986, 15.168089093999697, 26.839411875999758, 11.813787477999995, 25.872177381000256, 15.230490432000352, 18.11643864200005, 19.416962737000176, 26.89829607999991, 26.503636818999894, 27.013590913999906, 27.102540455000053, 24.13822394099998, 21.546188739000172, 26.401084966000326, 26.002959974000078, 26.963183630999993, 12.968358167999668, 26.984214089000034, 26.167411025000092, 26.929788671000097, 19.371963587999744, 25.307164229999216, 15.346762559000126, 19.76951429700057, 22.941591248000805, 26.651758328999676, 15.68178748199989, 19.348809383000116, 24.441241624999748, 26.875570733999666, 27.476202953999746, 27.7996515800005, 18.368994196999665, 30.213020256999698, 29.766381718000048, 27.630352574000426, 26.45869866599969, 25.952378305999446, 19.206186135999815, 26.967336975000762, 23.300334503999693, 27.064058445999763, 26.783275474999755, 16.67016857099952, 17.24919003300056, 26.730213848999483, 26.580750408999847, 26.158589411999856, 26.56470349099982, 26.53577598299944, 27.617595808999795, 26.67792499299958, 14.803456229999938, 26.46459231300014, 26.56623709300038, 26.665366155999436, 26.033516622000207, 26.564277688999937, 26.635883914999795, 15.462196401000256, 26.35632895500021, 21.990811324999413, 23.587367102000826, 22.874436045999573, 26.91461177200017, 26.60964889100069, 26.677752513000087, 26.83716300100059, 26.69839503900039, 26.72493769599987, 26.794831774999693, 26.707599938000385, 26.978162748000614, 26.758472751000227, 9.62351777099957, 8.829161388000102, 20.5306543480001]], [[5.049421355128288, 20.64337133616209, 15.482008643448353, 4.334807485342026, 20.404454488307238, 20.286910112947226, 5.645420737564564, 2.3573219142854214, 20.484481547027826, 20.47959005087614], [20.285514563322067, 20.389658980071545, 20.38357265293598, 18.055778950452805, 20.276582539081573, 9.062625009566545, 20.42318195104599, 5.729581240564585, 19.12664682045579, 8.816783614456654, 11.816423796117306, 13.33054694160819, 20.472499795258045, 20.393184777349234, 20.665559116750956, 20.657882120460272, 18.03527034074068, 15.444277830421925, 19.986293360590935, 19.896134607493877, 20.54120621830225, 6.85088337957859, 20.61656617373228, 20.049391627311707, 20.277216844260693, 12.963983628898859, 18.857723642140627, 9.261609829962254, 13.479626081883907, 16.82179492712021, 20.540338799357414, 9.659437280148268, 13.241954822093248, 18.120976079255342, 20.440445084124804, 21.059522796422243, 21.150208432227373, 12.270166743546724, 23.78724617511034, 23.25396915525198, 20.753220584243536, 20.44202070310712, 19.85858527943492, 12.778906341642141, 20.52298614382744, 16.990478493273258, 20.678624745458364, 20.824850287288427, 10.588174927979708, 11.222819782793522, 20.307168014347553, 20.15507446601987, 20.038817431777716, 20.125646501779556, 20.13600441813469, 21.313252214342356, 20.41027617827058, 8.625571265816689, 20.263457849621773, 20.366017427295446, 20.46852120757103, 19.839632272720337, 20.370769780129194, 20.434568975120783, 9.374098375439644, 20.17117365077138, 15.843342311680317, 17.513058591634035, 16.777664732187986, 20.87727425992489, 20.494923062622547, 20.57122243195772, 20.204216424375772, 20.3311162404716, 20.353020194917917, 20.422760035842657, 20.336451292037964, 20.610551860183477, 20.3317336961627, 3.2688243240118027, 2.457034356892109, 14.113164123147726]], [[11.422503930999937, 27.066750195000168, 21.895460878999984, 10.428797032000148, 26.794675280999854, 26.394105472999854, 12.044467488999999, 8.454951615000027, 26.59015132400009, 26.899714383000173], [26.39106044900018, 26.815743083000143, 26.9129290879996, 24.217442632000257, 26.69086101699986, 15.168089093999697, 26.839411875999758, 11.813787477999995, 25.872177381000256, 15.230490432000352, 18.11643864200005, 19.416962737000176, 26.89829607999991, 26.503636818999894, 27.013590913999906, 27.102540455000053, 24.13822394099998, 21.546188739000172, 26.401084966000326, 26.002959974000078, 26.963183630999993, 12.968358167999668, 26.984214089000034, 26.167411025000092, 26.929788671000097, 19.371963587999744, 25.307164229999216, 15.346762559000126, 19.76951429700057, 22.941591248000805, 26.651758328999676, 15.68178748199989, 19.348809383000116, 24.441241624999748, 26.875570733999666, 27.476202953999746, 27.7996515800005, 18.368994196999665, 30.213020256999698, 29.766381718000048, 27.630352574000426, 26.45869866599969, 25.952378305999446, 19.206186135999815, 26.967336975000762, 23.300334503999693, 27.064058445999763, 26.783275474999755, 16.67016857099952, 17.24919003300056, 26.730213848999483, 26.580750408999847, 26.158589411999856, 26.56470349099982, 26.53577598299944, 27.617595808999795, 26.67792499299958, 14.803456229999938, 26.46459231300014, 26.56623709300038, 26.665366155999436, 26.033516622000207, 26.564277688999937, 26.635883914999795, 15.462196401000256, 26.35632895500021, 21.990811324999413, 23.587367102000826, 22.874436045999573, 26.91461177200017, 26.60964889100069, 26.677752513000087, 26.83716300100059, 26.69839503900039, 26.72493769599987, 26.794831774999693, 26.707599938000385, 26.978162748000614, 26.758472751000227, 9.62351777099957, 8.829161388000102, 20.5306543480001]], [[5.049421355128288, 20.64337133616209, 15.482008643448353, 4.334807485342026, 20.404454488307238, 20.286910112947226, 5.645420737564564, 2.3573219142854214, 20.484481547027826, 20.47959005087614], [20.285514563322067, 20.389658980071545, 20.38357265293598, 18.055778950452805, 20.276582539081573, 9.062625009566545, 20.42318195104599, 5.729581240564585, 19.12664682045579, 8.816783614456654, 11.816423796117306, 13.33054694160819, 20.472499795258045, 20.393184777349234, 20.665559116750956, 20.657882120460272, 18.03527034074068, 15.444277830421925, 19.986293360590935, 19.896134607493877, 20.54120621830225, 6.85088337957859, 20.61656617373228, 20.049391627311707, 20.277216844260693, 12.963983628898859, 18.857723642140627, 9.261609829962254, 13.479626081883907, 16.82179492712021, 20.540338799357414, 9.659437280148268, 13.241954822093248, 18.120976079255342, 20.440445084124804, 21.059522796422243, 21.150208432227373, 12.270166743546724, 23.78724617511034, 23.25396915525198, 20.753220584243536, 20.44202070310712, 19.85858527943492, 12.778906341642141, 20.52298614382744, 16.990478493273258, 20.678624745458364, 20.824850287288427, 10.588174927979708, 11.222819782793522, 20.307168014347553, 20.15507446601987, 20.038817431777716, 20.125646501779556, 20.13600441813469, 21.313252214342356, 20.41027617827058, 8.625571265816689, 20.263457849621773, 20.366017427295446, 20.46852120757103, 19.839632272720337, 20.370769780129194, 20.434568975120783, 9.374098375439644, 20.17117365077138, 15.843342311680317, 17.513058591634035, 16.777664732187986, 20.87727425992489, 20.494923062622547, 20.57122243195772, 20.204216424375772, 20.3311162404716, 20.353020194917917, 20.422760035842657, 20.336451292037964, 20.610551860183477, 20.3317336961627, 3.2688243240118027, 2.457034356892109, 14.113164123147726]], [197.99295479500006, 1953.3149264129997], [135.16874253749847, 1438.068976353854])\n"
     ]
    }
   ],
   "source": [
    "from utils import deserialize\n",
    "outs_now = deserialize(save_path)\n",
    "print(outs_now)"
   ]
  },
  {
   "cell_type": "markdown",
   "metadata": {},
   "source": [
    "# analysis of speed benchmarking"
   ]
  },
  {
   "cell_type": "code",
   "execution_count": 56,
   "metadata": {},
   "outputs": [],
   "source": [
    "from collections.abc import Iterable\n",
    "\n",
    "def flatten(xs):\n",
    "    for x in xs:\n",
    "        if isinstance(x, Iterable) and not isinstance(x, (str, bytes)):\n",
    "            yield from flatten(x)\n",
    "        else:\n",
    "            yield x"
   ]
  },
  {
   "cell_type": "code",
   "execution_count": 57,
   "metadata": {},
   "outputs": [],
   "source": [
    "from utils import deserialize\n",
    "import os\n",
    "\n",
    "load_path = \"/dfs/scratch1/gmachi/k2/K2/src/outputs/shapley_wallclock\"\n",
    "cts,wts = [],[]\n",
    "cbs,wbs = [],[]\n",
    "cds,wds = [],[]\n",
    "\n",
    "for f in os.listdir(load_path):\n",
    "    f = os.path.join(load_path, f)\n",
    "    if os.path.isfile(f) == False:\n",
    "        continue\n",
    "    _, dt_cpu_tokens, dt_wall_tokens, dt_cpu_batches, dt_wall_batches, dt_cpu_data, dt_wall_data = deserialize(f)\n",
    "    cts.extend([el for el in flatten(dt_cpu_tokens)])\n",
    "    wts.extend([el for el in flatten(dt_wall_tokens)])\n",
    "    cbs.extend([el for el in flatten(dt_cpu_batches)])\n",
    "    wbs.extend([el for el in flatten(dt_wall_batches)])\n",
    "    cds.extend([el for el in flatten(dt_cpu_data)])\n",
    "    wds.extend([el for el in flatten(dt_wall_data)])\n",
    "    "
   ]
  },
  {
   "cell_type": "code",
   "execution_count": 58,
   "metadata": {},
   "outputs": [
    {
     "name": "stdout",
     "output_type": "stream",
     "text": [
      "[11.175186075000056, 20.02465968200022, 26.296580453999923, 15.262312691999796, 18.12888737100002, 12.915355073999763, 27.049799595999957, 13.448487327999828, 13.202001183999982, 11.828293497999766, 19.550307879999764, 26.721630146999814, 25.32021292399986, 8.610786585999904, 13.69562560400027, 14.907470034000198, 26.641327655999703, 14.598418741999922, 15.371750958999655, 26.74878920099991, 26.891111407000153, 26.775289539999903, 16.20220842000026, 26.427380318999894, 17.991241971999898, 10.799475050999717, 13.310504754999783, 16.55602471200018, 23.142870505000246, 26.446412194000004, 26.23179778199983, 17.878696905000197, 26.211791702000028, 11.422503930999937, 27.066750195000168, 21.895460878999984, 10.428797032000148, 26.794675280999854, 26.394105472999854, 12.044467488999999, 8.454951615000027, 26.59015132400009, 26.899714383000173, 26.39106044900018, 26.815743083000143, 26.9129290879996, 24.217442632000257, 26.69086101699986, 15.168089093999697, 26.839411875999758, 11.813787477999995, 25.872177381000256, 15.230490432000352, 18.11643864200005, 19.416962737000176, 26.89829607999991, 26.503636818999894, 27.013590913999906, 27.102540455000053, 24.13822394099998, 21.546188739000172, 26.401084966000326, 26.002959974000078, 26.963183630999993, 12.968358167999668, 26.984214089000034, 26.167411025000092, 26.929788671000097, 19.371963587999744, 25.307164229999216, 15.346762559000126, 19.76951429700057, 22.941591248000805, 26.651758328999676, 15.68178748199989, 19.348809383000116, 24.441241624999748, 26.875570733999666, 27.476202953999746, 27.7996515800005, 18.368994196999665, 30.213020256999698, 29.766381718000048, 27.630352574000426, 26.45869866599969, 25.952378305999446, 19.206186135999815, 26.967336975000762, 23.300334503999693, 27.064058445999763, 26.783275474999755, 16.67016857099952, 17.24919003300056, 26.730213848999483, 26.580750408999847, 26.158589411999856, 26.56470349099982, 26.53577598299944, 27.617595808999795, 26.67792499299958, 14.803456229999938, 26.46459231300014, 26.56623709300038, 26.665366155999436, 26.033516622000207, 26.564277688999937, 26.635883914999795, 15.462196401000256, 26.35632895500021, 21.990811324999413, 23.587367102000826, 22.874436045999573, 26.91461177200017, 26.60964889100069, 26.677752513000087, 26.83716300100059, 26.69839503900039, 26.72493769599987, 26.794831774999693, 26.707599938000385, 26.978162748000614, 26.758472751000227, 9.62351777099957, 8.829161388000102, 20.5306543480001, 35.736579675, 27.801946512999997, 27.933301109, 28.349471851999994, 29.023696718999986, 27.91767132999999, 28.256394338999996, 28.366521901, 17.663744586999996, 24.424419629, 27.791148236000026, 18.765950473999965, 24.283167762000005, 23.349574813999993, 27.209957852000002, 28.168914752000035, 27.827189785999963, 10.185161114999971, 15.582169984000018, 28.125317429000063, 10.09665088099996, 27.813728913999967, 22.96118199199998, 27.009024152999928, 9.12385756399999, 27.15907138199998, 27.173368898000035, 26.948816925000074, 27.030647957999918, 19.237530149999998, 26.798648672000013, 26.684466209999982, 26.278076768999995, 26.672458450000022, 27.341373331, 27.14515566900002, 21.18953731099998, 22.11880811700007, 13.140655897999977, 21.917918870999983, 27.506760132999943, 27.559470328999964, 27.321653872999832, 27.44764080599998, 27.635609033000037, 27.42238078299988, 27.795936687999983, 15.653618852999898, 10.144976344999804, 26.84520909899993, 28.12624932599988, 9.31516501100009, 27.39398108699993, 27.35114828199994, 23.877122192000115, 32.29840906200002, 29.66697064899995, 31.845778913000004, 27.2467685470001, 27.25302773600015, 27.242069909999827, 17.019105425999896, 27.214691620000167, 15.612347195999973, 27.05306643500012, 30.94119905599996, 33.1175716570001, 32.61958870300009, 31.421443510000017, 15.838338030000159, 22.965481360000013, 23.60964373800016, 27.420680521000122, 22.94802325500018, 27.59170958699997, 27.362741627000105, 26.783632076999993, 27.579458309000074, 26.72918651200007, 17.310935641000015, 27.332642246999967, 27.178965713999787, 18.10856852200004, 20.24997395599985, 27.301397440000073, 32.717564649999986, 28.430553922999934, 23.548962050999762, 27.267012497999985, 20.010848930000066, 26.673625486999754, 27.363461871000254, 27.25409037700001, 26.502426045999982, 26.80278096100028, 27.64085326600025, 27.676956602000246, 27.686104746000183, 27.531794563999938, 26.87529976099995, 26.94817802999978, 27.120792793999954, 9.015250259999902, 26.470162766999692, 9.120856514000025, 26.79440109999996, 10.392925616999946, 26.892658723000295]\n"
     ]
    }
   ],
   "source": [
    "print(cts)"
   ]
  },
  {
   "cell_type": "code",
   "execution_count": 59,
   "metadata": {},
   "outputs": [
    {
     "name": "stdout",
     "output_type": "stream",
     "text": [
      "23.44745769327038 5.959631378150818\n",
      "17.118726518452807 5.917034142286063\n",
      "1092.658872448 1026.4095977351803\n",
      "797.7381456665695 768.5140014901095\n"
     ]
    }
   ],
   "source": [
    "import numpy as np\n",
    "print(np.mean(cts), np.std(cts))\n",
    "print(np.mean(wts), np.std(wts))\n",
    "# print(np.mean(cbs), np.std(cbs))\n",
    "# print(np.mean(wbs), np.std(wbs))\n",
    "print(np.mean(cds), np.std(cds))\n",
    "print(np.mean(wds), np.std(wds))"
   ]
  },
  {
   "cell_type": "code",
   "execution_count": 43,
   "metadata": {},
   "outputs": [
    {
     "data": {
      "text/plain": [
       "NodeView((0, 1, 2, 3, 4, 5, 6, 7, 8, 9, 10, 11, 12, 13, 14, 15, 16, 17, 18, 19, 20, 21, 22, 23, 24, 25, 26, 27, 28, 29, 30, 31, 32, 33, 34, 35, 36, 37, 38, 39, 40, 41, 42, 43, 44, 45, 46, 47, 48, 49, 50, 51, 52, 53, 54, 55, 56, 57, 58, 59, 60, 61, 62, 63, 64, 65, 66, 67, 68, 69, 70, 71, 72, 73, 74, 75, 76, 77, 78, 79, 80, 81))"
      ]
     },
     "execution_count": 43,
     "metadata": {},
     "output_type": "execute_result"
    }
   ],
   "source": [
    "G = \"/dfs/scratch1/gmachi/datasets/wikisection_processed/shap_Gs/doc_20_graph.obj\"\n",
    "G = deserialize(G)\n",
    "G.nodes"
   ]
  },
  {
   "cell_type": "code",
   "execution_count": null,
   "metadata": {},
   "outputs": [],
   "source": []
  }
 ],
 "metadata": {
  "kernelspec": {
   "display_name": "kkenv",
   "language": "python",
   "name": "python3"
  },
  "language_info": {
   "codemirror_mode": {
    "name": "ipython",
    "version": 3
   },
   "file_extension": ".py",
   "mimetype": "text/x-python",
   "name": "python",
   "nbconvert_exporter": "python",
   "pygments_lexer": "ipython3",
   "version": "3.10.13"
  },
  "orig_nbformat": 4
 },
 "nbformat": 4,
 "nbformat_minor": 2
}
