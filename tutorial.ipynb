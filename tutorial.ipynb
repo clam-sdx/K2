{
 "cells": [
  {
   "cell_type": "markdown",
   "id": "95524de6-3dca-4f83-a068-3cc992eee2a6",
   "metadata": {},
   "source": [
    "# Embedding WikiSection data\n",
    "\n",
    "This notebook shows how to embed and store WikiSection sentences as `networkx`graph objects"
   ]
  },
  {
   "cell_type": "code",
   "execution_count": 21,
   "id": "c0fc2374-d865-4d4b-a41f-8774d8f4ceab",
   "metadata": {},
   "outputs": [
    {
     "name": "stdout",
     "output_type": "stream",
     "text": [
      "The autoreload extension is already loaded. To reload it, use:\n",
      "  %reload_ext autoreload\n"
     ]
    }
   ],
   "source": [
    "%load_ext autoreload\n",
    "%autoreload 2\n",
    "\n",
    "import os\n",
    "import sys\n",
    "import json\n",
    "from pathlib import Path\n",
    "\n",
    "from tqdm.notebook import tqdm\n",
    "\n",
    "import torch\n",
    "import numpy as np\n",
    "\n",
    "from sentence_transformers import SentenceTransformer\n",
    "\n",
    "from utils import process_sentences\n",
    "from utils import serialize\n",
    "\n",
    "sys.path.append(\"src\")"
   ]
  },
  {
   "cell_type": "markdown",
   "id": "8a931910-4b22-4cfb-b90b-56910c54d380",
   "metadata": {},
   "source": [
    "The dataset is a list of dictionaries where each dictionary is a wikipage on some disease with annotations that tell you from which character index `begin` to `begin` + `length` within `text` to extract if you want to know about `sectionHeading`."
   ]
  },
  {
   "cell_type": "code",
   "execution_count": 22,
   "id": "2735146d-8a66-451d-85a5-7862400fd146",
   "metadata": {},
   "outputs": [
    {
     "name": "stdout",
     "output_type": "stream",
     "text": [
      "<class 'list'> 2513\n"
     ]
    }
   ],
   "source": [
    "train_path = \"notebook_datasets/wikisection_en_disease_train.json\"\n",
    "with open(train_path, 'r') as f:\n",
    "    train_data = json.load(f)\n",
    "    \n",
    "print(type(train_data),len(train_data)) #List"
   ]
  },
  {
   "cell_type": "code",
   "execution_count": 23,
   "id": "bf8ab713-f577-4623-930b-e6190feff540",
   "metadata": {},
   "outputs": [
    {
     "data": {
      "text/plain": [
       "dict_keys(['id', 'type', 'title', 'abstract', 'text', 'annotations'])"
      ]
     },
     "execution_count": 23,
     "metadata": {},
     "output_type": "execute_result"
    }
   ],
   "source": [
    "train_data[0].keys()"
   ]
  },
  {
   "cell_type": "code",
   "execution_count": 24,
   "id": "e371d513-adef-4661-a396-cddae974bb23",
   "metadata": {},
   "outputs": [
    {
     "data": {
      "text/plain": [
       "[{'class': 'SectionAnnotation',\n",
       "  'begin': 0,\n",
       "  'length': 715,\n",
       "  'sectionHeading': 'Signs and symptoms',\n",
       "  'sectionLabel': 'disease.symptom'},\n",
       " {'class': 'SectionAnnotation',\n",
       "  'begin': 715,\n",
       "  'length': 503,\n",
       "  'sectionHeading': 'Cause | Spread',\n",
       "  'sectionLabel': 'disease.cause'},\n",
       " {'class': 'SectionAnnotation',\n",
       "  'begin': 1218,\n",
       "  'length': 522,\n",
       "  'sectionHeading': 'Treatment',\n",
       "  'sectionLabel': 'disease.treatment'}]"
      ]
     },
     "execution_count": 24,
     "metadata": {},
     "output_type": "execute_result"
    }
   ],
   "source": [
    "train_data[0]['annotations'][:3]"
   ]
  },
  {
   "cell_type": "code",
   "execution_count": 25,
   "id": "27eab8c2-9372-4055-8aa6-bb198768801c",
   "metadata": {},
   "outputs": [
    {
     "name": "stdout",
     "output_type": "stream",
     "text": [
      "The most apparent symptom of pneumonic plague is coughing, often with hemoptysis (coughing up blood). With pneumonic plague, the first signs of illness are fever, headache, weakness and rapidly developing pneumonia with shortness of breath, chest pain, cough and sometimes bloody or watery sputum.\n",
      "The pneumonia progresses for two to four days and may cause respiratory failure and shock. Patients will die without early treatment, some within 36 hours.\n",
      "Initial pneumonic plague symptoms can often include the following:\n",
      "- Fever\n",
      "- Weakness\n",
      "- Headaches\n",
      "- Nausea\n",
      "Rapidly developing pneumonia with:\n",
      "- Shortness of breath\n",
      "- Chest pain\n",
      "- Cough\n",
      "- Bloody or watery sputum (saliva and discharge from respiratory passages).\n",
      "\n",
      "Pneumonic plague can be caused in two ways: primary, which results from the inhalation of aerosolised plague bacteria, or secondary, when septicaemic plague spreads into lung tissue from the bloodstream. Pneumonic plague is not exclusively vector-borne like bubonic plague; instead it can be spread from person to person. There have been cases of pneumonic plague resulting from the dissection or handling of contaminated animal tissue. This is one type of the plague formerly known as the Black Death.\n",
      "\n"
     ]
    }
   ],
   "source": [
    "print(train_data[0]['text'][:715])\n",
    "print(train_data[0]['text'][715:715+503])"
   ]
  },
  {
   "cell_type": "markdown",
   "id": "aa5f75e5-88f4-44c9-aa3a-b996949073f4",
   "metadata": {},
   "source": [
    "### Data Components\n",
    "\n",
    "`text` is the `document` indexed by `wiki_page_index` which consists of a list of sentences\n",
    "\n",
    "We are storing 4 things:\n",
    "\n",
    "1. `section_pseudo` labels each sentence in a document by the topic `[...'disease.cause', 'disease.pathophysiology'....]`\n",
    "2. `section_labels` sentence level binary labels for each document `[0, 0, 0, 1, 1, 1, 0, 0, 0]` where the middle 3 sentences are positive\n",
    "3. `document_labels` is 1 the `section_labels` is not all 0's\n",
    "4.  `doc_<wiki_page_index>.npy` which is a tensor of embeddings for each sentence in `wiki_page_index`"
   ]
  },
  {
   "cell_type": "code",
   "execution_count": 26,
   "id": "22c61335-019a-4dcb-b032-6f08f9e625ad",
   "metadata": {},
   "outputs": [],
   "source": [
    "embedding_model = SentenceTransformer(\n",
    "    'all-MiniLM-L6-v2', \n",
    "    device = torch.device(\"cuda\" if torch.cuda.is_available() else \"cpu\")\n",
    ")\n"
   ]
  },
  {
   "cell_type": "code",
   "execution_count": 32,
   "id": "451a8e34-20f9-4fc6-85a9-e725bef8dd4e",
   "metadata": {},
   "outputs": [
    {
     "data": {
      "application/vnd.jupyter.widget-view+json": {
       "model_id": "41ae81db784f4e6cb3ac39b9d8014873",
       "version_major": 2,
       "version_minor": 0
      },
      "text/plain": [
       "  0%|          | 0/2513 [00:00<?, ?it/s]"
      ]
     },
     "metadata": {},
     "output_type": "display_data"
    }
   ],
   "source": [
    "save_path = \"notebook_datasets/wikisection_processed/\"\n",
    "save_path_Zs = os.path.join(save_path, \"train_embeddings\")\n",
    "directory = Path(save_path_Zs)\n",
    "directory.mkdir(parents=True, exist_ok=True)\n",
    "\n",
    "# good ones: mechanism, genetics, prevention, prognosis\n",
    "# bad ones: treatment, symptom\n",
    "\n",
    "target = \"disease.genetics\" # class-1\n",
    "\n",
    "document_labels = {}\n",
    "section_labels = {}\n",
    "section_pseudo = {}\n",
    "\n",
    "for wiki_page_index in tqdm(range(len(train_data)), total=len(train_data)):\n",
    "\n",
    "    text = train_data[wiki_page_index][\"text\"]\n",
    "\n",
    "    annots = train_data[wiki_page_index][\"annotations\"]\n",
    "\n",
    "    labels = []\n",
    "    embeddings = []\n",
    "    pseudos = []\n",
    "    \n",
    "    for annotation in annots:\n",
    "        \n",
    "        begin = int(annotation[\"begin\"])\n",
    "        end = int(annotation[\"begin\"])+int(annotation[\"length\"])\n",
    "        chunk = text[begin:end]\n",
    "\n",
    "        sentences = [s for s in chunk.split(\".\")]\n",
    "        sentences = process_sentences(sentences)\n",
    "        num_chunk_sents = len(sentences)\n",
    "\n",
    "        pseudo = [annotation[\"sectionLabel\"]] * num_chunk_sents\n",
    "        pseudos.extend(pseudo)\n",
    "        \n",
    "        embedded_sentences = [embedding_model.encode(sent) for sent in sentences]\n",
    "        embeddings.extend(embedded_sentences)\n",
    "\n",
    "        if annotation[\"sectionLabel\"] == target:\n",
    "            label = [1] * num_chunk_sents\n",
    "        else:\n",
    "            label = [0] * num_chunk_sents\n",
    "\n",
    "        labels.extend(label)\n",
    "            \n",
    "    document_labels[wiki_page_index] = int(np.sum(labels) > 0)\n",
    "    section_labels[wiki_page_index] = labels\n",
    "    section_pseudo[wiki_page_index] = pseudos\n",
    "\n",
    "    Z = np.stack(embeddings)\n",
    "    Z_name = \"doc_\"+str(wiki_page_index)+\".npy\"\n",
    "    save_path_Z = os.path.join(save_path_Zs, Z_name)\n",
    "    np.save(save_path_Z, Z)\n",
    "\n",
    "    # print(len(labels), len(pseudos), Z.shape)\n",
    "    # break"
   ]
  },
  {
   "cell_type": "code",
   "execution_count": 33,
   "id": "ed79d7f0-d662-4226-8bf5-a5caeddd5513",
   "metadata": {},
   "outputs": [
    {
     "name": "stdout",
     "output_type": "stream",
     "text": [
      "# docs: 2513\n",
      "# class-0: 2177\n",
      "# class-1: 336\n",
      "number of numpy files: 2513\n"
     ]
    }
   ],
   "source": [
    "print(\"# docs:\", len(document_labels.values()))\n",
    "\n",
    "count_0, count_1 = 0, 0\n",
    "for dv in document_labels.values():\n",
    "    if dv == 0:\n",
    "        count_0 += 1\n",
    "    else:\n",
    "        count_1 += 1\n",
    "print(\"# class-0:\", count_0)\n",
    "print(\"# class-1:\", count_1)\n",
    "print(\"number of numpy files:\", len(os.listdir(save_path_Zs)))"
   ]
  },
  {
   "cell_type": "code",
   "execution_count": 34,
   "id": "96c7b74e-5919-4de5-829a-1a2231aa0055",
   "metadata": {},
   "outputs": [
    {
     "name": "stdout",
     "output_type": "stream",
     "text": [
      "1\n",
      "[0, 0, 0, 0, 0, 0, 0, 0, 0, 0, 0, 0, 0, 0, 0, 0, 0, 1, 1, 1, 1, 0, 0, 0, 0, 0, 0, 0, 0, 0, 0, 0, 0, 0, 0, 0, 0, 0, 0, 0, 0, 0, 0, 0, 0, 0, 0, 0, 0, 0, 0, 0, 0, 0, 0, 0, 0, 0]\n",
      "['disease.symptom', 'disease.symptom', 'disease.symptom', 'disease.symptom', 'disease.symptom', 'disease.symptom', 'disease.symptom', 'disease.symptom', 'disease.symptom', 'disease.symptom', 'disease.symptom', 'disease.symptom', 'disease.symptom', 'disease.symptom', 'disease.symptom', 'disease.symptom', 'disease.symptom', 'disease.genetics', 'disease.genetics', 'disease.genetics', 'disease.genetics', 'disease.cause', 'disease.cause', 'disease.cause', 'disease.cause', 'disease.cause', 'disease.cause', 'disease.cause', 'disease.cause', 'disease.pathophysiology', 'disease.pathophysiology', 'disease.pathophysiology', 'disease.pathophysiology', 'disease.research', 'disease.research', 'disease.research', 'disease.treatment', 'disease.treatment', 'disease.treatment', 'disease.treatment', 'disease.treatment', 'disease.treatment', 'disease.treatment', 'disease.treatment', 'disease.treatment', 'disease.treatment', 'disease.treatment', 'disease.treatment', 'disease.treatment', 'disease.treatment', 'disease.treatment', 'disease.treatment', 'disease.treatment', 'disease.treatment', 'disease.treatment', 'disease.treatment', 'disease.fauna', 'disease.fauna']\n"
     ]
    },
    {
     "data": {
      "text/plain": [
       "(56, 384)"
      ]
     },
     "execution_count": 34,
     "metadata": {},
     "output_type": "execute_result"
    }
   ],
   "source": [
    "print(document_labels[3])\n",
    "print(section_labels[3])\n",
    "print(section_pseudo[3])\n",
    "Z.shape"
   ]
  },
  {
   "cell_type": "code",
   "execution_count": 35,
   "id": "f8a358a1-b5c2-4782-a1c4-7b1afe13134c",
   "metadata": {},
   "outputs": [],
   "source": [
    "save_path_doc_labs = os.path.join(save_path, \"train_document_labels.obj\")\n",
    "serialize(document_labels, save_path_doc_labs)\n",
    "save_path_sec_pseudo = os.path.join(save_path, \"train_section_pseudo.obj\")\n",
    "serialize(section_pseudo, save_path_sec_pseudo)\n",
    "save_path_sec_labs = os.path.join(save_path, \"train_section_labels.obj\")\n",
    "serialize(section_labels, save_path_sec_labs)"
   ]
  },
  {
   "cell_type": "markdown",
   "id": "e5200e89-25e2-414f-90a9-074134ec9120",
   "metadata": {},
   "source": [
    "# sample embeddings + build map graphs"
   ]
  },
  {
   "cell_type": "code",
   "execution_count": 16,
   "id": "7632465f-e4d6-4900-8a7f-2e841f3a267a",
   "metadata": {},
   "outputs": [
    {
     "name": "stdout",
     "output_type": "stream",
     "text": [
      "The autoreload extension is already loaded. To reload it, use:\n",
      "  %reload_ext autoreload\n"
     ]
    }
   ],
   "source": [
    "%load_ext autoreload\n",
    "%autoreload 2\n",
    "\n",
    "import os\n",
    "import sys; sys.path.append(\"src\")\n",
    "import random\n",
    "from pathlib import Path\n",
    "import numpy as np\n",
    "import networkx as nx\n",
    "\n",
    "from utils import convert_text2graph, deserialize"
   ]
  },
  {
   "cell_type": "code",
   "execution_count": 9,
   "id": "083d1e08-51fc-4a10-8e63-1c76a574f69b",
   "metadata": {},
   "outputs": [],
   "source": [
    "save_path = \"notebook_datasets/wikisection_processed/\"\n",
    "save_path_Gs = os.path.join(save_path, \"train_Gs\")\n",
    "directory = Path(save_path_Gs)\n",
    "directory.mkdir(parents=True, exist_ok=True)"
   ]
  },
  {
   "cell_type": "code",
   "execution_count": 36,
   "id": "60206267-aeea-4dc5-8b72-f636e1428ee7",
   "metadata": {},
   "outputs": [],
   "source": [
    "save_path = \"notebook_datasets/wikisection_processed/\"\n",
    "save_path_Zs = os.path.join(save_path, \"train_embeddings\")\n",
    "save_path_sec_labs = os.path.join(save_path, \"train_section_labels.obj\")\n",
    "section_labels_dict = deserialize(save_path_sec_labs)"
   ]
  },
  {
   "cell_type": "code",
   "execution_count": 40,
   "id": "54857826-a552-4068-8686-cdbf26647e3f",
   "metadata": {},
   "outputs": [
    {
     "name": "stdout",
     "output_type": "stream",
     "text": [
      "58\n"
     ]
    },
    {
     "data": {
      "text/plain": [
       "(58, 384)"
      ]
     },
     "execution_count": 40,
     "metadata": {},
     "output_type": "execute_result"
    }
   ],
   "source": [
    "wiki_page_index = 3\n",
    "print(len(section_labels_dict[wiki_page_index]))\n",
    "z = np.load(os.path.join(save_path_Zs,f\"doc_{wiki_page_index}.npy\"))\n",
    "z.shape"
   ]
  },
  {
   "cell_type": "code",
   "execution_count": null,
   "id": "028d723e-8dc3-4c70-b7d5-ae80fd7a02ee",
   "metadata": {},
   "outputs": [],
   "source": []
  }
 ],
 "metadata": {
  "kernelspec": {
   "display_name": "Python (k2_env)",
   "language": "python",
   "name": "k2_env"
  },
  "language_info": {
   "codemirror_mode": {
    "name": "ipython",
    "version": 3
   },
   "file_extension": ".py",
   "mimetype": "text/x-python",
   "name": "python",
   "nbconvert_exporter": "python",
   "pygments_lexer": "ipython3",
   "version": "3.12.9"
  }
 },
 "nbformat": 4,
 "nbformat_minor": 5
}
